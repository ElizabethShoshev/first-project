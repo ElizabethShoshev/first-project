{
 "cells": [
  {
   "cell_type": "markdown",
   "metadata": {},
   "source": [
    "<div style=\"border:solid Purple 2px; padding: 40px\">\n",
    "\n",
    "<b>Привет, Елизавета!👋\n",
    "\n",
    "Меня зовут Эльвира Нургалиева, я буду ревьюером твоего проекта. Предлагаю общаться на «ты», но если это не удобно - дай мне знать, и мы перейдем на «вы».\n",
    "\n",
    "\n",
    "Ты можешь найти мои комментарии, обозначенные <font color='green'>зеленым</font>, <font color='gold'>желтым</font> и <font color='red'>красным</font> цветами, например:\n",
    "\n",
    "\n",
    "<div class=\"alert alert-success\">\n",
    "<h2> Комментарий ревьюера 😊<a class=\"tocSkip\"> </h2>\n",
    "    \n",
    "Такими комментариями я буду помечать отлично проделаную работу😉\n",
    "</div>\n",
    "    \n",
    "<div class=\"alert alert-warning\">\n",
    "<h2> Комментарий ревьюера 🤓<a class=\"tocSkip\"> </h2>\n",
    "        \n",
    "В таких комментариях я постараюсь подсказать тебе более элегантное или легкое решение, некоторые хитрости и фишки. Части проекта, помеченные такими комментариями, можно не исправлять, но рекомендую обратить на них внимание.</div>\n",
    "\n",
    "<div class=\"alert alert-block alert-danger\">\n",
    "<h2> Комментарий ревьюера 🤔<a class=\"tocSkip\"></h2>\n",
    "    \n",
    "В случае, когда решение на отдельном шаге требует существенной переработки и внесения правок. Если ты видишь такой комментарий, значит здесть есть недочет, который следует исправить.\n",
    "</div>\n",
    "\n",
    "Ты также можешь реагировать на мои комментарии своими, выделяя их цветами и наиболее понравившимся тебе способом оформления, но явно  отличающимся от моих комментариев. Это нужно, чтобы не создавалась путаница🙃\n",
    "    \n",
    "<div class=\"alert alert-info\"> <b>Комментарий студента:</b> Например, вот так.</div>\n",
    "\n",
    "Чтобы сделать подобный блок, кликни здесь дважды и скопируй всю предыдущую строку ;)\n",
    "    \n",
    "Пожалуйста, не удаляй и не перемещай мои комментарии, они будут особенно полезны для нашей работы в случае повторной проверки проекта.</div></b>"
   ]
  },
  {
   "cell_type": "markdown",
   "metadata": {},
   "source": [
    "<div style=\"border:solid Purple 2px; padding: 40px\">\n",
    "\n",
    "<h2> Общий комментарий ревьюера 😊 v_3<a class=\"tocSkip\"> </h2>\n",
    "    <br/>\n",
    "У тебя получилась отличная работа, спасибо за проект! Успехов в дальнейшем обучении!)\n",
    "    \n",
    "![gif](https://i.gifer.com/7KAF.gif)    "
   ]
  },
  {
   "cell_type": "markdown",
   "metadata": {
    "id": "sIfNaMOxgFyK"
   },
   "source": [
    "## Исследование данных о российском кинопрокате\n",
    "\n"
   ]
  },
  {
   "cell_type": "markdown",
   "metadata": {
    "id": "3bSlkCsbgFyL"
   },
   "source": [
    "### Шаг 1. Откройте файлы с данными и объедините их в один датафрейм. \n",
    "\n",
    "Объедините данные таким образом, чтобы все объекты из датасета `mkrf_movies` обязательно вошли в получившийся датафрейм. \n",
    "\n",
    "<div id=\"accordion\">\n",
    "    <div class=\"card\">\n",
    "        <div class=\"card-header\" id=\"headingThree\">\n",
    "            <button class=\"btn btn-link collapsed\" data-toggle=\"collapse\" data-target=\"#collapseHint_0\" aria-expanded=\"false\" aria-controls=\"collapseHint_0\">Подсказка</button>\n",
    "        </div>\n",
    "        <div id=\"collapseHint_0\" class=\"collapse\" aria-labelledby=\"headingThree\" data-parent=\"#accordion\">\n",
    "            <div class=\"card-body\">\n",
    "Обратите внимание на тип данных столбца, по которому будете соединять датафреймы. Тип данных этих столбцов должен быть одинаковым в обоих датафреймах.\n",
    "            </div>\n",
    "        </div>\n",
    "    </div>\n",
    "</div>"
   ]
  },
  {
   "cell_type": "markdown",
   "metadata": {},
   "source": [
    "<div class=\"alert alert-block alert-danger\">\n",
    "<h2> Комментарий ревьюера 🤔<a class=\"tocSkip\"></h2><s>\n",
    "\n",
    "Введение, как и общий вывод - важные части твоей работы, оно станет лучше, если в нем будут присутствовоать:\n",
    "* заголовок,\n",
    "\n",
    "* краткое описание проекта,\n",
    "\n",
    "* цель проекта,\n",
    "\n",
    "* описание данных\n",
    "\n",
    "* план работы.\n",
    "\n",
    "Тогда получатель отчета сможет быстрей его понять.\n",
    "\n",
    "</div>"
   ]
  },
  {
   "cell_type": "markdown",
   "metadata": {},
   "source": [
    "сделала "
   ]
  },
  {
   "cell_type": "markdown",
   "metadata": {},
   "source": [
    "Исследование данных о российском кинопрокате \n",
    "\n",
    "Перед нами поставлена задача изучить рынок российского кинопроката и выявить текущие тренды. Мы получили данные о прокатных удостоверениях, сборах и государственной поддержке фильмов, опубликованные на портале Министерства культуры, а также информацию с сайта КиноПоиск. Набор данных содержит информацию о прокатных удостоверениях, сборах и государственной поддержке фильмов\n",
    "\n",
    "План работы:\n",
    "- сделать предобработку данных, выявить пропуски и по возможности их заполнить\n",
    "- провести исследовательский анализ данных\n",
    "- исследовать фильмы, которые получили государственную поддержку\n",
    "- написать общий вывод"
   ]
  },
  {
   "cell_type": "code",
   "execution_count": 1,
   "metadata": {
    "id": "dw87FlzMgFyM"
   },
   "outputs": [],
   "source": [
    "#Импорт библиотек\n",
    "import pandas as pd\n",
    "import numpy as np\n",
    "import matplotlib.pyplot as plt\n",
    "import seaborn as sns\n",
    "import datetime\n",
    "from collections import Counter\n",
    "from pymystem3 import Mystem"
   ]
  },
  {
   "cell_type": "markdown",
   "metadata": {},
   "source": [
    "<div class=\"alert alert-success\">\n",
    "<h2> Комментарий ревьюера 😊<a class=\"tocSkip\"> </h2>\n",
    "\n",
    "Молодец, что загружаешь все библиотеки в начале проекта. Так сложней случайно удалить ячейку с загрузкой нужной библиотеки и сделать код не работающим. А получатель отчета сразу поймет, какие библиотеки ты используешь и какие ему нужно установить для запуска проекта.\n",
    "\n",
    "</div>"
   ]
  },
  {
   "cell_type": "code",
   "execution_count": 2,
   "metadata": {},
   "outputs": [
    {
     "name": "stdout",
     "output_type": "stream",
     "text": [
      "<class 'pandas.core.frame.DataFrame'>\n",
      "RangeIndex: 7486 entries, 0 to 7485\n",
      "Data columns (total 15 columns):\n",
      " #   Column                 Non-Null Count  Dtype  \n",
      "---  ------                 --------------  -----  \n",
      " 0   title                  7486 non-null   object \n",
      " 1   puNumber               7486 non-null   object \n",
      " 2   show_start_date        7486 non-null   object \n",
      " 3   type                   7486 non-null   object \n",
      " 4   film_studio            7468 non-null   object \n",
      " 5   production_country     7484 non-null   object \n",
      " 6   director               7477 non-null   object \n",
      " 7   producer               6918 non-null   object \n",
      " 8   age_restriction        7486 non-null   object \n",
      " 9   refundable_support     332 non-null    float64\n",
      " 10  nonrefundable_support  332 non-null    float64\n",
      " 11  budget                 332 non-null    float64\n",
      " 12  financing_source       332 non-null    object \n",
      " 13  ratings                6519 non-null   object \n",
      " 14  genres                 6510 non-null   object \n",
      "dtypes: float64(3), object(12)\n",
      "memory usage: 877.4+ KB\n"
     ]
    },
    {
     "data": {
      "text/html": [
       "<div>\n",
       "<style scoped>\n",
       "    .dataframe tbody tr th:only-of-type {\n",
       "        vertical-align: middle;\n",
       "    }\n",
       "\n",
       "    .dataframe tbody tr th {\n",
       "        vertical-align: top;\n",
       "    }\n",
       "\n",
       "    .dataframe thead th {\n",
       "        text-align: right;\n",
       "    }\n",
       "</style>\n",
       "<table border=\"1\" class=\"dataframe\">\n",
       "  <thead>\n",
       "    <tr style=\"text-align: right;\">\n",
       "      <th></th>\n",
       "      <th>title</th>\n",
       "      <th>puNumber</th>\n",
       "      <th>show_start_date</th>\n",
       "      <th>type</th>\n",
       "      <th>film_studio</th>\n",
       "      <th>production_country</th>\n",
       "      <th>director</th>\n",
       "      <th>producer</th>\n",
       "      <th>age_restriction</th>\n",
       "      <th>refundable_support</th>\n",
       "      <th>nonrefundable_support</th>\n",
       "      <th>budget</th>\n",
       "      <th>financing_source</th>\n",
       "      <th>ratings</th>\n",
       "      <th>genres</th>\n",
       "    </tr>\n",
       "  </thead>\n",
       "  <tbody>\n",
       "    <tr>\n",
       "      <th>0</th>\n",
       "      <td>Открытый простор</td>\n",
       "      <td>221048915</td>\n",
       "      <td>2015-11-27T12:00:00.000Z</td>\n",
       "      <td>Художественный</td>\n",
       "      <td>Тачстоун Пикчерз, Кобальт Пикчерз, Бикон Пикче...</td>\n",
       "      <td>США</td>\n",
       "      <td>Кевин Костнер</td>\n",
       "      <td>Дэвид Валдес, Кевин Костнер, Джейк Эбертс</td>\n",
       "      <td>«18+» - запрещено для детей</td>\n",
       "      <td>NaN</td>\n",
       "      <td>NaN</td>\n",
       "      <td>NaN</td>\n",
       "      <td>NaN</td>\n",
       "      <td>7.2</td>\n",
       "      <td>боевик,драма,мелодрама</td>\n",
       "    </tr>\n",
       "    <tr>\n",
       "      <th>1</th>\n",
       "      <td>Особо важное задание</td>\n",
       "      <td>111013716</td>\n",
       "      <td>2016-09-13T12:00:00.000Z</td>\n",
       "      <td>Художественный</td>\n",
       "      <td>Киностудия \"Мосфильм\"</td>\n",
       "      <td>СССР</td>\n",
       "      <td>Е.Матвеев</td>\n",
       "      <td>NaN</td>\n",
       "      <td>«6+» - для детей старше 6 лет</td>\n",
       "      <td>NaN</td>\n",
       "      <td>NaN</td>\n",
       "      <td>NaN</td>\n",
       "      <td>NaN</td>\n",
       "      <td>6.6</td>\n",
       "      <td>драма,военный</td>\n",
       "    </tr>\n",
       "    <tr>\n",
       "      <th>2</th>\n",
       "      <td>Особо опасен</td>\n",
       "      <td>221038416</td>\n",
       "      <td>2016-10-10T12:00:00.000Z</td>\n",
       "      <td>Художественный</td>\n",
       "      <td>Юниверсал Пикчерз, Кикстарт Продакшнз, Марк Пл...</td>\n",
       "      <td>США</td>\n",
       "      <td>Тимур Бекмамбетов</td>\n",
       "      <td>Джим Лемли, Джейсон Нетер, Марк Е.Платт, Яйн Смит</td>\n",
       "      <td>«18+» - запрещено для детей</td>\n",
       "      <td>NaN</td>\n",
       "      <td>NaN</td>\n",
       "      <td>NaN</td>\n",
       "      <td>NaN</td>\n",
       "      <td>6.8</td>\n",
       "      <td>фантастика,боевик,триллер</td>\n",
       "    </tr>\n",
       "    <tr>\n",
       "      <th>3</th>\n",
       "      <td>Особо опасен</td>\n",
       "      <td>221026916</td>\n",
       "      <td>2016-06-10T12:00:00.000Z</td>\n",
       "      <td>Художественный</td>\n",
       "      <td>Юниверсал Пикчерз, Кикстарт Продакшнз, Марк Пл...</td>\n",
       "      <td>США</td>\n",
       "      <td>Тимур Бекмамбетов</td>\n",
       "      <td>Джим Лемли, Джейсон Нетер, Марк Е.Платт, Яйн Смит</td>\n",
       "      <td>«18+» - запрещено для детей</td>\n",
       "      <td>NaN</td>\n",
       "      <td>NaN</td>\n",
       "      <td>NaN</td>\n",
       "      <td>NaN</td>\n",
       "      <td>6.8</td>\n",
       "      <td>фантастика,боевик,триллер</td>\n",
       "    </tr>\n",
       "    <tr>\n",
       "      <th>4</th>\n",
       "      <td>Особо опасен</td>\n",
       "      <td>221030815</td>\n",
       "      <td>2015-07-29T12:00:00.000Z</td>\n",
       "      <td>Художественный</td>\n",
       "      <td>Юниверсал Пикчерз, Кикстарт Продакшнз, Марк Пл...</td>\n",
       "      <td>США</td>\n",
       "      <td>Тимур Бекмамбетов</td>\n",
       "      <td>Джим Лемли, Джейсон Нетер, Марк Е.Платт, Яйн Смит</td>\n",
       "      <td>«18+» - запрещено для детей</td>\n",
       "      <td>NaN</td>\n",
       "      <td>NaN</td>\n",
       "      <td>NaN</td>\n",
       "      <td>NaN</td>\n",
       "      <td>6.8</td>\n",
       "      <td>фантастика,боевик,триллер</td>\n",
       "    </tr>\n",
       "  </tbody>\n",
       "</table>\n",
       "</div>"
      ],
      "text/plain": [
       "                  title   puNumber           show_start_date            type  \\\n",
       "0      Открытый простор  221048915  2015-11-27T12:00:00.000Z  Художественный   \n",
       "1  Особо важное задание  111013716  2016-09-13T12:00:00.000Z  Художественный   \n",
       "2          Особо опасен  221038416  2016-10-10T12:00:00.000Z  Художественный   \n",
       "3          Особо опасен  221026916  2016-06-10T12:00:00.000Z  Художественный   \n",
       "4          Особо опасен  221030815  2015-07-29T12:00:00.000Z  Художественный   \n",
       "\n",
       "                                         film_studio production_country  \\\n",
       "0  Тачстоун Пикчерз, Кобальт Пикчерз, Бикон Пикче...                США   \n",
       "1                              Киностудия \"Мосфильм\"               СССР   \n",
       "2  Юниверсал Пикчерз, Кикстарт Продакшнз, Марк Пл...                США   \n",
       "3  Юниверсал Пикчерз, Кикстарт Продакшнз, Марк Пл...                США   \n",
       "4  Юниверсал Пикчерз, Кикстарт Продакшнз, Марк Пл...                США   \n",
       "\n",
       "            director                                           producer  \\\n",
       "0      Кевин Костнер          Дэвид Валдес, Кевин Костнер, Джейк Эбертс   \n",
       "1          Е.Матвеев                                                NaN   \n",
       "2  Тимур Бекмамбетов  Джим Лемли, Джейсон Нетер, Марк Е.Платт, Яйн Смит   \n",
       "3  Тимур Бекмамбетов  Джим Лемли, Джейсон Нетер, Марк Е.Платт, Яйн Смит   \n",
       "4  Тимур Бекмамбетов  Джим Лемли, Джейсон Нетер, Марк Е.Платт, Яйн Смит   \n",
       "\n",
       "                 age_restriction  refundable_support  nonrefundable_support  \\\n",
       "0    «18+» - запрещено для детей                 NaN                    NaN   \n",
       "1  «6+» - для детей старше 6 лет                 NaN                    NaN   \n",
       "2    «18+» - запрещено для детей                 NaN                    NaN   \n",
       "3    «18+» - запрещено для детей                 NaN                    NaN   \n",
       "4    «18+» - запрещено для детей                 NaN                    NaN   \n",
       "\n",
       "   budget financing_source ratings                     genres  \n",
       "0     NaN              NaN     7.2     боевик,драма,мелодрама  \n",
       "1     NaN              NaN     6.6              драма,военный  \n",
       "2     NaN              NaN     6.8  фантастика,боевик,триллер  \n",
       "3     NaN              NaN     6.8  фантастика,боевик,триллер  \n",
       "4     NaN              NaN     6.8  фантастика,боевик,триллер  "
      ]
     },
     "execution_count": 2,
     "metadata": {},
     "output_type": "execute_result"
    }
   ],
   "source": [
    "mkrf_movies = pd.read_csv('/datasets/mkrf_movies.csv')\n",
    "mkrf_movies.info()#посмотрим типы данных и кол-во пропусков\n",
    "mkrf_movies.head()"
   ]
  },
  {
   "cell_type": "code",
   "execution_count": 3,
   "metadata": {},
   "outputs": [
    {
     "name": "stdout",
     "output_type": "stream",
     "text": [
      "<class 'pandas.core.frame.DataFrame'>\n",
      "RangeIndex: 3158 entries, 0 to 3157\n",
      "Data columns (total 2 columns):\n",
      " #   Column      Non-Null Count  Dtype  \n",
      "---  ------      --------------  -----  \n",
      " 0   puNumber    3158 non-null   int64  \n",
      " 1   box_office  3158 non-null   float64\n",
      "dtypes: float64(1), int64(1)\n",
      "memory usage: 49.5 KB\n"
     ]
    },
    {
     "data": {
      "text/html": [
       "<div>\n",
       "<style scoped>\n",
       "    .dataframe tbody tr th:only-of-type {\n",
       "        vertical-align: middle;\n",
       "    }\n",
       "\n",
       "    .dataframe tbody tr th {\n",
       "        vertical-align: top;\n",
       "    }\n",
       "\n",
       "    .dataframe thead th {\n",
       "        text-align: right;\n",
       "    }\n",
       "</style>\n",
       "<table border=\"1\" class=\"dataframe\">\n",
       "  <thead>\n",
       "    <tr style=\"text-align: right;\">\n",
       "      <th></th>\n",
       "      <th>puNumber</th>\n",
       "      <th>box_office</th>\n",
       "    </tr>\n",
       "  </thead>\n",
       "  <tbody>\n",
       "    <tr>\n",
       "      <th>0</th>\n",
       "      <td>111000113</td>\n",
       "      <td>2.450000e+03</td>\n",
       "    </tr>\n",
       "    <tr>\n",
       "      <th>1</th>\n",
       "      <td>111000115</td>\n",
       "      <td>6.104000e+04</td>\n",
       "    </tr>\n",
       "    <tr>\n",
       "      <th>2</th>\n",
       "      <td>111000116</td>\n",
       "      <td>1.530300e+08</td>\n",
       "    </tr>\n",
       "    <tr>\n",
       "      <th>3</th>\n",
       "      <td>111000117</td>\n",
       "      <td>1.226096e+07</td>\n",
       "    </tr>\n",
       "    <tr>\n",
       "      <th>4</th>\n",
       "      <td>111000118</td>\n",
       "      <td>1.636841e+08</td>\n",
       "    </tr>\n",
       "  </tbody>\n",
       "</table>\n",
       "</div>"
      ],
      "text/plain": [
       "    puNumber    box_office\n",
       "0  111000113  2.450000e+03\n",
       "1  111000115  6.104000e+04\n",
       "2  111000116  1.530300e+08\n",
       "3  111000117  1.226096e+07\n",
       "4  111000118  1.636841e+08"
      ]
     },
     "execution_count": 3,
     "metadata": {},
     "output_type": "execute_result"
    }
   ],
   "source": [
    "mkrf_shows = pd.read_csv('/datasets/mkrf_shows.csv')\n",
    "mkrf_shows.info()#посмотрим типы данных\n",
    "mkrf_shows.head()"
   ]
  },
  {
   "cell_type": "markdown",
   "metadata": {},
   "source": [
    "<div class=\"alert alert-warning\">\n",
    "<h2> Комментарий ревьюера 🤓<a class=\"tocSkip\"> </h2>\n",
    "    \n",
    "Сразу после получения информации о таблице, стоит сформулировать вывод: проверить типы данных, а также важно понять, что по пропущенным значениям.\n",
    "</div>"
   ]
  },
  {
   "cell_type": "markdown",
   "metadata": {},
   "source": [
    "Для объединения фреймов нужно, чтобы одинаковые столбцы были в одном типе данных "
   ]
  },
  {
   "cell_type": "code",
   "execution_count": 4,
   "metadata": {},
   "outputs": [
    {
     "data": {
      "text/html": [
       "<div>\n",
       "<style scoped>\n",
       "    .dataframe tbody tr th:only-of-type {\n",
       "        vertical-align: middle;\n",
       "    }\n",
       "\n",
       "    .dataframe tbody tr th {\n",
       "        vertical-align: top;\n",
       "    }\n",
       "\n",
       "    .dataframe thead th {\n",
       "        text-align: right;\n",
       "    }\n",
       "</style>\n",
       "<table border=\"1\" class=\"dataframe\">\n",
       "  <thead>\n",
       "    <tr style=\"text-align: right;\">\n",
       "      <th></th>\n",
       "      <th>title</th>\n",
       "      <th>puNumber</th>\n",
       "      <th>show_start_date</th>\n",
       "      <th>type</th>\n",
       "      <th>film_studio</th>\n",
       "      <th>production_country</th>\n",
       "      <th>director</th>\n",
       "      <th>producer</th>\n",
       "      <th>age_restriction</th>\n",
       "      <th>refundable_support</th>\n",
       "      <th>nonrefundable_support</th>\n",
       "      <th>budget</th>\n",
       "      <th>financing_source</th>\n",
       "      <th>ratings</th>\n",
       "      <th>genres</th>\n",
       "      <th>puNumber_int</th>\n",
       "    </tr>\n",
       "  </thead>\n",
       "  <tbody>\n",
       "    <tr>\n",
       "      <th>1797</th>\n",
       "      <td>Курбан-роман. (История с жертвой)</td>\n",
       "      <td>нет</td>\n",
       "      <td>2014-05-15T12:00:00.000Z</td>\n",
       "      <td>Художественный</td>\n",
       "      <td>ФОНД \"ИННОВАЦИЯ\"</td>\n",
       "      <td>Россия</td>\n",
       "      <td>С.Юзеев</td>\n",
       "      <td>М.Галицкая</td>\n",
       "      <td>«12+» - для детей старше 12 лет</td>\n",
       "      <td>NaN</td>\n",
       "      <td>NaN</td>\n",
       "      <td>NaN</td>\n",
       "      <td>NaN</td>\n",
       "      <td>NaN</td>\n",
       "      <td>NaN</td>\n",
       "      <td>False</td>\n",
       "    </tr>\n",
       "  </tbody>\n",
       "</table>\n",
       "</div>"
      ],
      "text/plain": [
       "                                  title puNumber           show_start_date  \\\n",
       "1797  Курбан-роман. (История с жертвой)      нет  2014-05-15T12:00:00.000Z   \n",
       "\n",
       "                type       film_studio production_country director  \\\n",
       "1797  Художественный  ФОНД \"ИННОВАЦИЯ\"             Россия  С.Юзеев   \n",
       "\n",
       "        producer                  age_restriction  refundable_support  \\\n",
       "1797  М.Галицкая  «12+» - для детей старше 12 лет                 NaN   \n",
       "\n",
       "      nonrefundable_support  budget financing_source ratings genres  \\\n",
       "1797                    NaN     NaN              NaN     NaN    NaN   \n",
       "\n",
       "      puNumber_int  \n",
       "1797         False  "
      ]
     },
     "execution_count": 4,
     "metadata": {},
     "output_type": "execute_result"
    }
   ],
   "source": [
    "#Нужно превести puNumber в int. Для этого напишем функцию\n",
    "def check_int(value):\n",
    "    try:\n",
    "        int(value)\n",
    "        return True\n",
    "    except:\n",
    "        return False\n",
    "    \n",
    "mkrf_movies['puNumber_int'] = mkrf_movies['puNumber'].apply(check_int)\n",
    "\n",
    "mkrf_movies.query('puNumber_int==False')                          "
   ]
  },
  {
   "cell_type": "code",
   "execution_count": 5,
   "metadata": {},
   "outputs": [
    {
     "name": "stdout",
     "output_type": "stream",
     "text": [
      "<class 'pandas.core.frame.DataFrame'>\n",
      "Int64Index: 7485 entries, 0 to 7485\n",
      "Data columns (total 16 columns):\n",
      " #   Column                 Non-Null Count  Dtype  \n",
      "---  ------                 --------------  -----  \n",
      " 0   title                  7485 non-null   object \n",
      " 1   puNumber               7485 non-null   int64  \n",
      " 2   show_start_date        7485 non-null   object \n",
      " 3   type                   7485 non-null   object \n",
      " 4   film_studio            7467 non-null   object \n",
      " 5   production_country     7483 non-null   object \n",
      " 6   director               7476 non-null   object \n",
      " 7   producer               6917 non-null   object \n",
      " 8   age_restriction        7485 non-null   object \n",
      " 9   refundable_support     332 non-null    float64\n",
      " 10  nonrefundable_support  332 non-null    float64\n",
      " 11  budget                 332 non-null    float64\n",
      " 12  financing_source       332 non-null    object \n",
      " 13  ratings                6519 non-null   object \n",
      " 14  genres                 6510 non-null   object \n",
      " 15  puNumber_int           7485 non-null   bool   \n",
      "dtypes: bool(1), float64(3), int64(1), object(11)\n",
      "memory usage: 942.9+ KB\n"
     ]
    }
   ],
   "source": [
    "# Удаляем запись, где отсутствует номер прокатного удостоверения (такая запись всего одна):\n",
    "mkrf_movies = mkrf_movies.drop(index=[1797])\n",
    "\n",
    "# Изменим тип данных столбца puNumber в таблице movies на целочисленный:\n",
    "mkrf_movies['puNumber'] = mkrf_movies['puNumber'].astype('int')\n",
    "mkrf_movies.info()"
   ]
  },
  {
   "cell_type": "code",
   "execution_count": 6,
   "metadata": {},
   "outputs": [
    {
     "data": {
      "text/html": [
       "<div>\n",
       "<style scoped>\n",
       "    .dataframe tbody tr th:only-of-type {\n",
       "        vertical-align: middle;\n",
       "    }\n",
       "\n",
       "    .dataframe tbody tr th {\n",
       "        vertical-align: top;\n",
       "    }\n",
       "\n",
       "    .dataframe thead th {\n",
       "        text-align: right;\n",
       "    }\n",
       "</style>\n",
       "<table border=\"1\" class=\"dataframe\">\n",
       "  <thead>\n",
       "    <tr style=\"text-align: right;\">\n",
       "      <th></th>\n",
       "      <th>title</th>\n",
       "      <th>puNumber</th>\n",
       "      <th>show_start_date</th>\n",
       "      <th>type</th>\n",
       "      <th>film_studio</th>\n",
       "      <th>production_country</th>\n",
       "      <th>director</th>\n",
       "      <th>producer</th>\n",
       "      <th>age_restriction</th>\n",
       "      <th>refundable_support</th>\n",
       "      <th>nonrefundable_support</th>\n",
       "      <th>budget</th>\n",
       "      <th>financing_source</th>\n",
       "      <th>ratings</th>\n",
       "      <th>genres</th>\n",
       "      <th>puNumber_int</th>\n",
       "      <th>box_office</th>\n",
       "    </tr>\n",
       "  </thead>\n",
       "  <tbody>\n",
       "    <tr>\n",
       "      <th>0</th>\n",
       "      <td>Открытый простор</td>\n",
       "      <td>221048915</td>\n",
       "      <td>2015-11-27T12:00:00.000Z</td>\n",
       "      <td>Художественный</td>\n",
       "      <td>Тачстоун Пикчерз, Кобальт Пикчерз, Бикон Пикче...</td>\n",
       "      <td>США</td>\n",
       "      <td>Кевин Костнер</td>\n",
       "      <td>Дэвид Валдес, Кевин Костнер, Джейк Эбертс</td>\n",
       "      <td>«18+» - запрещено для детей</td>\n",
       "      <td>NaN</td>\n",
       "      <td>NaN</td>\n",
       "      <td>NaN</td>\n",
       "      <td>NaN</td>\n",
       "      <td>7.2</td>\n",
       "      <td>боевик,драма,мелодрама</td>\n",
       "      <td>True</td>\n",
       "      <td>NaN</td>\n",
       "    </tr>\n",
       "    <tr>\n",
       "      <th>1</th>\n",
       "      <td>Особо важное задание</td>\n",
       "      <td>111013716</td>\n",
       "      <td>2016-09-13T12:00:00.000Z</td>\n",
       "      <td>Художественный</td>\n",
       "      <td>Киностудия \"Мосфильм\"</td>\n",
       "      <td>СССР</td>\n",
       "      <td>Е.Матвеев</td>\n",
       "      <td>NaN</td>\n",
       "      <td>«6+» - для детей старше 6 лет</td>\n",
       "      <td>NaN</td>\n",
       "      <td>NaN</td>\n",
       "      <td>NaN</td>\n",
       "      <td>NaN</td>\n",
       "      <td>6.6</td>\n",
       "      <td>драма,военный</td>\n",
       "      <td>True</td>\n",
       "      <td>NaN</td>\n",
       "    </tr>\n",
       "    <tr>\n",
       "      <th>2</th>\n",
       "      <td>Особо опасен</td>\n",
       "      <td>221038416</td>\n",
       "      <td>2016-10-10T12:00:00.000Z</td>\n",
       "      <td>Художественный</td>\n",
       "      <td>Юниверсал Пикчерз, Кикстарт Продакшнз, Марк Пл...</td>\n",
       "      <td>США</td>\n",
       "      <td>Тимур Бекмамбетов</td>\n",
       "      <td>Джим Лемли, Джейсон Нетер, Марк Е.Платт, Яйн Смит</td>\n",
       "      <td>«18+» - запрещено для детей</td>\n",
       "      <td>NaN</td>\n",
       "      <td>NaN</td>\n",
       "      <td>NaN</td>\n",
       "      <td>NaN</td>\n",
       "      <td>6.8</td>\n",
       "      <td>фантастика,боевик,триллер</td>\n",
       "      <td>True</td>\n",
       "      <td>NaN</td>\n",
       "    </tr>\n",
       "    <tr>\n",
       "      <th>3</th>\n",
       "      <td>Особо опасен</td>\n",
       "      <td>221026916</td>\n",
       "      <td>2016-06-10T12:00:00.000Z</td>\n",
       "      <td>Художественный</td>\n",
       "      <td>Юниверсал Пикчерз, Кикстарт Продакшнз, Марк Пл...</td>\n",
       "      <td>США</td>\n",
       "      <td>Тимур Бекмамбетов</td>\n",
       "      <td>Джим Лемли, Джейсон Нетер, Марк Е.Платт, Яйн Смит</td>\n",
       "      <td>«18+» - запрещено для детей</td>\n",
       "      <td>NaN</td>\n",
       "      <td>NaN</td>\n",
       "      <td>NaN</td>\n",
       "      <td>NaN</td>\n",
       "      <td>6.8</td>\n",
       "      <td>фантастика,боевик,триллер</td>\n",
       "      <td>True</td>\n",
       "      <td>NaN</td>\n",
       "    </tr>\n",
       "    <tr>\n",
       "      <th>4</th>\n",
       "      <td>Особо опасен</td>\n",
       "      <td>221030815</td>\n",
       "      <td>2015-07-29T12:00:00.000Z</td>\n",
       "      <td>Художественный</td>\n",
       "      <td>Юниверсал Пикчерз, Кикстарт Продакшнз, Марк Пл...</td>\n",
       "      <td>США</td>\n",
       "      <td>Тимур Бекмамбетов</td>\n",
       "      <td>Джим Лемли, Джейсон Нетер, Марк Е.Платт, Яйн Смит</td>\n",
       "      <td>«18+» - запрещено для детей</td>\n",
       "      <td>NaN</td>\n",
       "      <td>NaN</td>\n",
       "      <td>NaN</td>\n",
       "      <td>NaN</td>\n",
       "      <td>6.8</td>\n",
       "      <td>фантастика,боевик,триллер</td>\n",
       "      <td>True</td>\n",
       "      <td>NaN</td>\n",
       "    </tr>\n",
       "  </tbody>\n",
       "</table>\n",
       "</div>"
      ],
      "text/plain": [
       "                  title   puNumber           show_start_date            type  \\\n",
       "0      Открытый простор  221048915  2015-11-27T12:00:00.000Z  Художественный   \n",
       "1  Особо важное задание  111013716  2016-09-13T12:00:00.000Z  Художественный   \n",
       "2          Особо опасен  221038416  2016-10-10T12:00:00.000Z  Художественный   \n",
       "3          Особо опасен  221026916  2016-06-10T12:00:00.000Z  Художественный   \n",
       "4          Особо опасен  221030815  2015-07-29T12:00:00.000Z  Художественный   \n",
       "\n",
       "                                         film_studio production_country  \\\n",
       "0  Тачстоун Пикчерз, Кобальт Пикчерз, Бикон Пикче...                США   \n",
       "1                              Киностудия \"Мосфильм\"               СССР   \n",
       "2  Юниверсал Пикчерз, Кикстарт Продакшнз, Марк Пл...                США   \n",
       "3  Юниверсал Пикчерз, Кикстарт Продакшнз, Марк Пл...                США   \n",
       "4  Юниверсал Пикчерз, Кикстарт Продакшнз, Марк Пл...                США   \n",
       "\n",
       "            director                                           producer  \\\n",
       "0      Кевин Костнер          Дэвид Валдес, Кевин Костнер, Джейк Эбертс   \n",
       "1          Е.Матвеев                                                NaN   \n",
       "2  Тимур Бекмамбетов  Джим Лемли, Джейсон Нетер, Марк Е.Платт, Яйн Смит   \n",
       "3  Тимур Бекмамбетов  Джим Лемли, Джейсон Нетер, Марк Е.Платт, Яйн Смит   \n",
       "4  Тимур Бекмамбетов  Джим Лемли, Джейсон Нетер, Марк Е.Платт, Яйн Смит   \n",
       "\n",
       "                 age_restriction  refundable_support  nonrefundable_support  \\\n",
       "0    «18+» - запрещено для детей                 NaN                    NaN   \n",
       "1  «6+» - для детей старше 6 лет                 NaN                    NaN   \n",
       "2    «18+» - запрещено для детей                 NaN                    NaN   \n",
       "3    «18+» - запрещено для детей                 NaN                    NaN   \n",
       "4    «18+» - запрещено для детей                 NaN                    NaN   \n",
       "\n",
       "   budget financing_source ratings                     genres  puNumber_int  \\\n",
       "0     NaN              NaN     7.2     боевик,драма,мелодрама          True   \n",
       "1     NaN              NaN     6.6              драма,военный          True   \n",
       "2     NaN              NaN     6.8  фантастика,боевик,триллер          True   \n",
       "3     NaN              NaN     6.8  фантастика,боевик,триллер          True   \n",
       "4     NaN              NaN     6.8  фантастика,боевик,триллер          True   \n",
       "\n",
       "   box_office  \n",
       "0         NaN  \n",
       "1         NaN  \n",
       "2         NaN  \n",
       "3         NaN  \n",
       "4         NaN  "
      ]
     },
     "execution_count": 6,
     "metadata": {},
     "output_type": "execute_result"
    }
   ],
   "source": [
    "#Объединять таблицы будем по столбцу puNumber\n",
    "data=mkrf_movies.merge(mkrf_shows, on='puNumber', how='left')\n",
    "data.head()"
   ]
  },
  {
   "cell_type": "code",
   "execution_count": 7,
   "metadata": {
    "scrolled": true
   },
   "outputs": [
    {
     "data": {
      "text/html": [
       "<div>\n",
       "<style scoped>\n",
       "    .dataframe tbody tr th:only-of-type {\n",
       "        vertical-align: middle;\n",
       "    }\n",
       "\n",
       "    .dataframe tbody tr th {\n",
       "        vertical-align: top;\n",
       "    }\n",
       "\n",
       "    .dataframe thead th {\n",
       "        text-align: right;\n",
       "    }\n",
       "</style>\n",
       "<table border=\"1\" class=\"dataframe\">\n",
       "  <thead>\n",
       "    <tr style=\"text-align: right;\">\n",
       "      <th></th>\n",
       "      <th>title</th>\n",
       "      <th>pu_number</th>\n",
       "      <th>show_start_date</th>\n",
       "      <th>type</th>\n",
       "      <th>film_studio</th>\n",
       "      <th>production_country</th>\n",
       "      <th>director</th>\n",
       "      <th>producer</th>\n",
       "      <th>age_restriction</th>\n",
       "      <th>refundable_support</th>\n",
       "      <th>nonrefundable_support</th>\n",
       "      <th>budget</th>\n",
       "      <th>financing_source</th>\n",
       "      <th>ratings</th>\n",
       "      <th>genres</th>\n",
       "      <th>puNumber_int</th>\n",
       "      <th>box_office</th>\n",
       "    </tr>\n",
       "  </thead>\n",
       "  <tbody>\n",
       "    <tr>\n",
       "      <th>0</th>\n",
       "      <td>Открытый простор</td>\n",
       "      <td>221048915</td>\n",
       "      <td>2015-11-27T12:00:00.000Z</td>\n",
       "      <td>Художественный</td>\n",
       "      <td>Тачстоун Пикчерз, Кобальт Пикчерз, Бикон Пикче...</td>\n",
       "      <td>США</td>\n",
       "      <td>Кевин Костнер</td>\n",
       "      <td>Дэвид Валдес, Кевин Костнер, Джейк Эбертс</td>\n",
       "      <td>«18+» - запрещено для детей</td>\n",
       "      <td>NaN</td>\n",
       "      <td>NaN</td>\n",
       "      <td>NaN</td>\n",
       "      <td>NaN</td>\n",
       "      <td>7.2</td>\n",
       "      <td>боевик,драма,мелодрама</td>\n",
       "      <td>True</td>\n",
       "      <td>NaN</td>\n",
       "    </tr>\n",
       "    <tr>\n",
       "      <th>1</th>\n",
       "      <td>Особо важное задание</td>\n",
       "      <td>111013716</td>\n",
       "      <td>2016-09-13T12:00:00.000Z</td>\n",
       "      <td>Художественный</td>\n",
       "      <td>Киностудия \"Мосфильм\"</td>\n",
       "      <td>СССР</td>\n",
       "      <td>Е.Матвеев</td>\n",
       "      <td>NaN</td>\n",
       "      <td>«6+» - для детей старше 6 лет</td>\n",
       "      <td>NaN</td>\n",
       "      <td>NaN</td>\n",
       "      <td>NaN</td>\n",
       "      <td>NaN</td>\n",
       "      <td>6.6</td>\n",
       "      <td>драма,военный</td>\n",
       "      <td>True</td>\n",
       "      <td>NaN</td>\n",
       "    </tr>\n",
       "    <tr>\n",
       "      <th>2</th>\n",
       "      <td>Особо опасен</td>\n",
       "      <td>221038416</td>\n",
       "      <td>2016-10-10T12:00:00.000Z</td>\n",
       "      <td>Художественный</td>\n",
       "      <td>Юниверсал Пикчерз, Кикстарт Продакшнз, Марк Пл...</td>\n",
       "      <td>США</td>\n",
       "      <td>Тимур Бекмамбетов</td>\n",
       "      <td>Джим Лемли, Джейсон Нетер, Марк Е.Платт, Яйн Смит</td>\n",
       "      <td>«18+» - запрещено для детей</td>\n",
       "      <td>NaN</td>\n",
       "      <td>NaN</td>\n",
       "      <td>NaN</td>\n",
       "      <td>NaN</td>\n",
       "      <td>6.8</td>\n",
       "      <td>фантастика,боевик,триллер</td>\n",
       "      <td>True</td>\n",
       "      <td>NaN</td>\n",
       "    </tr>\n",
       "    <tr>\n",
       "      <th>3</th>\n",
       "      <td>Особо опасен</td>\n",
       "      <td>221026916</td>\n",
       "      <td>2016-06-10T12:00:00.000Z</td>\n",
       "      <td>Художественный</td>\n",
       "      <td>Юниверсал Пикчерз, Кикстарт Продакшнз, Марк Пл...</td>\n",
       "      <td>США</td>\n",
       "      <td>Тимур Бекмамбетов</td>\n",
       "      <td>Джим Лемли, Джейсон Нетер, Марк Е.Платт, Яйн Смит</td>\n",
       "      <td>«18+» - запрещено для детей</td>\n",
       "      <td>NaN</td>\n",
       "      <td>NaN</td>\n",
       "      <td>NaN</td>\n",
       "      <td>NaN</td>\n",
       "      <td>6.8</td>\n",
       "      <td>фантастика,боевик,триллер</td>\n",
       "      <td>True</td>\n",
       "      <td>NaN</td>\n",
       "    </tr>\n",
       "    <tr>\n",
       "      <th>4</th>\n",
       "      <td>Особо опасен</td>\n",
       "      <td>221030815</td>\n",
       "      <td>2015-07-29T12:00:00.000Z</td>\n",
       "      <td>Художественный</td>\n",
       "      <td>Юниверсал Пикчерз, Кикстарт Продакшнз, Марк Пл...</td>\n",
       "      <td>США</td>\n",
       "      <td>Тимур Бекмамбетов</td>\n",
       "      <td>Джим Лемли, Джейсон Нетер, Марк Е.Платт, Яйн Смит</td>\n",
       "      <td>«18+» - запрещено для детей</td>\n",
       "      <td>NaN</td>\n",
       "      <td>NaN</td>\n",
       "      <td>NaN</td>\n",
       "      <td>NaN</td>\n",
       "      <td>6.8</td>\n",
       "      <td>фантастика,боевик,триллер</td>\n",
       "      <td>True</td>\n",
       "      <td>NaN</td>\n",
       "    </tr>\n",
       "  </tbody>\n",
       "</table>\n",
       "</div>"
      ],
      "text/plain": [
       "                  title  pu_number           show_start_date            type  \\\n",
       "0      Открытый простор  221048915  2015-11-27T12:00:00.000Z  Художественный   \n",
       "1  Особо важное задание  111013716  2016-09-13T12:00:00.000Z  Художественный   \n",
       "2          Особо опасен  221038416  2016-10-10T12:00:00.000Z  Художественный   \n",
       "3          Особо опасен  221026916  2016-06-10T12:00:00.000Z  Художественный   \n",
       "4          Особо опасен  221030815  2015-07-29T12:00:00.000Z  Художественный   \n",
       "\n",
       "                                         film_studio production_country  \\\n",
       "0  Тачстоун Пикчерз, Кобальт Пикчерз, Бикон Пикче...                США   \n",
       "1                              Киностудия \"Мосфильм\"               СССР   \n",
       "2  Юниверсал Пикчерз, Кикстарт Продакшнз, Марк Пл...                США   \n",
       "3  Юниверсал Пикчерз, Кикстарт Продакшнз, Марк Пл...                США   \n",
       "4  Юниверсал Пикчерз, Кикстарт Продакшнз, Марк Пл...                США   \n",
       "\n",
       "            director                                           producer  \\\n",
       "0      Кевин Костнер          Дэвид Валдес, Кевин Костнер, Джейк Эбертс   \n",
       "1          Е.Матвеев                                                NaN   \n",
       "2  Тимур Бекмамбетов  Джим Лемли, Джейсон Нетер, Марк Е.Платт, Яйн Смит   \n",
       "3  Тимур Бекмамбетов  Джим Лемли, Джейсон Нетер, Марк Е.Платт, Яйн Смит   \n",
       "4  Тимур Бекмамбетов  Джим Лемли, Джейсон Нетер, Марк Е.Платт, Яйн Смит   \n",
       "\n",
       "                 age_restriction  refundable_support  nonrefundable_support  \\\n",
       "0    «18+» - запрещено для детей                 NaN                    NaN   \n",
       "1  «6+» - для детей старше 6 лет                 NaN                    NaN   \n",
       "2    «18+» - запрещено для детей                 NaN                    NaN   \n",
       "3    «18+» - запрещено для детей                 NaN                    NaN   \n",
       "4    «18+» - запрещено для детей                 NaN                    NaN   \n",
       "\n",
       "   budget financing_source ratings                     genres  puNumber_int  \\\n",
       "0     NaN              NaN     7.2     боевик,драма,мелодрама          True   \n",
       "1     NaN              NaN     6.6              драма,военный          True   \n",
       "2     NaN              NaN     6.8  фантастика,боевик,триллер          True   \n",
       "3     NaN              NaN     6.8  фантастика,боевик,триллер          True   \n",
       "4     NaN              NaN     6.8  фантастика,боевик,триллер          True   \n",
       "\n",
       "   box_office  \n",
       "0         NaN  \n",
       "1         NaN  \n",
       "2         NaN  \n",
       "3         NaN  \n",
       "4         NaN  "
      ]
     },
     "execution_count": 7,
     "metadata": {},
     "output_type": "execute_result"
    }
   ],
   "source": [
    "#Переименуем столбец по змеиному типу\n",
    "data = data.rename(columns = {'puNumber': 'pu_number'})\n",
    "data.head()#проверка"
   ]
  },
  {
   "cell_type": "code",
   "execution_count": 8,
   "metadata": {},
   "outputs": [
    {
     "name": "stdout",
     "output_type": "stream",
     "text": [
      "<class 'pandas.core.frame.DataFrame'>\n",
      "Int64Index: 7485 entries, 0 to 7484\n",
      "Data columns (total 17 columns):\n",
      " #   Column                 Non-Null Count  Dtype  \n",
      "---  ------                 --------------  -----  \n",
      " 0   title                  7485 non-null   object \n",
      " 1   pu_number              7485 non-null   int64  \n",
      " 2   show_start_date        7485 non-null   object \n",
      " 3   type                   7485 non-null   object \n",
      " 4   film_studio            7467 non-null   object \n",
      " 5   production_country     7483 non-null   object \n",
      " 6   director               7476 non-null   object \n",
      " 7   producer               6917 non-null   object \n",
      " 8   age_restriction        7485 non-null   object \n",
      " 9   refundable_support     332 non-null    float64\n",
      " 10  nonrefundable_support  332 non-null    float64\n",
      " 11  budget                 332 non-null    float64\n",
      " 12  financing_source       332 non-null    object \n",
      " 13  ratings                6519 non-null   object \n",
      " 14  genres                 6510 non-null   object \n",
      " 15  puNumber_int           7485 non-null   bool   \n",
      " 16  box_office             3158 non-null   float64\n",
      "dtypes: bool(1), float64(4), int64(1), object(11)\n",
      "memory usage: 1001.4+ KB\n"
     ]
    }
   ],
   "source": [
    "data.info()"
   ]
  },
  {
   "cell_type": "markdown",
   "metadata": {},
   "source": [
    "Т.к. объединяли по колонке puNumber, число не изменилось (7485). И число box_office перенесено без потерь. Можно продолжать работу."
   ]
  },
  {
   "cell_type": "markdown",
   "metadata": {},
   "source": [
    "<div class=\"alert alert-block alert-danger\">\n",
    "<h2> Комментарий ревьюера 🤔<a class=\"tocSkip\"></h2> <s> В задании просят объядинить таблицы без потери данных - но мы никак не проверяем, произошла потеря или нет. Давай добавим проверку и вывод)"
   ]
  },
  {
   "cell_type": "markdown",
   "metadata": {},
   "source": [
    "Исправила"
   ]
  },
  {
   "cell_type": "markdown",
   "metadata": {
    "id": "KLDGpPG0gFyM"
   },
   "source": [
    "### Шаг 2. Предобработка данных"
   ]
  },
  {
   "cell_type": "markdown",
   "metadata": {
    "id": "ssWwKXsxgFyO"
   },
   "source": [
    "#### Шаг 2.1. Проверьте типы данных\n",
    "\n",
    "- Проверьте типы данных в датафрейме и преобразуйте их там, где это необходимо."
   ]
  },
  {
   "cell_type": "code",
   "execution_count": 9,
   "metadata": {
    "id": "kVGSplJOgFyO"
   },
   "outputs": [
    {
     "name": "stdout",
     "output_type": "stream",
     "text": [
      "<class 'pandas.core.frame.DataFrame'>\n",
      "Int64Index: 7485 entries, 0 to 7484\n",
      "Data columns (total 17 columns):\n",
      " #   Column                 Non-Null Count  Dtype  \n",
      "---  ------                 --------------  -----  \n",
      " 0   title                  7485 non-null   object \n",
      " 1   pu_number              7485 non-null   int64  \n",
      " 2   show_start_date        7485 non-null   object \n",
      " 3   type                   7485 non-null   object \n",
      " 4   film_studio            7467 non-null   object \n",
      " 5   production_country     7483 non-null   object \n",
      " 6   director               7476 non-null   object \n",
      " 7   producer               6917 non-null   object \n",
      " 8   age_restriction        7485 non-null   object \n",
      " 9   refundable_support     332 non-null    float64\n",
      " 10  nonrefundable_support  332 non-null    float64\n",
      " 11  budget                 332 non-null    float64\n",
      " 12  financing_source       332 non-null    object \n",
      " 13  ratings                6519 non-null   object \n",
      " 14  genres                 6510 non-null   object \n",
      " 15  puNumber_int           7485 non-null   bool   \n",
      " 16  box_office             3158 non-null   float64\n",
      "dtypes: bool(1), float64(4), int64(1), object(11)\n",
      "memory usage: 1001.4+ KB\n"
     ]
    }
   ],
   "source": [
    "data.info()"
   ]
  },
  {
   "cell_type": "markdown",
   "metadata": {},
   "source": [
    "Нужно изменить тип данных в show_start_date и ratings"
   ]
  },
  {
   "cell_type": "code",
   "execution_count": 10,
   "metadata": {},
   "outputs": [
    {
     "name": "stdout",
     "output_type": "stream",
     "text": [
      "<class 'pandas.core.frame.DataFrame'>\n",
      "Int64Index: 7485 entries, 0 to 7484\n",
      "Data columns (total 17 columns):\n",
      " #   Column                 Non-Null Count  Dtype              \n",
      "---  ------                 --------------  -----              \n",
      " 0   title                  7485 non-null   object             \n",
      " 1   pu_number              7485 non-null   int64              \n",
      " 2   show_start_date        7485 non-null   datetime64[ns, UTC]\n",
      " 3   type                   7485 non-null   object             \n",
      " 4   film_studio            7467 non-null   object             \n",
      " 5   production_country     7483 non-null   object             \n",
      " 6   director               7476 non-null   object             \n",
      " 7   producer               6917 non-null   object             \n",
      " 8   age_restriction        7485 non-null   object             \n",
      " 9   refundable_support     332 non-null    float64            \n",
      " 10  nonrefundable_support  332 non-null    float64            \n",
      " 11  budget                 332 non-null    float64            \n",
      " 12  financing_source       332 non-null    object             \n",
      " 13  ratings                6490 non-null   float64            \n",
      " 14  genres                 6510 non-null   object             \n",
      " 15  puNumber_int           7485 non-null   bool               \n",
      " 16  box_office             3158 non-null   float64            \n",
      "dtypes: bool(1), datetime64[ns, UTC](1), float64(5), int64(1), object(9)\n",
      "memory usage: 1001.4+ KB\n"
     ]
    }
   ],
   "source": [
    "data['show_start_date'] = pd.to_datetime(data['show_start_date'])#изменеим тип данных 'show_start_date'\n",
    "\n",
    "data['ratings'] = pd.to_numeric(data['ratings'], errors='coerce')#изменеим тип данных 'ratings'\n",
    "\n",
    "data.info()#проверка"
   ]
  },
  {
   "cell_type": "markdown",
   "metadata": {},
   "source": [
    "<div class=\"alert alert-success\">\n",
    "<h2> Комментарий ревьюера 😊<a class=\"tocSkip\"> </h2>\n",
    "    Отличная работа! Молодец что используешь дополнительный параметр errors, в данном случае это верное решение)\n",
    "</div>"
   ]
  },
  {
   "cell_type": "markdown",
   "metadata": {
    "id": "i0MOLbF-gFyP"
   },
   "source": [
    "#### Шаг 2.2. Изучите пропуски в датафрейме\n",
    "\n",
    "- Объясните, почему заполнили пропуски определённым образом или почему не стали этого делать."
   ]
  },
  {
   "cell_type": "code",
   "execution_count": 11,
   "metadata": {
    "id": "8MJD_lkngFyP"
   },
   "outputs": [
    {
     "data": {
      "text/plain": [
       "title                       0\n",
       "pu_number                   0\n",
       "show_start_date             0\n",
       "type                        0\n",
       "film_studio                18\n",
       "production_country          2\n",
       "director                    9\n",
       "producer                  568\n",
       "age_restriction             0\n",
       "refundable_support       7153\n",
       "nonrefundable_support    7153\n",
       "budget                   7153\n",
       "financing_source         7153\n",
       "ratings                   995\n",
       "genres                    975\n",
       "puNumber_int                0\n",
       "box_office               4327\n",
       "dtype: int64"
      ]
     },
     "execution_count": 11,
     "metadata": {},
     "output_type": "execute_result"
    }
   ],
   "source": [
    "data.isna().sum()"
   ]
  },
  {
   "cell_type": "markdown",
   "metadata": {},
   "source": [
    "<div class=\"alert alert-warning\">\n",
    "<h2> Комментарий ревьюера 🤓<a class=\"tocSkip\"> </h2>\n",
    "Можно также посчитать какую долю составляют пропуски.\n",
    "</div>"
   ]
  },
  {
   "cell_type": "markdown",
   "metadata": {},
   "source": [
    "Есть пропуски в колонках:\n",
    "film_studio\n",
    "producer\n",
    "director\n",
    "refundable_support\n",
    "nonrefundable_suppor\n",
    "budget\n",
    "financing_source\n",
    "ratings\n",
    "genres\n",
    "box_office\n",
    "Большие пропуски не будем пока менять, т.к. только у небольшого числа фильмов имеются такие данные как refundable_support, \n",
    "nonrefundable_support, budget, financing_source. В ином случае ситуация исказиться.\n",
    "Т.к. для других групп неизвестных мало, заменим на \"неизвестно\""
   ]
  },
  {
   "cell_type": "code",
   "execution_count": 12,
   "metadata": {},
   "outputs": [
    {
     "name": "stdout",
     "output_type": "stream",
     "text": [
      "<class 'pandas.core.frame.DataFrame'>\n",
      "Int64Index: 7485 entries, 0 to 7484\n",
      "Data columns (total 17 columns):\n",
      " #   Column                 Non-Null Count  Dtype              \n",
      "---  ------                 --------------  -----              \n",
      " 0   title                  7485 non-null   object             \n",
      " 1   pu_number              7485 non-null   int64              \n",
      " 2   show_start_date        7485 non-null   datetime64[ns, UTC]\n",
      " 3   type                   7485 non-null   object             \n",
      " 4   film_studio            7485 non-null   object             \n",
      " 5   production_country     7485 non-null   object             \n",
      " 6   director               7485 non-null   object             \n",
      " 7   producer               7485 non-null   object             \n",
      " 8   age_restriction        7485 non-null   object             \n",
      " 9   refundable_support     332 non-null    float64            \n",
      " 10  nonrefundable_support  332 non-null    float64            \n",
      " 11  budget                 332 non-null    float64            \n",
      " 12  financing_source       332 non-null    object             \n",
      " 13  ratings                6490 non-null   float64            \n",
      " 14  genres                 7485 non-null   object             \n",
      " 15  puNumber_int           7485 non-null   bool               \n",
      " 16  box_office             3158 non-null   float64            \n",
      "dtypes: bool(1), datetime64[ns, UTC](1), float64(5), int64(1), object(9)\n",
      "memory usage: 1001.4+ KB\n"
     ]
    }
   ],
   "source": [
    "data['film_studio'] = data['film_studio'].fillna('неизвестно')\n",
    "data['production_country'] = data['production_country'].fillna('неизвестно')\n",
    "data['director'] = data['director'].fillna('неизвестно')\n",
    "data['producer'] = data['producer'].fillna('неизвестно')\n",
    "data['genres'] = data['genres'].fillna('неизвестно')\n",
    "\n",
    "data.info()#проверка"
   ]
  },
  {
   "cell_type": "markdown",
   "metadata": {},
   "source": [
    "Возможное заполнение пропусков сделано"
   ]
  },
  {
   "cell_type": "markdown",
   "metadata": {},
   "source": [
    "<div class=\"alert alert-success\">\n",
    "<h2> Комментарий ревьюера 😊<a class=\"tocSkip\"> </h2>\n",
    "Верное решение оставить некоторые пропуски как есть, чтобы не исказить результаты исследований. И использовать значения-заглушки)\n",
    "</div>"
   ]
  },
  {
   "cell_type": "markdown",
   "metadata": {
    "id": "4c6k1t9ygFyQ"
   },
   "source": [
    "#### Шаг 2.3. Изучите дубликаты в датафрейме\n",
    "- Проверьте, есть ли в данных дубликаты. Опишите причины, которые могли повлиять на появление дублей."
   ]
  },
  {
   "cell_type": "code",
   "execution_count": 13,
   "metadata": {
    "id": "aKck8RIdgFyQ"
   },
   "outputs": [
    {
     "data": {
      "text/plain": [
       "0"
      ]
     },
     "execution_count": 13,
     "metadata": {},
     "output_type": "execute_result"
    }
   ],
   "source": [
    "data.duplicated().sum()# проверим на дупликаты"
   ]
  },
  {
   "cell_type": "markdown",
   "metadata": {},
   "source": [
    "Явных дупликатов нет, но проверим колонку pu_number "
   ]
  },
  {
   "cell_type": "code",
   "execution_count": 14,
   "metadata": {},
   "outputs": [
    {
     "data": {
      "text/plain": [
       "2"
      ]
     },
     "execution_count": 14,
     "metadata": {},
     "output_type": "execute_result"
    }
   ],
   "source": [
    "data['pu_number'].duplicated().sum()"
   ]
  },
  {
   "cell_type": "code",
   "execution_count": 15,
   "metadata": {},
   "outputs": [
    {
     "data": {
      "text/html": [
       "<div>\n",
       "<style scoped>\n",
       "    .dataframe tbody tr th:only-of-type {\n",
       "        vertical-align: middle;\n",
       "    }\n",
       "\n",
       "    .dataframe tbody tr th {\n",
       "        vertical-align: top;\n",
       "    }\n",
       "\n",
       "    .dataframe thead th {\n",
       "        text-align: right;\n",
       "    }\n",
       "</style>\n",
       "<table border=\"1\" class=\"dataframe\">\n",
       "  <thead>\n",
       "    <tr style=\"text-align: right;\">\n",
       "      <th></th>\n",
       "      <th>title</th>\n",
       "      <th>pu_number</th>\n",
       "      <th>show_start_date</th>\n",
       "      <th>type</th>\n",
       "      <th>film_studio</th>\n",
       "      <th>production_country</th>\n",
       "      <th>director</th>\n",
       "      <th>producer</th>\n",
       "      <th>age_restriction</th>\n",
       "      <th>refundable_support</th>\n",
       "      <th>nonrefundable_support</th>\n",
       "      <th>budget</th>\n",
       "      <th>financing_source</th>\n",
       "      <th>ratings</th>\n",
       "      <th>genres</th>\n",
       "      <th>puNumber_int</th>\n",
       "      <th>box_office</th>\n",
       "    </tr>\n",
       "  </thead>\n",
       "  <tbody>\n",
       "    <tr>\n",
       "      <th>4637</th>\n",
       "      <td>Как жениться и остаться холостым</td>\n",
       "      <td>221154310</td>\n",
       "      <td>2010-12-17 12:00:00+00:00</td>\n",
       "      <td>Художественный</td>\n",
       "      <td>Ше Вам, Скрипт Ассосье, Тэ Фэ 1 Фильм Продюксь...</td>\n",
       "      <td>Франция</td>\n",
       "      <td>Эрик Лартиго</td>\n",
       "      <td>Амандин Било, Алан Шаба</td>\n",
       "      <td>«16+» - для детей старше 16 лет</td>\n",
       "      <td>NaN</td>\n",
       "      <td>NaN</td>\n",
       "      <td>NaN</td>\n",
       "      <td>NaN</td>\n",
       "      <td>7.0</td>\n",
       "      <td>мелодрама,комедия</td>\n",
       "      <td>True</td>\n",
       "      <td>NaN</td>\n",
       "    </tr>\n",
       "    <tr>\n",
       "      <th>4638</th>\n",
       "      <td>Иоанна - женщина на папском престоле /По роман...</td>\n",
       "      <td>221154310</td>\n",
       "      <td>2010-12-17 12:00:00+00:00</td>\n",
       "      <td>Художественный</td>\n",
       "      <td>Константин Фильм, А Эр Ди Дегето Фильм, Дюне ...</td>\n",
       "      <td>Германия - Великобритания - Италия - Испания</td>\n",
       "      <td>Зенке Вортманн</td>\n",
       "      <td>Оливер Бербен, Дорис Д.Хайнце, Фарук Элтан</td>\n",
       "      <td>«16+» - для детей старше 16 лет</td>\n",
       "      <td>NaN</td>\n",
       "      <td>NaN</td>\n",
       "      <td>NaN</td>\n",
       "      <td>NaN</td>\n",
       "      <td>7.6</td>\n",
       "      <td>драма,мелодрама,история</td>\n",
       "      <td>True</td>\n",
       "      <td>NaN</td>\n",
       "    </tr>\n",
       "    <tr>\n",
       "      <th>5066</th>\n",
       "      <td>Анализируй это!</td>\n",
       "      <td>221054410</td>\n",
       "      <td>2010-05-25 12:00:00+00:00</td>\n",
       "      <td>Художественный</td>\n",
       "      <td>Уорнер Бразерс, Вилладж Роудшоу Филмз ЛТД</td>\n",
       "      <td>США-Австралия</td>\n",
       "      <td>ХЭрольд Рэмис</td>\n",
       "      <td>Джейн Розенталь, Пола Уейнстейн</td>\n",
       "      <td>«16+» - для детей старше 16 лет</td>\n",
       "      <td>NaN</td>\n",
       "      <td>NaN</td>\n",
       "      <td>NaN</td>\n",
       "      <td>NaN</td>\n",
       "      <td>7.4</td>\n",
       "      <td>комедия,криминал</td>\n",
       "      <td>True</td>\n",
       "      <td>NaN</td>\n",
       "    </tr>\n",
       "    <tr>\n",
       "      <th>5067</th>\n",
       "      <td>Анализируй то!</td>\n",
       "      <td>221054410</td>\n",
       "      <td>2010-05-25 12:00:00+00:00</td>\n",
       "      <td>Художественный</td>\n",
       "      <td>Уорнер Бразерс, Виллидж Роадшоу Пикчерз, Эн-Пи...</td>\n",
       "      <td>США</td>\n",
       "      <td>Гарольд Реймис</td>\n",
       "      <td>Джейн Розенталь, Паул Уэйнстейн</td>\n",
       "      <td>«12+» - для детей старше 12 лет</td>\n",
       "      <td>NaN</td>\n",
       "      <td>NaN</td>\n",
       "      <td>NaN</td>\n",
       "      <td>NaN</td>\n",
       "      <td>6.8</td>\n",
       "      <td>комедия,криминал</td>\n",
       "      <td>True</td>\n",
       "      <td>NaN</td>\n",
       "    </tr>\n",
       "  </tbody>\n",
       "</table>\n",
       "</div>"
      ],
      "text/plain": [
       "                                                  title  pu_number  \\\n",
       "4637                   Как жениться и остаться холостым  221154310   \n",
       "4638  Иоанна - женщина на папском престоле /По роман...  221154310   \n",
       "5066                                    Анализируй это!  221054410   \n",
       "5067                                     Анализируй то!  221054410   \n",
       "\n",
       "               show_start_date            type  \\\n",
       "4637 2010-12-17 12:00:00+00:00  Художественный   \n",
       "4638 2010-12-17 12:00:00+00:00  Художественный   \n",
       "5066 2010-05-25 12:00:00+00:00  Художественный   \n",
       "5067 2010-05-25 12:00:00+00:00  Художественный   \n",
       "\n",
       "                                            film_studio  \\\n",
       "4637  Ше Вам, Скрипт Ассосье, Тэ Фэ 1 Фильм Продюксь...   \n",
       "4638   Константин Фильм, А Эр Ди Дегето Фильм, Дюне ...   \n",
       "5066          Уорнер Бразерс, Вилладж Роудшоу Филмз ЛТД   \n",
       "5067  Уорнер Бразерс, Виллидж Роадшоу Пикчерз, Эн-Пи...   \n",
       "\n",
       "                                production_country        director  \\\n",
       "4637                                       Франция    Эрик Лартиго   \n",
       "4638  Германия - Великобритания - Италия - Испания  Зенке Вортманн   \n",
       "5066                                 США-Австралия   ХЭрольд Рэмис   \n",
       "5067                                           США  Гарольд Реймис   \n",
       "\n",
       "                                        producer  \\\n",
       "4637                     Амандин Било, Алан Шаба   \n",
       "4638  Оливер Бербен, Дорис Д.Хайнце, Фарук Элтан   \n",
       "5066             Джейн Розенталь, Пола Уейнстейн   \n",
       "5067             Джейн Розенталь, Паул Уэйнстейн   \n",
       "\n",
       "                      age_restriction  refundable_support  \\\n",
       "4637  «16+» - для детей старше 16 лет                 NaN   \n",
       "4638  «16+» - для детей старше 16 лет                 NaN   \n",
       "5066  «16+» - для детей старше 16 лет                 NaN   \n",
       "5067  «12+» - для детей старше 12 лет                 NaN   \n",
       "\n",
       "      nonrefundable_support  budget financing_source  ratings  \\\n",
       "4637                    NaN     NaN              NaN      7.0   \n",
       "4638                    NaN     NaN              NaN      7.6   \n",
       "5066                    NaN     NaN              NaN      7.4   \n",
       "5067                    NaN     NaN              NaN      6.8   \n",
       "\n",
       "                       genres  puNumber_int  box_office  \n",
       "4637        мелодрама,комедия          True         NaN  \n",
       "4638  драма,мелодрама,история          True         NaN  \n",
       "5066         комедия,криминал          True         NaN  \n",
       "5067         комедия,криминал          True         NaN  "
      ]
     },
     "execution_count": 15,
     "metadata": {},
     "output_type": "execute_result"
    }
   ],
   "source": [
    "# Датафрейм содержит всего 2 дубликата - посмотрим на них:\n",
    "data[data.duplicated(subset=['pu_number'], keep = False)]"
   ]
  },
  {
   "cell_type": "markdown",
   "metadata": {},
   "source": [
    "Видно, что оба \"дубликата\" на самом деле не являются дубликатами, т.к:\n",
    "\n",
    "для pu_number 221154310 различается название фильма;\n",
    "для pu_number 221054410 различаются названия и рейтинги. Похоже, что это была просто ошибка ввода номера, или технический сбой при присванивании номера выдаваемому прокатному удостоверению. Удалять данные дубликаты нельзя, но можно вручную присвоить им другие номера прокатных удостоверений. Чтобы убедиться, что будут присвоены уникальные номера pu_number, ознакомимся с имеющимися значениями:"
   ]
  },
  {
   "cell_type": "code",
   "execution_count": 16,
   "metadata": {},
   "outputs": [
    {
     "data": {
      "text/plain": [
       "count    7.485000e+03\n",
       "mean     1.351966e+08\n",
       "std      3.835292e+07\n",
       "min      1.811096e+06\n",
       "25%      1.120251e+08\n",
       "50%      1.210155e+08\n",
       "75%      1.240033e+08\n",
       "max      2.310011e+08\n",
       "Name: pu_number, dtype: float64"
      ]
     },
     "execution_count": 16,
     "metadata": {},
     "output_type": "execute_result"
    }
   ],
   "source": [
    "data['pu_number'].describe()"
   ]
  },
  {
   "cell_type": "code",
   "execution_count": 17,
   "metadata": {},
   "outputs": [
    {
     "data": {
      "text/plain": [
       "0"
      ]
     },
     "execution_count": 17,
     "metadata": {},
     "output_type": "execute_result"
    }
   ],
   "source": [
    "# Присвоим два значения pu_number, которые не встречаются (100000000 и 100000001):\n",
    "data.loc[((data['pu_number'] == 221154310)&(data['title'] == 'Как жениться и остаться холостым')),'pu_number'] = 100000000\n",
    "data.loc[((data['pu_number'] == 221054410)&(data['title'] == 'Анализируй то!')),'pu_number'] = 100000001\n",
    "\n",
    "data['pu_number'].duplicated().sum()#проверка"
   ]
  },
  {
   "cell_type": "markdown",
   "metadata": {},
   "source": [
    "Дубликатов в столбце с номером прокатного удостоверения не осталось."
   ]
  },
  {
   "cell_type": "markdown",
   "metadata": {},
   "source": [
    "<div class=\"alert alert-warning\">\n",
    "<h2> Комментарий ревьюера 🤓<a class=\"tocSkip\"> </h2>\n",
    "\n",
    "У нас есть столбцы, которые, по идее, могут содержать уникальные значения. Стоит проверить - так ли это. \n",
    "</div>"
   ]
  },
  {
   "cell_type": "markdown",
   "metadata": {
    "id": "52fOPrEBgFyQ"
   },
   "source": [
    "#### Шаг 2.4. Изучите категориальные значения\n",
    "\n",
    "- Посмотрите, какая общая проблема встречается почти во всех категориальных столбцах;\n",
    "- Исправьте проблемные значения в поле `type`.\n",
    "\n",
    "<div id=\"accordion\">\n",
    "    <div class=\"card\">\n",
    "        <div class=\"card-header\" id=\"headingThree\">\n",
    "            <button class=\"btn btn-link collapsed\" data-toggle=\"collapse\" data-target=\"#collapseHint_1\" aria-expanded=\"false\" aria-controls=\"collapseHint_1\">Подсказка</button>\n",
    "        </div>\n",
    "        <div id=\"collapseHint_1\" class=\"collapse\" aria-labelledby=\"headingThree\" data-parent=\"#accordion\">\n",
    "            <div class=\"card-body\">\n",
    "В поле <code>type</code> есть несколько значений, у которых появился пробел в начале строки. Самый простой способ их «починить» -- использовать метод <a href=\"https://pandas.pydata.org/docs/reference/api/pandas.Series.str.strip.html#pandas.Series.str.strip\">.str.strip</a>. Этот метод удаляет все пробелы, которые встречаются в начале и в конце строки. Применяют его таким образом:<br>\n",
    "<code>df['type'].str.strip()</code>\n",
    "            </div>\n",
    "        </div>\n",
    "    </div>\n",
    "</div>"
   ]
  },
  {
   "cell_type": "code",
   "execution_count": 18,
   "metadata": {},
   "outputs": [
    {
     "data": {
      "text/plain": [
       "0                                      Открытый простор\n",
       "1                                  Особо важное задание\n",
       "2                                          Особо опасен\n",
       "3                                          Особо опасен\n",
       "4                                          Особо опасен\n",
       "5                                     Остановился поезд\n",
       "6                                       Любовь и голуби\n",
       "7                                     Любовь и сигареты\n",
       "8                                    Отпетые мошенники.\n",
       "9                                   Отпуск за свой счет\n",
       "10    Превосходство Борна /По одноименной новелле Ро...\n",
       "11                                         Ответный ход\n",
       "12    Малышка на миллион /По мотивам рассказов Ф.Х.Т...\n",
       "13                                   Преданный садовник\n",
       "14              Отель /По мотивам пьесы Джона Уэбстера/\n",
       "15                                         Председатель\n",
       "16                                      Осенний марафон\n",
       "17                                                Осень\n",
       "18                                        Неподдающиеся\n",
       "19                                           Неподсуден\n",
       "20                              Незабываемый 1919-й год\n",
       "21                                  Незаконченная жизнь\n",
       "22             Операция \"Ы\" и другие приключения Шурика\n",
       "23             Неизвестные страницы из жизни разведчика\n",
       "24                                    Неисправимый лгун\n",
       "25                             Призрак замка Моррисвиль\n",
       "26                                      Оружейный барон\n",
       "27                            Отставной козы барабанщик\n",
       "28                                        Паршивая овца\n",
       "29                            Плюмбум, или Опасная игра\n",
       "30                                      Первое свидание\n",
       "31                                        Охота на лис.\n",
       "32                                        Пиноккио 3000\n",
       "33                                              Перелом\n",
       "34                                          Мисс Поттер\n",
       "35                        Миссис Хендерсон представляет\n",
       "36       Планета КА-ПЭКС /По мотивам романа Джин Бруэр/\n",
       "37                                     Молчи в тряпочку\n",
       "38                                            Мужики!..\n",
       "39                  Автомобиль, скрипка и собака Клякса\n",
       "40                                         Алекс и Эмма\n",
       "41                                         Алекс и Эмма\n",
       "42                                  Мой лучший любовник\n",
       "43             Мемуары гейши (по роману Артура Голдена)\n",
       "44                      Адъютант его превосходительства\n",
       "45                                       Без свидетелей\n",
       "46                                           Без солнца\n",
       "47                                       Андрей Рублев.\n",
       "48                                        Азартные игры\n",
       "49                                36, Набережная Орфевр\n",
       "Name: title, dtype: object"
      ]
     },
     "metadata": {},
     "output_type": "display_data"
    },
    {
     "data": {
      "text/plain": [
       "0     Художественный\n",
       "1     Художественный\n",
       "2     Художественный\n",
       "3     Художественный\n",
       "4     Художественный\n",
       "5     Художественный\n",
       "6     Художественный\n",
       "7     Художественный\n",
       "8     Художественный\n",
       "9     Художественный\n",
       "10    Художественный\n",
       "11    Художественный\n",
       "12    Художественный\n",
       "13    Художественный\n",
       "14    Художественный\n",
       "15    Художественный\n",
       "16    Художественный\n",
       "17    Художественный\n",
       "18    Художественный\n",
       "19    Художественный\n",
       "20    Художественный\n",
       "21    Художественный\n",
       "22    Художественный\n",
       "23    Художественный\n",
       "24    Художественный\n",
       "25    Художественный\n",
       "26    Художественный\n",
       "27    Художественный\n",
       "28    Художественный\n",
       "29    Художественный\n",
       "30    Художественный\n",
       "31    Художественный\n",
       "32      Анимационный\n",
       "33    Художественный\n",
       "34    Художественный\n",
       "35    Художественный\n",
       "36    Художественный\n",
       "37    Художественный\n",
       "38    Художественный\n",
       "39    Художественный\n",
       "40    Художественный\n",
       "41    Художественный\n",
       "42    Художественный\n",
       "43    Художественный\n",
       "44    Художественный\n",
       "45    Художественный\n",
       "46    Художественный\n",
       "47    Художественный\n",
       "48    Художественный\n",
       "49    Художественный\n",
       "Name: type, dtype: object"
      ]
     },
     "metadata": {},
     "output_type": "display_data"
    },
    {
     "data": {
      "text/plain": [
       "0     Тачстоун Пикчерз, Кобальт Пикчерз, Бикон Пикче...\n",
       "1                                 Киностудия \"Мосфильм\"\n",
       "2     Юниверсал Пикчерз, Кикстарт Продакшнз, Марк Пл...\n",
       "3     Юниверсал Пикчерз, Кикстарт Продакшнз, Марк Пл...\n",
       "4     Юниверсал Пикчерз, Кикстарт Продакшнз, Марк Пл...\n",
       "5                                 Киностудия \"Мосфильм\"\n",
       "6                                 Киностудия \"Мосфильм\"\n",
       "7     Юнайтед Артистс, Грин Стрит Филмз, Айкон Интер...\n",
       "8                        Пульсар Продюксьон, ТФ1 Фильм \n",
       "9                Киностудия \"Мосфильм\", Телевидение ВНР\n",
       "10    Кеннеди/Маршал Компани, Юниверсал Пикчерз, Гип...\n",
       "11                                Киностудия \"Мосфильм\"\n",
       "12    Уорнер Бразерс, Лейкшор Интертейнмент, Малпасо...\n",
       "13    Потбойлер Продакшнз, Эпсилон Моушн Пикчерз, Ск...\n",
       "14    Кэтлей, Отель Продакшнс, Мунстоун Интертейнмен...\n",
       "15                                Киностудия \"Мосфильм\"\n",
       "16                                Киностудия \"Мосфильм\"\n",
       "17                                Киностудия \"Мосфильм\"\n",
       "18                                Киностудия \"Мосфильм\"\n",
       "19                                Киностудия \"Мосфильм\"\n",
       "20                                Киностудия \"Мосфильм\"\n",
       "21    Инишиэл Интертейнмент Групп, Мирамакс Филмз, П...\n",
       "22                                Киностудия \"Мосфильм\"\n",
       "23                                Киностудия \"Мосфильм\"\n",
       "24                                Киностудия \"Мосфильм\"\n",
       "25                            Фильмове Студио Баррандов\n",
       "26    Вэ И Пэ Медиенфондс 3, Асендант Пикчерз, Сатур...\n",
       "27                                Киностудия \"Мосфильм\"\n",
       "28              Лайв Сток Филмз, Нью Зиланд Филм Комишн\n",
       "29                                Киностудия \"Мосфильм\"\n",
       "30                                Киностудия \"Мосфильм\"\n",
       "31                                Киностудия \"Мосфильм\"\n",
       "32    Синегруп, Анимакидс-Франс 2 Синема/Кастелао Пр...\n",
       "33    Уорнер Бразерс, Нью Лайн Синема, Касл Рок Инте...\n",
       "34    Феникс Пикчерз, Дэвид Киршнер Продакшнз, Айл о...\n",
       "35    БиБиСи Филмз, Фьючер Филмз, Хейман-Хоскинс Про...\n",
       "36    Интермедиа Филмз, Юниверсал Пикчерз, Лоуренс Г...\n",
       "37    Саммит Интертейнмент, Айл оф Мэн Филм, Эйзур Ф...\n",
       "38                                Киностудия \"Мосфильм\"\n",
       "39                                Киностудия \"Мосфильм\"\n",
       "40    Эскейп Артистс, Франчайз Пикчерз, Рейнер-Грэйс...\n",
       "41    Эскейп Артистс, Франчайз Пикчерз, Рейнер-Грэйс...\n",
       "42    Прайм Филм Продакшнс ЛЛСи, Стратус Филм Ко., Т...\n",
       "43    Коламбия Пикчерз Корпорейшн, ДримУоркс ЭсКейДж...\n",
       "44                                Киностудия \"Мосфильм\"\n",
       "45                                Киностудия \"Мосфильм\"\n",
       "46                                Киностудия \"Мосфильм\"\n",
       "47                                Киностудия \"Мосфильм\"\n",
       "48                              Мирамакс, Дименшн Филмс\n",
       "49                            ЭлДжиЭм Продюксьон, Гомон\n",
       "Name: film_studio, dtype: object"
      ]
     },
     "metadata": {},
     "output_type": "display_data"
    },
    {
     "data": {
      "text/plain": [
       "0                            США\n",
       "1                           СССР\n",
       "2                            США\n",
       "3                            США\n",
       "4                            США\n",
       "5                           СССР\n",
       "6                           СССР\n",
       "7                            США\n",
       "8                        Франция\n",
       "9                  СССР, Венгрия\n",
       "10                           США\n",
       "11                          СССР\n",
       "12                           США\n",
       "13       Германия-Великобритания\n",
       "14       Великобритания - Италия\n",
       "15                          СССР\n",
       "16                          СССР\n",
       "17                          СССР\n",
       "18                          СССР\n",
       "19                          СССР\n",
       "20                          СССР\n",
       "21                           США\n",
       "22                          СССР\n",
       "23                          СССР\n",
       "24                          СССР\n",
       "25                  Чехословакия\n",
       "26        США - Франция - Турция\n",
       "27                          СССР\n",
       "28                Новая Зеландия\n",
       "29                          СССР\n",
       "30                          СССР\n",
       "31                          СССР\n",
       "32    Канада - Франция - Испания\n",
       "33                  США-Германия\n",
       "34          США - Великобритания\n",
       "35                Великобритания\n",
       "36                США - Германия\n",
       "37                Великобритания\n",
       "38                          СССР\n",
       "39                          СССР\n",
       "40                           США\n",
       "41                           США\n",
       "42                           США\n",
       "43                           США\n",
       "44                          СССР\n",
       "45                          СССР\n",
       "46                          СССР\n",
       "47                          СССР\n",
       "48                           США\n",
       "49                       Франция\n",
       "Name: production_country, dtype: object"
      ]
     },
     "metadata": {},
     "output_type": "display_data"
    },
    {
     "data": {
      "text/plain": [
       "0                 Кевин Костнер\n",
       "1                     Е.Матвеев\n",
       "2             Тимур Бекмамбетов\n",
       "3             Тимур Бекмамбетов\n",
       "4             Тимур Бекмамбетов\n",
       "5                  В.Абдрашитов\n",
       "6                     В.Меньшов\n",
       "7                 Джон Туртурро\n",
       "8                  Эрик Беснард\n",
       "9                       В.Титов\n",
       "10                Пол Грингросс\n",
       "11                М.Туманишвили\n",
       "12                 Клинт Иствуд\n",
       "13          Фернанду Мейрелльеш\n",
       "14                  Майк Фиггис\n",
       "15                   А.Салтыков\n",
       "16                    Г.Данелия\n",
       "17                    А.Смирнов\n",
       "18                    Ю.Чулюкин\n",
       "19    В.Краснопольский, В.Усков\n",
       "20                   М.Чиаурели\n",
       "21              Лассе Халлстрем\n",
       "22                     Л.Гайдай\n",
       "23                  В.Чеботарев\n",
       "24                     В.Азаров\n",
       "25                Боривой Земан\n",
       "26                 Эндрю Никкол\n",
       "27                  Г.Мыльников\n",
       "28                Джонатан Кинг\n",
       "29                 В.Абдрашитов\n",
       "30                      И.Бабич\n",
       "31                 В.Абдрашитов\n",
       "32               Даниэль Робишо\n",
       "33               Грегори Хоблит\n",
       "34                   Крис Нунан\n",
       "35                 Стивен Фрирз\n",
       "36                   Йэн Софтли\n",
       "37                 Найл Джонсон\n",
       "38                      И.Бабич\n",
       "39                      Р.Быков\n",
       "40                   Роб Райнер\n",
       "41                   Роб Райнер\n",
       "42                    Бен Янгер\n",
       "43                  Роб Маршалл\n",
       "44                     Е.Ташков\n",
       "45                   Н.Михалков\n",
       "46                    Ю.Карасик\n",
       "47                 А.Тарковский\n",
       "48           Джон Франкенхаймер\n",
       "49                Оливье Маршал\n",
       "Name: director, dtype: object"
      ]
     },
     "metadata": {},
     "output_type": "display_data"
    },
    {
     "data": {
      "text/plain": [
       "0             Дэвид Валдес, Кевин Костнер, Джейк Эбертс\n",
       "1                                            неизвестно\n",
       "2     Джим Лемли, Джейсон Нетер, Марк Е.Платт, Яйн Смит\n",
       "3     Джим Лемли, Джейсон Нетер, Марк Е.Платт, Яйн Смит\n",
       "4     Джим Лемли, Джейсон Нетер, Марк Е.Платт, Яйн Смит\n",
       "5                                            неизвестно\n",
       "6                                            неизвестно\n",
       "7                           Джон Пенотти, Джон Туртурро\n",
       "8                                           Патрис Леду\n",
       "9                                            неизвестно\n",
       "10           Патрик Кроули, Фрэнк Маршалл, Пол Сэндберг\n",
       "11                                           неизвестно\n",
       "12    Клинт Иствуд, Том Розенберг, Альберт С.Рудди, ...\n",
       "13                               Саймон Чэннинг Уильямс\n",
       "14                  Этчи Стро, Анни Стюарт, Майк Фиггис\n",
       "15                                           неизвестно\n",
       "16                                           неизвестно\n",
       "17                                           неизвестно\n",
       "18                                           неизвестно\n",
       "19                                           неизвестно\n",
       "20                                           неизвестно\n",
       "21    Лесли Холлеран, Алан Лэдд мл., Келлиан Лэдд, Х...\n",
       "22                                           неизвестно\n",
       "23                                           неизвестно\n",
       "24                                           неизвестно\n",
       "25                                           неизвестно\n",
       "26    Норман Голуайтли, Энди Грош, Николас Кейдж, Эн...\n",
       "27                                           неизвестно\n",
       "28                                     Филиппа Кемпбелл\n",
       "29                                           неизвестно\n",
       "30                                           неизвестно\n",
       "31                                           неизвестно\n",
       "32                                           Луис Дюкью\n",
       "33                                      Чарльз Уэйнсток\n",
       "34    Дэвид Киршнер, Майк Медэвой, Арнольд Мессер, К...\n",
       "35                            Норма Хейман, Боб Хоскинс\n",
       "36       Лоуренс Гордон, Роберт Коулсберри, Ллойд Левин\n",
       "37                              Мэтью Пэйн, Джулия Пэло\n",
       "38                                           неизвестно\n",
       "39                                           неизвестно\n",
       "40    Тодд Блэк, Элан Грейсман, Джереми Левен, Роб Р...\n",
       "41    Тодд Блэк, Элан Грейсман, Джереми Левен, Роб Р...\n",
       "42    Дженнифер Тодд, Сюзанн Тодд, Брэдли Дженкел, Э...\n",
       "43    Стивен Спилберг, Люси Фишер, Дуглас Уик, Джон ...\n",
       "44                                           неизвестно\n",
       "45                                           неизвестно\n",
       "46                                           неизвестно\n",
       "47                                           неизвестно\n",
       "48                                           неизвестно\n",
       "49    Франк Шоро, Сирил Кольбьё-Жюстен, Жан-Баптист ...\n",
       "Name: producer, dtype: object"
      ]
     },
     "metadata": {},
     "output_type": "display_data"
    },
    {
     "data": {
      "text/plain": [
       "0                «18+» - запрещено для детей\n",
       "1              «6+» - для детей старше 6 лет\n",
       "2                «18+» - запрещено для детей\n",
       "3                «18+» - запрещено для детей\n",
       "4                «18+» - запрещено для детей\n",
       "5              «6+» - для детей старше 6 лет\n",
       "6            «12+» - для детей старше 12 лет\n",
       "7                «18+» - запрещено для детей\n",
       "8                «18+» - запрещено для детей\n",
       "9            «12+» - для детей старше 12 лет\n",
       "10           «16+» - для детей старше 16 лет\n",
       "11           «12+» - для детей старше 12 лет\n",
       "12           «16+» - для детей старше 16 лет\n",
       "13           «16+» - для детей старше 16 лет\n",
       "14               «18+» - запрещено для детей\n",
       "15           «12+» - для детей старше 12 лет\n",
       "16           «12+» - для детей старше 12 лет\n",
       "17           «12+» - для детей старше 12 лет\n",
       "18             «6+» - для детей старше 6 лет\n",
       "19             «6+» - для детей старше 6 лет\n",
       "20           «12+» - для детей старше 12 лет\n",
       "21           «12+» - для детей старше 12 лет\n",
       "22             «6+» - для детей старше 6 лет\n",
       "23           «12+» - для детей старше 12 лет\n",
       "24             «6+» - для детей старше 6 лет\n",
       "25           «12+» - для детей старше 12 лет\n",
       "26               «18+» - запрещено для детей\n",
       "27             «6+» - для детей старше 6 лет\n",
       "28               «18+» - запрещено для детей\n",
       "29           «16+» - для детей старше 16 лет\n",
       "30           «12+» - для детей старше 12 лет\n",
       "31           «12+» - для детей старше 12 лет\n",
       "32    «0+» - для любой зрительской аудитории\n",
       "33               «18+» - запрещено для детей\n",
       "34           «12+» - для детей старше 12 лет\n",
       "35           «16+» - для детей старше 16 лет\n",
       "36           «12+» - для детей старше 12 лет\n",
       "37               «18+» - запрещено для детей\n",
       "38             «6+» - для детей старше 6 лет\n",
       "39    «0+» - для любой зрительской аудитории\n",
       "40           «16+» - для детей старше 16 лет\n",
       "41           «16+» - для детей старше 16 лет\n",
       "42           «12+» - для детей старше 12 лет\n",
       "43           «12+» - для детей старше 12 лет\n",
       "44             «6+» - для детей старше 6 лет\n",
       "45           «12+» - для детей старше 12 лет\n",
       "46           «12+» - для детей старше 12 лет\n",
       "47           «12+» - для детей старше 12 лет\n",
       "48           «16+» - для детей старше 16 лет\n",
       "49           «16+» - для детей старше 16 лет\n",
       "Name: age_restriction, dtype: object"
      ]
     },
     "metadata": {},
     "output_type": "display_data"
    },
    {
     "data": {
      "text/plain": [
       "0     NaN\n",
       "1     NaN\n",
       "2     NaN\n",
       "3     NaN\n",
       "4     NaN\n",
       "5     NaN\n",
       "6     NaN\n",
       "7     NaN\n",
       "8     NaN\n",
       "9     NaN\n",
       "10    NaN\n",
       "11    NaN\n",
       "12    NaN\n",
       "13    NaN\n",
       "14    NaN\n",
       "15    NaN\n",
       "16    NaN\n",
       "17    NaN\n",
       "18    NaN\n",
       "19    NaN\n",
       "20    NaN\n",
       "21    NaN\n",
       "22    NaN\n",
       "23    NaN\n",
       "24    NaN\n",
       "25    NaN\n",
       "26    NaN\n",
       "27    NaN\n",
       "28    NaN\n",
       "29    NaN\n",
       "30    NaN\n",
       "31    NaN\n",
       "32    NaN\n",
       "33    NaN\n",
       "34    NaN\n",
       "35    NaN\n",
       "36    NaN\n",
       "37    NaN\n",
       "38    NaN\n",
       "39    NaN\n",
       "40    NaN\n",
       "41    NaN\n",
       "42    NaN\n",
       "43    NaN\n",
       "44    NaN\n",
       "45    NaN\n",
       "46    NaN\n",
       "47    NaN\n",
       "48    NaN\n",
       "49    NaN\n",
       "Name: financing_source, dtype: object"
      ]
     },
     "metadata": {},
     "output_type": "display_data"
    },
    {
     "data": {
      "text/plain": [
       "0     7.2\n",
       "1     6.6\n",
       "2     6.8\n",
       "3     6.8\n",
       "4     6.8\n",
       "5     7.7\n",
       "6     8.3\n",
       "7     6.6\n",
       "8     8.0\n",
       "9     7.8\n",
       "10    7.7\n",
       "11    7.8\n",
       "12    8.1\n",
       "13    7.1\n",
       "14    6.0\n",
       "15    8.3\n",
       "16    8.0\n",
       "17    7.4\n",
       "18    8.0\n",
       "19    7.7\n",
       "20    5.8\n",
       "21    7.2\n",
       "22    8.7\n",
       "23    6.3\n",
       "24    7.7\n",
       "25    7.7\n",
       "26    7.7\n",
       "27    6.9\n",
       "28    5.0\n",
       "29    6.9\n",
       "30    7.4\n",
       "31    7.1\n",
       "32    4.3\n",
       "33    7.7\n",
       "34    7.3\n",
       "35    7.0\n",
       "36    8.0\n",
       "37    7.1\n",
       "38    8.1\n",
       "39    7.2\n",
       "40    6.4\n",
       "41    6.4\n",
       "42    6.8\n",
       "43    NaN\n",
       "44    8.2\n",
       "45    7.1\n",
       "46    7.4\n",
       "47    8.2\n",
       "48    7.0\n",
       "49    7.5\n",
       "Name: ratings, dtype: float64"
      ]
     },
     "metadata": {},
     "output_type": "display_data"
    },
    {
     "data": {
      "text/plain": [
       "0                   боевик,драма,мелодрама\n",
       "1                            драма,военный\n",
       "2                фантастика,боевик,триллер\n",
       "3                фантастика,боевик,триллер\n",
       "4                фантастика,боевик,триллер\n",
       "5                                    драма\n",
       "6                        мелодрама,комедия\n",
       "7                 мюзикл,мелодрама,комедия\n",
       "8                         комедия,криминал\n",
       "9                        мелодрама,комедия\n",
       "10                 боевик,триллер,детектив\n",
       "11                боевик,драма,приключения\n",
       "12                             драма,спорт\n",
       "13                 триллер,драма,мелодрама\n",
       "14                       комедия,мелодрама\n",
       "15                                   драма\n",
       "16                 драма,мелодрама,комедия\n",
       "17                         драма,мелодрама\n",
       "18                       мелодрама,комедия\n",
       "19                                   драма\n",
       "20                           драма,история\n",
       "21                драма,мелодрама,семейный\n",
       "22              комедия,мелодрама,криминал\n",
       "23                           драма,военный\n",
       "24                                 комедия\n",
       "25                                 комедия\n",
       "26                   боевик,драма,криминал\n",
       "27                           драма,комедия\n",
       "28                ужасы,фантастика,комедия\n",
       "29                                   драма\n",
       "30    мультфильм,короткометражка,мелодрама\n",
       "31                          драма,криминал\n",
       "32           мультфильм,фантастика,фэнтези\n",
       "33                  триллер,драма,криминал\n",
       "34               драма,мелодрама,биография\n",
       "35                   драма,комедия,военный\n",
       "36               фантастика,драма,детектив\n",
       "37                        комедия,криминал\n",
       "38                                   драма\n",
       "39                         мюзикл,семейный\n",
       "40                       мелодрама,комедия\n",
       "41                       мелодрама,комедия\n",
       "42                 драма,мелодрама,комедия\n",
       "43                              неизвестно\n",
       "44               военный,приключения,драма\n",
       "45                                   драма\n",
       "46                    документальный,драма\n",
       "47                 драма,биография,история\n",
       "48                    боевик,триллер,драма\n",
       "49                    боевик,триллер,драма\n",
       "Name: genres, dtype: object"
      ]
     },
     "metadata": {},
     "output_type": "display_data"
    },
    {
     "data": {
      "text/plain": [
       "0     True\n",
       "1     True\n",
       "2     True\n",
       "3     True\n",
       "4     True\n",
       "5     True\n",
       "6     True\n",
       "7     True\n",
       "8     True\n",
       "9     True\n",
       "10    True\n",
       "11    True\n",
       "12    True\n",
       "13    True\n",
       "14    True\n",
       "15    True\n",
       "16    True\n",
       "17    True\n",
       "18    True\n",
       "19    True\n",
       "20    True\n",
       "21    True\n",
       "22    True\n",
       "23    True\n",
       "24    True\n",
       "25    True\n",
       "26    True\n",
       "27    True\n",
       "28    True\n",
       "29    True\n",
       "30    True\n",
       "31    True\n",
       "32    True\n",
       "33    True\n",
       "34    True\n",
       "35    True\n",
       "36    True\n",
       "37    True\n",
       "38    True\n",
       "39    True\n",
       "40    True\n",
       "41    True\n",
       "42    True\n",
       "43    True\n",
       "44    True\n",
       "45    True\n",
       "46    True\n",
       "47    True\n",
       "48    True\n",
       "49    True\n",
       "Name: puNumber_int, dtype: bool"
      ]
     },
     "metadata": {},
     "output_type": "display_data"
    },
    {
     "data": {
      "text/plain": [
       "0         NaN\n",
       "1         NaN\n",
       "2         NaN\n",
       "3         NaN\n",
       "4         NaN\n",
       "5         NaN\n",
       "6      2700.0\n",
       "7         NaN\n",
       "8         NaN\n",
       "9         NaN\n",
       "10        NaN\n",
       "11        NaN\n",
       "12        NaN\n",
       "13        NaN\n",
       "14        NaN\n",
       "15        NaN\n",
       "16        NaN\n",
       "17        NaN\n",
       "18      360.0\n",
       "19      420.0\n",
       "20        NaN\n",
       "21        NaN\n",
       "22      380.0\n",
       "23        NaN\n",
       "24        NaN\n",
       "25        NaN\n",
       "26        NaN\n",
       "27        NaN\n",
       "28        NaN\n",
       "29        NaN\n",
       "30        NaN\n",
       "31        NaN\n",
       "32        NaN\n",
       "33        NaN\n",
       "34        NaN\n",
       "35        NaN\n",
       "36        NaN\n",
       "37        NaN\n",
       "38     1165.0\n",
       "39        NaN\n",
       "40        NaN\n",
       "41        NaN\n",
       "42        NaN\n",
       "43        NaN\n",
       "44        NaN\n",
       "45        NaN\n",
       "46        NaN\n",
       "47    22660.0\n",
       "48        NaN\n",
       "49        NaN\n",
       "Name: box_office, dtype: float64"
      ]
     },
     "metadata": {},
     "output_type": "display_data"
    }
   ],
   "source": [
    "display(data['title'].head(50))\n",
    "display(data['type'].head(50)) \n",
    "display(data['film_studio'].head(50)) \n",
    "display(data['production_country'].head(50))\n",
    "display(data['director'].head(50))\n",
    "display(data['producer'].head(50))\n",
    "display(data['age_restriction'].head(50))\n",
    "display(data['financing_source'].head(50)) \n",
    "display(data['ratings'].head(50))\n",
    "display(data['genres'].head(50))\n",
    "display(data['puNumber_int'].head(50))\n",
    "display(data['box_office'].head(50))\n",
    "\n",
    "# удалим пробелы в троках type\n",
    "# также в production_country приведем данные в строках к единому виду "
   ]
  },
  {
   "cell_type": "code",
   "execution_count": 19,
   "metadata": {},
   "outputs": [],
   "source": [
    "# Удалим из столбца type лишние пробелы, которые встречаются в начале и в конце строки:\n",
    "data['type'] = data['type'].str.strip()\n",
    "\n",
    "# Удалим также и из столбца production_country лишние пробелы, которые встречаются внутри строки:\n",
    "data['production_country'] = data['production_country'].replace(' ','', regex=True)\n",
    "\n",
    "# Заменим еще в столбце production_country дефис на запятую в целях единообразия разделителей:\n",
    "data['production_country'] = data['production_country'].replace('-',',', regex=True)"
   ]
  },
  {
   "cell_type": "markdown",
   "metadata": {},
   "source": [
    "Вывод\n",
    "Во столбце жанры значения разделены запятыми без пробелов, для стран в качестве разделителя \"-\"\n",
    "\n",
    "В столбце `type` были лишние пробелы, исправили это и привели к единому образцу страны. Почти во всех категориальных переменных есть повторяющиеся значения в совокупности с другими. Например: \"драма,триллер\", \"драма,военный\". Это не можем исправить"
   ]
  },
  {
   "cell_type": "markdown",
   "metadata": {},
   "source": [
    "<div class=\"alert alert-block alert-danger\">\n",
    "<h2> Комментарий ревьюера 🤔<a class=\"tocSkip\"></h2><s>\n",
    "В частности, в проекте нас просят \"Посмотрите, какая общая проблема встречается почти во всех категориальных столбцах\". \n",
    "    \n",
    "Почему мы называем столбцы категориальными? Потому что хотим по ним формировать категории, группировать данные и сравнивать в разрезе этих категорий. Но можем ли мы так сделать в нашем случае?\n",
    "</div>"
   ]
  },
  {
   "cell_type": "markdown",
   "metadata": {},
   "source": [
    "Исправила"
   ]
  },
  {
   "cell_type": "markdown",
   "metadata": {
    "id": "XFSN5lrEgFyR"
   },
   "source": [
    "#### Шаг 2.5. Проверьте количественные значения\n",
    "\n",
    "- Проверьте, обнаружились ли в таких столбцах подозрительные данные. Как с такими данными лучше поступить?\n",
    "\n",
    "<div id=\"accordion\">\n",
    "    <div class=\"card\">\n",
    "        <div class=\"card-header\" id=\"headingThree\">\n",
    "            <button class=\"btn btn-link collapsed\" data-toggle=\"collapse\" data-target=\"#collapseHint_budget\" aria-expanded=\"false\" aria-controls=\"collapseHint_budget\">Подсказка</button>\n",
    "        </div>\n",
    "        <div id=\"collapseHint_budget\" class=\"collapse\" aria-labelledby=\"headingThree\" data-parent=\"#accordion\">\n",
    "            <div class=\"card-body\">\n",
    "Обратите внимание на описание столбца <code>budget</code>. Как этот столбец соотносится с двумя другими: <code>refundable_support</code> и <code>nonrefundable_support</code>?\n",
    "            </div>\n",
    "        </div>\n",
    "    </div>\n",
    "</div>"
   ]
  },
  {
   "cell_type": "code",
   "execution_count": 20,
   "metadata": {
    "id": "YbzClBxagFyS"
   },
   "outputs": [
    {
     "data": {
      "text/plain": [
       "0   NaN\n",
       "1   NaN\n",
       "2   NaN\n",
       "3   NaN\n",
       "4   NaN\n",
       "Name: refundable_support, dtype: float64"
      ]
     },
     "metadata": {},
     "output_type": "display_data"
    },
    {
     "data": {
      "text/plain": [
       "0   NaN\n",
       "1   NaN\n",
       "2   NaN\n",
       "3   NaN\n",
       "4   NaN\n",
       "Name: nonrefundable_support, dtype: float64"
      ]
     },
     "metadata": {},
     "output_type": "display_data"
    },
    {
     "data": {
      "text/plain": [
       "7455    160000000.0\n",
       "7456            NaN\n",
       "7457            NaN\n",
       "7458            NaN\n",
       "7459            NaN\n",
       "7460            NaN\n",
       "7461            NaN\n",
       "7462            NaN\n",
       "7463    980000000.0\n",
       "7464            NaN\n",
       "7465    190000000.0\n",
       "7466            NaN\n",
       "7467            NaN\n",
       "7468            NaN\n",
       "7469            NaN\n",
       "7470            NaN\n",
       "7471            NaN\n",
       "7472            NaN\n",
       "7473    944000000.0\n",
       "7474            NaN\n",
       "7475     46154000.0\n",
       "7476            NaN\n",
       "7477    150147502.0\n",
       "7478            NaN\n",
       "7479            NaN\n",
       "7480            NaN\n",
       "7481            NaN\n",
       "7482            NaN\n",
       "7483            NaN\n",
       "7484            NaN\n",
       "Name: budget, dtype: float64"
      ]
     },
     "metadata": {},
     "output_type": "display_data"
    },
    {
     "data": {
      "text/plain": [
       "0    7.2\n",
       "1    6.6\n",
       "2    6.8\n",
       "3    6.8\n",
       "4    6.8\n",
       "Name: ratings, dtype: float64"
      ]
     },
     "metadata": {},
     "output_type": "display_data"
    },
    {
     "data": {
      "text/plain": [
       "0         NaN\n",
       "1         NaN\n",
       "2         NaN\n",
       "3         NaN\n",
       "4         NaN\n",
       "5         NaN\n",
       "6      2700.0\n",
       "7         NaN\n",
       "8         NaN\n",
       "9         NaN\n",
       "10        NaN\n",
       "11        NaN\n",
       "12        NaN\n",
       "13        NaN\n",
       "14        NaN\n",
       "15        NaN\n",
       "16        NaN\n",
       "17        NaN\n",
       "18      360.0\n",
       "19      420.0\n",
       "20        NaN\n",
       "21        NaN\n",
       "22      380.0\n",
       "23        NaN\n",
       "24        NaN\n",
       "25        NaN\n",
       "26        NaN\n",
       "27        NaN\n",
       "28        NaN\n",
       "29        NaN\n",
       "30        NaN\n",
       "31        NaN\n",
       "32        NaN\n",
       "33        NaN\n",
       "34        NaN\n",
       "35        NaN\n",
       "36        NaN\n",
       "37        NaN\n",
       "38     1165.0\n",
       "39        NaN\n",
       "40        NaN\n",
       "41        NaN\n",
       "42        NaN\n",
       "43        NaN\n",
       "44        NaN\n",
       "45        NaN\n",
       "46        NaN\n",
       "47    22660.0\n",
       "48        NaN\n",
       "49        NaN\n",
       "Name: box_office, dtype: float64"
      ]
     },
     "metadata": {},
     "output_type": "display_data"
    }
   ],
   "source": [
    "display(data['refundable_support'].head())\n",
    "display(data['nonrefundable_support'].head()) \n",
    "display(data['budget'].tail(30)) \n",
    "display(data['ratings'].head())\n",
    "display(data['box_office'].head(50))"
   ]
  },
  {
   "cell_type": "code",
   "execution_count": 21,
   "metadata": {},
   "outputs": [
    {
     "data": {
      "text/html": [
       "<div>\n",
       "<style scoped>\n",
       "    .dataframe tbody tr th:only-of-type {\n",
       "        vertical-align: middle;\n",
       "    }\n",
       "\n",
       "    .dataframe tbody tr th {\n",
       "        vertical-align: top;\n",
       "    }\n",
       "\n",
       "    .dataframe thead th {\n",
       "        text-align: right;\n",
       "    }\n",
       "</style>\n",
       "<table border=\"1\" class=\"dataframe\">\n",
       "  <thead>\n",
       "    <tr style=\"text-align: right;\">\n",
       "      <th></th>\n",
       "      <th>pu_number</th>\n",
       "      <th>refundable_support</th>\n",
       "      <th>nonrefundable_support</th>\n",
       "      <th>budget</th>\n",
       "      <th>ratings</th>\n",
       "      <th>box_office</th>\n",
       "    </tr>\n",
       "  </thead>\n",
       "  <tbody>\n",
       "    <tr>\n",
       "      <th>count</th>\n",
       "      <td>7.485000e+03</td>\n",
       "      <td>3.320000e+02</td>\n",
       "      <td>3.320000e+02</td>\n",
       "      <td>3.320000e+02</td>\n",
       "      <td>6490.000000</td>\n",
       "      <td>3.158000e+03</td>\n",
       "    </tr>\n",
       "    <tr>\n",
       "      <th>mean</th>\n",
       "      <td>1.351642e+08</td>\n",
       "      <td>1.186446e+07</td>\n",
       "      <td>4.898099e+07</td>\n",
       "      <td>1.272297e+08</td>\n",
       "      <td>6.479245</td>\n",
       "      <td>7.647870e+07</td>\n",
       "    </tr>\n",
       "    <tr>\n",
       "      <th>std</th>\n",
       "      <td>3.833150e+07</td>\n",
       "      <td>2.491656e+07</td>\n",
       "      <td>5.998012e+07</td>\n",
       "      <td>1.885883e+08</td>\n",
       "      <td>1.101665</td>\n",
       "      <td>2.403531e+08</td>\n",
       "    </tr>\n",
       "    <tr>\n",
       "      <th>min</th>\n",
       "      <td>1.811096e+06</td>\n",
       "      <td>0.000000e+00</td>\n",
       "      <td>0.000000e+00</td>\n",
       "      <td>0.000000e+00</td>\n",
       "      <td>1.000000</td>\n",
       "      <td>0.000000e+00</td>\n",
       "    </tr>\n",
       "    <tr>\n",
       "      <th>25%</th>\n",
       "      <td>1.120249e+08</td>\n",
       "      <td>0.000000e+00</td>\n",
       "      <td>2.500000e+07</td>\n",
       "      <td>4.200000e+07</td>\n",
       "      <td>5.900000</td>\n",
       "      <td>8.623900e+04</td>\n",
       "    </tr>\n",
       "    <tr>\n",
       "      <th>50%</th>\n",
       "      <td>1.210154e+08</td>\n",
       "      <td>0.000000e+00</td>\n",
       "      <td>3.000000e+07</td>\n",
       "      <td>6.864992e+07</td>\n",
       "      <td>6.600000</td>\n",
       "      <td>2.327988e+06</td>\n",
       "    </tr>\n",
       "    <tr>\n",
       "      <th>75%</th>\n",
       "      <td>1.240033e+08</td>\n",
       "      <td>1.500000e+07</td>\n",
       "      <td>4.037500e+07</td>\n",
       "      <td>1.419853e+08</td>\n",
       "      <td>7.200000</td>\n",
       "      <td>2.397967e+07</td>\n",
       "    </tr>\n",
       "    <tr>\n",
       "      <th>max</th>\n",
       "      <td>2.310011e+08</td>\n",
       "      <td>1.800000e+08</td>\n",
       "      <td>4.000000e+08</td>\n",
       "      <td>2.305074e+09</td>\n",
       "      <td>9.200000</td>\n",
       "      <td>3.073569e+09</td>\n",
       "    </tr>\n",
       "  </tbody>\n",
       "</table>\n",
       "</div>"
      ],
      "text/plain": [
       "          pu_number  refundable_support  nonrefundable_support        budget  \\\n",
       "count  7.485000e+03        3.320000e+02           3.320000e+02  3.320000e+02   \n",
       "mean   1.351642e+08        1.186446e+07           4.898099e+07  1.272297e+08   \n",
       "std    3.833150e+07        2.491656e+07           5.998012e+07  1.885883e+08   \n",
       "min    1.811096e+06        0.000000e+00           0.000000e+00  0.000000e+00   \n",
       "25%    1.120249e+08        0.000000e+00           2.500000e+07  4.200000e+07   \n",
       "50%    1.210154e+08        0.000000e+00           3.000000e+07  6.864992e+07   \n",
       "75%    1.240033e+08        1.500000e+07           4.037500e+07  1.419853e+08   \n",
       "max    2.310011e+08        1.800000e+08           4.000000e+08  2.305074e+09   \n",
       "\n",
       "           ratings    box_office  \n",
       "count  6490.000000  3.158000e+03  \n",
       "mean      6.479245  7.647870e+07  \n",
       "std       1.101665  2.403531e+08  \n",
       "min       1.000000  0.000000e+00  \n",
       "25%       5.900000  8.623900e+04  \n",
       "50%       6.600000  2.327988e+06  \n",
       "75%       7.200000  2.397967e+07  \n",
       "max       9.200000  3.073569e+09  "
      ]
     },
     "execution_count": 21,
     "metadata": {},
     "output_type": "execute_result"
    }
   ],
   "source": [
    "data.describe()"
   ]
  },
  {
   "cell_type": "code",
   "execution_count": 22,
   "metadata": {},
   "outputs": [
    {
     "data": {
      "text/plain": [
       "16"
      ]
     },
     "execution_count": 22,
     "metadata": {},
     "output_type": "execute_result"
    }
   ],
   "source": [
    "# Посчитаем количество фильмов, в которых бюджет составляет 0 руб, несмотря на наличие nonrefundable_support:\n",
    "data[(data['nonrefundable_support'] != 0)&(data['budget']==0)]['title'].count()"
   ]
  },
  {
   "cell_type": "code",
   "execution_count": 23,
   "metadata": {},
   "outputs": [
    {
     "data": {
      "text/plain": [
       "0"
      ]
     },
     "execution_count": 23,
     "metadata": {},
     "output_type": "execute_result"
    }
   ],
   "source": [
    "# Удалим эти 16 записей и проверим результат:\n",
    "data = data[(data['nonrefundable_support'] != 0)&(data['budget']!=0)]\n",
    "data[(data['nonrefundable_support'] != 0)&(data['budget']==0)]['title'].count()"
   ]
  },
  {
   "cell_type": "code",
   "execution_count": 24,
   "metadata": {},
   "outputs": [
    {
     "data": {
      "text/plain": [
       "0"
      ]
     },
     "execution_count": 24,
     "metadata": {},
     "output_type": "execute_result"
    }
   ],
   "source": [
    "# Проверим - остались ли фильмы, в которых объем невозвратных средств составляет 0 руб:\n",
    "data.loc[data['nonrefundable_support'] == 0]['title'].count()"
   ]
  },
  {
   "cell_type": "code",
   "execution_count": 25,
   "metadata": {},
   "outputs": [
    {
     "data": {
      "text/plain": [
       "231"
      ]
     },
     "execution_count": 25,
     "metadata": {},
     "output_type": "execute_result"
    }
   ],
   "source": [
    "# Посчитаем количество фильмов, в которых кассовые сборы составляет менее 1000 руб:\n",
    "data[data['box_office'] < 1000] ['title'].count()"
   ]
  },
  {
   "cell_type": "markdown",
   "metadata": {},
   "source": [
    "Количественные значения содержатся в следующих столбцах:\n",
    "\n",
    "budget. Бюджет фильма указан только в случае, если была получена гос.поддержка. Это нормально и может объясняется невозможностью получить данные о бюджете фильмов, которые были сняты без господдержки. Однако вызывают сомнение данные, в которых бюджет составляет 0 руб, несмотря на наличие nonrefundable_support - количество таких фильмов 16. Вероятно, что просто забыли указать реальный бюджет фильма. Удалим эти значения.\n",
    "refundable_support. Получение гос.поддержки не всегда означает, что будет возвращена какая-то часть средств (т.е. объем возвратных средств гос.поддержки во многих случает составляет 0 руб). Это нормально.\n",
    "nonrefundable_support. Получение гос.поддержки всегда означает наличие какого-то объёма невозвратных средств. Поэтому выглядят подозрительными 9 фильмов с гос.поддержкой, у которых объём невозвратных средств составляет 0 руб. Скорее всего, забыли указать сумму nonrefundable_support. Эти фильмы были удалены вместе с 16 записями с нулевым бюджетом.\n",
    "ratings указан не для всех фильмов, но данные подозрения не вызывают.\n",
    "box_office (кассовые сборы) указаны только для половины фильмов. Известно, что сумма указана в руб. Выглядят подозрительными кассовые сборы c маленькими значениями Например, у 231 фильмов сборы составили менее 1000 руб. Это выглядит, нереальным. Возможная причина этого в том, что забыли приписать нули (т.е. сумма должна была быть указана в тыс руб/в млн руб), либо сумма исходная была все-таки в валюте."
   ]
  },
  {
   "cell_type": "markdown",
   "metadata": {},
   "source": [
    "<div class=\"alert alert-success\">\n",
    "<h2> Комментарий ревьюера 😊<a class=\"tocSkip\"> </h2>\n",
    "Очень хорошо, что ты делишься своими предположениями по поводу аномальных значений. Отличная работа!)\n",
    "</div>"
   ]
  },
  {
   "cell_type": "markdown",
   "metadata": {
    "id": "Eu6oWp2CgFyS"
   },
   "source": [
    "#### Шаг 2.6. Добавьте новые столбцы\n",
    "\n",
    "\n",
    "\n"
   ]
  },
  {
   "cell_type": "markdown",
   "metadata": {
    "id": "7GgW-UpAgFyS"
   },
   "source": [
    "- Создайте столбец с информацией о годе проката. Выделите год из даты премьеры фильма."
   ]
  },
  {
   "cell_type": "code",
   "execution_count": 26,
   "metadata": {
    "id": "I-yd1DkWgFyT"
   },
   "outputs": [],
   "source": [
    "#Введем новый столбец с информацией о годе проката\n",
    "data['year'] = pd.DatetimeIndex(data['show_start_date']).year"
   ]
  },
  {
   "cell_type": "markdown",
   "metadata": {
    "id": "nFTDLDYOgFyT"
   },
   "source": [
    "- Создайте два столбца: с именем и фамилией главного режиссёра и основным жанром фильма. В столбцы войдут первые значения из списка режиссёров и жанров соответственно.\n",
    "\n",
    "<div id=\"accordion\">\n",
    "    <div class=\"card\">\n",
    "        <div class=\"card-header\" id=\"headingThree\">\n",
    "            <button class=\"btn btn-link collapsed\" data-toggle=\"collapse\" data-target=\"#collapseHint_2\" aria-expanded=\"false\" aria-controls=\"collapseHint_2\">Подсказка</button>\n",
    "        </div>\n",
    "        <div id=\"collapseHint_2\" class=\"collapse\" aria-labelledby=\"headingThree\" data-parent=\"#accordion\">\n",
    "            <div class=\"card-body\">\n",
    "Чтобы создать такие столбцы, лучше всего использовать собственную функцию. Эту функцию можно применить к двум столбцам сразу. \n",
    "            </div>\n",
    "        </div>\n",
    "    </div>\n",
    "</div>"
   ]
  },
  {
   "cell_type": "code",
   "execution_count": 27,
   "metadata": {
    "id": "LSbRZKbMgFyU"
   },
   "outputs": [
    {
     "data": {
      "text/html": [
       "<div>\n",
       "<style scoped>\n",
       "    .dataframe tbody tr th:only-of-type {\n",
       "        vertical-align: middle;\n",
       "    }\n",
       "\n",
       "    .dataframe tbody tr th {\n",
       "        vertical-align: top;\n",
       "    }\n",
       "\n",
       "    .dataframe thead th {\n",
       "        text-align: right;\n",
       "    }\n",
       "</style>\n",
       "<table border=\"1\" class=\"dataframe\">\n",
       "  <thead>\n",
       "    <tr style=\"text-align: right;\">\n",
       "      <th></th>\n",
       "      <th>director</th>\n",
       "      <th>director_first</th>\n",
       "      <th>genres</th>\n",
       "      <th>genres_first</th>\n",
       "    </tr>\n",
       "  </thead>\n",
       "  <tbody>\n",
       "    <tr>\n",
       "      <th>0</th>\n",
       "      <td>Кевин Костнер</td>\n",
       "      <td>Кевин Костнер</td>\n",
       "      <td>боевик,драма,мелодрама</td>\n",
       "      <td>боевик</td>\n",
       "    </tr>\n",
       "    <tr>\n",
       "      <th>1</th>\n",
       "      <td>Е.Матвеев</td>\n",
       "      <td>Е.Матвеев</td>\n",
       "      <td>драма,военный</td>\n",
       "      <td>драма</td>\n",
       "    </tr>\n",
       "    <tr>\n",
       "      <th>2</th>\n",
       "      <td>Тимур Бекмамбетов</td>\n",
       "      <td>Тимур Бекмамбетов</td>\n",
       "      <td>фантастика,боевик,триллер</td>\n",
       "      <td>фантастика</td>\n",
       "    </tr>\n",
       "    <tr>\n",
       "      <th>3</th>\n",
       "      <td>Тимур Бекмамбетов</td>\n",
       "      <td>Тимур Бекмамбетов</td>\n",
       "      <td>фантастика,боевик,триллер</td>\n",
       "      <td>фантастика</td>\n",
       "    </tr>\n",
       "    <tr>\n",
       "      <th>4</th>\n",
       "      <td>Тимур Бекмамбетов</td>\n",
       "      <td>Тимур Бекмамбетов</td>\n",
       "      <td>фантастика,боевик,триллер</td>\n",
       "      <td>фантастика</td>\n",
       "    </tr>\n",
       "  </tbody>\n",
       "</table>\n",
       "</div>"
      ],
      "text/plain": [
       "            director     director_first                     genres  \\\n",
       "0      Кевин Костнер      Кевин Костнер     боевик,драма,мелодрама   \n",
       "1          Е.Матвеев          Е.Матвеев              драма,военный   \n",
       "2  Тимур Бекмамбетов  Тимур Бекмамбетов  фантастика,боевик,триллер   \n",
       "3  Тимур Бекмамбетов  Тимур Бекмамбетов  фантастика,боевик,триллер   \n",
       "4  Тимур Бекмамбетов  Тимур Бекмамбетов  фантастика,боевик,триллер   \n",
       "\n",
       "  genres_first  \n",
       "0       боевик  \n",
       "1        драма  \n",
       "2   фантастика  \n",
       "3   фантастика  \n",
       "4   фантастика  "
      ]
     },
     "execution_count": 27,
     "metadata": {},
     "output_type": "execute_result"
    }
   ],
   "source": [
    "# Создадим столбец с именем главного режиссера:\n",
    "df_director = data['director'].str.split(',',expand=True)\n",
    "data['director_first'] = df_director[0]\n",
    "\n",
    "# Создадим столбец с именем главного режиссера:\n",
    "df_genres = data['genres'].str.split(',',expand=True)\n",
    "data['genres_first'] = df_genres[0]\n",
    "\n",
    "# Проверим результат:\n",
    "data[['director', 'director_first', 'genres', 'genres_first']].head()"
   ]
  },
  {
   "cell_type": "markdown",
   "metadata": {
    "id": "1FsCXHwdgFyU"
   },
   "source": [
    "- Посчитайте, какую долю от общего бюджета фильма составляет государственная поддержка."
   ]
  },
  {
   "cell_type": "code",
   "execution_count": 28,
   "metadata": {},
   "outputs": [
    {
     "data": {
      "text/html": [
       "<div>\n",
       "<style scoped>\n",
       "    .dataframe tbody tr th:only-of-type {\n",
       "        vertical-align: middle;\n",
       "    }\n",
       "\n",
       "    .dataframe tbody tr th {\n",
       "        vertical-align: top;\n",
       "    }\n",
       "\n",
       "    .dataframe thead th {\n",
       "        text-align: right;\n",
       "    }\n",
       "</style>\n",
       "<table border=\"1\" class=\"dataframe\">\n",
       "  <thead>\n",
       "    <tr style=\"text-align: right;\">\n",
       "      <th></th>\n",
       "      <th>title</th>\n",
       "      <th>pu_number</th>\n",
       "      <th>show_start_date</th>\n",
       "      <th>type</th>\n",
       "      <th>film_studio</th>\n",
       "      <th>production_country</th>\n",
       "      <th>director</th>\n",
       "      <th>producer</th>\n",
       "      <th>age_restriction</th>\n",
       "      <th>refundable_support</th>\n",
       "      <th>...</th>\n",
       "      <th>genres</th>\n",
       "      <th>puNumber_int</th>\n",
       "      <th>box_office</th>\n",
       "      <th>year</th>\n",
       "      <th>director_first</th>\n",
       "      <th>genres_first</th>\n",
       "      <th>total_support</th>\n",
       "      <th>%_total_support</th>\n",
       "      <th>%_refundable_support</th>\n",
       "      <th>%_nonrefundable_support</th>\n",
       "    </tr>\n",
       "  </thead>\n",
       "  <tbody>\n",
       "    <tr>\n",
       "      <th>1281</th>\n",
       "      <td>Пока еще жива</td>\n",
       "      <td>111005313</td>\n",
       "      <td>2013-10-11 12:00:00+00:00</td>\n",
       "      <td>Художественный</td>\n",
       "      <td>АНО содействия развитию кинематографии \"Ангел-...</td>\n",
       "      <td>Россия</td>\n",
       "      <td>А.Атанесян</td>\n",
       "      <td>А.Атанесян, М.Бабаханов, Р.Бутко</td>\n",
       "      <td>«16+» - для детей старше 16 лет</td>\n",
       "      <td>0.0</td>\n",
       "      <td>...</td>\n",
       "      <td>драма,мелодрама</td>\n",
       "      <td>True</td>\n",
       "      <td>365353.6</td>\n",
       "      <td>2013</td>\n",
       "      <td>А.Атанесян</td>\n",
       "      <td>драма</td>\n",
       "      <td>26500000.0</td>\n",
       "      <td>0.333703</td>\n",
       "      <td>0.0</td>\n",
       "      <td>0.333703</td>\n",
       "    </tr>\n",
       "    <tr>\n",
       "      <th>1448</th>\n",
       "      <td>Бесславные придурки</td>\n",
       "      <td>111003314</td>\n",
       "      <td>2014-03-28 12:00:00+00:00</td>\n",
       "      <td>Художественный</td>\n",
       "      <td>ООО \"Компания \"АТК-Студио\"</td>\n",
       "      <td>Россия</td>\n",
       "      <td>А.Якимчук</td>\n",
       "      <td>А.Тютрюмов</td>\n",
       "      <td>«12+» - для детей старше 12 лет</td>\n",
       "      <td>0.0</td>\n",
       "      <td>...</td>\n",
       "      <td>неизвестно</td>\n",
       "      <td>True</td>\n",
       "      <td>28140.0</td>\n",
       "      <td>2014</td>\n",
       "      <td>А.Якимчук</td>\n",
       "      <td>неизвестно</td>\n",
       "      <td>26000000.0</td>\n",
       "      <td>0.700000</td>\n",
       "      <td>0.0</td>\n",
       "      <td>0.700000</td>\n",
       "    </tr>\n",
       "    <tr>\n",
       "      <th>1498</th>\n",
       "      <td>Невидимки</td>\n",
       "      <td>111004213</td>\n",
       "      <td>2013-09-10 12:00:00+00:00</td>\n",
       "      <td>Художественный</td>\n",
       "      <td>ООО \"Компания \"РЕАЛ-ДАКОТА\"</td>\n",
       "      <td>Россия</td>\n",
       "      <td>Р.Давлетьяров, С.Комаров</td>\n",
       "      <td>Р.Давлетьяров, А.Котелевский, А.Олейников</td>\n",
       "      <td>«12+» - для детей старше 12 лет</td>\n",
       "      <td>0.0</td>\n",
       "      <td>...</td>\n",
       "      <td>комедия,фантастика</td>\n",
       "      <td>True</td>\n",
       "      <td>19957031.5</td>\n",
       "      <td>2013</td>\n",
       "      <td>Р.Давлетьяров</td>\n",
       "      <td>комедия</td>\n",
       "      <td>107847945.0</td>\n",
       "      <td>0.612691</td>\n",
       "      <td>0.0</td>\n",
       "      <td>0.612691</td>\n",
       "    </tr>\n",
       "    <tr>\n",
       "      <th>1524</th>\n",
       "      <td>БЕРЦЫ</td>\n",
       "      <td>111004314</td>\n",
       "      <td>2014-05-05 12:00:00+00:00</td>\n",
       "      <td>Художественный</td>\n",
       "      <td>ООО \"Студия \"Пассажир\"</td>\n",
       "      <td>Россия</td>\n",
       "      <td>Е.Миндадзе (псевдоним Катя Шагалова)</td>\n",
       "      <td>Л.Антонова</td>\n",
       "      <td>«16+» - для детей старше 16 лет</td>\n",
       "      <td>0.0</td>\n",
       "      <td>...</td>\n",
       "      <td>драма</td>\n",
       "      <td>True</td>\n",
       "      <td>55917.5</td>\n",
       "      <td>2014</td>\n",
       "      <td>Е.Миндадзе (псевдоним Катя Шагалова)</td>\n",
       "      <td>драма</td>\n",
       "      <td>28000000.0</td>\n",
       "      <td>0.690095</td>\n",
       "      <td>0.0</td>\n",
       "      <td>0.690095</td>\n",
       "    </tr>\n",
       "    <tr>\n",
       "      <th>1792</th>\n",
       "      <td>Братья Ч</td>\n",
       "      <td>111004414</td>\n",
       "      <td>2014-04-23 12:00:00+00:00</td>\n",
       "      <td>Художественный</td>\n",
       "      <td>ООО \"Студия \"Пассажир\"</td>\n",
       "      <td>Россия</td>\n",
       "      <td>М.Угаров</td>\n",
       "      <td>А.Миндадзе, Л.Антонова</td>\n",
       "      <td>«16+» - для детей старше 16 лет</td>\n",
       "      <td>0.0</td>\n",
       "      <td>...</td>\n",
       "      <td>драма</td>\n",
       "      <td>True</td>\n",
       "      <td>232100.0</td>\n",
       "      <td>2014</td>\n",
       "      <td>М.Угаров</td>\n",
       "      <td>драма</td>\n",
       "      <td>25000000.0</td>\n",
       "      <td>0.624764</td>\n",
       "      <td>0.0</td>\n",
       "      <td>0.624764</td>\n",
       "    </tr>\n",
       "  </tbody>\n",
       "</table>\n",
       "<p>5 rows × 24 columns</p>\n",
       "</div>"
      ],
      "text/plain": [
       "                    title  pu_number           show_start_date  \\\n",
       "1281        Пока еще жива  111005313 2013-10-11 12:00:00+00:00   \n",
       "1448  Бесславные придурки  111003314 2014-03-28 12:00:00+00:00   \n",
       "1498            Невидимки  111004213 2013-09-10 12:00:00+00:00   \n",
       "1524                БЕРЦЫ  111004314 2014-05-05 12:00:00+00:00   \n",
       "1792             Братья Ч  111004414 2014-04-23 12:00:00+00:00   \n",
       "\n",
       "                type                                        film_studio  \\\n",
       "1281  Художественный  АНО содействия развитию кинематографии \"Ангел-...   \n",
       "1448  Художественный                         ООО \"Компания \"АТК-Студио\"   \n",
       "1498  Художественный                        ООО \"Компания \"РЕАЛ-ДАКОТА\"   \n",
       "1524  Художественный                             ООО \"Студия \"Пассажир\"   \n",
       "1792  Художественный                             ООО \"Студия \"Пассажир\"   \n",
       "\n",
       "     production_country                              director  \\\n",
       "1281             Россия                            А.Атанесян   \n",
       "1448             Россия                             А.Якимчук   \n",
       "1498             Россия              Р.Давлетьяров, С.Комаров   \n",
       "1524             Россия  Е.Миндадзе (псевдоним Катя Шагалова)   \n",
       "1792             Россия                              М.Угаров   \n",
       "\n",
       "                                       producer  \\\n",
       "1281           А.Атанесян, М.Бабаханов, Р.Бутко   \n",
       "1448                                 А.Тютрюмов   \n",
       "1498  Р.Давлетьяров, А.Котелевский, А.Олейников   \n",
       "1524                                 Л.Антонова   \n",
       "1792                     А.Миндадзе, Л.Антонова   \n",
       "\n",
       "                      age_restriction  refundable_support  ...  \\\n",
       "1281  «16+» - для детей старше 16 лет                 0.0  ...   \n",
       "1448  «12+» - для детей старше 12 лет                 0.0  ...   \n",
       "1498  «12+» - для детей старше 12 лет                 0.0  ...   \n",
       "1524  «16+» - для детей старше 16 лет                 0.0  ...   \n",
       "1792  «16+» - для детей старше 16 лет                 0.0  ...   \n",
       "\n",
       "                  genres  puNumber_int  box_office  year  \\\n",
       "1281     драма,мелодрама          True    365353.6  2013   \n",
       "1448          неизвестно          True     28140.0  2014   \n",
       "1498  комедия,фантастика          True  19957031.5  2013   \n",
       "1524               драма          True     55917.5  2014   \n",
       "1792               драма          True    232100.0  2014   \n",
       "\n",
       "                            director_first  genres_first  total_support  \\\n",
       "1281                            А.Атанесян         драма     26500000.0   \n",
       "1448                             А.Якимчук    неизвестно     26000000.0   \n",
       "1498                         Р.Давлетьяров       комедия    107847945.0   \n",
       "1524  Е.Миндадзе (псевдоним Катя Шагалова)         драма     28000000.0   \n",
       "1792                              М.Угаров         драма     25000000.0   \n",
       "\n",
       "      %_total_support %_refundable_support %_nonrefundable_support  \n",
       "1281         0.333703                  0.0                0.333703  \n",
       "1448         0.700000                  0.0                0.700000  \n",
       "1498         0.612691                  0.0                0.612691  \n",
       "1524         0.690095                  0.0                0.690095  \n",
       "1792         0.624764                  0.0                0.624764  \n",
       "\n",
       "[5 rows x 24 columns]"
      ]
     },
     "execution_count": 28,
     "metadata": {},
     "output_type": "execute_result"
    }
   ],
   "source": [
    "# Добавим в таблицу столбец total_support, в котором сумируем объем возвратных и невозвратных средств гос.поддержки:\n",
    "data['total_support'] = data['nonrefundable_support'] + data['refundable_support']\n",
    "\n",
    "# Добавим столбец с расчетом доли каждого вида гос.поддержки от общего бюджета фильма: \n",
    "data['%_total_support'] = data['total_support'] / data['budget']\n",
    "data['%_refundable_support'] = data['refundable_support'] / data['budget']\n",
    "data['%_nonrefundable_support'] = data['nonrefundable_support'] / data['budget']\n",
    "\n",
    "# Проверим результат:\n",
    "data[(data['budget']>0)].head()"
   ]
  },
  {
   "cell_type": "code",
   "execution_count": 29,
   "metadata": {},
   "outputs": [
    {
     "data": {
      "text/html": [
       "<div>\n",
       "<style scoped>\n",
       "    .dataframe tbody tr th:only-of-type {\n",
       "        vertical-align: middle;\n",
       "    }\n",
       "\n",
       "    .dataframe tbody tr th {\n",
       "        vertical-align: top;\n",
       "    }\n",
       "\n",
       "    .dataframe thead th {\n",
       "        text-align: right;\n",
       "    }\n",
       "</style>\n",
       "<table border=\"1\" class=\"dataframe\">\n",
       "  <thead>\n",
       "    <tr style=\"text-align: right;\">\n",
       "      <th></th>\n",
       "      <th>budget</th>\n",
       "      <th>total_support</th>\n",
       "      <th>refundable_support</th>\n",
       "      <th>nonrefundable_support</th>\n",
       "      <th>%_total_support</th>\n",
       "      <th>%_refundable_support</th>\n",
       "      <th>%_nonrefundable_support</th>\n",
       "    </tr>\n",
       "  </thead>\n",
       "  <tbody>\n",
       "    <tr>\n",
       "      <th>count</th>\n",
       "      <td>3.070000e+02</td>\n",
       "      <td>3.070000e+02</td>\n",
       "      <td>3.070000e+02</td>\n",
       "      <td>3.070000e+02</td>\n",
       "      <td>307.000000</td>\n",
       "      <td>307.000000</td>\n",
       "      <td>307.000000</td>\n",
       "    </tr>\n",
       "    <tr>\n",
       "      <th>mean</th>\n",
       "      <td>1.333371e+08</td>\n",
       "      <td>5.977107e+07</td>\n",
       "      <td>1.041042e+07</td>\n",
       "      <td>4.936065e+07</td>\n",
       "      <td>0.519514</td>\n",
       "      <td>0.057192</td>\n",
       "      <td>0.462322</td>\n",
       "    </tr>\n",
       "    <tr>\n",
       "      <th>std</th>\n",
       "      <td>1.929219e+08</td>\n",
       "      <td>7.387266e+07</td>\n",
       "      <td>2.385699e+07</td>\n",
       "      <td>6.015006e+07</td>\n",
       "      <td>0.168866</td>\n",
       "      <td>0.104377</td>\n",
       "      <td>0.184470</td>\n",
       "    </tr>\n",
       "    <tr>\n",
       "      <th>min</th>\n",
       "      <td>1.446246e+07</td>\n",
       "      <td>3.000000e+06</td>\n",
       "      <td>0.000000e+00</td>\n",
       "      <td>3.000000e+06</td>\n",
       "      <td>0.044043</td>\n",
       "      <td>0.000000</td>\n",
       "      <td>0.024553</td>\n",
       "    </tr>\n",
       "    <tr>\n",
       "      <th>25%</th>\n",
       "      <td>4.551094e+07</td>\n",
       "      <td>2.510000e+07</td>\n",
       "      <td>0.000000e+00</td>\n",
       "      <td>2.500000e+07</td>\n",
       "      <td>0.375000</td>\n",
       "      <td>0.000000</td>\n",
       "      <td>0.323825</td>\n",
       "    </tr>\n",
       "    <tr>\n",
       "      <th>50%</th>\n",
       "      <td>7.087617e+07</td>\n",
       "      <td>3.500000e+07</td>\n",
       "      <td>0.000000e+00</td>\n",
       "      <td>3.000000e+07</td>\n",
       "      <td>0.593163</td>\n",
       "      <td>0.000000</td>\n",
       "      <td>0.476190</td>\n",
       "    </tr>\n",
       "    <tr>\n",
       "      <th>75%</th>\n",
       "      <td>1.482258e+08</td>\n",
       "      <td>6.000000e+07</td>\n",
       "      <td>1.000000e+07</td>\n",
       "      <td>4.000000e+07</td>\n",
       "      <td>0.657363</td>\n",
       "      <td>0.090520</td>\n",
       "      <td>0.648232</td>\n",
       "    </tr>\n",
       "    <tr>\n",
       "      <th>max</th>\n",
       "      <td>2.305074e+09</td>\n",
       "      <td>5.000000e+08</td>\n",
       "      <td>1.800000e+08</td>\n",
       "      <td>4.000000e+08</td>\n",
       "      <td>0.784745</td>\n",
       "      <td>0.603861</td>\n",
       "      <td>0.700000</td>\n",
       "    </tr>\n",
       "  </tbody>\n",
       "</table>\n",
       "</div>"
      ],
      "text/plain": [
       "             budget  total_support  refundable_support  nonrefundable_support  \\\n",
       "count  3.070000e+02   3.070000e+02        3.070000e+02           3.070000e+02   \n",
       "mean   1.333371e+08   5.977107e+07        1.041042e+07           4.936065e+07   \n",
       "std    1.929219e+08   7.387266e+07        2.385699e+07           6.015006e+07   \n",
       "min    1.446246e+07   3.000000e+06        0.000000e+00           3.000000e+06   \n",
       "25%    4.551094e+07   2.510000e+07        0.000000e+00           2.500000e+07   \n",
       "50%    7.087617e+07   3.500000e+07        0.000000e+00           3.000000e+07   \n",
       "75%    1.482258e+08   6.000000e+07        1.000000e+07           4.000000e+07   \n",
       "max    2.305074e+09   5.000000e+08        1.800000e+08           4.000000e+08   \n",
       "\n",
       "       %_total_support  %_refundable_support  %_nonrefundable_support  \n",
       "count       307.000000            307.000000               307.000000  \n",
       "mean          0.519514              0.057192                 0.462322  \n",
       "std           0.168866              0.104377                 0.184470  \n",
       "min           0.044043              0.000000                 0.024553  \n",
       "25%           0.375000              0.000000                 0.323825  \n",
       "50%           0.593163              0.000000                 0.476190  \n",
       "75%           0.657363              0.090520                 0.648232  \n",
       "max           0.784745              0.603861                 0.700000  "
      ]
     },
     "execution_count": 29,
     "metadata": {},
     "output_type": "execute_result"
    }
   ],
   "source": [
    "# Исключим пока из анализа фильмы, по которым не были заполненные данные по бюджету фильма, а также по объему невозвратных средств гос.поддержки:\n",
    "list=['budget', 'total_support', 'refundable_support', 'nonrefundable_support', '%_total_support', '%_refundable_support', '%_nonrefundable_support']\n",
    "data[list].describe()"
   ]
  },
  {
   "cell_type": "markdown",
   "metadata": {},
   "source": [
    "Видим, что медианная величина бюджета фильма с гос.поддержкой составляет около 71 млн руб, в то время как средняя величина составляет 133 млн руб.Это свидетельствует о том, что есть некоторые фильмы, снятые с гос.поддержкой, с очень значительным бюджетом. Их бюджет повлиял на среднюю величину, но не затронул значение медианного бюджета.\n",
    "\n",
    "Объем средств гос.поддержки в среднем составляет около 35 млн руб, т.е. около 59% от бюджета фильма. Причем гос.поддержка в основном представляет собой именно невозвратные средства в размере около 30 млн руб."
   ]
  },
  {
   "cell_type": "markdown",
   "metadata": {},
   "source": [
    "<div class=\"alert alert-success\">\n",
    "<h2> Комментарий ревьюера 😊<a class=\"tocSkip\"> </h2>\n",
    "Столбцы добавлены верно. Блок преобработки выполнен на высоком уровне, ты отлично владеешь полезными для обработки инструментами, и замечательно, что ты даешь подробные описания своим действиям и выводам по работе)\n",
    "</div>"
   ]
  },
  {
   "cell_type": "markdown",
   "metadata": {
    "id": "6t4EukPLgFyV"
   },
   "source": [
    "### Шаг 3. Проведите исследовательский анализ данных\n"
   ]
  },
  {
   "cell_type": "markdown",
   "metadata": {
    "id": "vAH8WCzugFyV"
   },
   "source": [
    "- Посмотрите, сколько фильмов выходило в прокат каждый год. Обратите внимание, что данные о прокате в кинотеатрах известны не для всех фильмов. Посчитайте, какую долю составляют фильмы с указанной информацией о прокате в кинотеатрах."
   ]
  },
  {
   "cell_type": "code",
   "execution_count": 30,
   "metadata": {
    "id": "ABeV47y7gFyW"
   },
   "outputs": [
    {
     "data": {
      "text/html": [
       "<div>\n",
       "<style scoped>\n",
       "    .dataframe tbody tr th:only-of-type {\n",
       "        vertical-align: middle;\n",
       "    }\n",
       "\n",
       "    .dataframe tbody tr th {\n",
       "        vertical-align: top;\n",
       "    }\n",
       "\n",
       "    .dataframe thead th {\n",
       "        text-align: right;\n",
       "    }\n",
       "</style>\n",
       "<table border=\"1\" class=\"dataframe\">\n",
       "  <thead>\n",
       "    <tr style=\"text-align: right;\">\n",
       "      <th></th>\n",
       "      <th>year</th>\n",
       "      <th>number_of_films_cinema</th>\n",
       "    </tr>\n",
       "  </thead>\n",
       "  <tbody>\n",
       "    <tr>\n",
       "      <th>0</th>\n",
       "      <td>2010</td>\n",
       "      <td>105</td>\n",
       "    </tr>\n",
       "    <tr>\n",
       "      <th>1</th>\n",
       "      <td>2011</td>\n",
       "      <td>109</td>\n",
       "    </tr>\n",
       "    <tr>\n",
       "      <th>2</th>\n",
       "      <td>2012</td>\n",
       "      <td>128</td>\n",
       "    </tr>\n",
       "    <tr>\n",
       "      <th>3</th>\n",
       "      <td>2013</td>\n",
       "      <td>184</td>\n",
       "    </tr>\n",
       "    <tr>\n",
       "      <th>4</th>\n",
       "      <td>2014</td>\n",
       "      <td>278</td>\n",
       "    </tr>\n",
       "    <tr>\n",
       "      <th>5</th>\n",
       "      <td>2015</td>\n",
       "      <td>456</td>\n",
       "    </tr>\n",
       "    <tr>\n",
       "      <th>6</th>\n",
       "      <td>2016</td>\n",
       "      <td>523</td>\n",
       "    </tr>\n",
       "    <tr>\n",
       "      <th>7</th>\n",
       "      <td>2017</td>\n",
       "      <td>353</td>\n",
       "    </tr>\n",
       "    <tr>\n",
       "      <th>8</th>\n",
       "      <td>2018</td>\n",
       "      <td>470</td>\n",
       "    </tr>\n",
       "    <tr>\n",
       "      <th>9</th>\n",
       "      <td>2019</td>\n",
       "      <td>527</td>\n",
       "    </tr>\n",
       "  </tbody>\n",
       "</table>\n",
       "</div>"
      ],
      "text/plain": [
       "   year  number_of_films_cinema\n",
       "0  2010                     105\n",
       "1  2011                     109\n",
       "2  2012                     128\n",
       "3  2013                     184\n",
       "4  2014                     278\n",
       "5  2015                     456\n",
       "6  2016                     523\n",
       "7  2017                     353\n",
       "8  2018                     470\n",
       "9  2019                     527"
      ]
     },
     "execution_count": 30,
     "metadata": {},
     "output_type": "execute_result"
    }
   ],
   "source": [
    "# Посмотрим, сколько фильмов выходило в прокат в кинотеатрах каждый год:\n",
    "cinema = data.groupby('year')['box_office'].count()\n",
    "cinema = cinema.to_frame().reset_index()\n",
    "cinema.rename(columns={'box_office':'number_of_films_cinema'}, inplace=True)\n",
    "cinema"
   ]
  },
  {
   "cell_type": "code",
   "execution_count": 31,
   "metadata": {},
   "outputs": [
    {
     "data": {
      "text/html": [
       "<div>\n",
       "<style scoped>\n",
       "    .dataframe tbody tr th:only-of-type {\n",
       "        vertical-align: middle;\n",
       "    }\n",
       "\n",
       "    .dataframe tbody tr th {\n",
       "        vertical-align: top;\n",
       "    }\n",
       "\n",
       "    .dataframe thead th {\n",
       "        text-align: right;\n",
       "    }\n",
       "</style>\n",
       "<table border=\"1\" class=\"dataframe\">\n",
       "  <thead>\n",
       "    <tr style=\"text-align: right;\">\n",
       "      <th></th>\n",
       "      <th>year</th>\n",
       "      <th>number_of_films</th>\n",
       "      <th>number_of_films_cinema</th>\n",
       "      <th>%_of_cinema</th>\n",
       "    </tr>\n",
       "  </thead>\n",
       "  <tbody>\n",
       "    <tr>\n",
       "      <th>0</th>\n",
       "      <td>2010</td>\n",
       "      <td>985</td>\n",
       "      <td>105</td>\n",
       "      <td>0.106599</td>\n",
       "    </tr>\n",
       "    <tr>\n",
       "      <th>1</th>\n",
       "      <td>2011</td>\n",
       "      <td>622</td>\n",
       "      <td>109</td>\n",
       "      <td>0.175241</td>\n",
       "    </tr>\n",
       "    <tr>\n",
       "      <th>2</th>\n",
       "      <td>2012</td>\n",
       "      <td>593</td>\n",
       "      <td>128</td>\n",
       "      <td>0.215852</td>\n",
       "    </tr>\n",
       "    <tr>\n",
       "      <th>3</th>\n",
       "      <td>2013</td>\n",
       "      <td>630</td>\n",
       "      <td>184</td>\n",
       "      <td>0.292063</td>\n",
       "    </tr>\n",
       "    <tr>\n",
       "      <th>4</th>\n",
       "      <td>2014</td>\n",
       "      <td>805</td>\n",
       "      <td>278</td>\n",
       "      <td>0.345342</td>\n",
       "    </tr>\n",
       "    <tr>\n",
       "      <th>5</th>\n",
       "      <td>2015</td>\n",
       "      <td>696</td>\n",
       "      <td>456</td>\n",
       "      <td>0.655172</td>\n",
       "    </tr>\n",
       "    <tr>\n",
       "      <th>6</th>\n",
       "      <td>2016</td>\n",
       "      <td>815</td>\n",
       "      <td>523</td>\n",
       "      <td>0.641718</td>\n",
       "    </tr>\n",
       "    <tr>\n",
       "      <th>7</th>\n",
       "      <td>2017</td>\n",
       "      <td>501</td>\n",
       "      <td>353</td>\n",
       "      <td>0.704591</td>\n",
       "    </tr>\n",
       "    <tr>\n",
       "      <th>8</th>\n",
       "      <td>2018</td>\n",
       "      <td>886</td>\n",
       "      <td>470</td>\n",
       "      <td>0.530474</td>\n",
       "    </tr>\n",
       "    <tr>\n",
       "      <th>9</th>\n",
       "      <td>2019</td>\n",
       "      <td>927</td>\n",
       "      <td>527</td>\n",
       "      <td>0.568501</td>\n",
       "    </tr>\n",
       "  </tbody>\n",
       "</table>\n",
       "</div>"
      ],
      "text/plain": [
       "   year  number_of_films  number_of_films_cinema  %_of_cinema\n",
       "0  2010              985                     105     0.106599\n",
       "1  2011              622                     109     0.175241\n",
       "2  2012              593                     128     0.215852\n",
       "3  2013              630                     184     0.292063\n",
       "4  2014              805                     278     0.345342\n",
       "5  2015              696                     456     0.655172\n",
       "6  2016              815                     523     0.641718\n",
       "7  2017              501                     353     0.704591\n",
       "8  2018              886                     470     0.530474\n",
       "9  2019              927                     527     0.568501"
      ]
     },
     "metadata": {},
     "output_type": "display_data"
    },
    {
     "name": "stdout",
     "output_type": "stream",
     "text": [
      "Cреднее количество фильмов в год: 746\n",
      "Cреднее количество фильмов в кинотеатрах в год: 313\n",
      "Доля фильмов с указанной информацией о прокате в кинотеатрах: 0.42\n"
     ]
    }
   ],
   "source": [
    "# Посмотрим, сколько фильмов выходило в целом в прокат каждый год и объединим с данными в кинотеатрах:\n",
    "films = data.groupby('year')['title'].count()\n",
    "films = films.to_frame().reset_index()\n",
    "films.rename(columns={'title':'number_of_films'}, inplace=True)\n",
    "\n",
    "films['number_of_films_cinema']=cinema['number_of_films_cinema']\n",
    "films['%_of_cinema']=films['number_of_films_cinema']/films['number_of_films']\n",
    "display(films)\n",
    "\n",
    "# Рассчитаем среднее количество фильмов в год\n",
    "print('Cреднее количество фильмов в год: %.0f' % films['number_of_films'].mean())\n",
    "print('Cреднее количество фильмов в кинотеатрах в год: %.0f' % cinema['number_of_films_cinema'].mean())\n",
    "print('Доля фильмов с указанной информацией о прокате в кинотеатрах: %.2f' % films['%_of_cinema'].mean())"
   ]
  },
  {
   "cell_type": "code",
   "execution_count": 32,
   "metadata": {},
   "outputs": [
    {
     "data": {
      "text/plain": [
       "<AxesSubplot:title={'center':'Количество фильмов по годам'}, xlabel='year'>"
      ]
     },
     "execution_count": 32,
     "metadata": {},
     "output_type": "execute_result"
    },
    {
     "data": {
      "image/png": "[encoded data removed]",
      "text/plain": [
       "<Figure size 720x360 with 1 Axes>"
      ]
     },
     "metadata": {
      "needs_background": "light"
     },
     "output_type": "display_data"
    }
   ],
   "source": [
    "# Построим гистограмму по данным о прокате в целом, и о прокате в кинотеатрах\n",
    "films.plot(x='year', kind='bar', figsize = (10, 5), grid = True, title='Количество фильмов по годам')"
   ]
  },
  {
   "cell_type": "code",
   "execution_count": 33,
   "metadata": {
    "scrolled": true
   },
   "outputs": [
    {
     "data": {
      "text/plain": [
       "<AxesSubplot:title={'center':'Доля фильмов с указанной информацией о прокате в кинотеатрах'}, xlabel='year'>"
      ]
     },
     "execution_count": 33,
     "metadata": {},
     "output_type": "execute_result"
    },
    {
     "data": {
      "image/png": "[encoded data removed]",
      "text/plain": [
       "<Figure size 720x360 with 1 Axes>"
      ]
     },
     "metadata": {
      "needs_background": "light"
     },
     "output_type": "display_data"
    }
   ],
   "source": [
    "films.plot(x='year', y='%_of_cinema', figsize = (10, 5), grid = True, title='Доля фильмов с указанной информацией о прокате в кинотеатрах')"
   ]
  },
  {
   "cell_type": "markdown",
   "metadata": {},
   "source": [
    "Данные о прокате в кинотеатрах известны не для всех фильмов, это означает, что часть фильмов получили удостоверение на прокат на ТВ. В среднем, в прокат в целом выходило около 746 фильмов в год, а в прокат в кинотеатрах выходило в 2 раза меньше - 313 фильмов в год. В целом, количество фильмов, выходивших в прокат стабильно, но в кинотеатрах оно стаильно растет. Меньше всего фильмов вышло в прокат в кинотеатрах в 2010 году (это начало исследуемого периода) - всего 105 фильмов. Затем это количество постепенно увеличивалось до 523 в 2016 году. На следующий год количество фильмов упало до 353, но к 2019 году постепенно вернулось к 527 фильмам. В целом, можно утверждать, что и количество фильмов, вышдших в прокат в кинотеатрах, и доля фильмов с указанной информацией о прокате в кинотеатрах стабильно растет. Это, может быть, связано со следующими факторами:\n",
    "\n",
    "начиная с 2014-2015 активно начали развиваться он-лайн кинотеатры (типа Okko, Ivi и т.д.), благодаря чему выросло количество кассовых сборов кинотеатров;\n",
    "также благодаря цифровым технологиям даёт свои плоды многолетняя борьба с пиратством - людям проще заплатить теперь за фильм, чем пытаться найти его для росмотра на бесплатном ресурсе;\n",
    "как вариант, можно рассмотреть влияние стоимости прокатных удостоверений - возможно в последние годы стоиомость прокатного удостоверения в кинотеатры могла снизиться."
   ]
  },
  {
   "cell_type": "markdown",
   "metadata": {},
   "source": [
    "<div class=\"alert alert-success\">\n",
    "<h2> Комментарий ревьюера 😊<a class=\"tocSkip\"> </h2>\n",
    "Очень хорошо.\n",
    "</div>"
   ]
  },
  {
   "cell_type": "markdown",
   "metadata": {
    "id": "BEOdcIrIgFyW"
   },
   "source": [
    "- Изучите, как менялась динамика проката по годам. В каком году сумма сборов была минимальной? А максимальной?"
   ]
  },
  {
   "cell_type": "code",
   "execution_count": 34,
   "metadata": {
    "id": "tfEhofYvgFyX"
   },
   "outputs": [
    {
     "data": {
      "text/html": [
       "<div>\n",
       "<style scoped>\n",
       "    .dataframe tbody tr th:only-of-type {\n",
       "        vertical-align: middle;\n",
       "    }\n",
       "\n",
       "    .dataframe tbody tr th {\n",
       "        vertical-align: top;\n",
       "    }\n",
       "\n",
       "    .dataframe thead th {\n",
       "        text-align: right;\n",
       "    }\n",
       "</style>\n",
       "<table border=\"1\" class=\"dataframe\">\n",
       "  <thead>\n",
       "    <tr style=\"text-align: right;\">\n",
       "      <th></th>\n",
       "      <th>sum</th>\n",
       "      <th>count</th>\n",
       "      <th>mean</th>\n",
       "    </tr>\n",
       "    <tr>\n",
       "      <th>year</th>\n",
       "      <th></th>\n",
       "      <th></th>\n",
       "      <th></th>\n",
       "    </tr>\n",
       "  </thead>\n",
       "  <tbody>\n",
       "    <tr>\n",
       "      <th>2010</th>\n",
       "      <td>2.428654e+06</td>\n",
       "      <td>105</td>\n",
       "      <td>2.313004e+04</td>\n",
       "    </tr>\n",
       "    <tr>\n",
       "      <th>2011</th>\n",
       "      <td>1.410276e+07</td>\n",
       "      <td>109</td>\n",
       "      <td>1.293832e+05</td>\n",
       "    </tr>\n",
       "    <tr>\n",
       "      <th>2012</th>\n",
       "      <td>6.955423e+06</td>\n",
       "      <td>128</td>\n",
       "      <td>5.433924e+04</td>\n",
       "    </tr>\n",
       "    <tr>\n",
       "      <th>2013</th>\n",
       "      <td>2.979971e+07</td>\n",
       "      <td>184</td>\n",
       "      <td>1.619549e+05</td>\n",
       "    </tr>\n",
       "    <tr>\n",
       "      <th>2014</th>\n",
       "      <td>7.434718e+09</td>\n",
       "      <td>278</td>\n",
       "      <td>2.674359e+07</td>\n",
       "    </tr>\n",
       "    <tr>\n",
       "      <th>2015</th>\n",
       "      <td>3.842744e+10</td>\n",
       "      <td>456</td>\n",
       "      <td>8.427071e+07</td>\n",
       "    </tr>\n",
       "    <tr>\n",
       "      <th>2016</th>\n",
       "      <td>4.674232e+10</td>\n",
       "      <td>523</td>\n",
       "      <td>8.937345e+07</td>\n",
       "    </tr>\n",
       "    <tr>\n",
       "      <th>2017</th>\n",
       "      <td>4.736491e+10</td>\n",
       "      <td>353</td>\n",
       "      <td>1.341782e+08</td>\n",
       "    </tr>\n",
       "    <tr>\n",
       "      <th>2018</th>\n",
       "      <td>4.867462e+10</td>\n",
       "      <td>470</td>\n",
       "      <td>1.035630e+08</td>\n",
       "    </tr>\n",
       "    <tr>\n",
       "      <th>2019</th>\n",
       "      <td>4.772358e+10</td>\n",
       "      <td>527</td>\n",
       "      <td>9.055708e+07</td>\n",
       "    </tr>\n",
       "  </tbody>\n",
       "</table>\n",
       "</div>"
      ],
      "text/plain": [
       "               sum  count          mean\n",
       "year                                   \n",
       "2010  2.428654e+06    105  2.313004e+04\n",
       "2011  1.410276e+07    109  1.293832e+05\n",
       "2012  6.955423e+06    128  5.433924e+04\n",
       "2013  2.979971e+07    184  1.619549e+05\n",
       "2014  7.434718e+09    278  2.674359e+07\n",
       "2015  3.842744e+10    456  8.427071e+07\n",
       "2016  4.674232e+10    523  8.937345e+07\n",
       "2017  4.736491e+10    353  1.341782e+08\n",
       "2018  4.867462e+10    470  1.035630e+08\n",
       "2019  4.772358e+10    527  9.055708e+07"
      ]
     },
     "execution_count": 34,
     "metadata": {},
     "output_type": "execute_result"
    }
   ],
   "source": [
    "# Посмотрим на величину проката за каждый год:\n",
    "revenue=data.groupby('year')['box_office'].agg(['sum','count', 'mean'])\n",
    "revenue"
   ]
  },
  {
   "cell_type": "code",
   "execution_count": 35,
   "metadata": {},
   "outputs": [
    {
     "data": {
      "text/plain": [
       "Text(0, 0.5, 'Кассовые сборы, млрд руб')"
      ]
     },
     "execution_count": 35,
     "metadata": {},
     "output_type": "execute_result"
    },
    {
     "data": {
      "image/png": "[encoded data removed]",
      "text/plain": [
       "<Figure size 432x288 with 1 Axes>"
      ]
     },
     "metadata": {
      "needs_background": "light"
     },
     "output_type": "display_data"
    }
   ],
   "source": [
    "# Посторим  график, отражающий зависимость между величиной кассовых сборов и годом:\n",
    "revenue['sum'].plot(kind='bar', grid=True)\n",
    "plt.title('Кассовые сборы')\n",
    "plt.xlabel('Годы')\n",
    "plt.ylabel('Кассовые сборы, млрд руб')"
   ]
  },
  {
   "cell_type": "markdown",
   "metadata": {},
   "source": [
    "Видим, что кассовые сборы увеличивались год от года. Минимальная сумма была в 2010 году (2,4 млн руб.), а максимальная в 2018 году (48 млрд.руб). В целом сумма кассовых сборов за 2017-2019 гг примерна одинакова.\n",
    "Т.к. среднее значение сильно разница (2015,2016 и 2019 гг эта цифра составлет от 8,4-9,1, а в других годах эта цифра составляет порядка 1-2), возможно отсутствие информации сказывается на показателях"
   ]
  },
  {
   "cell_type": "markdown",
   "metadata": {
    "id": "G-7qS-N-gFyY"
   },
   "source": [
    "- С помощью сводной таблицы посчитайте среднюю и медианную сумму сборов для каждого года."
   ]
  },
  {
   "cell_type": "code",
   "execution_count": 36,
   "metadata": {
    "id": "jmp-rgg9gFyY"
   },
   "outputs": [
    {
     "data": {
      "text/html": [
       "<div>\n",
       "<style scoped>\n",
       "    .dataframe tbody tr th:only-of-type {\n",
       "        vertical-align: middle;\n",
       "    }\n",
       "\n",
       "    .dataframe tbody tr th {\n",
       "        vertical-align: top;\n",
       "    }\n",
       "\n",
       "    .dataframe thead tr th {\n",
       "        text-align: left;\n",
       "    }\n",
       "\n",
       "    .dataframe thead tr:last-of-type th {\n",
       "        text-align: right;\n",
       "    }\n",
       "</style>\n",
       "<table border=\"1\" class=\"dataframe\">\n",
       "  <thead>\n",
       "    <tr>\n",
       "      <th></th>\n",
       "      <th>mean</th>\n",
       "      <th>median</th>\n",
       "    </tr>\n",
       "    <tr>\n",
       "      <th></th>\n",
       "      <th>box_office</th>\n",
       "      <th>box_office</th>\n",
       "    </tr>\n",
       "    <tr>\n",
       "      <th>year</th>\n",
       "      <th></th>\n",
       "      <th></th>\n",
       "    </tr>\n",
       "  </thead>\n",
       "  <tbody>\n",
       "    <tr>\n",
       "      <th>2010</th>\n",
       "      <td>2.313004e+04</td>\n",
       "      <td>1700.000</td>\n",
       "    </tr>\n",
       "    <tr>\n",
       "      <th>2011</th>\n",
       "      <td>1.293832e+05</td>\n",
       "      <td>3000.000</td>\n",
       "    </tr>\n",
       "    <tr>\n",
       "      <th>2012</th>\n",
       "      <td>5.433924e+04</td>\n",
       "      <td>5660.000</td>\n",
       "    </tr>\n",
       "    <tr>\n",
       "      <th>2013</th>\n",
       "      <td>1.619549e+05</td>\n",
       "      <td>3522.500</td>\n",
       "    </tr>\n",
       "    <tr>\n",
       "      <th>2014</th>\n",
       "      <td>2.674359e+07</td>\n",
       "      <td>18137.500</td>\n",
       "    </tr>\n",
       "    <tr>\n",
       "      <th>2015</th>\n",
       "      <td>8.427071e+07</td>\n",
       "      <td>4742671.665</td>\n",
       "    </tr>\n",
       "    <tr>\n",
       "      <th>2016</th>\n",
       "      <td>8.937345e+07</td>\n",
       "      <td>3776087.560</td>\n",
       "    </tr>\n",
       "    <tr>\n",
       "      <th>2017</th>\n",
       "      <td>1.341782e+08</td>\n",
       "      <td>9876765.000</td>\n",
       "    </tr>\n",
       "    <tr>\n",
       "      <th>2018</th>\n",
       "      <td>1.035630e+08</td>\n",
       "      <td>8730277.525</td>\n",
       "    </tr>\n",
       "    <tr>\n",
       "      <th>2019</th>\n",
       "      <td>9.055708e+07</td>\n",
       "      <td>4554745.000</td>\n",
       "    </tr>\n",
       "  </tbody>\n",
       "</table>\n",
       "</div>"
      ],
      "text/plain": [
       "              mean       median\n",
       "        box_office   box_office\n",
       "year                           \n",
       "2010  2.313004e+04     1700.000\n",
       "2011  1.293832e+05     3000.000\n",
       "2012  5.433924e+04     5660.000\n",
       "2013  1.619549e+05     3522.500\n",
       "2014  2.674359e+07    18137.500\n",
       "2015  8.427071e+07  4742671.665\n",
       "2016  8.937345e+07  3776087.560\n",
       "2017  1.341782e+08  9876765.000\n",
       "2018  1.035630e+08  8730277.525\n",
       "2019  9.055708e+07  4554745.000"
      ]
     },
     "metadata": {},
     "output_type": "display_data"
    },
    {
     "data": {
      "text/plain": [
       "Text(0, 0.5, 'Кассовые сборы')"
      ]
     },
     "execution_count": 36,
     "metadata": {},
     "output_type": "execute_result"
    },
    {
     "data": {
      "image/png": "[encoded data removed]",
      "text/plain": [
       "<Figure size 432x288 with 1 Axes>"
      ]
     },
     "metadata": {
      "needs_background": "light"
     },
     "output_type": "display_data"
    }
   ],
   "source": [
    "box_office_year = data.pivot_table(index=['year'], values='box_office', aggfunc=['mean','median'])\n",
    "display(box_office_year)\n",
    "\n",
    "box_office_year.plot(style='o-', grid=True)\n",
    "\n",
    "plt.title('Кассовые сборы по годам')\n",
    "plt.xlabel('Годы')\n",
    "plt.ylabel('Кассовые сборы')"
   ]
  },
  {
   "cell_type": "markdown",
   "metadata": {},
   "source": [
    "Видим, что медиана по кассовым сборам во много раз меньше среднего каждый год. Это свидетельствует о том, что есть некоторое количество фильмов с очень значительными сборами, что повлияло на среднююю величину."
   ]
  },
  {
   "cell_type": "markdown",
   "metadata": {},
   "source": [
    "<div class=\"alert alert-success\">\n",
    "<h2> Комментарий ревьюера 😊<a class=\"tocSkip\"> </h2>\n",
    "Совершенно верно!)\n",
    "</div>"
   ]
  },
  {
   "cell_type": "markdown",
   "metadata": {
    "id": "Ok89WFwJgFyZ"
   },
   "source": [
    "- Определите, влияет ли возрастное ограничение аудитории («6+», «12+», «16+», «18+» и т. д.) на сборы фильма в прокате в период с 2015 по 2019 год? Фильмы с каким возрастным ограничением собрали больше всего денег в прокате? Меняется ли картина в зависимости от года? Если да, предположите, с чем это может быть связано."
   ]
  },
  {
   "cell_type": "code",
   "execution_count": 37,
   "metadata": {
    "id": "jsSbEqfjgFya"
   },
   "outputs": [
    {
     "data": {
      "text/plain": [
       "age_restriction\n",
       "«0+» - для любой зрительской аудитории    8.090774e+08\n",
       "«12+» - для детей старше 12 лет           5.901553e+10\n",
       "«16+» - для детей старше 16 лет           7.503778e+10\n",
       "«18+» - запрещено для детей               4.075766e+10\n",
       "«6+» - для детей старше 6 лет             5.331283e+10\n",
       "Name: box_office, dtype: float64"
      ]
     },
     "metadata": {},
     "output_type": "display_data"
    },
    {
     "data": {
      "text/plain": [
       "Text(0, 0.5, 'Кассовые сборы')"
      ]
     },
     "execution_count": 37,
     "metadata": {},
     "output_type": "execute_result"
    },
    {
     "data": {
      "image/png": "[encoded data removed]",
      "text/plain": [
       "<Figure size 432x288 with 1 Axes>"
      ]
     },
     "metadata": {
      "needs_background": "light"
     },
     "output_type": "display_data"
    }
   ],
   "source": [
    "# Определеим сумму кассовых сборов по возрастным ограничениям за период с 2015-2019:\n",
    "age_restriction_data=data.query('year>2014').groupby('age_restriction')['box_office'].sum()\n",
    "display(age_restriction_data)\n",
    "age_restriction_data.plot(kind='bar', grid=True)\n",
    "plt.title('Кассовые сборы по возрастной категории')\n",
    "plt.xlabel('Года')\n",
    "plt.ylabel('Кассовые сборы')"
   ]
  },
  {
   "cell_type": "markdown",
   "metadata": {},
   "source": [
    "<div class=\"alert alert-warning\">\n",
    "<h2> Комментарий ревьюера 🤓<a class=\"tocSkip\"> </h2>\n",
    "       Здесь будет более наглядно если мы развернем график по горизонтали, так наши подписи будет удобне читать) "
   ]
  },
  {
   "cell_type": "code",
   "execution_count": 38,
   "metadata": {},
   "outputs": [
    {
     "data": {
      "text/plain": [
       "age_restriction\n",
       "«0+» - для любой зрительской аудитории    3.790546e+08\n",
       "«12+» - для детей старше 12 лет           1.339986e+10\n",
       "«16+» - для детей старше 16 лет           1.077057e+10\n",
       "«18+» - запрещено для детей               5.430351e+09\n",
       "«6+» - для детей старше 6 лет             8.447618e+09\n",
       "Name: box_office, dtype: float64"
      ]
     },
     "metadata": {},
     "output_type": "display_data"
    },
    {
     "data": {
      "text/plain": [
       "Text(0, 0.5, 'Кассовые сборы')"
      ]
     },
     "execution_count": 38,
     "metadata": {},
     "output_type": "execute_result"
    },
    {
     "data": {
      "image/png": "[encoded data removed]",
      "text/plain": [
       "<Figure size 432x288 with 1 Axes>"
      ]
     },
     "metadata": {
      "needs_background": "light"
     },
     "output_type": "display_data"
    }
   ],
   "source": [
    "# Определеим сумму кассовых сборов в 2015г:\n",
    "age_restriction_2015 = data.query('year==2015').groupby('age_restriction')['box_office'].sum()\n",
    "display(age_restriction_2015)\n",
    "age_restriction_2015.plot(kind='bar', grid=True)\n",
    "plt.title('Кассовые сборы по возрастной категории')\n",
    "plt.xlabel('Года')\n",
    "plt.ylabel('Кассовые сборы')"
   ]
  },
  {
   "cell_type": "code",
   "execution_count": 39,
   "metadata": {},
   "outputs": [
    {
     "data": {
      "text/plain": [
       "age_restriction\n",
       "«0+» - для любой зрительской аудитории    1.502288e+08\n",
       "«12+» - для детей старше 12 лет           1.115076e+10\n",
       "«16+» - для детей старше 16 лет           1.659425e+10\n",
       "«18+» - запрещено для детей               6.793930e+09\n",
       "«6+» - для детей старше 6 лет             1.205315e+10\n",
       "Name: box_office, dtype: float64"
      ]
     },
     "metadata": {},
     "output_type": "display_data"
    },
    {
     "data": {
      "text/plain": [
       "Text(0, 0.5, 'Кассовые сборы')"
      ]
     },
     "execution_count": 39,
     "metadata": {},
     "output_type": "execute_result"
    },
    {
     "data": {
      "image/png": "[encoded data removed]",
      "text/plain": [
       "<Figure size 432x288 with 1 Axes>"
      ]
     },
     "metadata": {
      "needs_background": "light"
     },
     "output_type": "display_data"
    }
   ],
   "source": [
    "# Определеим сумму кассовых сборов в 2016г:\n",
    "age_restriction_data_2016=data.query('year==2016').groupby('age_restriction')['box_office'].sum()\n",
    "display(age_restriction_data_2016)\n",
    "age_restriction_data.plot(kind='bar', grid=True)\n",
    "plt.title('Кассовые сборы по возрастной категории')\n",
    "plt.xlabel('Года')\n",
    "plt.ylabel('Кассовые сборы')"
   ]
  },
  {
   "cell_type": "code",
   "execution_count": 40,
   "metadata": {},
   "outputs": [
    {
     "data": {
      "text/plain": [
       "age_restriction\n",
       "«0+» - для любой зрительской аудитории    2.295989e+08\n",
       "«12+» - для детей старше 12 лет           7.517420e+09\n",
       "«16+» - для детей старше 16 лет           1.869459e+10\n",
       "«18+» - запрещено для детей               9.651496e+09\n",
       "«6+» - для детей старше 6 лет             1.127181e+10\n",
       "Name: box_office, dtype: float64"
      ]
     },
     "metadata": {},
     "output_type": "display_data"
    },
    {
     "data": {
      "text/plain": [
       "Text(0, 0.5, 'Кассовые сборы')"
      ]
     },
     "execution_count": 40,
     "metadata": {},
     "output_type": "execute_result"
    },
    {
     "data": {
      "image/png": "[encoded data removed]",
      "text/plain": [
       "<Figure size 432x288 with 1 Axes>"
      ]
     },
     "metadata": {
      "needs_background": "light"
     },
     "output_type": "display_data"
    }
   ],
   "source": [
    "# Определеим сумму кассовых сборов в 2017г:\n",
    "age_restriction_data_2017=data.query('year==2017').groupby('age_restriction')['box_office'].sum()\n",
    "display(age_restriction_data_2017)\n",
    "age_restriction_data.plot(kind='bar', grid=True)\n",
    "plt.title('Кассовые сборы по возрастной категории')\n",
    "plt.xlabel('Года')\n",
    "plt.ylabel('Кассовые сборы')"
   ]
  },
  {
   "cell_type": "code",
   "execution_count": 41,
   "metadata": {},
   "outputs": [
    {
     "data": {
      "text/plain": [
       "age_restriction\n",
       "«0+» - для любой зрительской аудитории    3.244900e+07\n",
       "«12+» - для детей старше 12 лет           1.426729e+10\n",
       "«16+» - для детей старше 16 лет           1.627841e+10\n",
       "«18+» - запрещено для детей               8.760086e+09\n",
       "«6+» - для детей старше 6 лет             9.336390e+09\n",
       "Name: box_office, dtype: float64"
      ]
     },
     "metadata": {},
     "output_type": "display_data"
    },
    {
     "data": {
      "text/plain": [
       "Text(0, 0.5, 'Кассовые сборы')"
      ]
     },
     "execution_count": 41,
     "metadata": {},
     "output_type": "execute_result"
    },
    {
     "data": {
      "image/png": "[encoded data removed]",
      "text/plain": [
       "<Figure size 432x288 with 1 Axes>"
      ]
     },
     "metadata": {
      "needs_background": "light"
     },
     "output_type": "display_data"
    }
   ],
   "source": [
    "# Определеим сумму кассовых сборов в 2018г:\n",
    "age_restriction_data_2018=data.query('year==2018').groupby('age_restriction')['box_office'].sum()\n",
    "display(age_restriction_data_2018)\n",
    "age_restriction_data.plot(kind='bar', grid=True)\n",
    "plt.title('Кассовые сборы по возрастной категории')\n",
    "plt.xlabel('Года')\n",
    "plt.ylabel('Кассовые сборы')"
   ]
  },
  {
   "cell_type": "code",
   "execution_count": 42,
   "metadata": {},
   "outputs": [
    {
     "data": {
      "text/plain": [
       "age_restriction\n",
       "«0+» - для любой зрительской аудитории    1.774607e+07\n",
       "«12+» - для детей старше 12 лет           1.268020e+10\n",
       "«16+» - для детей старше 16 лет           1.269997e+10\n",
       "«18+» - запрещено для детей               1.012180e+10\n",
       "«6+» - для детей старше 6 лет             1.220387e+10\n",
       "Name: box_office, dtype: float64"
      ]
     },
     "metadata": {},
     "output_type": "display_data"
    },
    {
     "data": {
      "text/plain": [
       "Text(0, 0.5, 'Кассовые сборы')"
      ]
     },
     "execution_count": 42,
     "metadata": {},
     "output_type": "execute_result"
    },
    {
     "data": {
      "image/png": "[encoded data removed]",
      "text/plain": [
       "<Figure size 432x288 with 1 Axes>"
      ]
     },
     "metadata": {
      "needs_background": "light"
     },
     "output_type": "display_data"
    }
   ],
   "source": [
    "# Определеим сумму кассовых сборов в 2019г:\n",
    "age_restriction_data_2019 = data.query('year==2019').groupby('age_restriction')['box_office'].sum()\n",
    "display(age_restriction_data_2019)\n",
    "age_restriction_data.plot(kind='bar', grid=True)\n",
    "plt.title('Кассовые сборы по возрастной категории')\n",
    "plt.xlabel('Года')\n",
    "plt.ylabel('Кассовые сборы')"
   ]
  },
  {
   "cell_type": "markdown",
   "metadata": {},
   "source": [
    "<div class=\"alert alert-warning\">\n",
    "<h2> Комментарий ревьюера 🤓<a class=\"tocSkip\"> </h2>\n",
    "        Также можно автоматизировать процесс через функцию и цикл)"
   ]
  },
  {
   "cell_type": "markdown",
   "metadata": {},
   "source": [
    "За период с 2015-2019 гг. самые большие кассовые сборы составили у категории 16+ (около 75 млрд.руб). Это группа начинается с подростков. Наиболее свободное время и наличие карманных денег + знание интернета помогает больше просматривать фильмов (неважно онлайн кинотеатр или обычный).\n",
    "Самая наименьшая по сборам категория 0+ (800 млн. руб). Это группа для малышей. Далеко не все родители часто водят детей на фильмы и тем более не на все премьеры, плюс многие ограничивают в просмотре телевизора.\n",
    "По годам тенденция такая: лидирующие позиции занимают 2 категории 12+ и 16+. Так в 2019 году сборы по этим двум категориям примерно равны и составляют около 1,3 млрд. руб. При этом только в 2015 году 12+ обогнало 16+ и составило 1,3 против 1,1 млрд.руб.\n",
    "общий вывод можно сделать: основными потребителями считаются подростки от 16 лет, также на 12+ - возможно больше фильмов с ограниченями, хотя разница и неочень большая."
   ]
  },
  {
   "cell_type": "markdown",
   "metadata": {
    "id": "l_Kg6Ku4gFya"
   },
   "source": [
    "### Шаг 4. Исследуйте фильмы, которые получили государственную поддержку\n",
    "\n",
    "На этом этапе нет конкретных инструкций и заданий — поищите интересные закономерности в данных. Посмотрите, сколько выделяют средств на поддержку кино. Проверьте, хорошо ли окупаются такие фильмы, какой у них рейтинг."
   ]
  },
  {
   "cell_type": "code",
   "execution_count": 43,
   "metadata": {
    "id": "W9QKpjUdgFyb"
   },
   "outputs": [
    {
     "data": {
      "text/html": [
       "<div>\n",
       "<style scoped>\n",
       "    .dataframe tbody tr th:only-of-type {\n",
       "        vertical-align: middle;\n",
       "    }\n",
       "\n",
       "    .dataframe tbody tr th {\n",
       "        vertical-align: top;\n",
       "    }\n",
       "\n",
       "    .dataframe thead th {\n",
       "        text-align: right;\n",
       "    }\n",
       "</style>\n",
       "<table border=\"1\" class=\"dataframe\">\n",
       "  <thead>\n",
       "    <tr style=\"text-align: right;\">\n",
       "      <th></th>\n",
       "      <th>title</th>\n",
       "      <th>pu_number</th>\n",
       "      <th>show_start_date</th>\n",
       "      <th>type</th>\n",
       "      <th>film_studio</th>\n",
       "      <th>production_country</th>\n",
       "      <th>director</th>\n",
       "      <th>producer</th>\n",
       "      <th>age_restriction</th>\n",
       "      <th>refundable_support</th>\n",
       "      <th>...</th>\n",
       "      <th>genres</th>\n",
       "      <th>puNumber_int</th>\n",
       "      <th>box_office</th>\n",
       "      <th>year</th>\n",
       "      <th>director_first</th>\n",
       "      <th>genres_first</th>\n",
       "      <th>total_support</th>\n",
       "      <th>%_total_support</th>\n",
       "      <th>%_refundable_support</th>\n",
       "      <th>%_nonrefundable_support</th>\n",
       "    </tr>\n",
       "  </thead>\n",
       "  <tbody>\n",
       "    <tr>\n",
       "      <th>1281</th>\n",
       "      <td>Пока еще жива</td>\n",
       "      <td>111005313</td>\n",
       "      <td>2013-10-11 12:00:00+00:00</td>\n",
       "      <td>Художественный</td>\n",
       "      <td>АНО содействия развитию кинематографии \"Ангел-...</td>\n",
       "      <td>Россия</td>\n",
       "      <td>А.Атанесян</td>\n",
       "      <td>А.Атанесян, М.Бабаханов, Р.Бутко</td>\n",
       "      <td>«16+» - для детей старше 16 лет</td>\n",
       "      <td>0.0</td>\n",
       "      <td>...</td>\n",
       "      <td>драма,мелодрама</td>\n",
       "      <td>True</td>\n",
       "      <td>3.653536e+05</td>\n",
       "      <td>2013</td>\n",
       "      <td>А.Атанесян</td>\n",
       "      <td>драма</td>\n",
       "      <td>26500000.0</td>\n",
       "      <td>0.333703</td>\n",
       "      <td>0.000000</td>\n",
       "      <td>0.333703</td>\n",
       "    </tr>\n",
       "    <tr>\n",
       "      <th>1448</th>\n",
       "      <td>Бесславные придурки</td>\n",
       "      <td>111003314</td>\n",
       "      <td>2014-03-28 12:00:00+00:00</td>\n",
       "      <td>Художественный</td>\n",
       "      <td>ООО \"Компания \"АТК-Студио\"</td>\n",
       "      <td>Россия</td>\n",
       "      <td>А.Якимчук</td>\n",
       "      <td>А.Тютрюмов</td>\n",
       "      <td>«12+» - для детей старше 12 лет</td>\n",
       "      <td>0.0</td>\n",
       "      <td>...</td>\n",
       "      <td>неизвестно</td>\n",
       "      <td>True</td>\n",
       "      <td>2.814000e+04</td>\n",
       "      <td>2014</td>\n",
       "      <td>А.Якимчук</td>\n",
       "      <td>неизвестно</td>\n",
       "      <td>26000000.0</td>\n",
       "      <td>0.700000</td>\n",
       "      <td>0.000000</td>\n",
       "      <td>0.700000</td>\n",
       "    </tr>\n",
       "    <tr>\n",
       "      <th>1498</th>\n",
       "      <td>Невидимки</td>\n",
       "      <td>111004213</td>\n",
       "      <td>2013-09-10 12:00:00+00:00</td>\n",
       "      <td>Художественный</td>\n",
       "      <td>ООО \"Компания \"РЕАЛ-ДАКОТА\"</td>\n",
       "      <td>Россия</td>\n",
       "      <td>Р.Давлетьяров, С.Комаров</td>\n",
       "      <td>Р.Давлетьяров, А.Котелевский, А.Олейников</td>\n",
       "      <td>«12+» - для детей старше 12 лет</td>\n",
       "      <td>0.0</td>\n",
       "      <td>...</td>\n",
       "      <td>комедия,фантастика</td>\n",
       "      <td>True</td>\n",
       "      <td>1.995703e+07</td>\n",
       "      <td>2013</td>\n",
       "      <td>Р.Давлетьяров</td>\n",
       "      <td>комедия</td>\n",
       "      <td>107847945.0</td>\n",
       "      <td>0.612691</td>\n",
       "      <td>0.000000</td>\n",
       "      <td>0.612691</td>\n",
       "    </tr>\n",
       "    <tr>\n",
       "      <th>1524</th>\n",
       "      <td>БЕРЦЫ</td>\n",
       "      <td>111004314</td>\n",
       "      <td>2014-05-05 12:00:00+00:00</td>\n",
       "      <td>Художественный</td>\n",
       "      <td>ООО \"Студия \"Пассажир\"</td>\n",
       "      <td>Россия</td>\n",
       "      <td>Е.Миндадзе (псевдоним Катя Шагалова)</td>\n",
       "      <td>Л.Антонова</td>\n",
       "      <td>«16+» - для детей старше 16 лет</td>\n",
       "      <td>0.0</td>\n",
       "      <td>...</td>\n",
       "      <td>драма</td>\n",
       "      <td>True</td>\n",
       "      <td>5.591750e+04</td>\n",
       "      <td>2014</td>\n",
       "      <td>Е.Миндадзе (псевдоним Катя Шагалова)</td>\n",
       "      <td>драма</td>\n",
       "      <td>28000000.0</td>\n",
       "      <td>0.690095</td>\n",
       "      <td>0.000000</td>\n",
       "      <td>0.690095</td>\n",
       "    </tr>\n",
       "    <tr>\n",
       "      <th>1792</th>\n",
       "      <td>Братья Ч</td>\n",
       "      <td>111004414</td>\n",
       "      <td>2014-04-23 12:00:00+00:00</td>\n",
       "      <td>Художественный</td>\n",
       "      <td>ООО \"Студия \"Пассажир\"</td>\n",
       "      <td>Россия</td>\n",
       "      <td>М.Угаров</td>\n",
       "      <td>А.Миндадзе, Л.Антонова</td>\n",
       "      <td>«16+» - для детей старше 16 лет</td>\n",
       "      <td>0.0</td>\n",
       "      <td>...</td>\n",
       "      <td>драма</td>\n",
       "      <td>True</td>\n",
       "      <td>2.321000e+05</td>\n",
       "      <td>2014</td>\n",
       "      <td>М.Угаров</td>\n",
       "      <td>драма</td>\n",
       "      <td>25000000.0</td>\n",
       "      <td>0.624764</td>\n",
       "      <td>0.000000</td>\n",
       "      <td>0.624764</td>\n",
       "    </tr>\n",
       "    <tr>\n",
       "      <th>1853</th>\n",
       "      <td>Тайна Сухаревой башни. Чародей равновесия</td>\n",
       "      <td>114000115</td>\n",
       "      <td>2015-02-18 12:00:00+00:00</td>\n",
       "      <td>Анимационный</td>\n",
       "      <td>ООО \"Студия \"Мастер-Фильм\"</td>\n",
       "      <td>Россия</td>\n",
       "      <td>С.Серегин</td>\n",
       "      <td>А.Герасимов</td>\n",
       "      <td>«6+» - для детей старше 6 лет</td>\n",
       "      <td>0.0</td>\n",
       "      <td>...</td>\n",
       "      <td>мультфильм,фэнтези,история</td>\n",
       "      <td>True</td>\n",
       "      <td>1.507886e+07</td>\n",
       "      <td>2015</td>\n",
       "      <td>С.Серегин</td>\n",
       "      <td>мультфильм</td>\n",
       "      <td>25000000.0</td>\n",
       "      <td>0.482160</td>\n",
       "      <td>0.000000</td>\n",
       "      <td>0.482160</td>\n",
       "    </tr>\n",
       "    <tr>\n",
       "      <th>1869</th>\n",
       "      <td>А зори здесь тихие..._</td>\n",
       "      <td>111002915</td>\n",
       "      <td>2015-03-16 12:00:00+00:00</td>\n",
       "      <td>Художественный</td>\n",
       "      <td>ООО \"Компания \"Реал-Дакота\"</td>\n",
       "      <td>Россия</td>\n",
       "      <td>Р.Давлетьяров</td>\n",
       "      <td>неизвестно</td>\n",
       "      <td>«12+» - для детей старше 12 лет</td>\n",
       "      <td>50000000.0</td>\n",
       "      <td>...</td>\n",
       "      <td>драма,военный,история</td>\n",
       "      <td>True</td>\n",
       "      <td>2.491668e+08</td>\n",
       "      <td>2015</td>\n",
       "      <td>Р.Давлетьяров</td>\n",
       "      <td>драма</td>\n",
       "      <td>150000000.0</td>\n",
       "      <td>0.680000</td>\n",
       "      <td>0.226667</td>\n",
       "      <td>0.453333</td>\n",
       "    </tr>\n",
       "    <tr>\n",
       "      <th>1870</th>\n",
       "      <td>Две женщины</td>\n",
       "      <td>111013714</td>\n",
       "      <td>2014-10-02 12:00:00+00:00</td>\n",
       "      <td>Художественный</td>\n",
       "      <td>ООО \"Продюсерский Центр \"Хорошо Продакшн\", Rez...</td>\n",
       "      <td>Россия,Франция,Латвия</td>\n",
       "      <td>В.Глаголева</td>\n",
       "      <td>Н.Иванова</td>\n",
       "      <td>«12+» - для детей старше 12 лет</td>\n",
       "      <td>0.0</td>\n",
       "      <td>...</td>\n",
       "      <td>драма</td>\n",
       "      <td>True</td>\n",
       "      <td>4.731240e+06</td>\n",
       "      <td>2014</td>\n",
       "      <td>В.Глаголева</td>\n",
       "      <td>драма</td>\n",
       "      <td>46502299.0</td>\n",
       "      <td>0.539407</td>\n",
       "      <td>0.000000</td>\n",
       "      <td>0.539407</td>\n",
       "    </tr>\n",
       "    <tr>\n",
       "      <th>1902</th>\n",
       "      <td>Призрак_.</td>\n",
       "      <td>111001815</td>\n",
       "      <td>2015-03-02 12:00:00+00:00</td>\n",
       "      <td>Художественный</td>\n",
       "      <td>ООО \"Водород 2011\"</td>\n",
       "      <td>Россия</td>\n",
       "      <td>А.Войтинский</td>\n",
       "      <td>С.Сельянов</td>\n",
       "      <td>«6+» - для детей старше 6 лет</td>\n",
       "      <td>0.0</td>\n",
       "      <td>...</td>\n",
       "      <td>триллер,боевик,приключения</td>\n",
       "      <td>True</td>\n",
       "      <td>3.528043e+08</td>\n",
       "      <td>2015</td>\n",
       "      <td>А.Войтинский</td>\n",
       "      <td>триллер</td>\n",
       "      <td>75000000.0</td>\n",
       "      <td>0.537436</td>\n",
       "      <td>0.000000</td>\n",
       "      <td>0.537436</td>\n",
       "    </tr>\n",
       "    <tr>\n",
       "      <th>1911</th>\n",
       "      <td>Ведьма .</td>\n",
       "      <td>111002215</td>\n",
       "      <td>2015-03-05 12:00:00+00:00</td>\n",
       "      <td>Художественный</td>\n",
       "      <td>ООО \"Кинокомпания \"Ракурс\"</td>\n",
       "      <td>Россия</td>\n",
       "      <td>Д.Федоров</td>\n",
       "      <td>В.Сидоренко</td>\n",
       "      <td>«16+» - для детей старше 16 лет</td>\n",
       "      <td>0.0</td>\n",
       "      <td>...</td>\n",
       "      <td>фэнтези,приключения,драма</td>\n",
       "      <td>True</td>\n",
       "      <td>5.190750e+04</td>\n",
       "      <td>2015</td>\n",
       "      <td>Д.Федоров</td>\n",
       "      <td>фэнтези</td>\n",
       "      <td>34000000.0</td>\n",
       "      <td>0.700000</td>\n",
       "      <td>0.000000</td>\n",
       "      <td>0.700000</td>\n",
       "    </tr>\n",
       "    <tr>\n",
       "      <th>1986</th>\n",
       "      <td>Елки Лохматые</td>\n",
       "      <td>111023114</td>\n",
       "      <td>2014-12-10 12:00:00+00:00</td>\n",
       "      <td>Художественный</td>\n",
       "      <td>ООО \"ТаББаК\"</td>\n",
       "      <td>Россия</td>\n",
       "      <td>Максим Свешников</td>\n",
       "      <td>Тимур Бекмамбетов, Евгения Аронова</td>\n",
       "      <td>«6+» - для детей старше 6 лет</td>\n",
       "      <td>26000000.0</td>\n",
       "      <td>...</td>\n",
       "      <td>семейный,комедия</td>\n",
       "      <td>True</td>\n",
       "      <td>1.212256e+08</td>\n",
       "      <td>2014</td>\n",
       "      <td>Максим Свешников</td>\n",
       "      <td>семейный</td>\n",
       "      <td>56000000.0</td>\n",
       "      <td>0.700000</td>\n",
       "      <td>0.325000</td>\n",
       "      <td>0.375000</td>\n",
       "    </tr>\n",
       "    <tr>\n",
       "      <th>1990</th>\n",
       "      <td>Смайлик</td>\n",
       "      <td>111008614</td>\n",
       "      <td>2014-08-08 12:00:00+00:00</td>\n",
       "      <td>Художественный</td>\n",
       "      <td>ООО \"Продюсерская кинокомпания \"Киномир\"</td>\n",
       "      <td>Россия</td>\n",
       "      <td>Т.Аленикова</td>\n",
       "      <td>Т.Яковенко</td>\n",
       "      <td>«16+» - для детей старше 16 лет</td>\n",
       "      <td>0.0</td>\n",
       "      <td>...</td>\n",
       "      <td>мелодрама</td>\n",
       "      <td>True</td>\n",
       "      <td>5.542510e+05</td>\n",
       "      <td>2014</td>\n",
       "      <td>Т.Аленикова</td>\n",
       "      <td>мелодрама</td>\n",
       "      <td>25000000.0</td>\n",
       "      <td>0.689474</td>\n",
       "      <td>0.000000</td>\n",
       "      <td>0.689474</td>\n",
       "    </tr>\n",
       "    <tr>\n",
       "      <th>1996</th>\n",
       "      <td>Овечка Долли была злая и рано умерла</td>\n",
       "      <td>111015214</td>\n",
       "      <td>2014-11-10 12:00:00+00:00</td>\n",
       "      <td>Художественный</td>\n",
       "      <td>ООО \"Пиманов и партнеры\"</td>\n",
       "      <td>Россия</td>\n",
       "      <td>А.Пиманов</td>\n",
       "      <td>А.Пиманов, О.Погодина</td>\n",
       "      <td>«12+» - для детей старше 12 лет</td>\n",
       "      <td>0.0</td>\n",
       "      <td>...</td>\n",
       "      <td>фантастика,комедия,приключения</td>\n",
       "      <td>True</td>\n",
       "      <td>4.353485e+07</td>\n",
       "      <td>2014</td>\n",
       "      <td>А.Пиманов</td>\n",
       "      <td>фантастика</td>\n",
       "      <td>25000000.0</td>\n",
       "      <td>0.352728</td>\n",
       "      <td>0.000000</td>\n",
       "      <td>0.352728</td>\n",
       "    </tr>\n",
       "    <tr>\n",
       "      <th>2004</th>\n",
       "      <td>Снежная Королева 2: Перезаморозка</td>\n",
       "      <td>114000214</td>\n",
       "      <td>2014-11-13 12:00:00+00:00</td>\n",
       "      <td>Анимационный</td>\n",
       "      <td>ООО \"ВИЗАРТ ФИЛЬМ\"</td>\n",
       "      <td>Россия</td>\n",
       "      <td>А.Цицилин</td>\n",
       "      <td>ООО \"ВИЗАРТ ФИЛЬМ\", ООО \"ТаББаК\"</td>\n",
       "      <td>«0+» - для любой зрительской аудитории</td>\n",
       "      <td>30000000.0</td>\n",
       "      <td>...</td>\n",
       "      <td>мультфильм,фэнтези,приключения</td>\n",
       "      <td>True</td>\n",
       "      <td>3.134898e+08</td>\n",
       "      <td>2014</td>\n",
       "      <td>А.Цицилин</td>\n",
       "      <td>мультфильм</td>\n",
       "      <td>70000000.0</td>\n",
       "      <td>0.277239</td>\n",
       "      <td>0.118817</td>\n",
       "      <td>0.158422</td>\n",
       "    </tr>\n",
       "    <tr>\n",
       "      <th>2013</th>\n",
       "      <td>Дедушка моей мечты</td>\n",
       "      <td>111007714</td>\n",
       "      <td>2014-07-22 12:00:00+00:00</td>\n",
       "      <td>Художественный</td>\n",
       "      <td>ООО \"Пендулум\"</td>\n",
       "      <td>Россия</td>\n",
       "      <td>А.Стриженов</td>\n",
       "      <td>Л.Якубович, А.Стриженов, Л.Лищинская</td>\n",
       "      <td>«12+» - для детей старше 12 лет</td>\n",
       "      <td>0.0</td>\n",
       "      <td>...</td>\n",
       "      <td>комедия,семейный</td>\n",
       "      <td>True</td>\n",
       "      <td>6.277796e+06</td>\n",
       "      <td>2014</td>\n",
       "      <td>А.Стриженов</td>\n",
       "      <td>комедия</td>\n",
       "      <td>28000000.0</td>\n",
       "      <td>0.373782</td>\n",
       "      <td>0.000000</td>\n",
       "      <td>0.373782</td>\n",
       "    </tr>\n",
       "    <tr>\n",
       "      <th>2083</th>\n",
       "      <td>Дорога на Берлин</td>\n",
       "      <td>111001315</td>\n",
       "      <td>2015-02-17 12:00:00+00:00</td>\n",
       "      <td>Художественный</td>\n",
       "      <td>ООО \"Продюсерская компания Александра Литвинов...</td>\n",
       "      <td>Россия</td>\n",
       "      <td>С.Попов</td>\n",
       "      <td>А.Литвинов, К.Шахназаров</td>\n",
       "      <td>«12+» - для детей старше 12 лет</td>\n",
       "      <td>0.0</td>\n",
       "      <td>...</td>\n",
       "      <td>военный,драма,история</td>\n",
       "      <td>True</td>\n",
       "      <td>2.272358e+07</td>\n",
       "      <td>2015</td>\n",
       "      <td>С.Попов</td>\n",
       "      <td>военный</td>\n",
       "      <td>45000000.0</td>\n",
       "      <td>0.501212</td>\n",
       "      <td>0.000000</td>\n",
       "      <td>0.501212</td>\n",
       "    </tr>\n",
       "    <tr>\n",
       "      <th>2091</th>\n",
       "      <td>Батальонъ</td>\n",
       "      <td>111000715</td>\n",
       "      <td>2015-01-29 12:00:00+00:00</td>\n",
       "      <td>Художественный</td>\n",
       "      <td>ООО \"Корнер Ворк\", ООО \"Арт Пикчерс Студия\"</td>\n",
       "      <td>Россия</td>\n",
       "      <td>Д.Месхиев</td>\n",
       "      <td>И.Угольников</td>\n",
       "      <td>«12+» - для детей старше 12 лет</td>\n",
       "      <td>0.0</td>\n",
       "      <td>...</td>\n",
       "      <td>драма,военный,история</td>\n",
       "      <td>True</td>\n",
       "      <td>4.518122e+08</td>\n",
       "      <td>2015</td>\n",
       "      <td>Д.Месхиев</td>\n",
       "      <td>драма</td>\n",
       "      <td>56579055.0</td>\n",
       "      <td>0.129638</td>\n",
       "      <td>0.000000</td>\n",
       "      <td>0.129638</td>\n",
       "    </tr>\n",
       "    <tr>\n",
       "      <th>2105</th>\n",
       "      <td>С пяти до семи</td>\n",
       "      <td>111000615</td>\n",
       "      <td>2015-01-28 12:00:00+00:00</td>\n",
       "      <td>Художественный</td>\n",
       "      <td>ООО \"АМАЛЬГАМА ПРОДАКШН\"</td>\n",
       "      <td>Россия</td>\n",
       "      <td>В.Щегольков</td>\n",
       "      <td>А.Феофанов, С.Новиков</td>\n",
       "      <td>«16+» - для детей старше 16 лет</td>\n",
       "      <td>0.0</td>\n",
       "      <td>...</td>\n",
       "      <td>драма,мелодрама</td>\n",
       "      <td>True</td>\n",
       "      <td>3.669980e+05</td>\n",
       "      <td>2015</td>\n",
       "      <td>В.Щегольков</td>\n",
       "      <td>драма</td>\n",
       "      <td>25500000.0</td>\n",
       "      <td>0.629630</td>\n",
       "      <td>0.000000</td>\n",
       "      <td>0.629630</td>\n",
       "    </tr>\n",
       "    <tr>\n",
       "      <th>2107</th>\n",
       "      <td>ОХРАНА</td>\n",
       "      <td>111001115</td>\n",
       "      <td>2015-02-11 12:00:00+00:00</td>\n",
       "      <td>Художественный</td>\n",
       "      <td>ООО \"Амкарт\"</td>\n",
       "      <td>Россия</td>\n",
       "      <td>А.Прошкин</td>\n",
       "      <td>Д.Пиркулов</td>\n",
       "      <td>«16+» - для детей старше 16 лет</td>\n",
       "      <td>0.0</td>\n",
       "      <td>...</td>\n",
       "      <td>драма,комедия</td>\n",
       "      <td>True</td>\n",
       "      <td>3.107380e+05</td>\n",
       "      <td>2015</td>\n",
       "      <td>А.Прошкин</td>\n",
       "      <td>драма</td>\n",
       "      <td>45000000.0</td>\n",
       "      <td>0.657024</td>\n",
       "      <td>0.000000</td>\n",
       "      <td>0.657024</td>\n",
       "    </tr>\n",
       "    <tr>\n",
       "      <th>2108</th>\n",
       "      <td>Полное превращение</td>\n",
       "      <td>111001215</td>\n",
       "      <td>2015-02-12 12:00:00+00:00</td>\n",
       "      <td>Художественный</td>\n",
       "      <td>ООО \"Каро Продакшн\"</td>\n",
       "      <td>Россия</td>\n",
       "      <td>П.Санаев, Ф.Коршунов</td>\n",
       "      <td>Ю.Обухов, А.Рязанцев</td>\n",
       "      <td>«16+» - для детей старше 16 лет</td>\n",
       "      <td>0.0</td>\n",
       "      <td>...</td>\n",
       "      <td>комедия,фантастика</td>\n",
       "      <td>True</td>\n",
       "      <td>1.166319e+07</td>\n",
       "      <td>2015</td>\n",
       "      <td>П.Санаев</td>\n",
       "      <td>комедия</td>\n",
       "      <td>30000000.0</td>\n",
       "      <td>0.666569</td>\n",
       "      <td>0.000000</td>\n",
       "      <td>0.666569</td>\n",
       "    </tr>\n",
       "    <tr>\n",
       "      <th>2131</th>\n",
       "      <td>Битва за Севастополь</td>\n",
       "      <td>111001415</td>\n",
       "      <td>2015-02-20 12:00:00+00:00</td>\n",
       "      <td>Художественный</td>\n",
       "      <td>ООО \"Кинокомпания \"Новые люди\", ООО \"Студия \"К...</td>\n",
       "      <td>Россия,Украина</td>\n",
       "      <td>С.Мокрицкий</td>\n",
       "      <td>Н.Мокрицкая, Е.Олесов</td>\n",
       "      <td>«12+» - для детей старше 12 лет</td>\n",
       "      <td>0.0</td>\n",
       "      <td>...</td>\n",
       "      <td>биография,военный,драма</td>\n",
       "      <td>True</td>\n",
       "      <td>4.018045e+08</td>\n",
       "      <td>2015</td>\n",
       "      <td>С.Мокрицкий</td>\n",
       "      <td>биография</td>\n",
       "      <td>27510000.0</td>\n",
       "      <td>0.210000</td>\n",
       "      <td>0.000000</td>\n",
       "      <td>0.210000</td>\n",
       "    </tr>\n",
       "    <tr>\n",
       "      <th>2141</th>\n",
       "      <td>Территория</td>\n",
       "      <td>111000515</td>\n",
       "      <td>2015-01-27 12:00:00+00:00</td>\n",
       "      <td>Художественный</td>\n",
       "      <td>ООО \"Творческое объединение \"Кинокомпания \"Анд...</td>\n",
       "      <td>Россия</td>\n",
       "      <td>А.Мельник</td>\n",
       "      <td>А.Мельник</td>\n",
       "      <td>«12+» - для детей старше 12 лет</td>\n",
       "      <td>30000000.0</td>\n",
       "      <td>...</td>\n",
       "      <td>детектив,фэнтези,триллер</td>\n",
       "      <td>True</td>\n",
       "      <td>7.257832e+07</td>\n",
       "      <td>2015</td>\n",
       "      <td>А.Мельник</td>\n",
       "      <td>детектив</td>\n",
       "      <td>60000000.0</td>\n",
       "      <td>0.120000</td>\n",
       "      <td>0.060000</td>\n",
       "      <td>0.060000</td>\n",
       "    </tr>\n",
       "    <tr>\n",
       "      <th>2142</th>\n",
       "      <td>Неуловимые .</td>\n",
       "      <td>111002715</td>\n",
       "      <td>2015-03-16 12:00:00+00:00</td>\n",
       "      <td>Художественный</td>\n",
       "      <td>ООО \"Энджой мувиз\", ООО \"Ультра стори\"</td>\n",
       "      <td>Россия</td>\n",
       "      <td>А.Аксененко</td>\n",
       "      <td>Г.Малков, В.Поляков, И.Капитонов, В.Муругов</td>\n",
       "      <td>«16+» - для детей старше 16 лет</td>\n",
       "      <td>0.0</td>\n",
       "      <td>...</td>\n",
       "      <td>боевик,драма</td>\n",
       "      <td>True</td>\n",
       "      <td>3.300553e+07</td>\n",
       "      <td>2015</td>\n",
       "      <td>А.Аксененко</td>\n",
       "      <td>боевик</td>\n",
       "      <td>25000000.0</td>\n",
       "      <td>0.409759</td>\n",
       "      <td>0.000000</td>\n",
       "      <td>0.409759</td>\n",
       "    </tr>\n",
       "    <tr>\n",
       "      <th>2145</th>\n",
       "      <td>Главный</td>\n",
       "      <td>111003415</td>\n",
       "      <td>2015-03-27 12:00:00+00:00</td>\n",
       "      <td>Художественный</td>\n",
       "      <td>ООО \"Киностудия \"МАСТЕР\"</td>\n",
       "      <td>Россия</td>\n",
       "      <td>Ю.Кара</td>\n",
       "      <td>Ю.Кара</td>\n",
       "      <td>«6+» - для детей старше 6 лет</td>\n",
       "      <td>0.0</td>\n",
       "      <td>...</td>\n",
       "      <td>фантастика,боевик,комедия</td>\n",
       "      <td>True</td>\n",
       "      <td>3.347500e+05</td>\n",
       "      <td>2015</td>\n",
       "      <td>Ю.Кара</td>\n",
       "      <td>фантастика</td>\n",
       "      <td>10000000.0</td>\n",
       "      <td>0.250000</td>\n",
       "      <td>0.000000</td>\n",
       "      <td>0.250000</td>\n",
       "    </tr>\n",
       "    <tr>\n",
       "      <th>2149</th>\n",
       "      <td>РЕВЕРБЕРАЦИЯ</td>\n",
       "      <td>111003515</td>\n",
       "      <td>2015-03-30 12:00:00+00:00</td>\n",
       "      <td>Художественный</td>\n",
       "      <td>ООО \"Артлайт\"</td>\n",
       "      <td>Россия</td>\n",
       "      <td>К.Сухарьков</td>\n",
       "      <td>А.Новиков</td>\n",
       "      <td>«18+» - запрещено для детей</td>\n",
       "      <td>0.0</td>\n",
       "      <td>...</td>\n",
       "      <td>неизвестно</td>\n",
       "      <td>True</td>\n",
       "      <td>1.982000e+04</td>\n",
       "      <td>2015</td>\n",
       "      <td>К.Сухарьков</td>\n",
       "      <td>неизвестно</td>\n",
       "      <td>25000000.0</td>\n",
       "      <td>0.668963</td>\n",
       "      <td>0.000000</td>\n",
       "      <td>0.668963</td>\n",
       "    </tr>\n",
       "    <tr>\n",
       "      <th>2165</th>\n",
       "      <td>Находка.</td>\n",
       "      <td>111003615</td>\n",
       "      <td>2015-04-02 12:00:00+00:00</td>\n",
       "      <td>Художественный</td>\n",
       "      <td>ООО \"Кинокомпания \"Фигаро\"</td>\n",
       "      <td>Россия</td>\n",
       "      <td>В.Демент</td>\n",
       "      <td>Н.Будкина</td>\n",
       "      <td>«16+» - для детей старше 16 лет</td>\n",
       "      <td>0.0</td>\n",
       "      <td>...</td>\n",
       "      <td>драма</td>\n",
       "      <td>True</td>\n",
       "      <td>8.543345e+05</td>\n",
       "      <td>2015</td>\n",
       "      <td>В.Демент</td>\n",
       "      <td>драма</td>\n",
       "      <td>24000000.0</td>\n",
       "      <td>0.679945</td>\n",
       "      <td>0.000000</td>\n",
       "      <td>0.679945</td>\n",
       "    </tr>\n",
       "    <tr>\n",
       "      <th>2168</th>\n",
       "      <td>Трагедия в бухте Роджерс</td>\n",
       "      <td>111003215</td>\n",
       "      <td>2015-03-26 12:00:00+00:00</td>\n",
       "      <td>Художественный</td>\n",
       "      <td>ООО \"Валдай\"</td>\n",
       "      <td>Россия</td>\n",
       "      <td>Ф.Абрютин</td>\n",
       "      <td>С.Кучмаева, С.Зернов</td>\n",
       "      <td>«12+» - для детей старше 12 лет</td>\n",
       "      <td>0.0</td>\n",
       "      <td>...</td>\n",
       "      <td>детектив,история,драма</td>\n",
       "      <td>True</td>\n",
       "      <td>4.005000e+04</td>\n",
       "      <td>2015</td>\n",
       "      <td>Ф.Абрютин</td>\n",
       "      <td>детектив</td>\n",
       "      <td>30000000.0</td>\n",
       "      <td>0.697674</td>\n",
       "      <td>0.000000</td>\n",
       "      <td>0.697674</td>\n",
       "    </tr>\n",
       "    <tr>\n",
       "      <th>2204</th>\n",
       "      <td>8 новых свиданий</td>\n",
       "      <td>111014914</td>\n",
       "      <td>2014-10-30 12:00:00+00:00</td>\n",
       "      <td>Художественный</td>\n",
       "      <td>ООО \"Смарт ТВ Продакшн\"</td>\n",
       "      <td>Россия</td>\n",
       "      <td>М.Бальчюнас</td>\n",
       "      <td>ООО \"Грин Филмс\", ООО \"ПЦ \"Горад\"</td>\n",
       "      <td>«12+» - для детей старше 12 лет</td>\n",
       "      <td>0.0</td>\n",
       "      <td>...</td>\n",
       "      <td>комедия</td>\n",
       "      <td>True</td>\n",
       "      <td>3.933446e+08</td>\n",
       "      <td>2014</td>\n",
       "      <td>М.Бальчюнас</td>\n",
       "      <td>комедия</td>\n",
       "      <td>30000000.0</td>\n",
       "      <td>0.387588</td>\n",
       "      <td>0.000000</td>\n",
       "      <td>0.387588</td>\n",
       "    </tr>\n",
       "    <tr>\n",
       "      <th>2264</th>\n",
       "      <td>КЛЕТКА (по мотивам фантастического рассказа Ф....</td>\n",
       "      <td>111015314</td>\n",
       "      <td>2014-11-14 12:00:00+00:00</td>\n",
       "      <td>Художественный</td>\n",
       "      <td>ООО Кинокомпания \"Фортуна Фильм\", ООО \"Центр Ю...</td>\n",
       "      <td>Россия</td>\n",
       "      <td>Э.Архангельская, М.Пандурски</td>\n",
       "      <td>Э.Архангельская, А.Пискунова, Ю.Арабов</td>\n",
       "      <td>«16+» - для детей старше 16 лет</td>\n",
       "      <td>0.0</td>\n",
       "      <td>...</td>\n",
       "      <td>драма,детектив</td>\n",
       "      <td>True</td>\n",
       "      <td>9.559705e+05</td>\n",
       "      <td>2014</td>\n",
       "      <td>Э.Архангельская</td>\n",
       "      <td>драма</td>\n",
       "      <td>24500000.0</td>\n",
       "      <td>0.700000</td>\n",
       "      <td>0.000000</td>\n",
       "      <td>0.700000</td>\n",
       "    </tr>\n",
       "    <tr>\n",
       "      <th>2268</th>\n",
       "      <td>Исповедь Z@drota</td>\n",
       "      <td>111014214</td>\n",
       "      <td>2014-10-15 12:00:00+00:00</td>\n",
       "      <td>Художественный</td>\n",
       "      <td>ООО \"Магнум-фильм\" по заказу ООО \"ММЕ\"</td>\n",
       "      <td>Россия</td>\n",
       "      <td>К.Шипенко</td>\n",
       "      <td>Р.Дишдишян, ООО \"ММЕ\"</td>\n",
       "      <td>«18+» - запрещено для детей</td>\n",
       "      <td>0.0</td>\n",
       "      <td>...</td>\n",
       "      <td>драма</td>\n",
       "      <td>True</td>\n",
       "      <td>1.523750e+06</td>\n",
       "      <td>2014</td>\n",
       "      <td>К.Шипенко</td>\n",
       "      <td>драма</td>\n",
       "      <td>27000000.0</td>\n",
       "      <td>0.527378</td>\n",
       "      <td>0.000000</td>\n",
       "      <td>0.527378</td>\n",
       "    </tr>\n",
       "    <tr>\n",
       "      <th>2287</th>\n",
       "      <td>12 месяцев. Новая сказка</td>\n",
       "      <td>111014414</td>\n",
       "      <td>2014-10-16 12:00:00+00:00</td>\n",
       "      <td>Художественный</td>\n",
       "      <td>ООО \"Киностудия \"Никола-фильм\", ООО \"Инвестмен...</td>\n",
       "      <td>Россия</td>\n",
       "      <td>Д.Елеонский</td>\n",
       "      <td>И.Каленов</td>\n",
       "      <td>«0+» - для любой зрительской аудитории</td>\n",
       "      <td>15000000.0</td>\n",
       "      <td>...</td>\n",
       "      <td>семейный,фэнтези</td>\n",
       "      <td>True</td>\n",
       "      <td>3.224481e+07</td>\n",
       "      <td>2014</td>\n",
       "      <td>Д.Елеонский</td>\n",
       "      <td>семейный</td>\n",
       "      <td>20000000.0</td>\n",
       "      <td>0.221926</td>\n",
       "      <td>0.166445</td>\n",
       "      <td>0.055482</td>\n",
       "    </tr>\n",
       "    <tr>\n",
       "      <th>2363</th>\n",
       "      <td>Левиафан.</td>\n",
       "      <td>111009714</td>\n",
       "      <td>2014-09-11 12:00:00+00:00</td>\n",
       "      <td>Художественный</td>\n",
       "      <td>ООО \"Нон-Стоп Продакшн\"</td>\n",
       "      <td>Россия</td>\n",
       "      <td>А.Звягинцев</td>\n",
       "      <td>А.Роднянский, С.Мелькумов</td>\n",
       "      <td>«18+» - запрещено для детей</td>\n",
       "      <td>0.0</td>\n",
       "      <td>...</td>\n",
       "      <td>драма,криминал</td>\n",
       "      <td>True</td>\n",
       "      <td>8.812004e+07</td>\n",
       "      <td>2014</td>\n",
       "      <td>А.Звягинцев</td>\n",
       "      <td>драма</td>\n",
       "      <td>90000000.0</td>\n",
       "      <td>0.336714</td>\n",
       "      <td>0.000000</td>\n",
       "      <td>0.336714</td>\n",
       "    </tr>\n",
       "    <tr>\n",
       "      <th>2378</th>\n",
       "      <td>Экспириенс</td>\n",
       "      <td>111000315</td>\n",
       "      <td>2015-01-13 12:00:00+00:00</td>\n",
       "      <td>Художественный</td>\n",
       "      <td>ООО \"Компания \"АТК-Студио\"</td>\n",
       "      <td>Россия</td>\n",
       "      <td>Е.Татаров</td>\n",
       "      <td>А.Тютрюмов</td>\n",
       "      <td>«16+» - для детей старше 16 лет</td>\n",
       "      <td>0.0</td>\n",
       "      <td>...</td>\n",
       "      <td>драма</td>\n",
       "      <td>True</td>\n",
       "      <td>3.655000e+04</td>\n",
       "      <td>2015</td>\n",
       "      <td>Е.Татаров</td>\n",
       "      <td>драма</td>\n",
       "      <td>26000000.0</td>\n",
       "      <td>0.700000</td>\n",
       "      <td>0.000000</td>\n",
       "      <td>0.700000</td>\n",
       "    </tr>\n",
       "    <tr>\n",
       "      <th>2379</th>\n",
       "      <td>Ангелы Революции</td>\n",
       "      <td>111023214</td>\n",
       "      <td>2014-12-11 12:00:00+00:00</td>\n",
       "      <td>Художественный</td>\n",
       "      <td>ООО \"29 февраля\"</td>\n",
       "      <td>Россия</td>\n",
       "      <td>А.Федорченко</td>\n",
       "      <td>Д.Воробьев, А.Федорченко, Л.Лебедев</td>\n",
       "      <td>«16+» - для детей старше 16 лет</td>\n",
       "      <td>0.0</td>\n",
       "      <td>...</td>\n",
       "      <td>драма</td>\n",
       "      <td>True</td>\n",
       "      <td>8.691810e+05</td>\n",
       "      <td>2014</td>\n",
       "      <td>А.Федорченко</td>\n",
       "      <td>драма</td>\n",
       "      <td>28000000.0</td>\n",
       "      <td>0.700000</td>\n",
       "      <td>0.000000</td>\n",
       "      <td>0.700000</td>\n",
       "    </tr>\n",
       "    <tr>\n",
       "      <th>2396</th>\n",
       "      <td>Небесный верблюд</td>\n",
       "      <td>111000115</td>\n",
       "      <td>2015-01-14 12:00:00+00:00</td>\n",
       "      <td>Художественный</td>\n",
       "      <td>ООО Продюсерский центр \"Всё хорошо\"</td>\n",
       "      <td>Россия</td>\n",
       "      <td>Ю.Фетинг</td>\n",
       "      <td>И.Плиско</td>\n",
       "      <td>«0+» - для любой зрительской аудитории</td>\n",
       "      <td>0.0</td>\n",
       "      <td>...</td>\n",
       "      <td>детский,семейный</td>\n",
       "      <td>True</td>\n",
       "      <td>6.104000e+04</td>\n",
       "      <td>2015</td>\n",
       "      <td>Ю.Фетинг</td>\n",
       "      <td>детский</td>\n",
       "      <td>34000000.0</td>\n",
       "      <td>0.689928</td>\n",
       "      <td>0.000000</td>\n",
       "      <td>0.689928</td>\n",
       "    </tr>\n",
       "    <tr>\n",
       "      <th>2450</th>\n",
       "      <td>ПРАЗДНИК НЕПОСЛУШАНИЯ</td>\n",
       "      <td>111016215</td>\n",
       "      <td>2015-08-28 12:00:00+00:00</td>\n",
       "      <td>Художественный</td>\n",
       "      <td>АНО \"Творческая студия \"Стелла\"</td>\n",
       "      <td>Россия</td>\n",
       "      <td>В.Харченко, А.Волков</td>\n",
       "      <td>Ф.Попов</td>\n",
       "      <td>«6+» - для детей старше 6 лет</td>\n",
       "      <td>0.0</td>\n",
       "      <td>...</td>\n",
       "      <td>неизвестно</td>\n",
       "      <td>True</td>\n",
       "      <td>1.825100e+05</td>\n",
       "      <td>2015</td>\n",
       "      <td>В.Харченко</td>\n",
       "      <td>неизвестно</td>\n",
       "      <td>34000000.0</td>\n",
       "      <td>0.692868</td>\n",
       "      <td>0.000000</td>\n",
       "      <td>0.692868</td>\n",
       "    </tr>\n",
       "    <tr>\n",
       "      <th>2460</th>\n",
       "      <td>Парень с нашего кладбища</td>\n",
       "      <td>111016415</td>\n",
       "      <td>2015-09-02 12:00:00+00:00</td>\n",
       "      <td>Художественный</td>\n",
       "      <td>ООО \"Кинокомпания \"СТВ\"</td>\n",
       "      <td>Россия</td>\n",
       "      <td>И.Чижиков, А.Чижиков</td>\n",
       "      <td>С.Сельянов</td>\n",
       "      <td>«12+» - для детей старше 12 лет</td>\n",
       "      <td>0.0</td>\n",
       "      <td>...</td>\n",
       "      <td>комедия,триллер</td>\n",
       "      <td>True</td>\n",
       "      <td>1.493668e+07</td>\n",
       "      <td>2015</td>\n",
       "      <td>И.Чижиков</td>\n",
       "      <td>комедия</td>\n",
       "      <td>20000000.0</td>\n",
       "      <td>0.425814</td>\n",
       "      <td>0.000000</td>\n",
       "      <td>0.425814</td>\n",
       "    </tr>\n",
       "    <tr>\n",
       "      <th>2470</th>\n",
       "      <td>Pro любовь</td>\n",
       "      <td>111016615</td>\n",
       "      <td>2015-09-17 12:00:00+00:00</td>\n",
       "      <td>Художественный</td>\n",
       "      <td>ООО \"Магнум-фильм\"</td>\n",
       "      <td>Россия</td>\n",
       "      <td>А.Меликян</td>\n",
       "      <td>А.Меликян</td>\n",
       "      <td>«18+» - запрещено для детей</td>\n",
       "      <td>0.0</td>\n",
       "      <td>...</td>\n",
       "      <td>комедия</td>\n",
       "      <td>True</td>\n",
       "      <td>5.288230e+07</td>\n",
       "      <td>2015</td>\n",
       "      <td>А.Меликян</td>\n",
       "      <td>комедия</td>\n",
       "      <td>20000000.0</td>\n",
       "      <td>0.362352</td>\n",
       "      <td>0.000000</td>\n",
       "      <td>0.362352</td>\n",
       "    </tr>\n",
       "    <tr>\n",
       "      <th>2481</th>\n",
       "      <td>Однажды._</td>\n",
       "      <td>111004215</td>\n",
       "      <td>2015-04-15 12:00:00+00:00</td>\n",
       "      <td>Художественный</td>\n",
       "      <td>ООО \"Компания \"РЕАЛ-ДАКОТА\", НП \"Интерфест\"</td>\n",
       "      <td>Россия</td>\n",
       "      <td>Р.Давлетьяров</td>\n",
       "      <td>Р.Давлетьяров, А.Котелевский</td>\n",
       "      <td>«16+» - для детей старше 16 лет</td>\n",
       "      <td>0.0</td>\n",
       "      <td>...</td>\n",
       "      <td>драма,криминал,детектив</td>\n",
       "      <td>True</td>\n",
       "      <td>1.274840e+07</td>\n",
       "      <td>2015</td>\n",
       "      <td>Р.Давлетьяров</td>\n",
       "      <td>драма</td>\n",
       "      <td>97000000.0</td>\n",
       "      <td>0.620361</td>\n",
       "      <td>0.000000</td>\n",
       "      <td>0.620361</td>\n",
       "    </tr>\n",
       "    <tr>\n",
       "      <th>2484</th>\n",
       "      <td>Чайки</td>\n",
       "      <td>111004615</td>\n",
       "      <td>2015-04-20 12:00:00+00:00</td>\n",
       "      <td>Художественный</td>\n",
       "      <td>ООО \"Кинокомпания \"Ладья\"</td>\n",
       "      <td>Россия</td>\n",
       "      <td>Э.Манжеева</td>\n",
       "      <td>Е.Гликман, Я.Живов</td>\n",
       "      <td>«16+» - для детей старше 16 лет</td>\n",
       "      <td>0.0</td>\n",
       "      <td>...</td>\n",
       "      <td>драма</td>\n",
       "      <td>True</td>\n",
       "      <td>3.599800e+05</td>\n",
       "      <td>2015</td>\n",
       "      <td>Э.Манжеева</td>\n",
       "      <td>драма</td>\n",
       "      <td>24450000.0</td>\n",
       "      <td>0.653310</td>\n",
       "      <td>0.000000</td>\n",
       "      <td>0.653310</td>\n",
       "    </tr>\n",
       "    <tr>\n",
       "      <th>2488</th>\n",
       "      <td>Последний вагон. Весна</td>\n",
       "      <td>111004115</td>\n",
       "      <td>2015-04-15 12:00:00+00:00</td>\n",
       "      <td>Художественный</td>\n",
       "      <td>ООО \"ТАН Фильм\"</td>\n",
       "      <td>Россия</td>\n",
       "      <td>А.Калинкин</td>\n",
       "      <td>Д.Ефремов, В.Пономаренко</td>\n",
       "      <td>«18+» - запрещено для детей</td>\n",
       "      <td>0.0</td>\n",
       "      <td>...</td>\n",
       "      <td>триллер</td>\n",
       "      <td>True</td>\n",
       "      <td>6.119300e+04</td>\n",
       "      <td>2015</td>\n",
       "      <td>А.Калинкин</td>\n",
       "      <td>триллер</td>\n",
       "      <td>25000000.0</td>\n",
       "      <td>0.699104</td>\n",
       "      <td>0.000000</td>\n",
       "      <td>0.699104</td>\n",
       "    </tr>\n",
       "    <tr>\n",
       "      <th>2516</th>\n",
       "      <td>Норвег</td>\n",
       "      <td>111018215</td>\n",
       "      <td>2015-10-15 12:00:00+00:00</td>\n",
       "      <td>Художественный</td>\n",
       "      <td>ООО \"Росмедиа Продакшн\" по заказу ООО \"МАРС МЕ...</td>\n",
       "      <td>Россия</td>\n",
       "      <td>Е.Константинова (псевдоним Алена Званцева)</td>\n",
       "      <td>Р.Дишдишян, ООО \"ММЕ\"</td>\n",
       "      <td>«12+» - для детей старше 12 лет</td>\n",
       "      <td>0.0</td>\n",
       "      <td>...</td>\n",
       "      <td>комедия</td>\n",
       "      <td>True</td>\n",
       "      <td>2.323980e+06</td>\n",
       "      <td>2015</td>\n",
       "      <td>Е.Константинова (псевдоним Алена Званцева)</td>\n",
       "      <td>комедия</td>\n",
       "      <td>5000000.0</td>\n",
       "      <td>0.177837</td>\n",
       "      <td>0.000000</td>\n",
       "      <td>0.177837</td>\n",
       "    </tr>\n",
       "    <tr>\n",
       "      <th>2526</th>\n",
       "      <td>Вдвоем на льдине.</td>\n",
       "      <td>111011015</td>\n",
       "      <td>2015-06-25 12:00:00+00:00</td>\n",
       "      <td>Художественный</td>\n",
       "      <td>ООО \"Первое творческое объединение\"</td>\n",
       "      <td>Россия</td>\n",
       "      <td>Н.Джорджадзе, В.Игнатьев</td>\n",
       "      <td>П.Поляков, И.Букреев</td>\n",
       "      <td>«12+» - для детей старше 12 лет</td>\n",
       "      <td>0.0</td>\n",
       "      <td>...</td>\n",
       "      <td>мелодрама</td>\n",
       "      <td>True</td>\n",
       "      <td>4.450000e+03</td>\n",
       "      <td>2015</td>\n",
       "      <td>Н.Джорджадзе</td>\n",
       "      <td>мелодрама</td>\n",
       "      <td>26500000.0</td>\n",
       "      <td>0.698404</td>\n",
       "      <td>0.000000</td>\n",
       "      <td>0.698404</td>\n",
       "    </tr>\n",
       "    <tr>\n",
       "      <th>2529</th>\n",
       "      <td>Крепость. Щитом и мечом</td>\n",
       "      <td>114003015</td>\n",
       "      <td>2015-10-21 12:00:00+00:00</td>\n",
       "      <td>Анимационный</td>\n",
       "      <td>ООО \"Студия анимационного кино \"Мельница\"</td>\n",
       "      <td>Россия</td>\n",
       "      <td>Ф.Дмитриев</td>\n",
       "      <td>С.Сельянов, А.Боярский</td>\n",
       "      <td>«6+» - для детей старше 6 лет</td>\n",
       "      <td>0.0</td>\n",
       "      <td>...</td>\n",
       "      <td>мультфильм,приключения,военный</td>\n",
       "      <td>True</td>\n",
       "      <td>7.274922e+07</td>\n",
       "      <td>2015</td>\n",
       "      <td>Ф.Дмитриев</td>\n",
       "      <td>мультфильм</td>\n",
       "      <td>50000000.0</td>\n",
       "      <td>0.361466</td>\n",
       "      <td>0.000000</td>\n",
       "      <td>0.361466</td>\n",
       "    </tr>\n",
       "    <tr>\n",
       "      <th>2530</th>\n",
       "      <td>Черная вода</td>\n",
       "      <td>111018315</td>\n",
       "      <td>2015-10-09 12:00:00+00:00</td>\n",
       "      <td>Художественный</td>\n",
       "      <td>ООО \"АРТЛАЙТ\"</td>\n",
       "      <td>Россия</td>\n",
       "      <td>Р.Каримов</td>\n",
       "      <td>А.Новиков, А.Котелевский</td>\n",
       "      <td>«16+» - для детей старше 16 лет</td>\n",
       "      <td>0.0</td>\n",
       "      <td>...</td>\n",
       "      <td>ужасы,драма</td>\n",
       "      <td>True</td>\n",
       "      <td>1.607720e+07</td>\n",
       "      <td>2015</td>\n",
       "      <td>Р.Каримов</td>\n",
       "      <td>ужасы</td>\n",
       "      <td>28000000.0</td>\n",
       "      <td>0.662683</td>\n",
       "      <td>0.000000</td>\n",
       "      <td>0.662683</td>\n",
       "    </tr>\n",
       "    <tr>\n",
       "      <th>2532</th>\n",
       "      <td>Райские кущи</td>\n",
       "      <td>111009415</td>\n",
       "      <td>2015-05-21 12:00:00+00:00</td>\n",
       "      <td>Художественный</td>\n",
       "      <td>ООО \"Кинокомпания \"ТАЛАН\"</td>\n",
       "      <td>Россия</td>\n",
       "      <td>А.Аравин, А.Прошкин</td>\n",
       "      <td>Н.Будкина</td>\n",
       "      <td>«16+» - для детей старше 16 лет</td>\n",
       "      <td>0.0</td>\n",
       "      <td>...</td>\n",
       "      <td>драма</td>\n",
       "      <td>True</td>\n",
       "      <td>1.184344e+06</td>\n",
       "      <td>2015</td>\n",
       "      <td>А.Аравин</td>\n",
       "      <td>драма</td>\n",
       "      <td>27000000.0</td>\n",
       "      <td>0.675169</td>\n",
       "      <td>0.000000</td>\n",
       "      <td>0.675169</td>\n",
       "    </tr>\n",
       "    <tr>\n",
       "      <th>2533</th>\n",
       "      <td>Конец прекрасной эпохи</td>\n",
       "      <td>111009915</td>\n",
       "      <td>2015-06-01 12:00:00+00:00</td>\n",
       "      <td>Художественный</td>\n",
       "      <td>ООО \"Киностудия \"ВЕРТИКАЛЬ\"</td>\n",
       "      <td>Россия</td>\n",
       "      <td>С.Говорухин</td>\n",
       "      <td>С.Говорухин, Е.Маскина</td>\n",
       "      <td>«16+» - для детей старше 16 лет</td>\n",
       "      <td>0.0</td>\n",
       "      <td>...</td>\n",
       "      <td>драма,комедия</td>\n",
       "      <td>True</td>\n",
       "      <td>1.502070e+07</td>\n",
       "      <td>2015</td>\n",
       "      <td>С.Говорухин</td>\n",
       "      <td>драма</td>\n",
       "      <td>28000000.0</td>\n",
       "      <td>0.250000</td>\n",
       "      <td>0.000000</td>\n",
       "      <td>0.250000</td>\n",
       "    </tr>\n",
       "    <tr>\n",
       "      <th>2534</th>\n",
       "      <td>72 часа</td>\n",
       "      <td>111011815</td>\n",
       "      <td>2015-07-15 12:00:00+00:00</td>\n",
       "      <td>Художественный</td>\n",
       "      <td>ООО \"Продюсерская компания Николая Расторгуева\"</td>\n",
       "      <td>Россия</td>\n",
       "      <td>К.Ангелина</td>\n",
       "      <td>И.Николенко, Н.Расторгуев</td>\n",
       "      <td>«12+» - для детей старше 12 лет</td>\n",
       "      <td>10000000.0</td>\n",
       "      <td>...</td>\n",
       "      <td>военный,драма</td>\n",
       "      <td>True</td>\n",
       "      <td>1.035554e+07</td>\n",
       "      <td>2015</td>\n",
       "      <td>К.Ангелина</td>\n",
       "      <td>военный</td>\n",
       "      <td>37000000.0</td>\n",
       "      <td>0.663922</td>\n",
       "      <td>0.179438</td>\n",
       "      <td>0.484484</td>\n",
       "    </tr>\n",
       "    <tr>\n",
       "      <th>2535</th>\n",
       "      <td>Частное пионерское-2</td>\n",
       "      <td>111004415</td>\n",
       "      <td>2015-04-15 12:00:00+00:00</td>\n",
       "      <td>Художественный</td>\n",
       "      <td>ООО \"Кинопрограмма XXI век\"</td>\n",
       "      <td>Россия</td>\n",
       "      <td>А.Карпиловский</td>\n",
       "      <td>В.Есинов</td>\n",
       "      <td>«6+» - для детей старше 6 лет</td>\n",
       "      <td>0.0</td>\n",
       "      <td>...</td>\n",
       "      <td>детский,приключения,семейный</td>\n",
       "      <td>True</td>\n",
       "      <td>9.774800e+05</td>\n",
       "      <td>2015</td>\n",
       "      <td>А.Карпиловский</td>\n",
       "      <td>детский</td>\n",
       "      <td>25000000.0</td>\n",
       "      <td>0.700000</td>\n",
       "      <td>0.000000</td>\n",
       "      <td>0.700000</td>\n",
       "    </tr>\n",
       "    <tr>\n",
       "      <th>2536</th>\n",
       "      <td>ВСТАВАЙ И БЕЙСЯ</td>\n",
       "      <td>111008615</td>\n",
       "      <td>2015-05-05 12:00:00+00:00</td>\n",
       "      <td>Художественный</td>\n",
       "      <td>ООО \"ЛИГА ПРОДАКШН\"</td>\n",
       "      <td>Россия,Италия</td>\n",
       "      <td>Стефано Лоренци</td>\n",
       "      <td>Жанфранко Пиччоли, Надежда Горшкова, Катерина ...</td>\n",
       "      <td>«18+» - запрещено для детей</td>\n",
       "      <td>0.0</td>\n",
       "      <td>...</td>\n",
       "      <td>драма</td>\n",
       "      <td>True</td>\n",
       "      <td>1.440400e+05</td>\n",
       "      <td>2015</td>\n",
       "      <td>Стефано Лоренци</td>\n",
       "      <td>драма</td>\n",
       "      <td>60000000.0</td>\n",
       "      <td>0.430548</td>\n",
       "      <td>0.000000</td>\n",
       "      <td>0.430548</td>\n",
       "    </tr>\n",
       "  </tbody>\n",
       "</table>\n",
       "<p>50 rows × 24 columns</p>\n",
       "</div>"
      ],
      "text/plain": [
       "                                                  title  pu_number  \\\n",
       "1281                                      Пока еще жива  111005313   \n",
       "1448                                Бесславные придурки  111003314   \n",
       "1498                                          Невидимки  111004213   \n",
       "1524                                              БЕРЦЫ  111004314   \n",
       "1792                                           Братья Ч  111004414   \n",
       "1853          Тайна Сухаревой башни. Чародей равновесия  114000115   \n",
       "1869                             А зори здесь тихие..._  111002915   \n",
       "1870                                        Две женщины  111013714   \n",
       "1902                                          Призрак_.  111001815   \n",
       "1911                                           Ведьма .  111002215   \n",
       "1986                                      Елки Лохматые  111023114   \n",
       "1990                                            Смайлик  111008614   \n",
       "1996               Овечка Долли была злая и рано умерла  111015214   \n",
       "2004                  Снежная Королева 2: Перезаморозка  114000214   \n",
       "2013                                 Дедушка моей мечты  111007714   \n",
       "2083                                   Дорога на Берлин  111001315   \n",
       "2091                                          Батальонъ  111000715   \n",
       "2105                                     С пяти до семи  111000615   \n",
       "2107                                             ОХРАНА  111001115   \n",
       "2108                                 Полное превращение  111001215   \n",
       "2131                               Битва за Севастополь  111001415   \n",
       "2141                                         Территория  111000515   \n",
       "2142                                       Неуловимые .  111002715   \n",
       "2145                                            Главный  111003415   \n",
       "2149                                       РЕВЕРБЕРАЦИЯ  111003515   \n",
       "2165                                           Находка.  111003615   \n",
       "2168                           Трагедия в бухте Роджерс  111003215   \n",
       "2204                                   8 новых свиданий  111014914   \n",
       "2264  КЛЕТКА (по мотивам фантастического рассказа Ф....  111015314   \n",
       "2268                                   Исповедь Z@drota  111014214   \n",
       "2287                           12 месяцев. Новая сказка  111014414   \n",
       "2363                                          Левиафан.  111009714   \n",
       "2378                                         Экспириенс  111000315   \n",
       "2379                                   Ангелы Революции  111023214   \n",
       "2396                                   Небесный верблюд  111000115   \n",
       "2450                              ПРАЗДНИК НЕПОСЛУШАНИЯ  111016215   \n",
       "2460                           Парень с нашего кладбища  111016415   \n",
       "2470                                         Pro любовь  111016615   \n",
       "2481                                          Однажды._  111004215   \n",
       "2484                                              Чайки  111004615   \n",
       "2488                             Последний вагон. Весна  111004115   \n",
       "2516                                             Норвег  111018215   \n",
       "2526                                  Вдвоем на льдине.  111011015   \n",
       "2529                            Крепость. Щитом и мечом  114003015   \n",
       "2530                                        Черная вода  111018315   \n",
       "2532                                       Райские кущи  111009415   \n",
       "2533                             Конец прекрасной эпохи  111009915   \n",
       "2534                                            72 часа  111011815   \n",
       "2535                               Частное пионерское-2  111004415   \n",
       "2536                                    ВСТАВАЙ И БЕЙСЯ  111008615   \n",
       "\n",
       "               show_start_date            type  \\\n",
       "1281 2013-10-11 12:00:00+00:00  Художественный   \n",
       "1448 2014-03-28 12:00:00+00:00  Художественный   \n",
       "1498 2013-09-10 12:00:00+00:00  Художественный   \n",
       "1524 2014-05-05 12:00:00+00:00  Художественный   \n",
       "1792 2014-04-23 12:00:00+00:00  Художественный   \n",
       "1853 2015-02-18 12:00:00+00:00    Анимационный   \n",
       "1869 2015-03-16 12:00:00+00:00  Художественный   \n",
       "1870 2014-10-02 12:00:00+00:00  Художественный   \n",
       "1902 2015-03-02 12:00:00+00:00  Художественный   \n",
       "1911 2015-03-05 12:00:00+00:00  Художественный   \n",
       "1986 2014-12-10 12:00:00+00:00  Художественный   \n",
       "1990 2014-08-08 12:00:00+00:00  Художественный   \n",
       "1996 2014-11-10 12:00:00+00:00  Художественный   \n",
       "2004 2014-11-13 12:00:00+00:00    Анимационный   \n",
       "2013 2014-07-22 12:00:00+00:00  Художественный   \n",
       "2083 2015-02-17 12:00:00+00:00  Художественный   \n",
       "2091 2015-01-29 12:00:00+00:00  Художественный   \n",
       "2105 2015-01-28 12:00:00+00:00  Художественный   \n",
       "2107 2015-02-11 12:00:00+00:00  Художественный   \n",
       "2108 2015-02-12 12:00:00+00:00  Художественный   \n",
       "2131 2015-02-20 12:00:00+00:00  Художественный   \n",
       "2141 2015-01-27 12:00:00+00:00  Художественный   \n",
       "2142 2015-03-16 12:00:00+00:00  Художественный   \n",
       "2145 2015-03-27 12:00:00+00:00  Художественный   \n",
       "2149 2015-03-30 12:00:00+00:00  Художественный   \n",
       "2165 2015-04-02 12:00:00+00:00  Художественный   \n",
       "2168 2015-03-26 12:00:00+00:00  Художественный   \n",
       "2204 2014-10-30 12:00:00+00:00  Художественный   \n",
       "2264 2014-11-14 12:00:00+00:00  Художественный   \n",
       "2268 2014-10-15 12:00:00+00:00  Художественный   \n",
       "2287 2014-10-16 12:00:00+00:00  Художественный   \n",
       "2363 2014-09-11 12:00:00+00:00  Художественный   \n",
       "2378 2015-01-13 12:00:00+00:00  Художественный   \n",
       "2379 2014-12-11 12:00:00+00:00  Художественный   \n",
       "2396 2015-01-14 12:00:00+00:00  Художественный   \n",
       "2450 2015-08-28 12:00:00+00:00  Художественный   \n",
       "2460 2015-09-02 12:00:00+00:00  Художественный   \n",
       "2470 2015-09-17 12:00:00+00:00  Художественный   \n",
       "2481 2015-04-15 12:00:00+00:00  Художественный   \n",
       "2484 2015-04-20 12:00:00+00:00  Художественный   \n",
       "2488 2015-04-15 12:00:00+00:00  Художественный   \n",
       "2516 2015-10-15 12:00:00+00:00  Художественный   \n",
       "2526 2015-06-25 12:00:00+00:00  Художественный   \n",
       "2529 2015-10-21 12:00:00+00:00    Анимационный   \n",
       "2530 2015-10-09 12:00:00+00:00  Художественный   \n",
       "2532 2015-05-21 12:00:00+00:00  Художественный   \n",
       "2533 2015-06-01 12:00:00+00:00  Художественный   \n",
       "2534 2015-07-15 12:00:00+00:00  Художественный   \n",
       "2535 2015-04-15 12:00:00+00:00  Художественный   \n",
       "2536 2015-05-05 12:00:00+00:00  Художественный   \n",
       "\n",
       "                                            film_studio  \\\n",
       "1281  АНО содействия развитию кинематографии \"Ангел-...   \n",
       "1448                         ООО \"Компания \"АТК-Студио\"   \n",
       "1498                        ООО \"Компания \"РЕАЛ-ДАКОТА\"   \n",
       "1524                             ООО \"Студия \"Пассажир\"   \n",
       "1792                             ООО \"Студия \"Пассажир\"   \n",
       "1853                        ООО \"Студия \"Мастер-Фильм\"    \n",
       "1869                        ООО \"Компания \"Реал-Дакота\"   \n",
       "1870  ООО \"Продюсерский Центр \"Хорошо Продакшн\", Rez...   \n",
       "1902                                 ООО \"Водород 2011\"   \n",
       "1911                         ООО \"Кинокомпания \"Ракурс\"   \n",
       "1986                                       ООО \"ТаББаК\"   \n",
       "1990           ООО \"Продюсерская кинокомпания \"Киномир\"   \n",
       "1996                           ООО \"Пиманов и партнеры\"   \n",
       "2004                                 ООО \"ВИЗАРТ ФИЛЬМ\"   \n",
       "2013                                     ООО \"Пендулум\"   \n",
       "2083  ООО \"Продюсерская компания Александра Литвинов...   \n",
       "2091        ООО \"Корнер Ворк\", ООО \"Арт Пикчерс Студия\"   \n",
       "2105                           ООО \"АМАЛЬГАМА ПРОДАКШН\"   \n",
       "2107                                       ООО \"Амкарт\"   \n",
       "2108                                ООО \"Каро Продакшн\"   \n",
       "2131  ООО \"Кинокомпания \"Новые люди\", ООО \"Студия \"К...   \n",
       "2141  ООО \"Творческое объединение \"Кинокомпания \"Анд...   \n",
       "2142             ООО \"Энджой мувиз\", ООО \"Ультра стори\"   \n",
       "2145                           ООО \"Киностудия \"МАСТЕР\"   \n",
       "2149                                      ООО \"Артлайт\"   \n",
       "2165                         ООО \"Кинокомпания \"Фигаро\"   \n",
       "2168                                       ООО \"Валдай\"   \n",
       "2204                            ООО \"Смарт ТВ Продакшн\"   \n",
       "2264  ООО Кинокомпания \"Фортуна Фильм\", ООО \"Центр Ю...   \n",
       "2268             ООО \"Магнум-фильм\" по заказу ООО \"ММЕ\"   \n",
       "2287  ООО \"Киностудия \"Никола-фильм\", ООО \"Инвестмен...   \n",
       "2363                            ООО \"Нон-Стоп Продакшн\"   \n",
       "2378                         ООО \"Компания \"АТК-Студио\"   \n",
       "2379                                   ООО \"29 февраля\"   \n",
       "2396                ООО Продюсерский центр \"Всё хорошо\"   \n",
       "2450                    АНО \"Творческая студия \"Стелла\"   \n",
       "2460                            ООО \"Кинокомпания \"СТВ\"   \n",
       "2470                                 ООО \"Магнум-фильм\"   \n",
       "2481        ООО \"Компания \"РЕАЛ-ДАКОТА\", НП \"Интерфест\"   \n",
       "2484                          ООО \"Кинокомпания \"Ладья\"   \n",
       "2488                                    ООО \"ТАН Фильм\"   \n",
       "2516  ООО \"Росмедиа Продакшн\" по заказу ООО \"МАРС МЕ...   \n",
       "2526                ООО \"Первое творческое объединение\"   \n",
       "2529          ООО \"Студия анимационного кино \"Мельница\"   \n",
       "2530                                      ООО \"АРТЛАЙТ\"   \n",
       "2532                          ООО \"Кинокомпания \"ТАЛАН\"   \n",
       "2533                        ООО \"Киностудия \"ВЕРТИКАЛЬ\"   \n",
       "2534    ООО \"Продюсерская компания Николая Расторгуева\"   \n",
       "2535                        ООО \"Кинопрограмма XXI век\"   \n",
       "2536                                ООО \"ЛИГА ПРОДАКШН\"   \n",
       "\n",
       "         production_country                                    director  \\\n",
       "1281                 Россия                                  А.Атанесян   \n",
       "1448                 Россия                                   А.Якимчук   \n",
       "1498                 Россия                    Р.Давлетьяров, С.Комаров   \n",
       "1524                 Россия        Е.Миндадзе (псевдоним Катя Шагалова)   \n",
       "1792                 Россия                                    М.Угаров   \n",
       "1853                 Россия                                   С.Серегин   \n",
       "1869                 Россия                               Р.Давлетьяров   \n",
       "1870  Россия,Франция,Латвия                                 В.Глаголева   \n",
       "1902                 Россия                                А.Войтинский   \n",
       "1911                 Россия                                   Д.Федоров   \n",
       "1986                 Россия                            Максим Свешников   \n",
       "1990                 Россия                                 Т.Аленикова   \n",
       "1996                 Россия                                   А.Пиманов   \n",
       "2004                 Россия                                   А.Цицилин   \n",
       "2013                 Россия                                 А.Стриженов   \n",
       "2083                 Россия                                     С.Попов   \n",
       "2091                 Россия                                   Д.Месхиев   \n",
       "2105                 Россия                                 В.Щегольков   \n",
       "2107                 Россия                                   А.Прошкин   \n",
       "2108                 Россия                        П.Санаев, Ф.Коршунов   \n",
       "2131         Россия,Украина                                 С.Мокрицкий   \n",
       "2141                 Россия                                   А.Мельник   \n",
       "2142                 Россия                                 А.Аксененко   \n",
       "2145                 Россия                                      Ю.Кара   \n",
       "2149                 Россия                                 К.Сухарьков   \n",
       "2165                 Россия                                    В.Демент   \n",
       "2168                 Россия                                   Ф.Абрютин   \n",
       "2204                 Россия                                 М.Бальчюнас   \n",
       "2264                 Россия                Э.Архангельская, М.Пандурски   \n",
       "2268                 Россия                                   К.Шипенко   \n",
       "2287                 Россия                                 Д.Елеонский   \n",
       "2363                 Россия                                 А.Звягинцев   \n",
       "2378                 Россия                                   Е.Татаров   \n",
       "2379                 Россия                                А.Федорченко   \n",
       "2396                 Россия                                    Ю.Фетинг   \n",
       "2450                 Россия                        В.Харченко, А.Волков   \n",
       "2460                 Россия                        И.Чижиков, А.Чижиков   \n",
       "2470                 Россия                                   А.Меликян   \n",
       "2481                 Россия                               Р.Давлетьяров   \n",
       "2484                 Россия                                  Э.Манжеева   \n",
       "2488                 Россия                                  А.Калинкин   \n",
       "2516                 Россия  Е.Константинова (псевдоним Алена Званцева)   \n",
       "2526                 Россия                    Н.Джорджадзе, В.Игнатьев   \n",
       "2529                 Россия                                  Ф.Дмитриев   \n",
       "2530                 Россия                                   Р.Каримов   \n",
       "2532                 Россия                         А.Аравин, А.Прошкин   \n",
       "2533                 Россия                                 С.Говорухин   \n",
       "2534                 Россия                                  К.Ангелина   \n",
       "2535                 Россия                              А.Карпиловский   \n",
       "2536          Россия,Италия                             Стефано Лоренци   \n",
       "\n",
       "                                               producer  \\\n",
       "1281                   А.Атанесян, М.Бабаханов, Р.Бутко   \n",
       "1448                                         А.Тютрюмов   \n",
       "1498          Р.Давлетьяров, А.Котелевский, А.Олейников   \n",
       "1524                                         Л.Антонова   \n",
       "1792                             А.Миндадзе, Л.Антонова   \n",
       "1853                                        А.Герасимов   \n",
       "1869                                         неизвестно   \n",
       "1870                                          Н.Иванова   \n",
       "1902                                         С.Сельянов   \n",
       "1911                                        В.Сидоренко   \n",
       "1986                 Тимур Бекмамбетов, Евгения Аронова   \n",
       "1990                                         Т.Яковенко   \n",
       "1996                              А.Пиманов, О.Погодина   \n",
       "2004                   ООО \"ВИЗАРТ ФИЛЬМ\", ООО \"ТаББаК\"   \n",
       "2013               Л.Якубович, А.Стриженов, Л.Лищинская   \n",
       "2083                           А.Литвинов, К.Шахназаров   \n",
       "2091                                       И.Угольников   \n",
       "2105                              А.Феофанов, С.Новиков   \n",
       "2107                                         Д.Пиркулов   \n",
       "2108                               Ю.Обухов, А.Рязанцев   \n",
       "2131                              Н.Мокрицкая, Е.Олесов   \n",
       "2141                                          А.Мельник   \n",
       "2142        Г.Малков, В.Поляков, И.Капитонов, В.Муругов   \n",
       "2145                                             Ю.Кара   \n",
       "2149                                          А.Новиков   \n",
       "2165                                          Н.Будкина   \n",
       "2168                               С.Кучмаева, С.Зернов   \n",
       "2204                  ООО \"Грин Филмс\", ООО \"ПЦ \"Горад\"   \n",
       "2264             Э.Архангельская, А.Пискунова, Ю.Арабов   \n",
       "2268                              Р.Дишдишян, ООО \"ММЕ\"   \n",
       "2287                                          И.Каленов   \n",
       "2363                          А.Роднянский, С.Мелькумов   \n",
       "2378                                         А.Тютрюмов   \n",
       "2379                Д.Воробьев, А.Федорченко, Л.Лебедев   \n",
       "2396                                           И.Плиско   \n",
       "2450                                            Ф.Попов   \n",
       "2460                                         С.Сельянов   \n",
       "2470                                          А.Меликян   \n",
       "2481                       Р.Давлетьяров, А.Котелевский   \n",
       "2484                                 Е.Гликман, Я.Живов   \n",
       "2488                           Д.Ефремов, В.Пономаренко   \n",
       "2516                              Р.Дишдишян, ООО \"ММЕ\"   \n",
       "2526                               П.Поляков, И.Букреев   \n",
       "2529                             С.Сельянов, А.Боярский   \n",
       "2530                           А.Новиков, А.Котелевский   \n",
       "2532                                          Н.Будкина   \n",
       "2533                             С.Говорухин, Е.Маскина   \n",
       "2534                          И.Николенко, Н.Расторгуев   \n",
       "2535                                           В.Есинов   \n",
       "2536  Жанфранко Пиччоли, Надежда Горшкова, Катерина ...   \n",
       "\n",
       "                             age_restriction  refundable_support  ...  \\\n",
       "1281         «16+» - для детей старше 16 лет                 0.0  ...   \n",
       "1448         «12+» - для детей старше 12 лет                 0.0  ...   \n",
       "1498         «12+» - для детей старше 12 лет                 0.0  ...   \n",
       "1524         «16+» - для детей старше 16 лет                 0.0  ...   \n",
       "1792         «16+» - для детей старше 16 лет                 0.0  ...   \n",
       "1853           «6+» - для детей старше 6 лет                 0.0  ...   \n",
       "1869         «12+» - для детей старше 12 лет          50000000.0  ...   \n",
       "1870         «12+» - для детей старше 12 лет                 0.0  ...   \n",
       "1902           «6+» - для детей старше 6 лет                 0.0  ...   \n",
       "1911         «16+» - для детей старше 16 лет                 0.0  ...   \n",
       "1986           «6+» - для детей старше 6 лет          26000000.0  ...   \n",
       "1990         «16+» - для детей старше 16 лет                 0.0  ...   \n",
       "1996         «12+» - для детей старше 12 лет                 0.0  ...   \n",
       "2004  «0+» - для любой зрительской аудитории          30000000.0  ...   \n",
       "2013         «12+» - для детей старше 12 лет                 0.0  ...   \n",
       "2083         «12+» - для детей старше 12 лет                 0.0  ...   \n",
       "2091         «12+» - для детей старше 12 лет                 0.0  ...   \n",
       "2105         «16+» - для детей старше 16 лет                 0.0  ...   \n",
       "2107         «16+» - для детей старше 16 лет                 0.0  ...   \n",
       "2108         «16+» - для детей старше 16 лет                 0.0  ...   \n",
       "2131         «12+» - для детей старше 12 лет                 0.0  ...   \n",
       "2141         «12+» - для детей старше 12 лет          30000000.0  ...   \n",
       "2142         «16+» - для детей старше 16 лет                 0.0  ...   \n",
       "2145           «6+» - для детей старше 6 лет                 0.0  ...   \n",
       "2149             «18+» - запрещено для детей                 0.0  ...   \n",
       "2165         «16+» - для детей старше 16 лет                 0.0  ...   \n",
       "2168         «12+» - для детей старше 12 лет                 0.0  ...   \n",
       "2204         «12+» - для детей старше 12 лет                 0.0  ...   \n",
       "2264         «16+» - для детей старше 16 лет                 0.0  ...   \n",
       "2268             «18+» - запрещено для детей                 0.0  ...   \n",
       "2287  «0+» - для любой зрительской аудитории          15000000.0  ...   \n",
       "2363             «18+» - запрещено для детей                 0.0  ...   \n",
       "2378         «16+» - для детей старше 16 лет                 0.0  ...   \n",
       "2379         «16+» - для детей старше 16 лет                 0.0  ...   \n",
       "2396  «0+» - для любой зрительской аудитории                 0.0  ...   \n",
       "2450           «6+» - для детей старше 6 лет                 0.0  ...   \n",
       "2460         «12+» - для детей старше 12 лет                 0.0  ...   \n",
       "2470             «18+» - запрещено для детей                 0.0  ...   \n",
       "2481         «16+» - для детей старше 16 лет                 0.0  ...   \n",
       "2484         «16+» - для детей старше 16 лет                 0.0  ...   \n",
       "2488             «18+» - запрещено для детей                 0.0  ...   \n",
       "2516         «12+» - для детей старше 12 лет                 0.0  ...   \n",
       "2526         «12+» - для детей старше 12 лет                 0.0  ...   \n",
       "2529           «6+» - для детей старше 6 лет                 0.0  ...   \n",
       "2530         «16+» - для детей старше 16 лет                 0.0  ...   \n",
       "2532         «16+» - для детей старше 16 лет                 0.0  ...   \n",
       "2533         «16+» - для детей старше 16 лет                 0.0  ...   \n",
       "2534         «12+» - для детей старше 12 лет          10000000.0  ...   \n",
       "2535           «6+» - для детей старше 6 лет                 0.0  ...   \n",
       "2536             «18+» - запрещено для детей                 0.0  ...   \n",
       "\n",
       "                              genres  puNumber_int    box_office  year  \\\n",
       "1281                 драма,мелодрама          True  3.653536e+05  2013   \n",
       "1448                      неизвестно          True  2.814000e+04  2014   \n",
       "1498              комедия,фантастика          True  1.995703e+07  2013   \n",
       "1524                           драма          True  5.591750e+04  2014   \n",
       "1792                           драма          True  2.321000e+05  2014   \n",
       "1853      мультфильм,фэнтези,история          True  1.507886e+07  2015   \n",
       "1869           драма,военный,история          True  2.491668e+08  2015   \n",
       "1870                           драма          True  4.731240e+06  2014   \n",
       "1902      триллер,боевик,приключения          True  3.528043e+08  2015   \n",
       "1911       фэнтези,приключения,драма          True  5.190750e+04  2015   \n",
       "1986                семейный,комедия          True  1.212256e+08  2014   \n",
       "1990                       мелодрама          True  5.542510e+05  2014   \n",
       "1996  фантастика,комедия,приключения          True  4.353485e+07  2014   \n",
       "2004  мультфильм,фэнтези,приключения          True  3.134898e+08  2014   \n",
       "2013                комедия,семейный          True  6.277796e+06  2014   \n",
       "2083           военный,драма,история          True  2.272358e+07  2015   \n",
       "2091           драма,военный,история          True  4.518122e+08  2015   \n",
       "2105                 драма,мелодрама          True  3.669980e+05  2015   \n",
       "2107                   драма,комедия          True  3.107380e+05  2015   \n",
       "2108              комедия,фантастика          True  1.166319e+07  2015   \n",
       "2131         биография,военный,драма          True  4.018045e+08  2015   \n",
       "2141        детектив,фэнтези,триллер          True  7.257832e+07  2015   \n",
       "2142                    боевик,драма          True  3.300553e+07  2015   \n",
       "2145       фантастика,боевик,комедия          True  3.347500e+05  2015   \n",
       "2149                      неизвестно          True  1.982000e+04  2015   \n",
       "2165                           драма          True  8.543345e+05  2015   \n",
       "2168          детектив,история,драма          True  4.005000e+04  2015   \n",
       "2204                         комедия          True  3.933446e+08  2014   \n",
       "2264                  драма,детектив          True  9.559705e+05  2014   \n",
       "2268                           драма          True  1.523750e+06  2014   \n",
       "2287                семейный,фэнтези          True  3.224481e+07  2014   \n",
       "2363                  драма,криминал          True  8.812004e+07  2014   \n",
       "2378                           драма          True  3.655000e+04  2015   \n",
       "2379                           драма          True  8.691810e+05  2014   \n",
       "2396                детский,семейный          True  6.104000e+04  2015   \n",
       "2450                      неизвестно          True  1.825100e+05  2015   \n",
       "2460                 комедия,триллер          True  1.493668e+07  2015   \n",
       "2470                         комедия          True  5.288230e+07  2015   \n",
       "2481         драма,криминал,детектив          True  1.274840e+07  2015   \n",
       "2484                           драма          True  3.599800e+05  2015   \n",
       "2488                         триллер          True  6.119300e+04  2015   \n",
       "2516                         комедия          True  2.323980e+06  2015   \n",
       "2526                       мелодрама          True  4.450000e+03  2015   \n",
       "2529  мультфильм,приключения,военный          True  7.274922e+07  2015   \n",
       "2530                     ужасы,драма          True  1.607720e+07  2015   \n",
       "2532                           драма          True  1.184344e+06  2015   \n",
       "2533                   драма,комедия          True  1.502070e+07  2015   \n",
       "2534                   военный,драма          True  1.035554e+07  2015   \n",
       "2535    детский,приключения,семейный          True  9.774800e+05  2015   \n",
       "2536                           драма          True  1.440400e+05  2015   \n",
       "\n",
       "                                  director_first  genres_first  total_support  \\\n",
       "1281                                  А.Атанесян         драма     26500000.0   \n",
       "1448                                   А.Якимчук    неизвестно     26000000.0   \n",
       "1498                               Р.Давлетьяров       комедия    107847945.0   \n",
       "1524        Е.Миндадзе (псевдоним Катя Шагалова)         драма     28000000.0   \n",
       "1792                                    М.Угаров         драма     25000000.0   \n",
       "1853                                   С.Серегин    мультфильм     25000000.0   \n",
       "1869                               Р.Давлетьяров         драма    150000000.0   \n",
       "1870                                 В.Глаголева         драма     46502299.0   \n",
       "1902                                А.Войтинский       триллер     75000000.0   \n",
       "1911                                   Д.Федоров       фэнтези     34000000.0   \n",
       "1986                            Максим Свешников      семейный     56000000.0   \n",
       "1990                                 Т.Аленикова     мелодрама     25000000.0   \n",
       "1996                                   А.Пиманов    фантастика     25000000.0   \n",
       "2004                                   А.Цицилин    мультфильм     70000000.0   \n",
       "2013                                 А.Стриженов       комедия     28000000.0   \n",
       "2083                                     С.Попов       военный     45000000.0   \n",
       "2091                                   Д.Месхиев         драма     56579055.0   \n",
       "2105                                 В.Щегольков         драма     25500000.0   \n",
       "2107                                   А.Прошкин         драма     45000000.0   \n",
       "2108                                    П.Санаев       комедия     30000000.0   \n",
       "2131                                 С.Мокрицкий     биография     27510000.0   \n",
       "2141                                   А.Мельник      детектив     60000000.0   \n",
       "2142                                 А.Аксененко        боевик     25000000.0   \n",
       "2145                                      Ю.Кара    фантастика     10000000.0   \n",
       "2149                                 К.Сухарьков    неизвестно     25000000.0   \n",
       "2165                                    В.Демент         драма     24000000.0   \n",
       "2168                                   Ф.Абрютин      детектив     30000000.0   \n",
       "2204                                 М.Бальчюнас       комедия     30000000.0   \n",
       "2264                             Э.Архангельская         драма     24500000.0   \n",
       "2268                                   К.Шипенко         драма     27000000.0   \n",
       "2287                                 Д.Елеонский      семейный     20000000.0   \n",
       "2363                                 А.Звягинцев         драма     90000000.0   \n",
       "2378                                   Е.Татаров         драма     26000000.0   \n",
       "2379                                А.Федорченко         драма     28000000.0   \n",
       "2396                                    Ю.Фетинг       детский     34000000.0   \n",
       "2450                                  В.Харченко    неизвестно     34000000.0   \n",
       "2460                                   И.Чижиков       комедия     20000000.0   \n",
       "2470                                   А.Меликян       комедия     20000000.0   \n",
       "2481                               Р.Давлетьяров         драма     97000000.0   \n",
       "2484                                  Э.Манжеева         драма     24450000.0   \n",
       "2488                                  А.Калинкин       триллер     25000000.0   \n",
       "2516  Е.Константинова (псевдоним Алена Званцева)       комедия      5000000.0   \n",
       "2526                                Н.Джорджадзе     мелодрама     26500000.0   \n",
       "2529                                  Ф.Дмитриев    мультфильм     50000000.0   \n",
       "2530                                   Р.Каримов         ужасы     28000000.0   \n",
       "2532                                    А.Аравин         драма     27000000.0   \n",
       "2533                                 С.Говорухин         драма     28000000.0   \n",
       "2534                                  К.Ангелина       военный     37000000.0   \n",
       "2535                              А.Карпиловский       детский     25000000.0   \n",
       "2536                             Стефано Лоренци         драма     60000000.0   \n",
       "\n",
       "      %_total_support %_refundable_support %_nonrefundable_support  \n",
       "1281         0.333703             0.000000                0.333703  \n",
       "1448         0.700000             0.000000                0.700000  \n",
       "1498         0.612691             0.000000                0.612691  \n",
       "1524         0.690095             0.000000                0.690095  \n",
       "1792         0.624764             0.000000                0.624764  \n",
       "1853         0.482160             0.000000                0.482160  \n",
       "1869         0.680000             0.226667                0.453333  \n",
       "1870         0.539407             0.000000                0.539407  \n",
       "1902         0.537436             0.000000                0.537436  \n",
       "1911         0.700000             0.000000                0.700000  \n",
       "1986         0.700000             0.325000                0.375000  \n",
       "1990         0.689474             0.000000                0.689474  \n",
       "1996         0.352728             0.000000                0.352728  \n",
       "2004         0.277239             0.118817                0.158422  \n",
       "2013         0.373782             0.000000                0.373782  \n",
       "2083         0.501212             0.000000                0.501212  \n",
       "2091         0.129638             0.000000                0.129638  \n",
       "2105         0.629630             0.000000                0.629630  \n",
       "2107         0.657024             0.000000                0.657024  \n",
       "2108         0.666569             0.000000                0.666569  \n",
       "2131         0.210000             0.000000                0.210000  \n",
       "2141         0.120000             0.060000                0.060000  \n",
       "2142         0.409759             0.000000                0.409759  \n",
       "2145         0.250000             0.000000                0.250000  \n",
       "2149         0.668963             0.000000                0.668963  \n",
       "2165         0.679945             0.000000                0.679945  \n",
       "2168         0.697674             0.000000                0.697674  \n",
       "2204         0.387588             0.000000                0.387588  \n",
       "2264         0.700000             0.000000                0.700000  \n",
       "2268         0.527378             0.000000                0.527378  \n",
       "2287         0.221926             0.166445                0.055482  \n",
       "2363         0.336714             0.000000                0.336714  \n",
       "2378         0.700000             0.000000                0.700000  \n",
       "2379         0.700000             0.000000                0.700000  \n",
       "2396         0.689928             0.000000                0.689928  \n",
       "2450         0.692868             0.000000                0.692868  \n",
       "2460         0.425814             0.000000                0.425814  \n",
       "2470         0.362352             0.000000                0.362352  \n",
       "2481         0.620361             0.000000                0.620361  \n",
       "2484         0.653310             0.000000                0.653310  \n",
       "2488         0.699104             0.000000                0.699104  \n",
       "2516         0.177837             0.000000                0.177837  \n",
       "2526         0.698404             0.000000                0.698404  \n",
       "2529         0.361466             0.000000                0.361466  \n",
       "2530         0.662683             0.000000                0.662683  \n",
       "2532         0.675169             0.000000                0.675169  \n",
       "2533         0.250000             0.000000                0.250000  \n",
       "2534         0.663922             0.179438                0.484484  \n",
       "2535         0.700000             0.000000                0.700000  \n",
       "2536         0.430548             0.000000                0.430548  \n",
       "\n",
       "[50 rows x 24 columns]"
      ]
     },
     "metadata": {},
     "output_type": "display_data"
    },
    {
     "name": "stdout",
     "output_type": "stream",
     "text": [
      "Кол-во прокатных удостоверний у фильмов с гос.поддержкой: 307 , Кол-во фильмов с гос.поддержкой: 307\n"
     ]
    }
   ],
   "source": [
    "# Создадим таблицу с данными по фильмам с гос.поддержкой:\n",
    "support_data = data.query('nonrefundable_support>=0')\n",
    "display(support_data.head(50))\n",
    "print('Кол-во прокатных удостоверний у фильмов с гос.поддержкой:', len(support_data['pu_number']),\n",
    "        ', Кол-во фильмов с гос.поддержкой:', len(support_data['title'].unique()))"
   ]
  },
  {
   "cell_type": "code",
   "execution_count": 44,
   "metadata": {},
   "outputs": [
    {
     "name": "stdout",
     "output_type": "stream",
     "text": [
      "Кол-во прокатных удостоверний у фильмов без гос.поддержки: 7153 , Кол-во фильмов без гос.поддержки: 6444\n"
     ]
    }
   ],
   "source": [
    "# Создадим таблицу с данными по фильмам без гос.поддержки:\n",
    "no_support_data = data.query('nonrefundable_support.isnull()==True')\n",
    "print('Кол-во прокатных удостоверний у фильмов без гос.поддержки:', len(no_support_data['pu_number']),\n",
    "        ', Кол-во фильмов без гос.поддержки:', len(no_support_data['title'].unique()))"
   ]
  },
  {
   "cell_type": "code",
   "execution_count": 45,
   "metadata": {},
   "outputs": [
    {
     "data": {
      "text/plain": [
       "count    3.070000e+02\n",
       "mean     5.977107e+07\n",
       "std      7.387266e+07\n",
       "min      3.000000e+06\n",
       "25%      2.510000e+07\n",
       "50%      3.500000e+07\n",
       "75%      6.000000e+07\n",
       "max      5.000000e+08\n",
       "Name: total_support, dtype: float64"
      ]
     },
     "metadata": {},
     "output_type": "display_data"
    },
    {
     "name": "stdout",
     "output_type": "stream",
     "text": [
      "Суммарная гос.поддержка за весь период: 18349718847\n"
     ]
    }
   ],
   "source": [
    "# Посчитаем, сколько выделяется средств на поддержку кино за весь период:\n",
    "display(support_data['total_support'].describe())\n",
    "print('Суммарная гос.поддержка за весь период: %.0f' % support_data['total_support'].sum())"
   ]
  },
  {
   "cell_type": "code",
   "execution_count": 46,
   "metadata": {},
   "outputs": [
    {
     "data": {
      "text/html": [
       "<div>\n",
       "<style scoped>\n",
       "    .dataframe tbody tr th:only-of-type {\n",
       "        vertical-align: middle;\n",
       "    }\n",
       "\n",
       "    .dataframe tbody tr th {\n",
       "        vertical-align: top;\n",
       "    }\n",
       "\n",
       "    .dataframe thead th {\n",
       "        text-align: right;\n",
       "    }\n",
       "</style>\n",
       "<table border=\"1\" class=\"dataframe\">\n",
       "  <thead>\n",
       "    <tr style=\"text-align: right;\">\n",
       "      <th></th>\n",
       "      <th>sum</th>\n",
       "      <th>count</th>\n",
       "      <th>median</th>\n",
       "      <th>mean</th>\n",
       "    </tr>\n",
       "    <tr>\n",
       "      <th>year</th>\n",
       "      <th></th>\n",
       "      <th></th>\n",
       "      <th></th>\n",
       "      <th></th>\n",
       "    </tr>\n",
       "  </thead>\n",
       "  <tbody>\n",
       "    <tr>\n",
       "      <th>2013</th>\n",
       "      <td>1.343479e+08</td>\n",
       "      <td>2</td>\n",
       "      <td>67173972.5</td>\n",
       "      <td>6.717397e+07</td>\n",
       "    </tr>\n",
       "    <tr>\n",
       "      <th>2014</th>\n",
       "      <td>5.490023e+08</td>\n",
       "      <td>15</td>\n",
       "      <td>28000000.0</td>\n",
       "      <td>3.660015e+07</td>\n",
       "    </tr>\n",
       "    <tr>\n",
       "      <th>2015</th>\n",
       "      <td>3.118241e+09</td>\n",
       "      <td>77</td>\n",
       "      <td>30000000.0</td>\n",
       "      <td>4.049664e+07</td>\n",
       "    </tr>\n",
       "    <tr>\n",
       "      <th>2016</th>\n",
       "      <td>3.977155e+09</td>\n",
       "      <td>58</td>\n",
       "      <td>35000000.0</td>\n",
       "      <td>6.857165e+07</td>\n",
       "    </tr>\n",
       "    <tr>\n",
       "      <th>2017</th>\n",
       "      <td>2.998972e+09</td>\n",
       "      <td>37</td>\n",
       "      <td>37346881.0</td>\n",
       "      <td>8.105329e+07</td>\n",
       "    </tr>\n",
       "    <tr>\n",
       "      <th>2018</th>\n",
       "      <td>2.983000e+09</td>\n",
       "      <td>51</td>\n",
       "      <td>35000000.0</td>\n",
       "      <td>5.849020e+07</td>\n",
       "    </tr>\n",
       "    <tr>\n",
       "      <th>2019</th>\n",
       "      <td>4.589000e+09</td>\n",
       "      <td>67</td>\n",
       "      <td>40000000.0</td>\n",
       "      <td>6.849254e+07</td>\n",
       "    </tr>\n",
       "  </tbody>\n",
       "</table>\n",
       "</div>"
      ],
      "text/plain": [
       "               sum  count      median          mean\n",
       "year                                               \n",
       "2013  1.343479e+08      2  67173972.5  6.717397e+07\n",
       "2014  5.490023e+08     15  28000000.0  3.660015e+07\n",
       "2015  3.118241e+09     77  30000000.0  4.049664e+07\n",
       "2016  3.977155e+09     58  35000000.0  6.857165e+07\n",
       "2017  2.998972e+09     37  37346881.0  8.105329e+07\n",
       "2018  2.983000e+09     51  35000000.0  5.849020e+07\n",
       "2019  4.589000e+09     67  40000000.0  6.849254e+07"
      ]
     },
     "execution_count": 46,
     "metadata": {},
     "output_type": "execute_result"
    }
   ],
   "source": [
    "# Посчитаем, как распределилась гос.поддержка по годам:\n",
    "support_pivot=support_data.groupby('year')['total_support'].agg(['sum','count', 'median', 'mean'])\n",
    "support_pivot"
   ]
  },
  {
   "cell_type": "code",
   "execution_count": 47,
   "metadata": {},
   "outputs": [
    {
     "data": {
      "text/plain": [
       "Text(0, 0.5, 'Сумма гос.поддержки, млрд руб')"
      ]
     },
     "execution_count": 47,
     "metadata": {},
     "output_type": "execute_result"
    },
    {
     "data": {
      "image/png": "[encoded data removed]",
      "text/plain": [
       "<Figure size 432x288 with 1 Axes>"
      ]
     },
     "metadata": {
      "needs_background": "light"
     },
     "output_type": "display_data"
    }
   ],
   "source": [
    "# Посторим  график, отражающий зависимость между величиной гос.поддержки и годом:\n",
    "support_pivot['sum'].plot(kind='bar', grid=True)\n",
    "plt.title('Сумма гос.поддержки по годам')\n",
    "plt.xlabel('Годы')\n",
    "plt.ylabel('Сумма гос.поддержки, млрд руб')"
   ]
  },
  {
   "cell_type": "markdown",
   "metadata": {},
   "source": [
    "Вывод:\n",
    "В 2019 г. была оказана наибольшая гос. поддержка (4,6 млрд.руб), наименьшая из исследуемого периода оказывалась поддержка в 2013 г. (130 млн.руб).\n",
    "По годам Медиана и Среднее сильно разница, на что могли повлиять большие вливания в отдельные фильмы"
   ]
  },
  {
   "cell_type": "markdown",
   "metadata": {},
   "source": [
    "<div class=\"alert alert-block alert-danger\">\n",
    "<h2> Комментарий ревьюера 🤔<a class=\"tocSkip\"></h2>\n",
    "Под каждым графиком следует добавить вывод)\n",
    "</div>"
   ]
  },
  {
   "cell_type": "markdown",
   "metadata": {},
   "source": [
    "Исправила"
   ]
  },
  {
   "cell_type": "code",
   "execution_count": 48,
   "metadata": {},
   "outputs": [
    {
     "data": {
      "text/plain": [
       "Text(0, 0.5, 'Количество фильмов')"
      ]
     },
     "execution_count": 48,
     "metadata": {},
     "output_type": "execute_result"
    },
    {
     "data": {
      "image/png": "[encoded data removed]",
      "text/plain": [
       "<Figure size 432x288 with 1 Axes>"
      ]
     },
     "metadata": {
      "needs_background": "light"
     },
     "output_type": "display_data"
    }
   ],
   "source": [
    "# Посторим  график, отражающий зависимость между количеством фильмов, снятых с гос.поддержкой и годом:\n",
    "support_pivot['count'].plot(kind='bar', grid=True)\n",
    "plt.title('Количество фильмов, снятых с гос.поддержкой, по годам')\n",
    "plt.xlabel('Годы')\n",
    "plt.ylabel('Количество фильмов')"
   ]
  },
  {
   "cell_type": "markdown",
   "metadata": {},
   "source": [
    "Вывод:\n",
    "В 2015 г. было снято наибольшее количество фильмов с гос. поддержка (77), против 2013 г. (2)"
   ]
  },
  {
   "cell_type": "code",
   "execution_count": 49,
   "metadata": {},
   "outputs": [
    {
     "data": {
      "text/plain": [
       "Text(0, 0.5, 'Медианная сумма гос.поддержки, десятки млн руб')"
      ]
     },
     "execution_count": 49,
     "metadata": {},
     "output_type": "execute_result"
    },
    {
     "data": {
      "image/png": "[encoded data removed]",
      "text/plain": [
       "<Figure size 432x288 with 1 Axes>"
      ]
     },
     "metadata": {
      "needs_background": "light"
     },
     "output_type": "display_data"
    }
   ],
   "source": [
    "# Посторим  график, отражающий зависимость между медианной величиной гос.поддержки и годом:\n",
    "support_pivot['median'].plot(kind='bar', grid=True)\n",
    "plt.title('Медианная сумма гос.поддержки по годам')\n",
    "plt.xlabel('Годы')\n",
    "plt.ylabel('Медианная сумма гос.поддержки, десятки млн руб')"
   ]
  },
  {
   "cell_type": "markdown",
   "metadata": {},
   "source": [
    "Наибольшая медиана видна в 2013 г (67,2 млн.руб), остальные года похожи (от 28 до 40 млн.руб)"
   ]
  },
  {
   "cell_type": "code",
   "execution_count": 50,
   "metadata": {},
   "outputs": [
    {
     "data": {
      "text/plain": [
       "Text(0, 0.5, 'Средняя сумма гос.поддержки, десятки млн руб')"
      ]
     },
     "execution_count": 50,
     "metadata": {},
     "output_type": "execute_result"
    },
    {
     "data": {
      "image/png": "[encoded data removed]",
      "text/plain": [
       "<Figure size 432x288 with 1 Axes>"
      ]
     },
     "metadata": {
      "needs_background": "light"
     },
     "output_type": "display_data"
    }
   ],
   "source": [
    "# Посторим  график, отражающий зависимость между средней величиной гос.поддержки и годом:\n",
    "support_pivot['mean'].plot(kind='bar', grid=True)\n",
    "plt.title('Средняя сумма гос.поддержки по годам')\n",
    "plt.xlabel('Годы')\n",
    "plt.ylabel('Средняя сумма гос.поддержки, десятки млн руб')"
   ]
  },
  {
   "cell_type": "markdown",
   "metadata": {},
   "source": [
    "Вывод:\n",
    "График среднего значения сильно отличается от медианного. Лидирующие года 2017, 2019, 2016 и 2013 (где цифра составила около 70 млн. руб)"
   ]
  },
  {
   "cell_type": "code",
   "execution_count": 51,
   "metadata": {},
   "outputs": [
    {
     "data": {
      "text/html": [
       "<div>\n",
       "<style scoped>\n",
       "    .dataframe tbody tr th:only-of-type {\n",
       "        vertical-align: middle;\n",
       "    }\n",
       "\n",
       "    .dataframe tbody tr th {\n",
       "        vertical-align: top;\n",
       "    }\n",
       "\n",
       "    .dataframe thead th {\n",
       "        text-align: right;\n",
       "    }\n",
       "</style>\n",
       "<table border=\"1\" class=\"dataframe\">\n",
       "  <thead>\n",
       "    <tr style=\"text-align: right;\">\n",
       "      <th></th>\n",
       "      <th>title</th>\n",
       "      <th>pu_number</th>\n",
       "      <th>show_start_date</th>\n",
       "      <th>type</th>\n",
       "      <th>film_studio</th>\n",
       "      <th>production_country</th>\n",
       "      <th>director</th>\n",
       "      <th>producer</th>\n",
       "      <th>age_restriction</th>\n",
       "      <th>refundable_support</th>\n",
       "      <th>...</th>\n",
       "      <th>genres</th>\n",
       "      <th>puNumber_int</th>\n",
       "      <th>box_office</th>\n",
       "      <th>year</th>\n",
       "      <th>director_first</th>\n",
       "      <th>genres_first</th>\n",
       "      <th>total_support</th>\n",
       "      <th>%_total_support</th>\n",
       "      <th>%_refundable_support</th>\n",
       "      <th>%_nonrefundable_support</th>\n",
       "    </tr>\n",
       "  </thead>\n",
       "  <tbody>\n",
       "    <tr>\n",
       "      <th>1281</th>\n",
       "      <td>Пока еще жива</td>\n",
       "      <td>111005313</td>\n",
       "      <td>2013-10-11 12:00:00+00:00</td>\n",
       "      <td>Художественный</td>\n",
       "      <td>АНО содействия развитию кинематографии \"Ангел-...</td>\n",
       "      <td>Россия</td>\n",
       "      <td>А.Атанесян</td>\n",
       "      <td>А.Атанесян, М.Бабаханов, Р.Бутко</td>\n",
       "      <td>«16+» - для детей старше 16 лет</td>\n",
       "      <td>0.0</td>\n",
       "      <td>...</td>\n",
       "      <td>драма,мелодрама</td>\n",
       "      <td>True</td>\n",
       "      <td>365353.6</td>\n",
       "      <td>2013</td>\n",
       "      <td>А.Атанесян</td>\n",
       "      <td>драма</td>\n",
       "      <td>26500000.0</td>\n",
       "      <td>0.333703</td>\n",
       "      <td>0.0</td>\n",
       "      <td>0.333703</td>\n",
       "    </tr>\n",
       "    <tr>\n",
       "      <th>1498</th>\n",
       "      <td>Невидимки</td>\n",
       "      <td>111004213</td>\n",
       "      <td>2013-09-10 12:00:00+00:00</td>\n",
       "      <td>Художественный</td>\n",
       "      <td>ООО \"Компания \"РЕАЛ-ДАКОТА\"</td>\n",
       "      <td>Россия</td>\n",
       "      <td>Р.Давлетьяров, С.Комаров</td>\n",
       "      <td>Р.Давлетьяров, А.Котелевский, А.Олейников</td>\n",
       "      <td>«12+» - для детей старше 12 лет</td>\n",
       "      <td>0.0</td>\n",
       "      <td>...</td>\n",
       "      <td>комедия,фантастика</td>\n",
       "      <td>True</td>\n",
       "      <td>19957031.5</td>\n",
       "      <td>2013</td>\n",
       "      <td>Р.Давлетьяров</td>\n",
       "      <td>комедия</td>\n",
       "      <td>107847945.0</td>\n",
       "      <td>0.612691</td>\n",
       "      <td>0.0</td>\n",
       "      <td>0.612691</td>\n",
       "    </tr>\n",
       "  </tbody>\n",
       "</table>\n",
       "<p>2 rows × 24 columns</p>\n",
       "</div>"
      ],
      "text/plain": [
       "              title  pu_number           show_start_date            type  \\\n",
       "1281  Пока еще жива  111005313 2013-10-11 12:00:00+00:00  Художественный   \n",
       "1498      Невидимки  111004213 2013-09-10 12:00:00+00:00  Художественный   \n",
       "\n",
       "                                            film_studio production_country  \\\n",
       "1281  АНО содействия развитию кинематографии \"Ангел-...             Россия   \n",
       "1498                        ООО \"Компания \"РЕАЛ-ДАКОТА\"             Россия   \n",
       "\n",
       "                      director                                   producer  \\\n",
       "1281                А.Атанесян           А.Атанесян, М.Бабаханов, Р.Бутко   \n",
       "1498  Р.Давлетьяров, С.Комаров  Р.Давлетьяров, А.Котелевский, А.Олейников   \n",
       "\n",
       "                      age_restriction  refundable_support  ...  \\\n",
       "1281  «16+» - для детей старше 16 лет                 0.0  ...   \n",
       "1498  «12+» - для детей старше 12 лет                 0.0  ...   \n",
       "\n",
       "                  genres  puNumber_int  box_office  year director_first  \\\n",
       "1281     драма,мелодрама          True    365353.6  2013     А.Атанесян   \n",
       "1498  комедия,фантастика          True  19957031.5  2013  Р.Давлетьяров   \n",
       "\n",
       "      genres_first  total_support  %_total_support %_refundable_support  \\\n",
       "1281         драма     26500000.0         0.333703                  0.0   \n",
       "1498       комедия    107847945.0         0.612691                  0.0   \n",
       "\n",
       "     %_nonrefundable_support  \n",
       "1281                0.333703  \n",
       "1498                0.612691  \n",
       "\n",
       "[2 rows x 24 columns]"
      ]
     },
     "execution_count": 51,
     "metadata": {},
     "output_type": "execute_result"
    }
   ],
   "source": [
    "# Выведем, фильмы, выпущенные в прокат в 2013 году:\n",
    "support_data.query('year==2013')"
   ]
  },
  {
   "cell_type": "code",
   "execution_count": 52,
   "metadata": {},
   "outputs": [
    {
     "data": {
      "text/plain": [
       "year\n",
       "2013    107847945.0\n",
       "2014     90000000.0\n",
       "2015    250000000.0\n",
       "2016    450000000.0\n",
       "2017    400000000.0\n",
       "2018    260000000.0\n",
       "2019    500000000.0\n",
       "Name: total_support, dtype: float64"
      ]
     },
     "metadata": {},
     "output_type": "display_data"
    },
    {
     "data": {
      "text/plain": [
       "Text(0, 0.5, 'Максимальная сумма гос.поддержки, млн руб')"
      ]
     },
     "execution_count": 52,
     "metadata": {},
     "output_type": "execute_result"
    },
    {
     "data": {
      "image/png": "[encoded data removed]",
      "text/plain": [
       "<Figure size 432x288 with 1 Axes>"
      ]
     },
     "metadata": {
      "needs_background": "light"
     },
     "output_type": "display_data"
    }
   ],
   "source": [
    "max_support=support_data.groupby('year')['total_support'].agg('max')\n",
    "display(max_support)\n",
    "\n",
    "max_support.plot(kind='bar', grid=True)\n",
    "plt.title('Максимальная сумма гос.поддержки по годам')\n",
    "plt.xlabel('Годы')\n",
    "plt.ylabel('Максимальная сумма гос.поддержки, млн руб')"
   ]
  },
  {
   "cell_type": "markdown",
   "metadata": {},
   "source": [
    "Максимальная гос. поддержка была оказана в 2019 г. (500 млн.руб), минимальная - в 2014 г. (90 млн.руб)"
   ]
  },
  {
   "cell_type": "code",
   "execution_count": 53,
   "metadata": {},
   "outputs": [
    {
     "name": "stdout",
     "output_type": "stream",
     "text": [
      "Суммарный бюджет фильмов с гос.поддержкой за весь период: 39280394141\n",
      "Суммарные кассовые сборы фильмов с гос.поддержкой за весь период: 37014670923\n"
     ]
    }
   ],
   "source": [
    "# Есть несколько строк с пропущенными значениями budget и box_office  - удалим их для чистоты сравнения:\n",
    "net_support_data=support_data.dropna(subset=['budget', 'box_office'])\n",
    "\n",
    "# Посчитаем, какой совокупный бюджет фильмов с гос.поддержкой:\n",
    "print('Суммарный бюджет фильмов с гос.поддержкой за весь период: %.0f' % net_support_data['budget'].sum())\n",
    "print('Суммарные кассовые сборы фильмов с гос.поддержкой за весь период: %.0f' % net_support_data['box_office'].sum())"
   ]
  },
  {
   "cell_type": "markdown",
   "metadata": {},
   "source": [
    "<div class=\"alert alert-warning\">\n",
    "<h2> Комментарий ревьюера 🤓<a class=\"tocSkip\"> </h2>\n",
    "      Данную проверку (по пропущенным значениям) стоит добавить, после создания данной таблицы)   "
   ]
  },
  {
   "cell_type": "code",
   "execution_count": 54,
   "metadata": {},
   "outputs": [
    {
     "name": "stderr",
     "output_type": "stream",
     "text": [
      "/tmp/ipykernel_113/2156737899.py:2: FutureWarning: Indexing with multiple keys (implicitly converted to a tuple of keys) will be deprecated, use a list instead.\n",
      "  net_support_pivot=net_support_data.groupby('year')['box_office', 'budget'].agg(['sum','count', 'median'])\n"
     ]
    },
    {
     "data": {
      "text/html": [
       "<div>\n",
       "<style scoped>\n",
       "    .dataframe tbody tr th:only-of-type {\n",
       "        vertical-align: middle;\n",
       "    }\n",
       "\n",
       "    .dataframe tbody tr th {\n",
       "        vertical-align: top;\n",
       "    }\n",
       "\n",
       "    .dataframe thead tr th {\n",
       "        text-align: left;\n",
       "    }\n",
       "\n",
       "    .dataframe thead tr:last-of-type th {\n",
       "        text-align: right;\n",
       "    }\n",
       "</style>\n",
       "<table border=\"1\" class=\"dataframe\">\n",
       "  <thead>\n",
       "    <tr>\n",
       "      <th></th>\n",
       "      <th colspan=\"3\" halign=\"left\">box_office</th>\n",
       "      <th colspan=\"3\" halign=\"left\">budget</th>\n",
       "      <th>result</th>\n",
       "    </tr>\n",
       "    <tr>\n",
       "      <th></th>\n",
       "      <th>sum</th>\n",
       "      <th>count</th>\n",
       "      <th>median</th>\n",
       "      <th>sum</th>\n",
       "      <th>count</th>\n",
       "      <th>median</th>\n",
       "      <th>sum</th>\n",
       "    </tr>\n",
       "    <tr>\n",
       "      <th>year</th>\n",
       "      <th></th>\n",
       "      <th></th>\n",
       "      <th></th>\n",
       "      <th></th>\n",
       "      <th></th>\n",
       "      <th></th>\n",
       "      <th></th>\n",
       "    </tr>\n",
       "  </thead>\n",
       "  <tbody>\n",
       "    <tr>\n",
       "      <th>2013</th>\n",
       "      <td>2.032239e+07</td>\n",
       "      <td>2</td>\n",
       "      <td>1.016119e+07</td>\n",
       "      <td>2.554354e+08</td>\n",
       "      <td>2</td>\n",
       "      <td>127717695.0</td>\n",
       "      <td>-2.351130e+08</td>\n",
       "    </tr>\n",
       "    <tr>\n",
       "      <th>2014</th>\n",
       "      <td>1.007188e+09</td>\n",
       "      <td>15</td>\n",
       "      <td>4.731240e+06</td>\n",
       "      <td>1.279485e+09</td>\n",
       "      <td>15</td>\n",
       "      <td>70876172.0</td>\n",
       "      <td>-2.722966e+08</td>\n",
       "    </tr>\n",
       "    <tr>\n",
       "      <th>2015</th>\n",
       "      <td>4.715365e+09</td>\n",
       "      <td>76</td>\n",
       "      <td>3.538065e+06</td>\n",
       "      <td>6.731185e+09</td>\n",
       "      <td>76</td>\n",
       "      <td>55567193.5</td>\n",
       "      <td>-2.015821e+09</td>\n",
       "    </tr>\n",
       "    <tr>\n",
       "      <th>2016</th>\n",
       "      <td>4.957724e+09</td>\n",
       "      <td>57</td>\n",
       "      <td>1.681433e+07</td>\n",
       "      <td>7.210237e+09</td>\n",
       "      <td>57</td>\n",
       "      <td>69883049.0</td>\n",
       "      <td>-2.252512e+09</td>\n",
       "    </tr>\n",
       "    <tr>\n",
       "      <th>2017</th>\n",
       "      <td>9.666281e+09</td>\n",
       "      <td>35</td>\n",
       "      <td>3.015617e+07</td>\n",
       "      <td>6.529478e+09</td>\n",
       "      <td>35</td>\n",
       "      <td>80000000.0</td>\n",
       "      <td>3.136803e+09</td>\n",
       "    </tr>\n",
       "    <tr>\n",
       "      <th>2018</th>\n",
       "      <td>8.940288e+09</td>\n",
       "      <td>51</td>\n",
       "      <td>2.273024e+07</td>\n",
       "      <td>6.466194e+09</td>\n",
       "      <td>51</td>\n",
       "      <td>93000000.0</td>\n",
       "      <td>2.474094e+09</td>\n",
       "    </tr>\n",
       "    <tr>\n",
       "      <th>2019</th>\n",
       "      <td>7.707502e+09</td>\n",
       "      <td>57</td>\n",
       "      <td>1.887846e+07</td>\n",
       "      <td>1.080838e+10</td>\n",
       "      <td>57</td>\n",
       "      <td>80000000.0</td>\n",
       "      <td>-3.100879e+09</td>\n",
       "    </tr>\n",
       "  </tbody>\n",
       "</table>\n",
       "</div>"
      ],
      "text/plain": [
       "        box_office                            budget                     \\\n",
       "               sum count        median           sum count       median   \n",
       "year                                                                      \n",
       "2013  2.032239e+07     2  1.016119e+07  2.554354e+08     2  127717695.0   \n",
       "2014  1.007188e+09    15  4.731240e+06  1.279485e+09    15   70876172.0   \n",
       "2015  4.715365e+09    76  3.538065e+06  6.731185e+09    76   55567193.5   \n",
       "2016  4.957724e+09    57  1.681433e+07  7.210237e+09    57   69883049.0   \n",
       "2017  9.666281e+09    35  3.015617e+07  6.529478e+09    35   80000000.0   \n",
       "2018  8.940288e+09    51  2.273024e+07  6.466194e+09    51   93000000.0   \n",
       "2019  7.707502e+09    57  1.887846e+07  1.080838e+10    57   80000000.0   \n",
       "\n",
       "            result  \n",
       "               sum  \n",
       "year                \n",
       "2013 -2.351130e+08  \n",
       "2014 -2.722966e+08  \n",
       "2015 -2.015821e+09  \n",
       "2016 -2.252512e+09  \n",
       "2017  3.136803e+09  \n",
       "2018  2.474094e+09  \n",
       "2019 -3.100879e+09  "
      ]
     },
     "execution_count": 54,
     "metadata": {},
     "output_type": "execute_result"
    }
   ],
   "source": [
    "# Посчитаем, как распределились бюджеты и кассовые сборы по годам:\n",
    "net_support_pivot=net_support_data.groupby('year')['box_office', 'budget'].agg(['sum','count', 'median'])\n",
    "net_support_pivot['result','sum']=net_support_pivot['box_office','sum']-net_support_pivot['budget','sum']\n",
    "net_support_pivot"
   ]
  },
  {
   "cell_type": "code",
   "execution_count": 55,
   "metadata": {},
   "outputs": [
    {
     "data": {
      "text/plain": [
       "Text(0, 0.5, 'Результат, млрд руб')"
      ]
     },
     "execution_count": 55,
     "metadata": {},
     "output_type": "execute_result"
    },
    {
     "data": {
      "image/png": "[encoded data removed]",
      "text/plain": [
       "<Figure size 432x288 with 1 Axes>"
      ]
     },
     "metadata": {
      "needs_background": "light"
     },
     "output_type": "display_data"
    }
   ],
   "source": [
    "# Посторим  график, отражающий прибыльность фильмов с гос.поддержкой по годам:\n",
    "net_support_pivot['result','sum'].plot(kind='bar', grid=True)\n",
    "plt.title('Кассовые сборы за минусом гос.поддержки по годам')\n",
    "plt.xlabel('Годы')\n",
    "plt.ylabel('Результат, млрд руб')"
   ]
  },
  {
   "cell_type": "markdown",
   "metadata": {},
   "source": [
    "Несмотря на огромные вливания окупаемость фильмов с гос.поддержкой была только в 2х годах 2017 и 2018 гг. В остальные года, фильмы не окупились (везде отрицательные значения)\n",
    "Для примера можно рассмотреть 2019 год, когда было снято наибольшее количество фильмов (57 шт.). кассовые сборы составили 7,7 млрд. руб, при бюджете в 10,8 млрд.руб"
   ]
  },
  {
   "cell_type": "markdown",
   "metadata": {},
   "source": [
    "<div class=\"alert alert-warning\">\n",
    "<h2> Комментарий ревьюера 🤓<a class=\"tocSkip\"> </h2>\n",
    "    Тут разве не кассовые сборы - бюджет?) Необходим вывод по графику и таблицам)"
   ]
  },
  {
   "cell_type": "markdown",
   "metadata": {},
   "source": [
    "Исправила.\n",
    "Р.S. Бюджет это все, что закладывается в фильм, а кассовые сборы (чисто теоретически) существуют для окупаемости бюджета"
   ]
  },
  {
   "cell_type": "code",
   "execution_count": 56,
   "metadata": {},
   "outputs": [
    {
     "data": {
      "text/plain": [
       "count    290.000000\n",
       "mean       6.026207\n",
       "std        1.128708\n",
       "min        1.000000\n",
       "25%        5.400000\n",
       "50%        6.200000\n",
       "75%        6.700000\n",
       "max        8.500000\n",
       "Name: ratings, dtype: float64"
      ]
     },
     "metadata": {},
     "output_type": "display_data"
    },
    {
     "data": {
      "text/plain": [
       "count    6176.000000\n",
       "mean        6.503578\n",
       "std         1.095038\n",
       "min         1.100000\n",
       "25%         5.900000\n",
       "50%         6.600000\n",
       "75%         7.300000\n",
       "max         9.200000\n",
       "Name: ratings, dtype: float64"
      ]
     },
     "execution_count": 56,
     "metadata": {},
     "output_type": "execute_result"
    }
   ],
   "source": [
    "# Выведем описание рейтинга фильмов с гос.поддержкой:\n",
    "display(support_data['ratings'].describe())\n",
    "\n",
    "# Выведем описание рейтинга фильмов БЕЗ гос.поддержки:\n",
    "no_support_data['ratings'].describe()"
   ]
  },
  {
   "cell_type": "markdown",
   "metadata": {},
   "source": [
    "Медианное значение рейтинга по фильмам с гос.поддержкой составляет 6,2, что на 0,4 меньше рейтинга фильмов без гос.поддержки. Фильмам с гос.поддержкой не ставили никогда оценок болеее 8,5 в то время, как прочие фильмы получали оценки до 9,2. Таким образом, можно сделать вывод о том, что фильмы, снятые без участия государства, пользуются большей любовью у зрителей, чем фильмы, снятые с гос.поддержкой."
   ]
  },
  {
   "cell_type": "markdown",
   "metadata": {},
   "source": [
    "<div class=\"alert alert-block alert-danger\">\n",
    "<h2> Комментарий ревьюера 🤔<a class=\"tocSkip\"></h2><s>\n",
    "Давай добавим выод по данным показателям)\n",
    "</div>"
   ]
  },
  {
   "cell_type": "markdown",
   "metadata": {},
   "source": [
    "Исправила"
   ]
  },
  {
   "cell_type": "code",
   "execution_count": 57,
   "metadata": {},
   "outputs": [
    {
     "data": {
      "text/plain": [
       "<AxesSubplot:ylabel='age_restriction'>"
      ]
     },
     "metadata": {},
     "output_type": "display_data"
    },
    {
     "data": {
      "text/plain": [
       "count      5.000000\n",
       "mean      61.400000\n",
       "std       46.435977\n",
       "min        8.000000\n",
       "25%       27.000000\n",
       "50%       55.000000\n",
       "75%      101.000000\n",
       "max      116.000000\n",
       "Name: age_restriction, dtype: float64"
      ]
     },
     "execution_count": 57,
     "metadata": {},
     "output_type": "execute_result"
    },
    {
     "data": {
      "image/png": "[encoded data removed]",
      "text/plain": [
       "<Figure size 576x576 with 1 Axes>"
      ]
     },
     "metadata": {},
     "output_type": "display_data"
    }
   ],
   "source": [
    "# Посмотрим, для каких возрастных категорий снимают фильмы с гос.поддержкой:\n",
    "display(support_data['age_restriction'].value_counts().plot(y='count', kind='pie', figsize=(8, 8)))\n",
    "plt.title('Распределение возрастных категорий фильмов с гос.поддержкой')\n",
    "\n",
    "support_data['age_restriction'].value_counts().describe()"
   ]
  },
  {
   "cell_type": "code",
   "execution_count": 58,
   "metadata": {},
   "outputs": [
    {
     "data": {
      "text/plain": [
       "<AxesSubplot:ylabel='age_restriction'>"
      ]
     },
     "metadata": {},
     "output_type": "display_data"
    },
    {
     "data": {
      "text/plain": [
       "count       5.000000\n",
       "mean     1430.600000\n",
       "std       844.489372\n",
       "min       561.000000\n",
       "25%       803.000000\n",
       "50%      1486.000000\n",
       "75%      1577.000000\n",
       "max      2726.000000\n",
       "Name: age_restriction, dtype: float64"
      ]
     },
     "execution_count": 58,
     "metadata": {},
     "output_type": "execute_result"
    },
    {
     "data": {
      "image/png": "[encoded data removed]",
      "text/plain": [
       "<Figure size 576x576 with 1 Axes>"
      ]
     },
     "metadata": {},
     "output_type": "display_data"
    }
   ],
   "source": [
    "# Посмотрим, для каких возрастных категорий снимают фильмы БЕЗ гос.поддержки:\n",
    "display(no_support_data['age_restriction'].value_counts().plot(y='count', kind='pie', figsize=(8, 8)))\n",
    "plt.title('Распределение возрастных категорий фильмов БЕЗ гос.поддержки')\n",
    "\n",
    "no_support_data['age_restriction'].value_counts().describe()"
   ]
  },
  {
   "cell_type": "code",
   "execution_count": 59,
   "metadata": {},
   "outputs": [
    {
     "data": {
      "text/plain": [
       "«16+» - для детей старше 16 лет           116\n",
       "«12+» - для детей старше 12 лет           101\n",
       "«6+» - для детей старше 6 лет              55\n",
       "«18+» - запрещено для детей                27\n",
       "«0+» - для любой зрительской аудитории      8\n",
       "Name: age_restriction, dtype: int64"
      ]
     },
     "metadata": {},
     "output_type": "display_data"
    },
    {
     "data": {
      "text/plain": [
       "«16+» - для детей старше 16 лет           2726\n",
       "«18+» - запрещено для детей               1577\n",
       "«12+» - для детей старше 12 лет           1486\n",
       "«0+» - для любой зрительской аудитории     803\n",
       "«6+» - для детей старше 6 лет              561\n",
       "Name: age_restriction, dtype: int64"
      ]
     },
     "execution_count": 59,
     "metadata": {},
     "output_type": "execute_result"
    }
   ],
   "source": [
    "# Выведем описание рейтинга фильмов с гос.поддержкой:\n",
    "display(support_data['age_restriction'].value_counts())\n",
    "\n",
    "# Выведем описание рейтинга фильмов БЕЗ гос.поддержки:\n",
    "no_support_data['age_restriction'].value_counts()"
   ]
  },
  {
   "cell_type": "markdown",
   "metadata": {},
   "source": [
    "Самая распространенная возрастная категория как среди фильмов с гос.поддержкой так и без неё – это категория 16+ (снимается чуть больше 1/3 всех фильмов).\n",
    "\n",
    "Второе месте среди фильмов с гос.поддержкой принадлежит фильмам категории 12+ (также около 1/3 фильмов). У фильмов, снятых без гос.поддержки, категория 12+ уступает место фильмам 18+.\n",
    "\n",
    "На третьем месте среди фильмов с гос.поддержкой находится категория 6+ (снимается около 20% фильмов). Однако среди фильмов, снятых без гос.поддержки фильмы 6+ находятся на самом последнем месте."
   ]
  },
  {
   "cell_type": "markdown",
   "metadata": {},
   "source": [
    "<div class=\"alert alert-block alert-danger\">\n",
    "<h2> Комментарий ревьюера 🤔<a class=\"tocSkip\"></h2><s>\n",
    "Нужно добавить выводы после сравнений)\n",
    "</div>"
   ]
  },
  {
   "cell_type": "code",
   "execution_count": 60,
   "metadata": {},
   "outputs": [
    {
     "data": {
      "text/plain": [
       "Художественный    285\n",
       "Анимационный       21\n",
       "Документальный      1\n",
       "Name: type, dtype: int64"
      ]
     },
     "metadata": {},
     "output_type": "display_data"
    },
    {
     "data": {
      "text/plain": [
       "Художественный                5608\n",
       "Анимационный                   798\n",
       "Прочие                         406\n",
       "Документальный                 287\n",
       "Научно-популярный               53\n",
       "Музыкально-развлекательный       1\n",
       "Name: type, dtype: int64"
      ]
     },
     "execution_count": 60,
     "metadata": {},
     "output_type": "execute_result"
    }
   ],
   "source": [
    "# Выведем описание рейтинга фильмов с гос.поддержкой:\n",
    "display(support_data['type'].value_counts())\n",
    "\n",
    "# Выведем описание рейтинга фильмов БЕЗ гос.поддержки:\n",
    "no_support_data['type'].value_counts()"
   ]
  },
  {
   "cell_type": "code",
   "execution_count": 61,
   "metadata": {},
   "outputs": [
    {
     "data": {
      "text/plain": [
       "director_first  type          \n",
       "А.Атанесян      Художественный    1\n",
       "В.Тодоровский   Художественный    1\n",
       "Р.Давлетьяров   Художественный    1\n",
       "Р.Прыгунов      Художественный    1\n",
       "Name: ratings, dtype: int64"
      ]
     },
     "execution_count": 61,
     "metadata": {},
     "output_type": "execute_result"
    }
   ],
   "source": [
    "# Выведем имена главных режиссеров, чьи фильмы получили максимальные оценки зрителей, а также их жанры:\n",
    "data.query('ratings>8').groupby(['director_first', support_data['type']])['ratings'].count().sort_values(ascending=False).head()"
   ]
  },
  {
   "cell_type": "markdown",
   "metadata": {},
   "source": [
    "<div class=\"alert alert-block alert-danger\">\n",
    "<h2> Комментарий ревьюера 🤔<a class=\"tocSkip\"></h2><s>\n",
    "Смотри по заданию этот пункт выполняется по  фильмам, которые получили государственную поддержку) а по тим пунктам, мы рассматриваем все фильмы.\n",
    "</div>"
   ]
  },
  {
   "cell_type": "markdown",
   "metadata": {},
   "source": [
    "Исправила"
   ]
  },
  {
   "cell_type": "code",
   "execution_count": 62,
   "metadata": {},
   "outputs": [],
   "source": [
    "# Создадим столбец с страной, получившей гос.поддержку:\n",
    "df_country=support_data['production_country'].str.split(',',expand=True)\n",
    "data['country_first']=df_country[0]"
   ]
  },
  {
   "cell_type": "code",
   "execution_count": 63,
   "metadata": {},
   "outputs": [
    {
     "data": {
      "text/plain": [
       "country_first\n",
       "Россия    4\n",
       "Name: ratings, dtype: int64"
      ]
     },
     "execution_count": 63,
     "metadata": {},
     "output_type": "execute_result"
    }
   ],
   "source": [
    "# Выведем на экран количесвто фильмов, получивших максимальные оценки зрителей:\n",
    "data.query('ratings>8').groupby('country_first')['ratings'].count().sort_values(ascending=False).head()"
   ]
  },
  {
   "cell_type": "markdown",
   "metadata": {},
   "source": [
    "Только 4 фильма с гос.поддержкой получили рейтинг выше 8 баллов"
   ]
  },
  {
   "cell_type": "markdown",
   "metadata": {},
   "source": [
    "<div class=\"alert alert-block alert-danger\">\n",
    "<h2> Комментарий ревьюера 🤔 v_2<a class=\"tocSkip\"></h2><s>\n",
    "Этот пункт тоже должен  выполняться по  фильмам, которые получили государственную поддержку) Давай скорректируем табличку по которой выводим данные.\n",
    "</div>"
   ]
  },
  {
   "cell_type": "markdown",
   "metadata": {},
   "source": [
    "Исправила"
   ]
  },
  {
   "cell_type": "markdown",
   "metadata": {},
   "source": [
    "Количество прокатных удостоверний у фильмов с гос.поддержкой совпадает с количеством фильмов с гос.поддержкой (307). При этом есть разница, неочень большая, для фильмов без гос.поддержки (удостоверений 7153, фильмов 6444)\n",
    "\n",
    "ОБЪЁМ СРЕДСТВ, ВЫДЕЛЯЕМЫХ НА ГОС.ПОДДЕРЖКУ\n",
    "\n",
    "Суммарный бюджет фильмов с гос.поддержкой за весь период равен 39,3 млрд.руб., при кассовых сборах таких фильмов в 37 млрд руб. Сама  гос.поддержка составила 18,3 млрд.руб., при максимальном показателе в 2019 году (500 млн.руб).По годам наибольшее среднее значение в 2017 г. - 81 млн.руб при медианном значении в 37 млн.руб. На среднее значение повлияли значительные суммы гос.поддержки некоторых фильмов\n",
    " \n",
    "По количеству фильмов больше всего поступило в прокат в 2015 г (77) и в 2019 (67)\n",
    "В 2013 году было выпущено всего 2 фильма с гос.поддержкой\n",
    "\n",
    "ОКУПАЕМОСТЬ ФИЛЬМОВ С ГОС.ПОДДЕРЖКОЙ\n",
    "\n",
    "Несмотря на огромные вливания окупаемость фильмов с гос.поддержкой была только в 2х годах 2017 и 2018 гг. В остальные года, фильмы не окупились (везде отрицательные значения)\n",
    "\n",
    "в 2017 году прибыль составила 4 млрд руб;\n",
    "в 2018 году прибыль составила 3,3 млрд руб.\n",
    "А максимальный убыток в 2019 году составил - минус 2,6 млрд руб.\n",
    "\n",
    "РЕЙТИНГ ФИЛЬМОВ\n",
    "\n",
    "Наибольшая популярность как у фильмов с гос. поддержкой так и без пользуется у фильмов категорией 16+ и 12+\n",
    "По рейтингам художественные фильмы занимают наивысшую позицию. Только 4 фильма с гос.поддержкой получили рейтинг выше 8 баллов"
   ]
  },
  {
   "cell_type": "markdown",
   "metadata": {
    "id": "V2gYwMcPgFyd"
   },
   "source": [
    "### Шаг 5. Напишите общий вывод"
   ]
  },
  {
   "cell_type": "markdown",
   "metadata": {
    "id": "AYRg3dzXgFye"
   },
   "source": [
    "Была поставлена задача изучить рынок российского кинопроката и выявить текущие тренды. Мы получили данные о прокатных удостоверениях, сборах и государственной поддержке фильмов и сделали следующие выводы:\n",
    "\n",
    "КОЛИЧЕСТВО ФИЛЬМОВ, ВЫПУСКАЕМЫХ В ПРОКАТ\n",
    "\n",
    "Данные о прокате в кинотеатрах известны не для всех фильмов, это означает, что часть фильмов получили удостоверение на прокат на ТВ. В среднем, в прокат в целом выходило около 746 фильмов в год, а в прокат в кинотеатрах выходило в 2 раза меньше - 313 фильмов в год. \n",
    "\n",
    "В целом, количество фильмов, выходивших в прокат стабильно, но в кинотеатрах оно стаильно растет. Меньше всего фильмов вышло в прокат в кинотеатрах в 2010 году (это начало исследуемого периода) - всего 105 фильмов. Затем это количество постепенно увеличивалось до 523 в 2016 году. На следующий год количество фильмов упало до 353, но к 2019 году постепенно вернулось к 527 фильмам. В целом, можно утверждать, что и количество фильмов, вышдших в прокат в кинотеатрах, и доля фильмов с указанной информацией о прокате в кинотеатрах стабильно растет. Это, может быть, связано со следующими факторами:\n",
    "\n",
    "Начиная с 2014-2015 активно начали развиваться он-лайн кинотеатры (типа Okko, Ivi и т.д.), благодаря чему выросло количество кассовых сборов кинотеатров; также благодаря цифровым технологиям даёт свои плоды многолетняя борьба с пиратством - людям проще заплатить теперь за фильм, чем пытаться найти его для росмотра на бесплатном ресурсе; как вариант, можно рассмотреть влияние стоимости прокатных удостоверений - возможно в последние годы стоиомость прокатного удостоверения в кинотеатры могла снизиться.\n",
    "\n",
    "\n",
    "КАССОВЫЕ СБОРЫ\n",
    "\n",
    "Кассовые сборы увеличивались год от года. Минимальная сумма была в 2010 году (2,4 млн руб.), а максимальная в 2018 году (48 млрд.руб). В целом сумма кассовых сборов за 2017-2019 гг примерна одинакова. Но поскольку среднее значение сильно разница (2015,2016 и 2019 гг эта цифра составлет от 8,4-9,1, а в других годах эта цифра составляет порядка 1-2), возможно отсутствие информации сказывается на показателях.\n",
    "\n",
    "Видим, что медиана по кассовым сборам во много раз меньше среднего каждый год. Это свидетельствует о том, что есть некоторое количество фильмов с очень значительными сборами, что повлияло на среднююю величину.\n",
    "\n",
    "ВОЗРАСТНОЕ ОГРАНИЧЕНИЕ\n",
    "\n",
    "За период с 2015-2019 гг. самые большие кассовые сборы составили у категории 16+ (около 75 млрд.руб). Это группа начинается с подростков. Наиболее свободное время и наличие карманных денег + знание интернета помогает больше просматривать фильмов (неважно онлайн кинотеатр или обычный). \n",
    "Самая наименьшая по сборам категория 0+ (800 млн. руб). Это группа для малышей. Далеко не все родители часто водят детей на фильмы и тем более не на все премьеры, плюс многие ограничивают в просмотре телевизора. \n",
    "По годам тенденция такая: лидирующие позиции занимают 2 категории 12+ и 16+. Так в 2019 году сборы по этим двум категориям примерно равны и составляют около 1,3 млрд. руб. При этом только в 2015 году 12+ обогнало 16+ и составило 1,3 против 1,1 млрд.руб. \n",
    "\n",
    "САМЫЕ УСПЕШНЫЕ ФИЛЬМЫ \n",
    "Фильмы с рейтингом более 8 баллов - художественные фильмы. Также популярны анимационные. Самые любимые режиссеры согласно оценкам к фильмам, получившие гос.поддержку: А.Атанесян, В.Тодоровский, Р.Давлетьяров, Р.Прыгунов. Только 4 фильма с гос.поддержкой получили рейтинг выше 8 баллов.\n",
    "\n",
    "ОБЪЁМ СРЕДСТВ, ВЫДЕЛЯЕМЫХ НА ГОС.ПОДДЕРЖКУ\n",
    "\n",
    "Суммарный бюджет фильмов с гос.поддержкой за весь период равен 39,3 млрд.руб., при кассовых сборах таких фильмов в 37 млрд руб. Сама гос.поддержка составила 18,3 млрд.руб., при максимальном показателе в 2019 году (500 млн.руб).\n",
    "\n",
    "ОКУПАЕМОСТЬ ФИЛЬМОВ С ГОС.ПОДДЕРЖКОЙ\n",
    "\n",
    "Несмотря на огромные вливания окупаемость фильмов с гос.поддержкой была только в 2х годах 2017 и 2018 гг. В остальные года, фильмы не окупились (везде отрицательные значения)\n",
    "\n",
    "в 2017 году прибыль составила 4 млрд руб; в 2018 году прибыль составила 3,3 млрд руб. А максимальный убыток в 2019 году составил - минус 2,6 млрд руб."
   ]
  },
  {
   "cell_type": "markdown",
   "metadata": {},
   "source": [
    "<div class=\"alert alert-success\">\n",
    "<h2> Комментарий ревьюера 😊<a class=\"tocSkip\"> </h2>\n",
    "Очень хороший структурированный вывод, замечательная работа!)"
   ]
  },
  {
   "cell_type": "markdown",
   "metadata": {},
   "source": [
    "<div style=\"border:solid Purple 2px; padding: 40px\">\n",
    "\n",
    "<h2> Общий комментарий ревьюера 😊<a class=\"tocSkip\"> </h2>\n",
    "    <br/>\n",
    "Елизавета, ты проделала большую работу, и все основные задачи в рамках проекта решены, это отличная работа! Особенно хочу выделить  подробные общие выводы, очень точное использование функций и отличная визуализация) Ты даешь подробное описание своих действий и приводишь аргументацию, это очень хорошо. \n",
    "    \n",
    "Необходимо доработать:\n",
    "    <s>\n",
    "* Добавить комментарии к графикам\n",
    "* Введение\n",
    "* Дать характеристику проблеме категориальных столбцов\n",
    "* Остальные комментарии ты найдешь в работе\n",
    "    </s>\n",
    " \n",
    "**Желаю удачи и жду твой проект на повторное ревью! Если вдруг у тебя возникнут вопросы, то я с радостью отвечу на них.    😊**\n",
    "    \n",
    "![gif](https://i.gifer.com/378.gif)\n",
    "    \n",
    "<br>   "
   ]
  },
  {
   "cell_type": "markdown",
   "metadata": {},
   "source": [
    "<div style=\"border:solid Purple 2px; padding: 40px\">\n",
    "\n",
    "<h2> Общий комментарий ревьюера 😊 v_2<a class=\"tocSkip\"> </h2>\n",
    "    <br/>\n",
    "Елизавета, все отлично, остался тольо последний пункт ислледования, который мы снова делали по всем фильмам, вместо фильмов с гос. поддержкой. Давай отредактируем его и вывод)"
   ]
  }
 ],
 "metadata": {
  "ExecuteTimeLog": [
   {
    "duration": 537,
    "start_time": "2021-07-07T10:12:08.634Z"
   },
   {
    "duration": 206,
    "start_time": "2021-07-07T10:12:30.191Z"
   },
   {
    "duration": 227,
    "start_time": "2021-07-07T10:12:33.078Z"
   },
   {
    "duration": 153,
    "start_time": "2021-07-07T10:13:42.146Z"
   },
   {
    "duration": 233,
    "start_time": "2021-07-07T10:30:09.252Z"
   },
   {
    "duration": 19,
    "start_time": "2021-07-07T10:30:15.577Z"
   },
   {
    "duration": 18,
    "start_time": "2021-07-07T10:30:57.348Z"
   },
   {
    "duration": 19,
    "start_time": "2021-07-07T10:31:17.452Z"
   },
   {
    "duration": 21,
    "start_time": "2021-07-07T10:31:32.227Z"
   },
   {
    "duration": 27,
    "start_time": "2021-07-07T10:32:06.588Z"
   },
   {
    "duration": 23,
    "start_time": "2021-07-07T10:32:43.645Z"
   },
   {
    "duration": 24,
    "start_time": "2021-07-07T10:33:06.948Z"
   },
   {
    "duration": 7,
    "start_time": "2021-07-07T10:33:28.558Z"
   },
   {
    "duration": 23,
    "start_time": "2021-07-07T10:33:43.761Z"
   },
   {
    "duration": 28,
    "start_time": "2021-07-07T10:34:13.466Z"
   },
   {
    "duration": 23,
    "start_time": "2021-07-07T10:35:56.187Z"
   },
   {
    "duration": 6,
    "start_time": "2021-07-07T10:36:48.182Z"
   },
   {
    "duration": 14,
    "start_time": "2021-07-07T10:37:49.641Z"
   },
   {
    "duration": 6,
    "start_time": "2021-07-07T10:38:06.694Z"
   },
   {
    "duration": 6,
    "start_time": "2021-07-07T10:38:13.493Z"
   },
   {
    "duration": 19,
    "start_time": "2021-07-07T10:38:44.056Z"
   },
   {
    "duration": 186,
    "start_time": "2021-07-07T10:48:35.618Z"
   },
   {
    "duration": 24,
    "start_time": "2021-07-07T10:48:51.498Z"
   },
   {
    "duration": 20,
    "start_time": "2021-07-07T10:48:59.415Z"
   },
   {
    "duration": 20,
    "start_time": "2021-07-07T10:53:02.195Z"
   },
   {
    "duration": 188,
    "start_time": "2021-07-07T10:54:40.486Z"
   },
   {
    "duration": 115,
    "start_time": "2021-07-07T10:54:52.552Z"
   },
   {
    "duration": 214,
    "start_time": "2021-07-07T10:54:56.354Z"
   },
   {
    "duration": 47,
    "start_time": "2021-07-07T10:54:58.282Z"
   },
   {
    "duration": 217,
    "start_time": "2021-07-07T10:59:16.075Z"
   },
   {
    "duration": 51,
    "start_time": "2021-07-07T10:59:16.243Z"
   },
   {
    "duration": 578,
    "start_time": "2021-07-07T10:59:18.774Z"
   },
   {
    "duration": 161,
    "start_time": "2021-07-07T10:59:21.238Z"
   },
   {
    "duration": 59,
    "start_time": "2021-07-07T10:59:21.453Z"
   },
   {
    "duration": 3,
    "start_time": "2021-07-07T11:02:10.786Z"
   },
   {
    "duration": 13,
    "start_time": "2021-07-07T11:07:07.722Z"
   },
   {
    "duration": 26,
    "start_time": "2021-07-07T11:07:17.958Z"
   },
   {
    "duration": 22,
    "start_time": "2021-07-07T11:08:17.939Z"
   },
   {
    "duration": 212,
    "start_time": "2021-07-07T11:08:19.665Z"
   },
   {
    "duration": 21,
    "start_time": "2021-07-07T11:08:29.945Z"
   },
   {
    "duration": 31,
    "start_time": "2021-07-07T11:08:38.899Z"
   },
   {
    "duration": 23,
    "start_time": "2021-07-07T11:08:54.527Z"
   },
   {
    "duration": 8,
    "start_time": "2021-07-07T11:18:55.974Z"
   },
   {
    "duration": 7,
    "start_time": "2021-07-07T11:19:03.639Z"
   },
   {
    "duration": 7,
    "start_time": "2021-07-07T11:19:06.444Z"
   },
   {
    "duration": 578,
    "start_time": "2021-07-07T12:09:59.576Z"
   },
   {
    "duration": 195,
    "start_time": "2021-07-07T12:10:00.156Z"
   },
   {
    "duration": 115,
    "start_time": "2021-07-07T12:10:00.353Z"
   },
   {
    "duration": 3,
    "start_time": "2021-07-07T12:10:00.470Z"
   },
   {
    "duration": 32,
    "start_time": "2021-07-07T12:10:00.474Z"
   },
   {
    "duration": 23,
    "start_time": "2021-07-07T12:10:00.508Z"
   },
   {
    "duration": 19,
    "start_time": "2021-07-07T12:10:00.533Z"
   },
   {
    "duration": 44,
    "start_time": "2021-07-07T12:10:00.553Z"
   },
   {
    "duration": 7,
    "start_time": "2021-07-07T12:10:00.600Z"
   },
   {
    "duration": 7,
    "start_time": "2021-07-07T12:19:45.761Z"
   },
   {
    "duration": 21,
    "start_time": "2021-07-07T12:21:35.482Z"
   },
   {
    "duration": 21,
    "start_time": "2021-07-07T12:29:23.569Z"
   },
   {
    "duration": 525,
    "start_time": "2021-07-07T12:29:44.542Z"
   },
   {
    "duration": 214,
    "start_time": "2021-07-07T12:29:45.069Z"
   },
   {
    "duration": 92,
    "start_time": "2021-07-07T12:29:45.285Z"
   },
   {
    "duration": 3,
    "start_time": "2021-07-07T12:29:45.379Z"
   },
   {
    "duration": 28,
    "start_time": "2021-07-07T12:29:45.384Z"
   },
   {
    "duration": 23,
    "start_time": "2021-07-07T12:29:45.413Z"
   },
   {
    "duration": 21,
    "start_time": "2021-07-07T12:29:45.437Z"
   },
   {
    "duration": 41,
    "start_time": "2021-07-07T12:29:45.460Z"
   },
   {
    "duration": 7,
    "start_time": "2021-07-07T12:29:45.502Z"
   },
   {
    "duration": 20,
    "start_time": "2021-07-07T12:29:45.511Z"
   },
   {
    "duration": 12,
    "start_time": "2021-07-07T12:34:02.800Z"
   },
   {
    "duration": 7,
    "start_time": "2021-07-07T12:35:10.479Z"
   },
   {
    "duration": 8,
    "start_time": "2021-07-07T12:35:22.440Z"
   },
   {
    "duration": 6,
    "start_time": "2021-07-07T12:35:35.649Z"
   },
   {
    "duration": 6,
    "start_time": "2021-07-07T12:35:43.107Z"
   },
   {
    "duration": 22,
    "start_time": "2021-07-07T12:38:03.029Z"
   },
   {
    "duration": 10,
    "start_time": "2021-07-07T12:38:06.592Z"
   },
   {
    "duration": 563,
    "start_time": "2021-07-07T12:38:46.493Z"
   },
   {
    "duration": 265,
    "start_time": "2021-07-07T12:38:47.058Z"
   },
   {
    "duration": 94,
    "start_time": "2021-07-07T12:38:47.325Z"
   },
   {
    "duration": 3,
    "start_time": "2021-07-07T12:38:47.422Z"
   },
   {
    "duration": 30,
    "start_time": "2021-07-07T12:38:47.427Z"
   },
   {
    "duration": 16,
    "start_time": "2021-07-07T12:38:53.305Z"
   },
   {
    "duration": 10,
    "start_time": "2021-07-07T12:38:53.499Z"
   },
   {
    "duration": 8,
    "start_time": "2021-07-07T12:39:48.161Z"
   },
   {
    "duration": 27,
    "start_time": "2021-07-07T12:41:17.629Z"
   },
   {
    "duration": 17,
    "start_time": "2021-07-07T12:41:17.867Z"
   },
   {
    "duration": 21,
    "start_time": "2021-07-07T12:41:19.310Z"
   },
   {
    "duration": 7,
    "start_time": "2021-07-07T12:41:19.544Z"
   },
   {
    "duration": 20,
    "start_time": "2021-07-07T12:41:20.504Z"
   },
   {
    "duration": 554,
    "start_time": "2021-07-07T12:56:23.696Z"
   },
   {
    "duration": 200,
    "start_time": "2021-07-07T12:56:25.234Z"
   },
   {
    "duration": 119,
    "start_time": "2021-07-07T12:56:25.480Z"
   },
   {
    "duration": 4,
    "start_time": "2021-07-07T12:56:25.762Z"
   },
   {
    "duration": 26,
    "start_time": "2021-07-07T12:56:27.172Z"
   },
   {
    "duration": 12,
    "start_time": "2021-07-07T12:56:29.051Z"
   },
   {
    "duration": 10,
    "start_time": "2021-07-07T12:56:29.291Z"
   },
   {
    "duration": 8,
    "start_time": "2021-07-07T12:56:29.623Z"
   },
   {
    "duration": 28,
    "start_time": "2021-07-07T12:56:32.137Z"
   },
   {
    "duration": 19,
    "start_time": "2021-07-07T12:56:39.785Z"
   },
   {
    "duration": 20,
    "start_time": "2021-07-07T12:56:44.297Z"
   },
   {
    "duration": 7,
    "start_time": "2021-07-07T12:56:45.392Z"
   },
   {
    "duration": 23,
    "start_time": "2021-07-07T12:56:46.615Z"
   },
   {
    "duration": 4,
    "start_time": "2021-07-07T12:57:06.625Z"
   },
   {
    "duration": 32,
    "start_time": "2021-07-07T12:57:36.690Z"
   },
   {
    "duration": 18,
    "start_time": "2021-07-07T12:58:00.149Z"
   },
   {
    "duration": 15,
    "start_time": "2021-07-07T12:59:16.793Z"
   },
   {
    "duration": 7,
    "start_time": "2021-07-07T13:19:22.624Z"
   },
   {
    "duration": 6,
    "start_time": "2021-07-07T14:17:33.527Z"
   },
   {
    "duration": 9,
    "start_time": "2021-07-07T14:17:48.409Z"
   },
   {
    "duration": 8,
    "start_time": "2021-07-07T14:20:13.060Z"
   },
   {
    "duration": 8,
    "start_time": "2021-07-07T14:20:37.957Z"
   },
   {
    "duration": 8,
    "start_time": "2021-07-07T14:20:47.470Z"
   },
   {
    "duration": 9,
    "start_time": "2021-07-07T14:20:54.503Z"
   },
   {
    "duration": 10,
    "start_time": "2021-07-07T14:28:57.763Z"
   },
   {
    "duration": 3,
    "start_time": "2021-07-07T14:30:23.377Z"
   },
   {
    "duration": 3,
    "start_time": "2021-07-07T14:30:36.489Z"
   },
   {
    "duration": 103,
    "start_time": "2021-07-07T14:30:52.351Z"
   },
   {
    "duration": 8,
    "start_time": "2021-07-07T14:30:54.763Z"
   },
   {
    "duration": 8,
    "start_time": "2021-07-07T14:31:29.301Z"
   },
   {
    "duration": 13,
    "start_time": "2021-07-07T14:31:44.516Z"
   },
   {
    "duration": 7,
    "start_time": "2021-07-07T14:33:10.972Z"
   },
   {
    "duration": 11,
    "start_time": "2021-07-07T14:33:27.780Z"
   },
   {
    "duration": 8,
    "start_time": "2021-07-07T14:34:44.588Z"
   },
   {
    "duration": 57,
    "start_time": "2021-07-07T14:35:59.042Z"
   },
   {
    "duration": 3,
    "start_time": "2021-07-07T14:36:28.168Z"
   },
   {
    "duration": 5,
    "start_time": "2021-07-07T14:36:46.254Z"
   },
   {
    "duration": 4,
    "start_time": "2021-07-07T14:36:52.714Z"
   },
   {
    "duration": 3,
    "start_time": "2021-07-07T14:36:56.612Z"
   },
   {
    "duration": 4,
    "start_time": "2021-07-07T14:36:57.049Z"
   },
   {
    "duration": 3,
    "start_time": "2021-07-07T14:39:21.214Z"
   },
   {
    "duration": 7,
    "start_time": "2021-07-07T14:39:52.406Z"
   },
   {
    "duration": 11,
    "start_time": "2021-07-07T14:39:58.576Z"
   },
   {
    "duration": 9,
    "start_time": "2021-07-07T14:40:26.301Z"
   },
   {
    "duration": 10,
    "start_time": "2021-07-07T14:40:31.704Z"
   },
   {
    "duration": 11,
    "start_time": "2021-07-07T14:40:36.249Z"
   },
   {
    "duration": 10,
    "start_time": "2021-07-07T14:40:39.783Z"
   },
   {
    "duration": 9,
    "start_time": "2021-07-07T14:40:48.558Z"
   },
   {
    "duration": 10,
    "start_time": "2021-07-07T14:40:57.143Z"
   },
   {
    "duration": 9,
    "start_time": "2021-07-07T14:41:06.074Z"
   },
   {
    "duration": 4324,
    "start_time": "2021-07-07T14:41:22.004Z"
   },
   {
    "duration": 11,
    "start_time": "2021-07-07T14:41:33.392Z"
   },
   {
    "duration": 9,
    "start_time": "2021-07-07T14:41:39.288Z"
   },
   {
    "duration": 569,
    "start_time": "2021-07-07T14:42:14.387Z"
   },
   {
    "duration": 197,
    "start_time": "2021-07-07T14:42:14.959Z"
   },
   {
    "duration": 84,
    "start_time": "2021-07-07T14:42:16.052Z"
   },
   {
    "duration": 4,
    "start_time": "2021-07-07T14:42:16.900Z"
   },
   {
    "duration": 27,
    "start_time": "2021-07-07T14:42:19.898Z"
   },
   {
    "duration": 12,
    "start_time": "2021-07-07T14:42:21.577Z"
   },
   {
    "duration": 9,
    "start_time": "2021-07-07T14:42:21.813Z"
   },
   {
    "duration": 9,
    "start_time": "2021-07-07T14:42:22.569Z"
   },
   {
    "duration": 29,
    "start_time": "2021-07-07T14:42:25.837Z"
   },
   {
    "duration": 20,
    "start_time": "2021-07-07T14:42:27.003Z"
   },
   {
    "duration": 21,
    "start_time": "2021-07-07T14:42:28.767Z"
   },
   {
    "duration": 7,
    "start_time": "2021-07-07T14:42:29.838Z"
   },
   {
    "duration": 4,
    "start_time": "2021-07-07T14:43:25.493Z"
   },
   {
    "duration": 7,
    "start_time": "2021-07-07T14:43:26.573Z"
   },
   {
    "duration": 10,
    "start_time": "2021-07-07T14:43:31.639Z"
   },
   {
    "duration": 9,
    "start_time": "2021-07-07T14:43:32.046Z"
   },
   {
    "duration": 10,
    "start_time": "2021-07-07T14:43:33.301Z"
   },
   {
    "duration": 12,
    "start_time": "2021-07-07T14:43:33.658Z"
   },
   {
    "duration": 8,
    "start_time": "2021-07-07T14:43:34.552Z"
   },
   {
    "duration": 9,
    "start_time": "2021-07-07T14:43:35.058Z"
   },
   {
    "duration": 12,
    "start_time": "2021-07-07T14:43:35.914Z"
   },
   {
    "duration": 17,
    "start_time": "2021-07-07T14:45:34.368Z"
   },
   {
    "duration": 512,
    "start_time": "2021-07-07T14:51:58.236Z"
   },
   {
    "duration": 223,
    "start_time": "2021-07-07T14:51:58.750Z"
   },
   {
    "duration": 93,
    "start_time": "2021-07-07T14:51:58.977Z"
   },
   {
    "duration": 4,
    "start_time": "2021-07-07T14:51:59.071Z"
   },
   {
    "duration": 37,
    "start_time": "2021-07-07T14:51:59.077Z"
   },
   {
    "duration": 18,
    "start_time": "2021-07-07T14:51:59.116Z"
   },
   {
    "duration": 10,
    "start_time": "2021-07-07T14:51:59.137Z"
   },
   {
    "duration": 8,
    "start_time": "2021-07-07T14:51:59.149Z"
   },
   {
    "duration": 54,
    "start_time": "2021-07-07T14:51:59.158Z"
   },
   {
    "duration": 18,
    "start_time": "2021-07-07T14:51:59.213Z"
   },
   {
    "duration": 22,
    "start_time": "2021-07-07T14:51:59.232Z"
   },
   {
    "duration": 36,
    "start_time": "2021-07-07T14:51:59.255Z"
   },
   {
    "duration": 7,
    "start_time": "2021-07-07T14:51:59.293Z"
   },
   {
    "duration": 10,
    "start_time": "2021-07-07T14:51:59.302Z"
   },
   {
    "duration": 9,
    "start_time": "2021-07-07T14:51:59.313Z"
   },
   {
    "duration": 11,
    "start_time": "2021-07-07T14:51:59.324Z"
   },
   {
    "duration": 8,
    "start_time": "2021-07-07T14:51:59.337Z"
   },
   {
    "duration": 46,
    "start_time": "2021-07-07T14:51:59.347Z"
   },
   {
    "duration": 22,
    "start_time": "2021-07-07T14:51:59.395Z"
   },
   {
    "duration": 24,
    "start_time": "2021-07-07T14:57:32.911Z"
   },
   {
    "duration": 7,
    "start_time": "2021-07-07T14:58:22.070Z"
   },
   {
    "duration": 4,
    "start_time": "2021-07-07T14:59:11.239Z"
   },
   {
    "duration": 25,
    "start_time": "2021-07-07T15:07:22.208Z"
   },
   {
    "duration": 16,
    "start_time": "2021-07-07T15:08:25.560Z"
   },
   {
    "duration": 15,
    "start_time": "2021-07-07T15:08:40.647Z"
   },
   {
    "duration": 14,
    "start_time": "2021-07-07T15:08:46.669Z"
   },
   {
    "duration": 533,
    "start_time": "2021-07-07T15:18:07.440Z"
   },
   {
    "duration": 173,
    "start_time": "2021-07-07T15:18:07.974Z"
   },
   {
    "duration": 84,
    "start_time": "2021-07-07T15:18:08.149Z"
   },
   {
    "duration": 3,
    "start_time": "2021-07-07T15:18:08.235Z"
   },
   {
    "duration": 30,
    "start_time": "2021-07-07T15:18:08.240Z"
   },
   {
    "duration": 22,
    "start_time": "2021-07-07T15:18:08.272Z"
   },
   {
    "duration": 11,
    "start_time": "2021-07-07T15:18:08.295Z"
   },
   {
    "duration": 11,
    "start_time": "2021-07-07T15:18:08.309Z"
   },
   {
    "duration": 40,
    "start_time": "2021-07-07T15:18:08.322Z"
   },
   {
    "duration": 42,
    "start_time": "2021-07-07T15:18:08.364Z"
   },
   {
    "duration": 22,
    "start_time": "2021-07-07T15:18:08.408Z"
   },
   {
    "duration": 5,
    "start_time": "2021-07-07T15:18:08.432Z"
   },
   {
    "duration": 13,
    "start_time": "2021-07-07T15:18:08.439Z"
   },
   {
    "duration": 9,
    "start_time": "2021-07-07T15:18:08.454Z"
   },
   {
    "duration": 32,
    "start_time": "2021-07-07T15:18:08.465Z"
   },
   {
    "duration": 10,
    "start_time": "2021-07-07T15:18:08.501Z"
   },
   {
    "duration": 7,
    "start_time": "2021-07-07T15:18:08.513Z"
   },
   {
    "duration": 11,
    "start_time": "2021-07-07T15:18:08.521Z"
   },
   {
    "duration": 17,
    "start_time": "2021-07-07T15:18:08.534Z"
   },
   {
    "duration": 44,
    "start_time": "2021-07-07T15:18:08.553Z"
   },
   {
    "duration": 22,
    "start_time": "2021-07-07T15:18:08.599Z"
   },
   {
    "duration": 61,
    "start_time": "2021-07-07T15:18:08.622Z"
   },
   {
    "duration": 7,
    "start_time": "2021-07-07T15:18:39.457Z"
   },
   {
    "duration": 5,
    "start_time": "2021-07-07T16:05:17.020Z"
   },
   {
    "duration": 5,
    "start_time": "2021-07-07T16:51:28.794Z"
   },
   {
    "duration": 546,
    "start_time": "2021-07-07T16:52:26.306Z"
   },
   {
    "duration": 203,
    "start_time": "2021-07-07T16:52:27.523Z"
   },
   {
    "duration": 85,
    "start_time": "2021-07-07T16:52:27.736Z"
   },
   {
    "duration": 4,
    "start_time": "2021-07-07T16:52:27.899Z"
   },
   {
    "duration": 25,
    "start_time": "2021-07-07T16:52:28.674Z"
   },
   {
    "duration": 8,
    "start_time": "2021-07-07T16:52:32.956Z"
   },
   {
    "duration": 18,
    "start_time": "2021-07-07T16:52:35.616Z"
   },
   {
    "duration": 6,
    "start_time": "2021-07-07T16:52:36.913Z"
   },
   {
    "duration": 11,
    "start_time": "2021-07-07T16:52:40.258Z"
   },
   {
    "duration": 10,
    "start_time": "2021-07-07T16:52:46.251Z"
   },
   {
    "duration": 8,
    "start_time": "2021-07-07T16:52:47.182Z"
   },
   {
    "duration": 27,
    "start_time": "2021-07-07T16:53:20.391Z"
   },
   {
    "duration": 20,
    "start_time": "2021-07-07T16:53:22.022Z"
   },
   {
    "duration": 23,
    "start_time": "2021-07-07T16:53:23.690Z"
   },
   {
    "duration": 8,
    "start_time": "2021-07-07T16:53:24.261Z"
   },
   {
    "duration": 4,
    "start_time": "2021-07-07T16:53:38.733Z"
   },
   {
    "duration": 7,
    "start_time": "2021-07-07T16:53:40.445Z"
   },
   {
    "duration": 11,
    "start_time": "2021-07-07T16:53:41.348Z"
   },
   {
    "duration": 13,
    "start_time": "2021-07-07T16:53:45.250Z"
   },
   {
    "duration": 12,
    "start_time": "2021-07-07T16:53:45.467Z"
   },
   {
    "duration": 4,
    "start_time": "2021-07-07T16:55:32.704Z"
   },
   {
    "duration": 12,
    "start_time": "2021-07-07T16:55:49.012Z"
   },
   {
    "duration": 18,
    "start_time": "2021-07-07T16:55:49.547Z"
   },
   {
    "duration": 611,
    "start_time": "2021-07-07T16:58:35.156Z"
   },
   {
    "duration": 200,
    "start_time": "2021-07-07T16:58:35.770Z"
   },
   {
    "duration": 86,
    "start_time": "2021-07-07T16:58:35.972Z"
   },
   {
    "duration": 3,
    "start_time": "2021-07-07T16:58:36.060Z"
   },
   {
    "duration": 27,
    "start_time": "2021-07-07T16:58:36.065Z"
   },
   {
    "duration": 8,
    "start_time": "2021-07-07T16:58:36.094Z"
   },
   {
    "duration": 17,
    "start_time": "2021-07-07T16:58:36.103Z"
   },
   {
    "duration": 5,
    "start_time": "2021-07-07T16:58:36.123Z"
   },
   {
    "duration": 11,
    "start_time": "2021-07-07T16:58:36.130Z"
   },
   {
    "duration": 7,
    "start_time": "2021-07-07T16:58:36.143Z"
   },
   {
    "duration": 37,
    "start_time": "2021-07-07T16:58:36.152Z"
   },
   {
    "duration": 27,
    "start_time": "2021-07-07T16:58:36.191Z"
   },
   {
    "duration": 19,
    "start_time": "2021-07-07T16:58:36.219Z"
   },
   {
    "duration": 49,
    "start_time": "2021-07-07T16:58:36.240Z"
   },
   {
    "duration": 6,
    "start_time": "2021-07-07T16:58:36.291Z"
   },
   {
    "duration": 3,
    "start_time": "2021-07-07T16:58:36.299Z"
   },
   {
    "duration": 13,
    "start_time": "2021-07-07T16:58:36.304Z"
   },
   {
    "duration": 10,
    "start_time": "2021-07-07T16:58:36.319Z"
   },
   {
    "duration": 10,
    "start_time": "2021-07-07T16:58:36.331Z"
   },
   {
    "duration": 44,
    "start_time": "2021-07-07T16:58:36.343Z"
   },
   {
    "duration": 4,
    "start_time": "2021-07-07T16:58:36.388Z"
   },
   {
    "duration": 13,
    "start_time": "2021-07-07T16:58:36.394Z"
   },
   {
    "duration": 16,
    "start_time": "2021-07-07T16:58:36.410Z"
   },
   {
    "duration": 8,
    "start_time": "2021-07-07T17:02:31.629Z"
   },
   {
    "duration": 8,
    "start_time": "2021-07-07T17:02:34.308Z"
   },
   {
    "duration": 6,
    "start_time": "2021-07-07T17:05:13.483Z"
   },
   {
    "duration": 17,
    "start_time": "2021-07-07T17:05:20.606Z"
   },
   {
    "duration": 7,
    "start_time": "2021-07-07T17:05:34.638Z"
   },
   {
    "duration": 3,
    "start_time": "2021-07-07T17:06:31.883Z"
   },
   {
    "duration": 570,
    "start_time": "2021-07-07T17:06:37.165Z"
   },
   {
    "duration": 174,
    "start_time": "2021-07-07T17:06:37.737Z"
   },
   {
    "duration": 47,
    "start_time": "2021-07-07T17:06:37.913Z"
   },
   {
    "duration": 3,
    "start_time": "2021-07-07T17:06:37.962Z"
   },
   {
    "duration": 27,
    "start_time": "2021-07-07T17:06:37.967Z"
   },
   {
    "duration": 7,
    "start_time": "2021-07-07T17:06:37.996Z"
   },
   {
    "duration": 16,
    "start_time": "2021-07-07T17:06:38.005Z"
   },
   {
    "duration": 6,
    "start_time": "2021-07-07T17:06:38.024Z"
   },
   {
    "duration": 12,
    "start_time": "2021-07-07T17:06:38.031Z"
   },
   {
    "duration": 41,
    "start_time": "2021-07-07T17:06:38.045Z"
   },
   {
    "duration": 8,
    "start_time": "2021-07-07T17:06:38.088Z"
   },
   {
    "duration": 26,
    "start_time": "2021-07-07T17:06:38.098Z"
   },
   {
    "duration": 17,
    "start_time": "2021-07-07T17:06:38.126Z"
   },
   {
    "duration": 43,
    "start_time": "2021-07-07T17:06:38.144Z"
   },
   {
    "duration": 6,
    "start_time": "2021-07-07T17:06:38.188Z"
   },
   {
    "duration": 5,
    "start_time": "2021-07-07T17:06:38.195Z"
   },
   {
    "duration": 9,
    "start_time": "2021-07-07T17:06:38.201Z"
   },
   {
    "duration": 12,
    "start_time": "2021-07-07T17:06:38.212Z"
   },
   {
    "duration": 11,
    "start_time": "2021-07-07T17:06:38.226Z"
   },
   {
    "duration": 47,
    "start_time": "2021-07-07T17:06:38.239Z"
   },
   {
    "duration": 4,
    "start_time": "2021-07-07T17:06:38.288Z"
   },
   {
    "duration": 13,
    "start_time": "2021-07-07T17:06:38.293Z"
   },
   {
    "duration": 5,
    "start_time": "2021-07-07T17:06:38.309Z"
   },
   {
    "duration": 18,
    "start_time": "2021-07-07T17:06:38.325Z"
   },
   {
    "duration": 20,
    "start_time": "2021-07-07T17:07:02.805Z"
   },
   {
    "duration": 19,
    "start_time": "2021-07-07T17:07:08.527Z"
   },
   {
    "duration": 19,
    "start_time": "2021-07-07T17:07:12.758Z"
   },
   {
    "duration": 22,
    "start_time": "2021-07-07T17:07:17.497Z"
   },
   {
    "duration": 19,
    "start_time": "2021-07-07T17:07:19.645Z"
   },
   {
    "duration": 10,
    "start_time": "2021-07-07T17:07:34.239Z"
   },
   {
    "duration": 17,
    "start_time": "2021-07-07T17:07:54.144Z"
   },
   {
    "duration": 14,
    "start_time": "2021-07-07T17:08:14.357Z"
   },
   {
    "duration": 616,
    "start_time": "2021-07-07T17:08:45.254Z"
   },
   {
    "duration": 178,
    "start_time": "2021-07-07T17:08:45.872Z"
   },
   {
    "duration": 60,
    "start_time": "2021-07-07T17:08:46.054Z"
   },
   {
    "duration": 3,
    "start_time": "2021-07-07T17:08:46.116Z"
   },
   {
    "duration": 26,
    "start_time": "2021-07-07T17:08:46.121Z"
   },
   {
    "duration": 7,
    "start_time": "2021-07-07T17:08:46.149Z"
   },
   {
    "duration": 17,
    "start_time": "2021-07-07T17:08:46.158Z"
   },
   {
    "duration": 14,
    "start_time": "2021-07-07T17:08:46.176Z"
   },
   {
    "duration": 17,
    "start_time": "2021-07-07T17:08:46.193Z"
   },
   {
    "duration": 9,
    "start_time": "2021-07-07T17:08:46.211Z"
   },
   {
    "duration": 21,
    "start_time": "2021-07-07T17:08:46.221Z"
   },
   {
    "duration": 49,
    "start_time": "2021-07-07T17:08:46.244Z"
   },
   {
    "duration": 24,
    "start_time": "2021-07-07T17:08:46.295Z"
   },
   {
    "duration": 22,
    "start_time": "2021-07-07T17:08:46.321Z"
   },
   {
    "duration": 6,
    "start_time": "2021-07-07T17:08:46.345Z"
   },
   {
    "duration": 5,
    "start_time": "2021-07-07T17:08:46.353Z"
   },
   {
    "duration": 13,
    "start_time": "2021-07-07T17:08:46.386Z"
   },
   {
    "duration": 12,
    "start_time": "2021-07-07T17:08:46.402Z"
   },
   {
    "duration": 10,
    "start_time": "2021-07-07T17:08:46.415Z"
   },
   {
    "duration": 7,
    "start_time": "2021-07-07T17:08:46.427Z"
   },
   {
    "duration": 8,
    "start_time": "2021-07-07T17:08:46.435Z"
   },
   {
    "duration": 68,
    "start_time": "2021-07-07T17:08:46.446Z"
   },
   {
    "duration": 13,
    "start_time": "2021-07-07T17:08:46.516Z"
   },
   {
    "duration": 78,
    "start_time": "2021-07-07T17:08:46.530Z"
   },
   {
    "duration": 40,
    "start_time": "2021-07-07T17:09:08.185Z"
   },
   {
    "duration": 16,
    "start_time": "2021-07-07T17:09:19.324Z"
   },
   {
    "duration": 21,
    "start_time": "2021-07-07T17:09:23.290Z"
   },
   {
    "duration": 13,
    "start_time": "2021-07-07T17:09:54.812Z"
   },
   {
    "duration": 13,
    "start_time": "2021-07-07T17:10:02.039Z"
   },
   {
    "duration": 10,
    "start_time": "2021-07-07T17:10:29.632Z"
   },
   {
    "duration": 13,
    "start_time": "2021-07-07T17:10:52.372Z"
   },
   {
    "duration": 13,
    "start_time": "2021-07-07T17:11:17.270Z"
   },
   {
    "duration": 13,
    "start_time": "2021-07-07T17:14:59.284Z"
   },
   {
    "duration": 547,
    "start_time": "2021-07-07T17:18:52.403Z"
   },
   {
    "duration": 163,
    "start_time": "2021-07-07T17:18:52.952Z"
   },
   {
    "duration": 44,
    "start_time": "2021-07-07T17:18:53.117Z"
   },
   {
    "duration": 3,
    "start_time": "2021-07-07T17:18:53.162Z"
   },
   {
    "duration": 26,
    "start_time": "2021-07-07T17:18:53.167Z"
   },
   {
    "duration": 6,
    "start_time": "2021-07-07T17:18:53.195Z"
   },
   {
    "duration": 15,
    "start_time": "2021-07-07T17:18:53.203Z"
   },
   {
    "duration": 5,
    "start_time": "2021-07-07T17:18:53.220Z"
   },
   {
    "duration": 11,
    "start_time": "2021-07-07T17:18:53.228Z"
   },
   {
    "duration": 9,
    "start_time": "2021-07-07T17:18:53.241Z"
   },
   {
    "duration": 41,
    "start_time": "2021-07-07T17:18:53.252Z"
   },
   {
    "duration": 33,
    "start_time": "2021-07-07T17:18:53.295Z"
   },
   {
    "duration": 19,
    "start_time": "2021-07-07T17:18:53.330Z"
   },
   {
    "duration": 49,
    "start_time": "2021-07-07T17:18:53.350Z"
   },
   {
    "duration": 5,
    "start_time": "2021-07-07T17:18:53.401Z"
   },
   {
    "duration": 5,
    "start_time": "2021-07-07T17:18:53.408Z"
   },
   {
    "duration": 11,
    "start_time": "2021-07-07T17:18:53.414Z"
   },
   {
    "duration": 9,
    "start_time": "2021-07-07T17:18:53.427Z"
   },
   {
    "duration": 10,
    "start_time": "2021-07-07T17:18:53.437Z"
   },
   {
    "duration": 39,
    "start_time": "2021-07-07T17:18:53.448Z"
   },
   {
    "duration": 26,
    "start_time": "2021-07-07T17:18:55.799Z"
   },
   {
    "duration": 598,
    "start_time": "2021-07-07T17:20:17.862Z"
   },
   {
    "duration": 161,
    "start_time": "2021-07-07T17:20:18.462Z"
   },
   {
    "duration": 45,
    "start_time": "2021-07-07T17:20:18.626Z"
   },
   {
    "duration": 4,
    "start_time": "2021-07-07T17:20:18.673Z"
   },
   {
    "duration": 38,
    "start_time": "2021-07-07T17:20:26.877Z"
   },
   {
    "duration": 7,
    "start_time": "2021-07-07T17:20:37.405Z"
   },
   {
    "duration": 19,
    "start_time": "2021-07-07T17:20:51.534Z"
   },
   {
    "duration": 5,
    "start_time": "2021-07-07T17:20:57.228Z"
   },
   {
    "duration": 7,
    "start_time": "2021-07-07T17:21:08.235Z"
   },
   {
    "duration": 19,
    "start_time": "2021-07-07T17:21:42.158Z"
   },
   {
    "duration": 14,
    "start_time": "2021-07-07T17:21:50.225Z"
   },
   {
    "duration": 22,
    "start_time": "2021-07-07T17:22:54.104Z"
   },
   {
    "duration": 5,
    "start_time": "2021-07-07T17:22:56.371Z"
   },
   {
    "duration": 14,
    "start_time": "2021-07-07T17:22:58.316Z"
   },
   {
    "duration": 5,
    "start_time": "2021-07-07T17:22:58.493Z"
   },
   {
    "duration": 35,
    "start_time": "2021-07-07T17:22:59.666Z"
   },
   {
    "duration": 6,
    "start_time": "2021-07-07T17:23:02.410Z"
   },
   {
    "duration": 611,
    "start_time": "2021-07-07T17:24:59.664Z"
   },
   {
    "duration": 178,
    "start_time": "2021-07-07T17:25:01.945Z"
   },
   {
    "duration": 47,
    "start_time": "2021-07-07T17:25:02.125Z"
   },
   {
    "duration": 2,
    "start_time": "2021-07-07T17:25:07.903Z"
   },
   {
    "duration": 254,
    "start_time": "2021-07-07T17:25:08.232Z"
   },
   {
    "duration": 182,
    "start_time": "2021-07-07T17:25:08.671Z"
   },
   {
    "duration": 6,
    "start_time": "2021-07-07T17:25:13.104Z"
   },
   {
    "duration": 36,
    "start_time": "2021-07-07T17:25:13.662Z"
   },
   {
    "duration": 7,
    "start_time": "2021-07-07T17:25:14.528Z"
   },
   {
    "duration": 24,
    "start_time": "2021-07-07T17:25:27.982Z"
   },
   {
    "duration": 3,
    "start_time": "2021-07-07T17:25:48.982Z"
   },
   {
    "duration": 165,
    "start_time": "2021-07-07T17:25:48.987Z"
   },
   {
    "duration": 50,
    "start_time": "2021-07-07T17:25:49.154Z"
   },
   {
    "duration": 4,
    "start_time": "2021-07-07T17:25:49.206Z"
   },
   {
    "duration": 26,
    "start_time": "2021-07-07T17:25:49.212Z"
   },
   {
    "duration": 7,
    "start_time": "2021-07-07T17:25:49.240Z"
   },
   {
    "duration": 16,
    "start_time": "2021-07-07T17:25:49.249Z"
   },
   {
    "duration": 22,
    "start_time": "2021-07-07T17:25:49.266Z"
   },
   {
    "duration": 16,
    "start_time": "2021-07-07T17:25:49.291Z"
   },
   {
    "duration": 9,
    "start_time": "2021-07-07T17:25:49.309Z"
   },
   {
    "duration": 7,
    "start_time": "2021-07-07T17:25:49.319Z"
   },
   {
    "duration": 28,
    "start_time": "2021-07-07T17:25:49.328Z"
   },
   {
    "duration": 44,
    "start_time": "2021-07-07T17:25:49.357Z"
   },
   {
    "duration": 22,
    "start_time": "2021-07-07T17:25:49.403Z"
   },
   {
    "duration": 7,
    "start_time": "2021-07-07T17:25:49.427Z"
   },
   {
    "duration": 3,
    "start_time": "2021-07-07T17:25:49.436Z"
   },
   {
    "duration": 44,
    "start_time": "2021-07-07T17:25:49.441Z"
   },
   {
    "duration": 12,
    "start_time": "2021-07-07T17:25:49.488Z"
   },
   {
    "duration": 13,
    "start_time": "2021-07-07T17:25:49.502Z"
   },
   {
    "duration": 10,
    "start_time": "2021-07-07T17:25:49.516Z"
   },
   {
    "duration": 62,
    "start_time": "2021-07-07T17:25:49.527Z"
   },
   {
    "duration": 26,
    "start_time": "2021-07-07T17:26:51.809Z"
   },
   {
    "duration": 26,
    "start_time": "2021-07-07T17:26:55.759Z"
   },
   {
    "duration": 26,
    "start_time": "2021-07-07T17:27:04.501Z"
   },
   {
    "duration": 25,
    "start_time": "2021-07-07T17:28:24.859Z"
   },
   {
    "duration": 21,
    "start_time": "2021-07-07T17:28:55.250Z"
   },
   {
    "duration": 21,
    "start_time": "2021-07-07T17:28:58.885Z"
   },
   {
    "duration": 7,
    "start_time": "2021-07-07T17:45:40.972Z"
   },
   {
    "duration": 13,
    "start_time": "2021-07-07T17:45:42.529Z"
   },
   {
    "duration": 27,
    "start_time": "2021-07-07T17:45:51.026Z"
   },
   {
    "duration": 518,
    "start_time": "2021-07-07T17:46:15.532Z"
   },
   {
    "duration": 235,
    "start_time": "2021-07-07T17:46:16.053Z"
   },
   {
    "duration": 80,
    "start_time": "2021-07-07T17:46:16.292Z"
   },
   {
    "duration": 5,
    "start_time": "2021-07-07T17:46:16.373Z"
   },
   {
    "duration": 26,
    "start_time": "2021-07-07T17:46:16.380Z"
   },
   {
    "duration": 7,
    "start_time": "2021-07-07T17:46:16.408Z"
   },
   {
    "duration": 16,
    "start_time": "2021-07-07T17:46:16.418Z"
   },
   {
    "duration": 5,
    "start_time": "2021-07-07T17:46:16.436Z"
   },
   {
    "duration": 13,
    "start_time": "2021-07-07T17:46:16.442Z"
   },
   {
    "duration": 35,
    "start_time": "2021-07-07T17:46:16.456Z"
   },
   {
    "duration": 8,
    "start_time": "2021-07-07T17:46:16.493Z"
   },
   {
    "duration": 28,
    "start_time": "2021-07-07T17:46:16.502Z"
   },
   {
    "duration": 17,
    "start_time": "2021-07-07T17:46:16.532Z"
   },
   {
    "duration": 44,
    "start_time": "2021-07-07T17:46:16.551Z"
   },
   {
    "duration": 6,
    "start_time": "2021-07-07T17:46:16.597Z"
   },
   {
    "duration": 4,
    "start_time": "2021-07-07T17:46:16.605Z"
   },
   {
    "duration": 9,
    "start_time": "2021-07-07T17:46:16.610Z"
   },
   {
    "duration": 9,
    "start_time": "2021-07-07T17:46:16.621Z"
   },
   {
    "duration": 10,
    "start_time": "2021-07-07T17:46:16.632Z"
   },
   {
    "duration": 43,
    "start_time": "2021-07-07T17:46:16.644Z"
   },
   {
    "duration": 26,
    "start_time": "2021-07-07T17:46:16.689Z"
   },
   {
    "duration": 19,
    "start_time": "2021-07-07T17:46:16.718Z"
   },
   {
    "duration": 8,
    "start_time": "2021-07-07T17:46:16.738Z"
   },
   {
    "duration": 43,
    "start_time": "2021-07-07T17:46:16.747Z"
   },
   {
    "duration": 19,
    "start_time": "2021-07-07T17:46:16.791Z"
   },
   {
    "duration": 9,
    "start_time": "2021-07-07T17:46:16.812Z"
   },
   {
    "duration": 60,
    "start_time": "2021-07-07T17:46:16.822Z"
   },
   {
    "duration": -8,
    "start_time": "2021-07-07T17:46:16.892Z"
   },
   {
    "duration": 12,
    "start_time": "2021-07-07T17:48:47.707Z"
   },
   {
    "duration": 553,
    "start_time": "2021-07-07T18:10:09.350Z"
   },
   {
    "duration": 230,
    "start_time": "2021-07-07T18:10:09.905Z"
   },
   {
    "duration": 97,
    "start_time": "2021-07-07T18:10:10.137Z"
   },
   {
    "duration": 5,
    "start_time": "2021-07-07T18:10:10.236Z"
   },
   {
    "duration": 29,
    "start_time": "2021-07-07T18:10:10.242Z"
   },
   {
    "duration": 7,
    "start_time": "2021-07-07T18:10:10.272Z"
   },
   {
    "duration": 15,
    "start_time": "2021-07-07T18:10:10.281Z"
   },
   {
    "duration": 4,
    "start_time": "2021-07-07T18:10:10.299Z"
   },
   {
    "duration": 14,
    "start_time": "2021-07-07T18:10:10.305Z"
   },
   {
    "duration": 8,
    "start_time": "2021-07-07T18:10:10.321Z"
   },
   {
    "duration": 8,
    "start_time": "2021-07-07T18:10:10.331Z"
   },
   {
    "duration": 56,
    "start_time": "2021-07-07T18:10:10.341Z"
   },
   {
    "duration": 19,
    "start_time": "2021-07-07T18:10:10.399Z"
   },
   {
    "duration": 23,
    "start_time": "2021-07-07T18:10:10.419Z"
   },
   {
    "duration": 6,
    "start_time": "2021-07-07T18:10:10.444Z"
   },
   {
    "duration": 9,
    "start_time": "2021-07-07T18:10:10.451Z"
   },
   {
    "duration": 30,
    "start_time": "2021-07-07T18:10:10.462Z"
   },
   {
    "duration": 9,
    "start_time": "2021-07-07T18:10:10.494Z"
   },
   {
    "duration": 14,
    "start_time": "2021-07-07T18:10:10.505Z"
   },
   {
    "duration": 7,
    "start_time": "2021-07-07T18:10:10.521Z"
   },
   {
    "duration": 26,
    "start_time": "2021-07-07T18:10:10.530Z"
   },
   {
    "duration": 44,
    "start_time": "2021-07-07T18:10:10.558Z"
   },
   {
    "duration": 7,
    "start_time": "2021-07-07T18:10:10.605Z"
   },
   {
    "duration": 11,
    "start_time": "2021-07-07T18:10:10.614Z"
   },
   {
    "duration": 19,
    "start_time": "2021-07-07T18:10:10.626Z"
   },
   {
    "duration": 44,
    "start_time": "2021-07-07T18:10:10.646Z"
   },
   {
    "duration": 516,
    "start_time": "2021-07-07T18:14:00.826Z"
   },
   {
    "duration": 230,
    "start_time": "2021-07-07T18:14:01.344Z"
   },
   {
    "duration": 105,
    "start_time": "2021-07-07T18:14:01.576Z"
   },
   {
    "duration": 5,
    "start_time": "2021-07-07T18:14:01.683Z"
   },
   {
    "duration": 46,
    "start_time": "2021-07-07T18:14:01.690Z"
   },
   {
    "duration": 7,
    "start_time": "2021-07-07T18:14:01.738Z"
   },
   {
    "duration": 20,
    "start_time": "2021-07-07T18:14:01.747Z"
   },
   {
    "duration": 16,
    "start_time": "2021-07-07T18:14:01.769Z"
   },
   {
    "duration": 14,
    "start_time": "2021-07-07T18:14:01.787Z"
   },
   {
    "duration": 15,
    "start_time": "2021-07-07T18:14:01.803Z"
   },
   {
    "duration": 12,
    "start_time": "2021-07-07T18:14:01.820Z"
   },
   {
    "duration": 35,
    "start_time": "2021-07-07T18:14:01.833Z"
   },
   {
    "duration": 31,
    "start_time": "2021-07-07T18:14:01.869Z"
   },
   {
    "duration": 37,
    "start_time": "2021-07-07T18:14:01.902Z"
   },
   {
    "duration": 8,
    "start_time": "2021-07-07T18:14:01.942Z"
   },
   {
    "duration": 16,
    "start_time": "2021-07-07T18:14:01.952Z"
   },
   {
    "duration": 13,
    "start_time": "2021-07-07T18:14:01.970Z"
   },
   {
    "duration": 32,
    "start_time": "2021-07-07T18:14:01.985Z"
   },
   {
    "duration": 11,
    "start_time": "2021-07-07T18:14:02.019Z"
   },
   {
    "duration": 22,
    "start_time": "2021-07-07T18:14:02.031Z"
   },
   {
    "duration": 27,
    "start_time": "2021-07-07T18:14:02.055Z"
   },
   {
    "duration": 18,
    "start_time": "2021-07-07T18:14:02.084Z"
   },
   {
    "duration": 18,
    "start_time": "2021-07-07T18:14:02.106Z"
   },
   {
    "duration": 11,
    "start_time": "2021-07-07T18:14:02.126Z"
   },
   {
    "duration": 21,
    "start_time": "2021-07-07T18:14:02.138Z"
   },
   {
    "duration": 32,
    "start_time": "2021-07-07T18:14:02.161Z"
   },
   {
    "duration": 28,
    "start_time": "2021-07-07T18:14:44.295Z"
   },
   {
    "duration": 6,
    "start_time": "2021-07-07T18:15:05.834Z"
   },
   {
    "duration": 511,
    "start_time": "2021-07-07T18:15:41.541Z"
   },
   {
    "duration": 183,
    "start_time": "2021-07-07T18:15:42.054Z"
   },
   {
    "duration": 50,
    "start_time": "2021-07-07T18:15:42.239Z"
   },
   {
    "duration": 5,
    "start_time": "2021-07-07T18:15:42.291Z"
   },
   {
    "duration": 48,
    "start_time": "2021-07-07T18:15:42.297Z"
   },
   {
    "duration": 8,
    "start_time": "2021-07-07T18:15:42.346Z"
   },
   {
    "duration": 17,
    "start_time": "2021-07-07T18:15:42.356Z"
   },
   {
    "duration": 15,
    "start_time": "2021-07-07T18:15:42.375Z"
   },
   {
    "duration": 12,
    "start_time": "2021-07-07T18:15:42.392Z"
   },
   {
    "duration": 7,
    "start_time": "2021-07-07T18:15:42.406Z"
   },
   {
    "duration": 7,
    "start_time": "2021-07-07T18:15:42.415Z"
   },
   {
    "duration": 29,
    "start_time": "2021-07-07T18:15:42.423Z"
   },
   {
    "duration": 43,
    "start_time": "2021-07-07T18:15:42.453Z"
   },
   {
    "duration": 18,
    "start_time": "2021-07-07T18:15:42.497Z"
   },
   {
    "duration": 6,
    "start_time": "2021-07-07T18:15:42.516Z"
   },
   {
    "duration": 3,
    "start_time": "2021-07-07T18:15:42.523Z"
   },
   {
    "duration": 18,
    "start_time": "2021-07-07T18:15:42.528Z"
   },
   {
    "duration": 10,
    "start_time": "2021-07-07T18:15:42.547Z"
   },
   {
    "duration": 36,
    "start_time": "2021-07-07T18:15:42.559Z"
   },
   {
    "duration": 8,
    "start_time": "2021-07-07T18:15:42.597Z"
   },
   {
    "duration": 28,
    "start_time": "2021-07-07T18:15:42.606Z"
   },
   {
    "duration": 52,
    "start_time": "2021-07-07T18:15:42.635Z"
   },
   {
    "duration": 7,
    "start_time": "2021-07-07T18:15:42.690Z"
   },
   {
    "duration": 10,
    "start_time": "2021-07-07T18:15:42.699Z"
   },
   {
    "duration": 19,
    "start_time": "2021-07-07T18:15:42.711Z"
   },
   {
    "duration": 9,
    "start_time": "2021-07-07T18:15:42.732Z"
   },
   {
    "duration": 5,
    "start_time": "2021-07-07T18:15:42.743Z"
   },
   {
    "duration": 1450,
    "start_time": "2021-07-07T18:15:51.984Z"
   },
   {
    "duration": 161,
    "start_time": "2021-07-07T18:15:53.435Z"
   },
   {
    "duration": 124,
    "start_time": "2021-07-07T18:15:53.598Z"
   },
   {
    "duration": 5,
    "start_time": "2021-07-07T18:15:53.724Z"
   },
   {
    "duration": 34,
    "start_time": "2021-07-07T18:15:53.730Z"
   },
   {
    "duration": 7,
    "start_time": "2021-07-07T18:15:53.765Z"
   },
   {
    "duration": 15,
    "start_time": "2021-07-07T18:15:53.773Z"
   },
   {
    "duration": 5,
    "start_time": "2021-07-07T18:15:53.791Z"
   },
   {
    "duration": 19,
    "start_time": "2021-07-07T18:15:53.798Z"
   },
   {
    "duration": 9,
    "start_time": "2021-07-07T18:15:53.818Z"
   },
   {
    "duration": 19,
    "start_time": "2021-07-07T18:15:53.828Z"
   },
   {
    "duration": 27,
    "start_time": "2021-07-07T18:15:53.848Z"
   },
   {
    "duration": 16,
    "start_time": "2021-07-07T18:15:53.884Z"
   },
   {
    "duration": 29,
    "start_time": "2021-07-07T18:15:53.901Z"
   },
   {
    "duration": 5,
    "start_time": "2021-07-07T18:15:53.932Z"
   },
   {
    "duration": 15,
    "start_time": "2021-07-07T18:15:53.939Z"
   },
   {
    "duration": 13,
    "start_time": "2021-07-07T18:15:53.956Z"
   },
   {
    "duration": 20,
    "start_time": "2021-07-07T18:15:53.971Z"
   },
   {
    "duration": 14,
    "start_time": "2021-07-07T18:15:53.992Z"
   },
   {
    "duration": 9,
    "start_time": "2021-07-07T18:15:54.009Z"
   },
   {
    "duration": 28,
    "start_time": "2021-07-07T18:15:54.020Z"
   },
   {
    "duration": 50,
    "start_time": "2021-07-07T18:15:54.051Z"
   },
   {
    "duration": 8,
    "start_time": "2021-07-07T18:15:54.105Z"
   },
   {
    "duration": 11,
    "start_time": "2021-07-07T18:15:54.115Z"
   },
   {
    "duration": 20,
    "start_time": "2021-07-07T18:15:54.128Z"
   },
   {
    "duration": 13,
    "start_time": "2021-07-07T18:15:54.184Z"
   },
   {
    "duration": 7,
    "start_time": "2021-07-07T18:15:54.199Z"
   },
   {
    "duration": 7,
    "start_time": "2021-07-07T18:17:08.042Z"
   },
   {
    "duration": 8,
    "start_time": "2021-07-07T18:17:21.008Z"
   },
   {
    "duration": 7,
    "start_time": "2021-07-07T18:17:29.003Z"
   },
   {
    "duration": 8,
    "start_time": "2021-07-07T18:17:32.492Z"
   },
   {
    "duration": 9,
    "start_time": "2021-07-07T18:17:41.758Z"
   },
   {
    "duration": 255,
    "start_time": "2021-07-07T18:20:20.897Z"
   },
   {
    "duration": 173,
    "start_time": "2021-07-07T18:20:26.636Z"
   },
   {
    "duration": 7,
    "start_time": "2021-07-07T18:21:47.164Z"
   },
   {
    "duration": 254,
    "start_time": "2021-07-07T18:23:08.703Z"
   },
   {
    "duration": 21,
    "start_time": "2021-07-07T18:23:22.506Z"
   },
   {
    "duration": 315,
    "start_time": "2021-07-07T18:25:54.801Z"
   },
   {
    "duration": 34,
    "start_time": "2021-07-07T18:26:51.817Z"
   },
   {
    "duration": 327,
    "start_time": "2021-07-07T18:26:56.147Z"
   },
   {
    "duration": 342,
    "start_time": "2021-07-07T18:27:15.887Z"
   },
   {
    "duration": 302,
    "start_time": "2021-07-07T18:28:18.569Z"
   },
   {
    "duration": 226,
    "start_time": "2021-07-07T18:29:20.879Z"
   },
   {
    "duration": 207,
    "start_time": "2021-07-07T18:29:58.114Z"
   },
   {
    "duration": 140,
    "start_time": "2021-07-07T18:32:04.372Z"
   },
   {
    "duration": 158,
    "start_time": "2021-07-07T18:32:32.508Z"
   },
   {
    "duration": 145,
    "start_time": "2021-07-07T18:32:41.365Z"
   },
   {
    "duration": 132,
    "start_time": "2021-07-07T18:32:45.199Z"
   },
   {
    "duration": 11,
    "start_time": "2021-07-07T18:35:24.679Z"
   },
   {
    "duration": 268,
    "start_time": "2021-07-07T18:36:16.145Z"
   },
   {
    "duration": 227,
    "start_time": "2021-07-07T18:37:04.918Z"
   },
   {
    "duration": 3,
    "start_time": "2021-07-07T18:37:33.012Z"
   },
   {
    "duration": 671,
    "start_time": "2021-07-07T18:37:38.295Z"
   },
   {
    "duration": 54,
    "start_time": "2021-07-07T18:37:53.406Z"
   },
   {
    "duration": 631,
    "start_time": "2021-07-07T18:37:56.463Z"
   },
   {
    "duration": 19,
    "start_time": "2021-07-07T18:39:40.535Z"
   },
   {
    "duration": 20,
    "start_time": "2021-07-07T18:40:12.236Z"
   },
   {
    "duration": 633,
    "start_time": "2021-07-07T18:42:00.398Z"
   },
   {
    "duration": 218,
    "start_time": "2021-07-07T18:42:01.033Z"
   },
   {
    "duration": 49,
    "start_time": "2021-07-07T18:42:01.253Z"
   },
   {
    "duration": 5,
    "start_time": "2021-07-07T18:42:01.303Z"
   },
   {
    "duration": 27,
    "start_time": "2021-07-07T18:42:01.310Z"
   },
   {
    "duration": 8,
    "start_time": "2021-07-07T18:42:01.339Z"
   },
   {
    "duration": 20,
    "start_time": "2021-07-07T18:42:01.348Z"
   },
   {
    "duration": 6,
    "start_time": "2021-07-07T18:42:01.386Z"
   },
   {
    "duration": 16,
    "start_time": "2021-07-07T18:42:01.394Z"
   },
   {
    "duration": 9,
    "start_time": "2021-07-07T18:42:01.411Z"
   },
   {
    "duration": 11,
    "start_time": "2021-07-07T18:42:01.421Z"
   },
   {
    "duration": 31,
    "start_time": "2021-07-07T18:42:01.434Z"
   },
   {
    "duration": 18,
    "start_time": "2021-07-07T18:42:01.485Z"
   },
   {
    "duration": 23,
    "start_time": "2021-07-07T18:42:01.505Z"
   },
   {
    "duration": 6,
    "start_time": "2021-07-07T18:42:01.530Z"
   },
   {
    "duration": 10,
    "start_time": "2021-07-07T18:42:01.538Z"
   },
   {
    "duration": 13,
    "start_time": "2021-07-07T18:42:01.550Z"
   },
   {
    "duration": 24,
    "start_time": "2021-07-07T18:42:01.564Z"
   },
   {
    "duration": 20,
    "start_time": "2021-07-07T18:42:01.590Z"
   },
   {
    "duration": 8,
    "start_time": "2021-07-07T18:42:01.611Z"
   },
   {
    "duration": 31,
    "start_time": "2021-07-07T18:42:01.620Z"
   },
   {
    "duration": 39,
    "start_time": "2021-07-07T18:42:01.653Z"
   },
   {
    "duration": 8,
    "start_time": "2021-07-07T18:42:01.696Z"
   },
   {
    "duration": 13,
    "start_time": "2021-07-07T18:42:01.705Z"
   },
   {
    "duration": 20,
    "start_time": "2021-07-07T18:42:01.720Z"
   },
   {
    "duration": 12,
    "start_time": "2021-07-07T18:42:01.741Z"
   },
   {
    "duration": 35,
    "start_time": "2021-07-07T18:42:01.755Z"
   },
   {
    "duration": 14,
    "start_time": "2021-07-07T18:42:01.792Z"
   },
   {
    "duration": 188,
    "start_time": "2021-07-07T18:42:01.808Z"
   },
   {
    "duration": 19,
    "start_time": "2021-07-07T18:42:01.998Z"
   },
   {
    "duration": 175,
    "start_time": "2021-07-07T18:42:02.019Z"
   },
   {
    "duration": 134,
    "start_time": "2021-07-07T18:42:02.196Z"
   },
   {
    "duration": 10,
    "start_time": "2021-07-07T18:42:02.331Z"
   },
   {
    "duration": 19,
    "start_time": "2021-07-07T18:42:02.343Z"
   },
   {
    "duration": 628,
    "start_time": "2021-07-07T18:46:30.701Z"
   },
   {
    "duration": 183,
    "start_time": "2021-07-07T18:46:31.331Z"
   },
   {
    "duration": 48,
    "start_time": "2021-07-07T18:46:31.516Z"
   },
   {
    "duration": 5,
    "start_time": "2021-07-07T18:46:31.566Z"
   },
   {
    "duration": 28,
    "start_time": "2021-07-07T18:46:31.572Z"
   },
   {
    "duration": 8,
    "start_time": "2021-07-07T18:46:31.602Z"
   },
   {
    "duration": 19,
    "start_time": "2021-07-07T18:46:31.611Z"
   },
   {
    "duration": 6,
    "start_time": "2021-07-07T18:46:31.633Z"
   },
   {
    "duration": 17,
    "start_time": "2021-07-07T18:46:31.642Z"
   },
   {
    "duration": 10,
    "start_time": "2021-07-07T18:46:31.684Z"
   },
   {
    "duration": 9,
    "start_time": "2021-07-07T18:46:31.695Z"
   },
   {
    "duration": 28,
    "start_time": "2021-07-07T18:46:31.705Z"
   },
   {
    "duration": 18,
    "start_time": "2021-07-07T18:46:31.735Z"
   },
   {
    "duration": 48,
    "start_time": "2021-07-07T18:46:31.755Z"
   },
   {
    "duration": 6,
    "start_time": "2021-07-07T18:46:31.804Z"
   },
   {
    "duration": 4,
    "start_time": "2021-07-07T18:46:31.812Z"
   },
   {
    "duration": 9,
    "start_time": "2021-07-07T18:46:31.817Z"
   },
   {
    "duration": 10,
    "start_time": "2021-07-07T18:46:31.827Z"
   },
   {
    "duration": 12,
    "start_time": "2021-07-07T18:46:31.838Z"
   },
   {
    "duration": 39,
    "start_time": "2021-07-07T18:46:31.851Z"
   },
   {
    "duration": 24,
    "start_time": "2021-07-07T18:46:31.892Z"
   },
   {
    "duration": 15,
    "start_time": "2021-07-07T18:46:31.918Z"
   },
   {
    "duration": 7,
    "start_time": "2021-07-07T18:46:31.936Z"
   },
   {
    "duration": 8,
    "start_time": "2021-07-07T18:46:31.944Z"
   },
   {
    "duration": 19,
    "start_time": "2021-07-07T18:46:31.984Z"
   },
   {
    "duration": 10,
    "start_time": "2021-07-07T18:46:32.004Z"
   },
   {
    "duration": 5,
    "start_time": "2021-07-07T18:46:32.016Z"
   },
   {
    "duration": 9,
    "start_time": "2021-07-07T18:46:32.023Z"
   },
   {
    "duration": 199,
    "start_time": "2021-07-07T18:46:32.033Z"
   },
   {
    "duration": 19,
    "start_time": "2021-07-07T18:46:32.234Z"
   },
   {
    "duration": 159,
    "start_time": "2021-07-07T18:46:32.255Z"
   },
   {
    "duration": 134,
    "start_time": "2021-07-07T18:46:32.416Z"
   },
   {
    "duration": 10,
    "start_time": "2021-07-07T18:46:32.552Z"
   },
   {
    "duration": 34,
    "start_time": "2021-07-07T18:46:32.563Z"
   },
   {
    "duration": 1039,
    "start_time": "2021-07-08T08:41:09.419Z"
   },
   {
    "duration": 333,
    "start_time": "2021-07-08T08:41:10.459Z"
   },
   {
    "duration": 173,
    "start_time": "2021-07-08T08:41:10.794Z"
   },
   {
    "duration": 5,
    "start_time": "2021-07-08T08:41:10.968Z"
   },
   {
    "duration": 25,
    "start_time": "2021-07-08T08:41:10.975Z"
   },
   {
    "duration": 9,
    "start_time": "2021-07-08T08:41:11.002Z"
   },
   {
    "duration": 18,
    "start_time": "2021-07-08T08:41:11.013Z"
   },
   {
    "duration": 6,
    "start_time": "2021-07-08T08:41:11.033Z"
   },
   {
    "duration": 44,
    "start_time": "2021-07-08T08:41:11.042Z"
   },
   {
    "duration": 10,
    "start_time": "2021-07-08T08:41:11.088Z"
   },
   {
    "duration": 9,
    "start_time": "2021-07-08T08:41:11.100Z"
   },
   {
    "duration": 27,
    "start_time": "2021-07-08T08:41:11.111Z"
   },
   {
    "duration": 46,
    "start_time": "2021-07-08T08:41:11.140Z"
   },
   {
    "duration": 17,
    "start_time": "2021-07-08T08:41:11.187Z"
   },
   {
    "duration": 6,
    "start_time": "2021-07-08T08:41:11.206Z"
   },
   {
    "duration": 5,
    "start_time": "2021-07-08T08:41:11.213Z"
   },
   {
    "duration": 10,
    "start_time": "2021-07-08T08:41:11.219Z"
   },
   {
    "duration": 9,
    "start_time": "2021-07-08T08:41:11.230Z"
   },
   {
    "duration": 45,
    "start_time": "2021-07-08T08:41:11.241Z"
   },
   {
    "duration": 7,
    "start_time": "2021-07-08T08:41:11.287Z"
   },
   {
    "duration": 24,
    "start_time": "2021-07-08T08:41:11.296Z"
   },
   {
    "duration": 16,
    "start_time": "2021-07-08T08:41:11.322Z"
   },
   {
    "duration": 7,
    "start_time": "2021-07-08T08:41:11.341Z"
   },
   {
    "duration": 41,
    "start_time": "2021-07-08T08:41:11.349Z"
   },
   {
    "duration": 17,
    "start_time": "2021-07-08T08:41:11.391Z"
   },
   {
    "duration": 9,
    "start_time": "2021-07-08T08:41:11.410Z"
   },
   {
    "duration": 5,
    "start_time": "2021-07-08T08:41:11.421Z"
   },
   {
    "duration": 6,
    "start_time": "2021-07-08T08:41:11.428Z"
   },
   {
    "duration": 198,
    "start_time": "2021-07-08T08:41:11.435Z"
   },
   {
    "duration": 18,
    "start_time": "2021-07-08T08:41:11.635Z"
   },
   {
    "duration": 155,
    "start_time": "2021-07-08T08:41:11.655Z"
   },
   {
    "duration": 138,
    "start_time": "2021-07-08T08:41:11.811Z"
   },
   {
    "duration": 10,
    "start_time": "2021-07-08T08:41:11.950Z"
   },
   {
    "duration": 29,
    "start_time": "2021-07-08T08:41:11.961Z"
   },
   {
    "duration": 171,
    "start_time": "2021-07-08T08:47:44.522Z"
   },
   {
    "duration": 124,
    "start_time": "2021-07-08T08:47:46.872Z"
   },
   {
    "duration": 191,
    "start_time": "2021-07-08T08:47:58.148Z"
   },
   {
    "duration": 191,
    "start_time": "2021-07-08T08:48:07.412Z"
   },
   {
    "duration": 261,
    "start_time": "2021-07-08T08:48:10.385Z"
   },
   {
    "duration": 255,
    "start_time": "2021-07-08T08:48:14.494Z"
   },
   {
    "duration": 219,
    "start_time": "2021-07-08T08:48:22.752Z"
   },
   {
    "duration": 173,
    "start_time": "2021-07-08T08:49:06.395Z"
   },
   {
    "duration": 180,
    "start_time": "2021-07-08T08:49:21.011Z"
   },
   {
    "duration": 6,
    "start_time": "2021-07-08T08:50:31.697Z"
   },
   {
    "duration": 10,
    "start_time": "2021-07-08T08:50:47.394Z"
   },
   {
    "duration": 11,
    "start_time": "2021-07-08T08:53:49.332Z"
   },
   {
    "duration": 171,
    "start_time": "2021-07-08T08:54:28.408Z"
   },
   {
    "duration": 636,
    "start_time": "2021-07-08T09:02:48.385Z"
   },
   {
    "duration": 227,
    "start_time": "2021-07-08T09:02:49.023Z"
   },
   {
    "duration": 104,
    "start_time": "2021-07-08T09:02:49.252Z"
   },
   {
    "duration": 5,
    "start_time": "2021-07-08T09:02:49.358Z"
   },
   {
    "duration": 27,
    "start_time": "2021-07-08T09:02:49.365Z"
   },
   {
    "duration": 8,
    "start_time": "2021-07-08T09:02:49.394Z"
   },
   {
    "duration": 18,
    "start_time": "2021-07-08T09:02:49.404Z"
   },
   {
    "duration": 6,
    "start_time": "2021-07-08T09:02:49.424Z"
   },
   {
    "duration": 11,
    "start_time": "2021-07-08T09:02:49.433Z"
   },
   {
    "duration": 13,
    "start_time": "2021-07-08T09:02:49.485Z"
   },
   {
    "duration": 9,
    "start_time": "2021-07-08T09:02:49.500Z"
   },
   {
    "duration": 38,
    "start_time": "2021-07-08T09:02:49.511Z"
   },
   {
    "duration": 42,
    "start_time": "2021-07-08T09:02:49.551Z"
   },
   {
    "duration": 21,
    "start_time": "2021-07-08T09:02:49.594Z"
   },
   {
    "duration": 6,
    "start_time": "2021-07-08T09:02:49.616Z"
   },
   {
    "duration": 3,
    "start_time": "2021-07-08T09:02:49.623Z"
   },
   {
    "duration": 9,
    "start_time": "2021-07-08T09:02:49.628Z"
   },
   {
    "duration": 52,
    "start_time": "2021-07-08T09:02:49.638Z"
   },
   {
    "duration": 11,
    "start_time": "2021-07-08T09:02:49.692Z"
   },
   {
    "duration": 8,
    "start_time": "2021-07-08T09:02:49.704Z"
   },
   {
    "duration": 27,
    "start_time": "2021-07-08T09:02:49.713Z"
   },
   {
    "duration": 59,
    "start_time": "2021-07-08T09:02:49.741Z"
   },
   {
    "duration": 8,
    "start_time": "2021-07-08T09:02:49.803Z"
   },
   {
    "duration": 14,
    "start_time": "2021-07-08T09:02:49.813Z"
   },
   {
    "duration": 20,
    "start_time": "2021-07-08T09:02:49.829Z"
   },
   {
    "duration": 44,
    "start_time": "2021-07-08T09:02:49.851Z"
   },
   {
    "duration": 14,
    "start_time": "2021-07-08T09:02:49.896Z"
   },
   {
    "duration": 221,
    "start_time": "2021-07-08T09:02:49.912Z"
   },
   {
    "duration": 6,
    "start_time": "2021-07-08T09:02:50.134Z"
   },
   {
    "duration": 206,
    "start_time": "2021-07-08T09:02:50.142Z"
   },
   {
    "duration": 19,
    "start_time": "2021-07-08T09:02:50.350Z"
   },
   {
    "duration": 21,
    "start_time": "2021-07-08T09:02:50.370Z"
   },
   {
    "duration": 20,
    "start_time": "2021-07-08T09:02:50.393Z"
   },
   {
    "duration": 5,
    "start_time": "2021-07-08T09:02:50.414Z"
   },
   {
    "duration": 5,
    "start_time": "2021-07-08T09:03:34.173Z"
   },
   {
    "duration": 6,
    "start_time": "2021-07-08T09:04:49.062Z"
   },
   {
    "duration": 9,
    "start_time": "2021-07-08T09:04:50.118Z"
   },
   {
    "duration": 14,
    "start_time": "2021-07-08T09:04:58.512Z"
   },
   {
    "duration": 9,
    "start_time": "2021-07-08T09:05:10.988Z"
   },
   {
    "duration": 11,
    "start_time": "2021-07-08T09:05:11.743Z"
   },
   {
    "duration": 7,
    "start_time": "2021-07-08T09:05:25.677Z"
   },
   {
    "duration": 13,
    "start_time": "2021-07-08T09:05:47.189Z"
   },
   {
    "duration": 13,
    "start_time": "2021-07-08T09:05:54.755Z"
   },
   {
    "duration": 4,
    "start_time": "2021-07-08T09:06:29.189Z"
   },
   {
    "duration": 244,
    "start_time": "2021-07-08T09:06:29.195Z"
   },
   {
    "duration": 91,
    "start_time": "2021-07-08T09:06:29.441Z"
   },
   {
    "duration": 4,
    "start_time": "2021-07-08T09:06:29.534Z"
   },
   {
    "duration": 28,
    "start_time": "2021-07-08T09:06:29.540Z"
   },
   {
    "duration": 6,
    "start_time": "2021-07-08T09:06:29.570Z"
   },
   {
    "duration": 18,
    "start_time": "2021-07-08T09:06:29.578Z"
   },
   {
    "duration": 5,
    "start_time": "2021-07-08T09:06:29.597Z"
   },
   {
    "duration": 13,
    "start_time": "2021-07-08T09:06:29.605Z"
   },
   {
    "duration": 8,
    "start_time": "2021-07-08T09:06:29.620Z"
   },
   {
    "duration": 7,
    "start_time": "2021-07-08T09:06:29.630Z"
   },
   {
    "duration": 63,
    "start_time": "2021-07-08T09:06:29.639Z"
   },
   {
    "duration": 17,
    "start_time": "2021-07-08T09:06:29.704Z"
   },
   {
    "duration": 20,
    "start_time": "2021-07-08T09:06:29.723Z"
   },
   {
    "duration": 6,
    "start_time": "2021-07-08T09:06:29.745Z"
   },
   {
    "duration": 3,
    "start_time": "2021-07-08T09:06:29.752Z"
   },
   {
    "duration": 7,
    "start_time": "2021-07-08T09:06:29.785Z"
   },
   {
    "duration": 11,
    "start_time": "2021-07-08T09:06:29.794Z"
   },
   {
    "duration": 15,
    "start_time": "2021-07-08T09:06:29.807Z"
   },
   {
    "duration": 8,
    "start_time": "2021-07-08T09:06:29.823Z"
   },
   {
    "duration": 70,
    "start_time": "2021-07-08T09:06:29.832Z"
   },
   {
    "duration": 17,
    "start_time": "2021-07-08T09:06:29.903Z"
   },
   {
    "duration": 9,
    "start_time": "2021-07-08T09:06:29.921Z"
   },
   {
    "duration": 9,
    "start_time": "2021-07-08T09:06:29.932Z"
   },
   {
    "duration": 57,
    "start_time": "2021-07-08T09:06:29.942Z"
   },
   {
    "duration": 11,
    "start_time": "2021-07-08T09:06:30.001Z"
   },
   {
    "duration": 19,
    "start_time": "2021-07-08T09:06:30.016Z"
   },
   {
    "duration": 217,
    "start_time": "2021-07-08T09:06:30.037Z"
   },
   {
    "duration": 6,
    "start_time": "2021-07-08T09:06:30.255Z"
   },
   {
    "duration": 205,
    "start_time": "2021-07-08T09:06:30.263Z"
   },
   {
    "duration": 27,
    "start_time": "2021-07-08T09:06:30.470Z"
   },
   {
    "duration": 11,
    "start_time": "2021-07-08T09:06:30.500Z"
   },
   {
    "duration": 31,
    "start_time": "2021-07-08T09:06:30.513Z"
   },
   {
    "duration": 18,
    "start_time": "2021-07-08T09:06:30.546Z"
   },
   {
    "duration": 11,
    "start_time": "2021-07-08T09:06:30.566Z"
   },
   {
    "duration": 19,
    "start_time": "2021-07-08T09:06:30.579Z"
   },
   {
    "duration": 20,
    "start_time": "2021-07-08T09:06:49.466Z"
   },
   {
    "duration": 9,
    "start_time": "2021-07-08T09:06:51.994Z"
   },
   {
    "duration": 20,
    "start_time": "2021-07-08T09:06:52.273Z"
   },
   {
    "duration": 246,
    "start_time": "2021-07-08T09:10:21.272Z"
   },
   {
    "duration": 84,
    "start_time": "2021-07-08T09:10:21.436Z"
   },
   {
    "duration": 7,
    "start_time": "2021-07-08T09:10:37.608Z"
   },
   {
    "duration": 189,
    "start_time": "2021-07-08T09:10:38.573Z"
   },
   {
    "duration": 185,
    "start_time": "2021-07-08T09:10:53.181Z"
   },
   {
    "duration": 11,
    "start_time": "2021-07-08T09:10:59.549Z"
   },
   {
    "duration": 42,
    "start_time": "2021-07-08T09:10:59.709Z"
   },
   {
    "duration": 12,
    "start_time": "2021-07-08T09:11:02.857Z"
   },
   {
    "duration": 28,
    "start_time": "2021-07-08T09:11:10.062Z"
   },
   {
    "duration": 249,
    "start_time": "2021-07-08T09:11:37.388Z"
   },
   {
    "duration": 232,
    "start_time": "2021-07-08T09:11:49.485Z"
   },
   {
    "duration": 453,
    "start_time": "2021-07-08T09:12:01.546Z"
   },
   {
    "duration": 440,
    "start_time": "2021-07-08T09:12:12.347Z"
   },
   {
    "duration": 213,
    "start_time": "2021-07-08T09:13:32.196Z"
   },
   {
    "duration": 172,
    "start_time": "2021-07-08T09:14:07.400Z"
   },
   {
    "duration": 185,
    "start_time": "2021-07-08T09:14:14.905Z"
   },
   {
    "duration": 209,
    "start_time": "2021-07-08T09:14:40.109Z"
   },
   {
    "duration": 201,
    "start_time": "2021-07-08T09:14:54.506Z"
   },
   {
    "duration": 622,
    "start_time": "2021-07-08T09:18:14.497Z"
   },
   {
    "duration": 220,
    "start_time": "2021-07-08T09:18:15.121Z"
   },
   {
    "duration": 79,
    "start_time": "2021-07-08T09:18:15.343Z"
   },
   {
    "duration": 4,
    "start_time": "2021-07-08T09:18:15.425Z"
   },
   {
    "duration": 24,
    "start_time": "2021-07-08T09:18:15.431Z"
   },
   {
    "duration": 8,
    "start_time": "2021-07-08T09:18:15.457Z"
   },
   {
    "duration": 16,
    "start_time": "2021-07-08T09:18:15.466Z"
   },
   {
    "duration": 5,
    "start_time": "2021-07-08T09:18:15.484Z"
   },
   {
    "duration": 10,
    "start_time": "2021-07-08T09:18:15.493Z"
   },
   {
    "duration": 8,
    "start_time": "2021-07-08T09:18:15.504Z"
   },
   {
    "duration": 7,
    "start_time": "2021-07-08T09:18:15.513Z"
   },
   {
    "duration": 26,
    "start_time": "2021-07-08T09:18:15.522Z"
   },
   {
    "duration": 49,
    "start_time": "2021-07-08T09:18:15.550Z"
   },
   {
    "duration": 21,
    "start_time": "2021-07-08T09:18:15.601Z"
   },
   {
    "duration": 8,
    "start_time": "2021-07-08T09:18:15.624Z"
   },
   {
    "duration": 3,
    "start_time": "2021-07-08T09:18:15.634Z"
   },
   {
    "duration": 8,
    "start_time": "2021-07-08T09:18:15.639Z"
   },
   {
    "duration": 45,
    "start_time": "2021-07-08T09:18:15.649Z"
   },
   {
    "duration": 13,
    "start_time": "2021-07-08T09:18:15.696Z"
   },
   {
    "duration": 10,
    "start_time": "2021-07-08T09:18:15.711Z"
   },
   {
    "duration": 64,
    "start_time": "2021-07-08T09:18:15.722Z"
   },
   {
    "duration": 19,
    "start_time": "2021-07-08T09:18:15.788Z"
   },
   {
    "duration": 9,
    "start_time": "2021-07-08T09:18:15.809Z"
   },
   {
    "duration": 9,
    "start_time": "2021-07-08T09:18:15.820Z"
   },
   {
    "duration": 18,
    "start_time": "2021-07-08T09:18:15.831Z"
   },
   {
    "duration": 43,
    "start_time": "2021-07-08T09:18:15.851Z"
   },
   {
    "duration": 12,
    "start_time": "2021-07-08T09:18:15.897Z"
   },
   {
    "duration": 219,
    "start_time": "2021-07-08T09:18:15.911Z"
   },
   {
    "duration": 8,
    "start_time": "2021-07-08T09:18:16.132Z"
   },
   {
    "duration": 199,
    "start_time": "2021-07-08T09:18:16.141Z"
   },
   {
    "duration": 18,
    "start_time": "2021-07-08T09:18:16.341Z"
   },
   {
    "duration": 24,
    "start_time": "2021-07-08T09:18:16.361Z"
   },
   {
    "duration": 24,
    "start_time": "2021-07-08T09:18:16.387Z"
   },
   {
    "duration": 211,
    "start_time": "2021-07-08T09:18:16.413Z"
   },
   {
    "duration": 18,
    "start_time": "2021-07-08T09:18:16.626Z"
   },
   {
    "duration": 596,
    "start_time": "2021-07-08T10:06:33.623Z"
   },
   {
    "duration": 181,
    "start_time": "2021-07-08T10:06:34.221Z"
   },
   {
    "duration": 176,
    "start_time": "2021-07-08T10:06:34.635Z"
   },
   {
    "duration": 239,
    "start_time": "2021-07-08T10:06:55.572Z"
   },
   {
    "duration": 6,
    "start_time": "2021-07-08T10:06:57.687Z"
   },
   {
    "duration": 4,
    "start_time": "2021-07-08T10:07:03.956Z"
   },
   {
    "duration": 4,
    "start_time": "2021-07-08T10:07:10.376Z"
   },
   {
    "duration": 4,
    "start_time": "2021-07-08T10:17:19.889Z"
   },
   {
    "duration": 3,
    "start_time": "2021-07-08T10:19:19.407Z"
   },
   {
    "duration": 197,
    "start_time": "2021-07-08T10:19:19.412Z"
   },
   {
    "duration": 127,
    "start_time": "2021-07-08T10:19:19.611Z"
   },
   {
    "duration": 4,
    "start_time": "2021-07-08T10:19:19.740Z"
   },
   {
    "duration": 27,
    "start_time": "2021-07-08T10:19:19.746Z"
   },
   {
    "duration": 7,
    "start_time": "2021-07-08T10:19:19.775Z"
   },
   {
    "duration": 30,
    "start_time": "2021-07-08T10:19:19.784Z"
   },
   {
    "duration": 7,
    "start_time": "2021-07-08T10:19:19.817Z"
   },
   {
    "duration": 26,
    "start_time": "2021-07-08T10:19:19.826Z"
   },
   {
    "duration": 18,
    "start_time": "2021-07-08T10:19:19.854Z"
   },
   {
    "duration": 14,
    "start_time": "2021-07-08T10:19:19.874Z"
   },
   {
    "duration": 48,
    "start_time": "2021-07-08T10:19:19.890Z"
   },
   {
    "duration": 17,
    "start_time": "2021-07-08T10:19:19.940Z"
   },
   {
    "duration": 38,
    "start_time": "2021-07-08T10:19:19.959Z"
   },
   {
    "duration": 8,
    "start_time": "2021-07-08T10:19:19.999Z"
   },
   {
    "duration": 15,
    "start_time": "2021-07-08T10:19:20.009Z"
   },
   {
    "duration": 22,
    "start_time": "2021-07-08T10:19:20.026Z"
   },
   {
    "duration": 10,
    "start_time": "2021-07-08T10:19:20.050Z"
   },
   {
    "duration": 10,
    "start_time": "2021-07-08T10:19:20.062Z"
   },
   {
    "duration": 20,
    "start_time": "2021-07-08T10:19:20.073Z"
   },
   {
    "duration": 29,
    "start_time": "2021-07-08T10:19:20.095Z"
   },
   {
    "duration": 17,
    "start_time": "2021-07-08T10:19:20.126Z"
   },
   {
    "duration": 40,
    "start_time": "2021-07-08T10:19:20.146Z"
   },
   {
    "duration": 15,
    "start_time": "2021-07-08T10:19:20.189Z"
   },
   {
    "duration": 19,
    "start_time": "2021-07-08T10:19:20.206Z"
   },
   {
    "duration": 10,
    "start_time": "2021-07-08T10:19:20.226Z"
   },
   {
    "duration": 11,
    "start_time": "2021-07-08T10:19:20.238Z"
   },
   {
    "duration": 297,
    "start_time": "2021-07-08T10:19:20.250Z"
   },
   {
    "duration": 6,
    "start_time": "2021-07-08T10:19:20.549Z"
   },
   {
    "duration": 191,
    "start_time": "2021-07-08T10:19:20.557Z"
   },
   {
    "duration": 19,
    "start_time": "2021-07-08T10:19:20.750Z"
   },
   {
    "duration": 20,
    "start_time": "2021-07-08T10:19:20.771Z"
   },
   {
    "duration": 15,
    "start_time": "2021-07-08T10:19:20.793Z"
   },
   {
    "duration": 222,
    "start_time": "2021-07-08T10:19:20.809Z"
   },
   {
    "duration": 20,
    "start_time": "2021-07-08T10:19:21.033Z"
   },
   {
    "duration": 27,
    "start_time": "2021-07-08T10:45:04.055Z"
   },
   {
    "duration": 8,
    "start_time": "2021-07-08T10:45:08.478Z"
   },
   {
    "duration": 8,
    "start_time": "2021-07-08T10:45:31.982Z"
   },
   {
    "duration": 10,
    "start_time": "2021-07-08T10:46:01.221Z"
   },
   {
    "duration": 17,
    "start_time": "2021-07-08T10:46:40.011Z"
   },
   {
    "duration": 193,
    "start_time": "2021-07-08T10:48:19.471Z"
   },
   {
    "duration": 225,
    "start_time": "2021-07-08T10:49:26.480Z"
   },
   {
    "duration": 204,
    "start_time": "2021-07-08T10:49:59.992Z"
   },
   {
    "duration": 435,
    "start_time": "2021-07-08T10:50:06.779Z"
   },
   {
    "duration": 199,
    "start_time": "2021-07-08T10:50:14.891Z"
   },
   {
    "duration": 204,
    "start_time": "2021-07-08T10:50:18.501Z"
   },
   {
    "duration": 244,
    "start_time": "2021-07-08T10:50:23.359Z"
   },
   {
    "duration": 192,
    "start_time": "2021-07-08T10:50:29.135Z"
   },
   {
    "duration": 218,
    "start_time": "2021-07-08T10:50:33.092Z"
   },
   {
    "duration": 207,
    "start_time": "2021-07-08T10:52:45.381Z"
   },
   {
    "duration": 5,
    "start_time": "2021-07-08T10:53:34.641Z"
   },
   {
    "duration": 196,
    "start_time": "2021-07-08T10:53:41.478Z"
   },
   {
    "duration": 43,
    "start_time": "2021-07-08T10:53:50.335Z"
   },
   {
    "duration": 32,
    "start_time": "2021-07-08T10:53:55.294Z"
   },
   {
    "duration": 55,
    "start_time": "2021-07-08T10:54:09.675Z"
   },
   {
    "duration": 16,
    "start_time": "2021-07-08T10:54:12.260Z"
   },
   {
    "duration": 15,
    "start_time": "2021-07-08T10:54:49.150Z"
   },
   {
    "duration": 20,
    "start_time": "2021-07-08T10:56:07.596Z"
   },
   {
    "duration": 16,
    "start_time": "2021-07-08T10:58:26.276Z"
   },
   {
    "duration": 22,
    "start_time": "2021-07-08T10:59:00.486Z"
   },
   {
    "duration": 18,
    "start_time": "2021-07-08T11:02:09.653Z"
   },
   {
    "duration": 10,
    "start_time": "2021-07-08T11:03:44.331Z"
   },
   {
    "duration": 10,
    "start_time": "2021-07-08T11:03:54.055Z"
   },
   {
    "duration": 12,
    "start_time": "2021-07-08T11:04:41.967Z"
   },
   {
    "duration": 24,
    "start_time": "2021-07-08T11:07:30.732Z"
   },
   {
    "duration": 6,
    "start_time": "2021-07-08T11:07:37.364Z"
   },
   {
    "duration": 16,
    "start_time": "2021-07-08T11:08:01.819Z"
   },
   {
    "duration": 17,
    "start_time": "2021-07-08T11:09:47.488Z"
   },
   {
    "duration": 246,
    "start_time": "2021-07-08T11:10:00.830Z"
   },
   {
    "duration": 18,
    "start_time": "2021-07-08T11:13:55.195Z"
   },
   {
    "duration": 204,
    "start_time": "2021-07-08T11:14:04.951Z"
   },
   {
    "duration": 19,
    "start_time": "2021-07-08T11:15:10.613Z"
   },
   {
    "duration": 680,
    "start_time": "2021-07-08T11:16:25.793Z"
   },
   {
    "duration": 451,
    "start_time": "2021-07-08T11:16:40.313Z"
   },
   {
    "duration": 469,
    "start_time": "2021-07-08T11:17:21.286Z"
   },
   {
    "duration": 20,
    "start_time": "2021-07-08T11:19:12.554Z"
   },
   {
    "duration": 35,
    "start_time": "2021-07-08T11:20:05.484Z"
   },
   {
    "duration": 53,
    "start_time": "2021-07-08T11:21:40.050Z"
   },
   {
    "duration": 13,
    "start_time": "2021-07-08T11:22:26.059Z"
   },
   {
    "duration": 19,
    "start_time": "2021-07-08T11:22:47.419Z"
   },
   {
    "duration": 25,
    "start_time": "2021-07-08T11:23:19.958Z"
   },
   {
    "duration": 29,
    "start_time": "2021-07-08T11:23:25.415Z"
   },
   {
    "duration": 10,
    "start_time": "2021-07-08T11:24:45.138Z"
   },
   {
    "duration": 19,
    "start_time": "2021-07-08T11:24:54.498Z"
   },
   {
    "duration": 12,
    "start_time": "2021-07-08T11:25:32.225Z"
   },
   {
    "duration": 19,
    "start_time": "2021-07-08T11:25:37.092Z"
   },
   {
    "duration": 17,
    "start_time": "2021-07-08T11:25:58.116Z"
   },
   {
    "duration": 15,
    "start_time": "2021-07-08T11:26:02.258Z"
   },
   {
    "duration": 8,
    "start_time": "2021-07-08T11:26:59.682Z"
   },
   {
    "duration": 184,
    "start_time": "2021-07-08T11:27:21.894Z"
   },
   {
    "duration": 8,
    "start_time": "2021-07-08T11:27:23.824Z"
   },
   {
    "duration": 202,
    "start_time": "2021-07-08T11:27:23.962Z"
   },
   {
    "duration": 360,
    "start_time": "2021-07-08T11:28:33.215Z"
   },
   {
    "duration": 231,
    "start_time": "2021-07-08T11:32:05.542Z"
   },
   {
    "duration": 607,
    "start_time": "2021-07-08T11:36:27.854Z"
   },
   {
    "duration": 241,
    "start_time": "2021-07-08T11:36:28.463Z"
   },
   {
    "duration": 67,
    "start_time": "2021-07-08T11:36:28.709Z"
   },
   {
    "duration": 5,
    "start_time": "2021-07-08T11:36:28.778Z"
   },
   {
    "duration": 32,
    "start_time": "2021-07-08T11:36:28.784Z"
   },
   {
    "duration": 11,
    "start_time": "2021-07-08T11:36:28.819Z"
   },
   {
    "duration": 20,
    "start_time": "2021-07-08T11:36:28.834Z"
   },
   {
    "duration": 36,
    "start_time": "2021-07-08T11:36:28.857Z"
   },
   {
    "duration": 16,
    "start_time": "2021-07-08T11:36:28.895Z"
   },
   {
    "duration": 14,
    "start_time": "2021-07-08T11:36:28.913Z"
   },
   {
    "duration": 9,
    "start_time": "2021-07-08T11:36:28.930Z"
   },
   {
    "duration": 55,
    "start_time": "2021-07-08T11:36:28.941Z"
   },
   {
    "duration": 27,
    "start_time": "2021-07-08T11:36:28.999Z"
   },
   {
    "duration": 30,
    "start_time": "2021-07-08T11:36:29.028Z"
   },
   {
    "duration": 31,
    "start_time": "2021-07-08T11:36:29.060Z"
   },
   {
    "duration": 3,
    "start_time": "2021-07-08T11:36:29.093Z"
   },
   {
    "duration": 12,
    "start_time": "2021-07-08T11:36:29.099Z"
   },
   {
    "duration": 11,
    "start_time": "2021-07-08T11:36:29.112Z"
   },
   {
    "duration": 12,
    "start_time": "2021-07-08T11:36:29.125Z"
   },
   {
    "duration": 9,
    "start_time": "2021-07-08T11:36:29.139Z"
   },
   {
    "duration": 31,
    "start_time": "2021-07-08T11:36:29.191Z"
   },
   {
    "duration": 17,
    "start_time": "2021-07-08T11:36:29.226Z"
   },
   {
    "duration": 7,
    "start_time": "2021-07-08T11:36:29.245Z"
   },
   {
    "duration": 10,
    "start_time": "2021-07-08T11:36:29.254Z"
   },
   {
    "duration": 30,
    "start_time": "2021-07-08T11:36:29.292Z"
   },
   {
    "duration": 11,
    "start_time": "2021-07-08T11:36:29.324Z"
   },
   {
    "duration": 11,
    "start_time": "2021-07-08T11:36:29.337Z"
   },
   {
    "duration": 230,
    "start_time": "2021-07-08T11:36:29.349Z"
   },
   {
    "duration": 13,
    "start_time": "2021-07-08T11:36:29.588Z"
   },
   {
    "duration": 205,
    "start_time": "2021-07-08T11:36:29.603Z"
   },
   {
    "duration": 20,
    "start_time": "2021-07-08T11:36:29.810Z"
   },
   {
    "duration": 9,
    "start_time": "2021-07-08T11:36:29.832Z"
   },
   {
    "duration": 16,
    "start_time": "2021-07-08T11:36:29.843Z"
   },
   {
    "duration": 283,
    "start_time": "2021-07-08T11:36:29.861Z"
   },
   {
    "duration": 50,
    "start_time": "2021-07-08T11:36:30.146Z"
   },
   {
    "duration": 14,
    "start_time": "2021-07-08T11:36:30.198Z"
   },
   {
    "duration": 11,
    "start_time": "2021-07-08T11:36:30.214Z"
   },
   {
    "duration": 245,
    "start_time": "2021-07-08T11:36:30.227Z"
   },
   {
    "duration": 439,
    "start_time": "2021-07-08T11:36:30.474Z"
   },
   {
    "duration": 210,
    "start_time": "2021-07-08T11:36:30.915Z"
   },
   {
    "duration": 15,
    "start_time": "2021-07-08T11:36:31.127Z"
   },
   {
    "duration": 17,
    "start_time": "2021-07-08T11:38:20.451Z"
   },
   {
    "duration": 642,
    "start_time": "2021-07-08T11:46:17.881Z"
   },
   {
    "duration": 210,
    "start_time": "2021-07-08T11:46:18.525Z"
   },
   {
    "duration": 104,
    "start_time": "2021-07-08T11:46:18.741Z"
   },
   {
    "duration": 8,
    "start_time": "2021-07-08T11:46:18.847Z"
   },
   {
    "duration": 25,
    "start_time": "2021-07-08T11:46:18.857Z"
   },
   {
    "duration": 14,
    "start_time": "2021-07-08T11:46:18.884Z"
   },
   {
    "duration": 22,
    "start_time": "2021-07-08T11:46:18.900Z"
   },
   {
    "duration": 5,
    "start_time": "2021-07-08T11:46:18.924Z"
   },
   {
    "duration": 13,
    "start_time": "2021-07-08T11:46:18.931Z"
   },
   {
    "duration": 45,
    "start_time": "2021-07-08T11:46:18.946Z"
   },
   {
    "duration": 12,
    "start_time": "2021-07-08T11:46:18.993Z"
   },
   {
    "duration": 38,
    "start_time": "2021-07-08T11:46:19.006Z"
   },
   {
    "duration": 50,
    "start_time": "2021-07-08T11:46:19.046Z"
   },
   {
    "duration": 29,
    "start_time": "2021-07-08T11:46:19.099Z"
   },
   {
    "duration": 7,
    "start_time": "2021-07-08T11:46:19.130Z"
   },
   {
    "duration": 3,
    "start_time": "2021-07-08T11:46:19.139Z"
   },
   {
    "duration": 11,
    "start_time": "2021-07-08T11:46:19.144Z"
   },
   {
    "duration": 40,
    "start_time": "2021-07-08T11:46:19.157Z"
   },
   {
    "duration": 15,
    "start_time": "2021-07-08T11:46:19.199Z"
   },
   {
    "duration": 10,
    "start_time": "2021-07-08T11:46:19.217Z"
   },
   {
    "duration": 68,
    "start_time": "2021-07-08T11:46:19.230Z"
   },
   {
    "duration": 17,
    "start_time": "2021-07-08T11:46:19.301Z"
   },
   {
    "duration": 7,
    "start_time": "2021-07-08T11:46:19.321Z"
   },
   {
    "duration": 11,
    "start_time": "2021-07-08T11:46:19.330Z"
   },
   {
    "duration": 59,
    "start_time": "2021-07-08T11:46:19.343Z"
   },
   {
    "duration": 17,
    "start_time": "2021-07-08T11:46:19.405Z"
   },
   {
    "duration": 16,
    "start_time": "2021-07-08T11:46:19.424Z"
   },
   {
    "duration": 252,
    "start_time": "2021-07-08T11:46:19.443Z"
   },
   {
    "duration": 9,
    "start_time": "2021-07-08T11:46:19.697Z"
   },
   {
    "duration": 224,
    "start_time": "2021-07-08T11:46:19.708Z"
   },
   {
    "duration": 21,
    "start_time": "2021-07-08T11:46:19.934Z"
   },
   {
    "duration": 9,
    "start_time": "2021-07-08T11:46:19.956Z"
   },
   {
    "duration": 32,
    "start_time": "2021-07-08T11:46:19.967Z"
   },
   {
    "duration": 288,
    "start_time": "2021-07-08T11:46:20.004Z"
   },
   {
    "duration": 23,
    "start_time": "2021-07-08T11:46:20.300Z"
   },
   {
    "duration": 11,
    "start_time": "2021-07-08T11:46:20.325Z"
   },
   {
    "duration": 11,
    "start_time": "2021-07-08T11:46:20.339Z"
   },
   {
    "duration": 259,
    "start_time": "2021-07-08T11:46:20.352Z"
   },
   {
    "duration": 438,
    "start_time": "2021-07-08T11:46:20.613Z"
   },
   {
    "duration": 207,
    "start_time": "2021-07-08T11:46:21.054Z"
   },
   {
    "duration": 27,
    "start_time": "2021-07-08T11:46:21.262Z"
   },
   {
    "duration": 19,
    "start_time": "2021-07-08T11:46:21.291Z"
   },
   {
    "duration": 820,
    "start_time": "2021-07-08T11:49:01.655Z"
   },
   {
    "duration": 372,
    "start_time": "2021-07-08T11:49:02.478Z"
   },
   {
    "duration": 98,
    "start_time": "2021-07-08T11:49:02.853Z"
   },
   {
    "duration": 6,
    "start_time": "2021-07-08T11:49:02.953Z"
   },
   {
    "duration": 39,
    "start_time": "2021-07-08T11:49:02.960Z"
   },
   {
    "duration": 9,
    "start_time": "2021-07-08T11:49:03.003Z"
   },
   {
    "duration": 23,
    "start_time": "2021-07-08T11:49:03.014Z"
   },
   {
    "duration": 6,
    "start_time": "2021-07-08T11:49:03.041Z"
   },
   {
    "duration": 20,
    "start_time": "2021-07-08T11:49:03.049Z"
   },
   {
    "duration": 18,
    "start_time": "2021-07-08T11:49:03.084Z"
   },
   {
    "duration": 14,
    "start_time": "2021-07-08T11:49:03.104Z"
   },
   {
    "duration": 39,
    "start_time": "2021-07-08T11:49:03.119Z"
   },
   {
    "duration": 38,
    "start_time": "2021-07-08T11:49:03.160Z"
   },
   {
    "duration": 26,
    "start_time": "2021-07-08T11:49:03.200Z"
   },
   {
    "duration": 7,
    "start_time": "2021-07-08T11:49:03.227Z"
   },
   {
    "duration": 4,
    "start_time": "2021-07-08T11:49:03.236Z"
   },
   {
    "duration": 15,
    "start_time": "2021-07-08T11:49:03.243Z"
   },
   {
    "duration": 21,
    "start_time": "2021-07-08T11:49:03.285Z"
   },
   {
    "duration": 17,
    "start_time": "2021-07-08T11:49:03.309Z"
   },
   {
    "duration": 10,
    "start_time": "2021-07-08T11:49:03.328Z"
   },
   {
    "duration": 65,
    "start_time": "2021-07-08T11:49:03.340Z"
   },
   {
    "duration": 18,
    "start_time": "2021-07-08T11:49:03.407Z"
   },
   {
    "duration": 8,
    "start_time": "2021-07-08T11:49:03.428Z"
   },
   {
    "duration": 15,
    "start_time": "2021-07-08T11:49:03.438Z"
   },
   {
    "duration": 40,
    "start_time": "2021-07-08T11:49:03.455Z"
   },
   {
    "duration": 12,
    "start_time": "2021-07-08T11:49:03.497Z"
   },
   {
    "duration": 29,
    "start_time": "2021-07-08T11:49:03.511Z"
   },
   {
    "duration": 285,
    "start_time": "2021-07-08T11:49:03.542Z"
   },
   {
    "duration": 8,
    "start_time": "2021-07-08T11:49:03.829Z"
   },
   {
    "duration": 227,
    "start_time": "2021-07-08T11:49:03.838Z"
   },
   {
    "duration": 40,
    "start_time": "2021-07-08T11:49:04.066Z"
   },
   {
    "duration": 10,
    "start_time": "2021-07-08T11:49:04.108Z"
   },
   {
    "duration": 26,
    "start_time": "2021-07-08T11:49:04.121Z"
   },
   {
    "duration": 290,
    "start_time": "2021-07-08T11:49:04.149Z"
   },
   {
    "duration": 26,
    "start_time": "2021-07-08T11:49:04.441Z"
   },
   {
    "duration": 31,
    "start_time": "2021-07-08T11:49:04.470Z"
   },
   {
    "duration": 14,
    "start_time": "2021-07-08T11:49:04.503Z"
   },
   {
    "duration": 259,
    "start_time": "2021-07-08T11:49:04.521Z"
   },
   {
    "duration": 480,
    "start_time": "2021-07-08T11:49:04.782Z"
   },
   {
    "duration": 225,
    "start_time": "2021-07-08T11:49:05.264Z"
   },
   {
    "duration": 22,
    "start_time": "2021-07-08T11:49:05.491Z"
   },
   {
    "duration": 24,
    "start_time": "2021-07-08T11:49:05.515Z"
   },
   {
    "duration": 634,
    "start_time": "2021-07-08T11:52:24.960Z"
   },
   {
    "duration": 199,
    "start_time": "2021-07-08T11:52:25.599Z"
   },
   {
    "duration": 106,
    "start_time": "2021-07-08T11:52:25.803Z"
   },
   {
    "duration": 7,
    "start_time": "2021-07-08T11:52:25.911Z"
   },
   {
    "duration": 29,
    "start_time": "2021-07-08T11:52:25.920Z"
   },
   {
    "duration": 7,
    "start_time": "2021-07-08T11:52:25.951Z"
   },
   {
    "duration": 26,
    "start_time": "2021-07-08T11:52:25.961Z"
   },
   {
    "duration": 11,
    "start_time": "2021-07-08T11:52:25.990Z"
   },
   {
    "duration": 29,
    "start_time": "2021-07-08T11:52:26.005Z"
   },
   {
    "duration": 9,
    "start_time": "2021-07-08T11:52:26.036Z"
   },
   {
    "duration": 8,
    "start_time": "2021-07-08T11:52:26.047Z"
   },
   {
    "duration": 63,
    "start_time": "2021-07-08T11:52:26.057Z"
   },
   {
    "duration": 17,
    "start_time": "2021-07-08T11:52:26.122Z"
   },
   {
    "duration": 43,
    "start_time": "2021-07-08T11:52:26.142Z"
   },
   {
    "duration": 17,
    "start_time": "2021-07-08T11:52:26.187Z"
   },
   {
    "duration": 5,
    "start_time": "2021-07-08T11:52:26.206Z"
   },
   {
    "duration": 12,
    "start_time": "2021-07-08T11:52:26.212Z"
   },
   {
    "duration": 11,
    "start_time": "2021-07-08T11:52:26.226Z"
   },
   {
    "duration": 12,
    "start_time": "2021-07-08T11:52:26.238Z"
   },
   {
    "duration": 38,
    "start_time": "2021-07-08T11:52:26.252Z"
   },
   {
    "duration": 40,
    "start_time": "2021-07-08T11:52:26.292Z"
   },
   {
    "duration": 17,
    "start_time": "2021-07-08T11:52:26.336Z"
   },
   {
    "duration": 39,
    "start_time": "2021-07-08T11:52:26.355Z"
   },
   {
    "duration": 11,
    "start_time": "2021-07-08T11:52:26.395Z"
   },
   {
    "duration": 23,
    "start_time": "2021-07-08T11:52:26.408Z"
   },
   {
    "duration": 12,
    "start_time": "2021-07-08T11:52:26.432Z"
   },
   {
    "duration": 41,
    "start_time": "2021-07-08T11:52:26.446Z"
   },
   {
    "duration": 215,
    "start_time": "2021-07-08T11:52:26.493Z"
   },
   {
    "duration": 8,
    "start_time": "2021-07-08T11:52:26.710Z"
   },
   {
    "duration": 228,
    "start_time": "2021-07-08T11:52:26.720Z"
   },
   {
    "duration": 18,
    "start_time": "2021-07-08T11:52:26.950Z"
   },
   {
    "duration": 35,
    "start_time": "2021-07-08T11:52:26.969Z"
   },
   {
    "duration": 23,
    "start_time": "2021-07-08T11:52:27.006Z"
   },
   {
    "duration": 258,
    "start_time": "2021-07-08T11:52:27.030Z"
   },
   {
    "duration": 24,
    "start_time": "2021-07-08T11:52:27.290Z"
   },
   {
    "duration": 12,
    "start_time": "2021-07-08T11:52:27.316Z"
   },
   {
    "duration": 10,
    "start_time": "2021-07-08T11:52:27.329Z"
   },
   {
    "duration": 298,
    "start_time": "2021-07-08T11:52:27.341Z"
   },
   {
    "duration": 436,
    "start_time": "2021-07-08T11:52:27.641Z"
   },
   {
    "duration": 216,
    "start_time": "2021-07-08T11:52:28.079Z"
   },
   {
    "duration": 20,
    "start_time": "2021-07-08T11:52:28.297Z"
   },
   {
    "duration": 17,
    "start_time": "2021-07-08T11:52:28.319Z"
   },
   {
    "duration": 1131,
    "start_time": "2022-06-13T15:53:14.046Z"
   },
   {
    "duration": 249,
    "start_time": "2022-06-13T15:54:04.624Z"
   },
   {
    "duration": 156,
    "start_time": "2022-06-13T15:54:47.740Z"
   },
   {
    "duration": 106,
    "start_time": "2022-06-13T15:56:33.459Z"
   },
   {
    "duration": 125,
    "start_time": "2022-06-13T15:57:06.941Z"
   },
   {
    "duration": 87,
    "start_time": "2022-06-13T15:57:17.700Z"
   },
   {
    "duration": 50,
    "start_time": "2022-06-13T15:57:20.498Z"
   },
   {
    "duration": 54,
    "start_time": "2022-06-13T15:58:04.654Z"
   },
   {
    "duration": 92,
    "start_time": "2022-06-13T15:58:26.519Z"
   },
   {
    "duration": 50,
    "start_time": "2022-06-13T15:58:28.160Z"
   },
   {
    "duration": 79,
    "start_time": "2022-06-13T19:31:58.510Z"
   },
   {
    "duration": 10,
    "start_time": "2022-06-13T19:38:50.801Z"
   },
   {
    "duration": 15,
    "start_time": "2022-06-13T19:41:10.810Z"
   },
   {
    "duration": 6,
    "start_time": "2022-06-13T19:55:30.722Z"
   },
   {
    "duration": 13,
    "start_time": "2022-06-13T20:14:11.076Z"
   },
   {
    "duration": 16,
    "start_time": "2022-06-13T20:15:02.273Z"
   },
   {
    "duration": 88,
    "start_time": "2022-06-13T20:15:13.034Z"
   },
   {
    "duration": 27,
    "start_time": "2022-06-13T20:15:37.416Z"
   },
   {
    "duration": 14,
    "start_time": "2022-06-13T20:15:55.347Z"
   },
   {
    "duration": 8,
    "start_time": "2022-06-13T20:19:59.044Z"
   },
   {
    "duration": 10,
    "start_time": "2022-06-13T20:20:36.967Z"
   },
   {
    "duration": 99,
    "start_time": "2022-06-13T20:20:47.748Z"
   },
   {
    "duration": 9,
    "start_time": "2022-06-13T20:31:31.663Z"
   },
   {
    "duration": 27,
    "start_time": "2022-06-13T20:31:51.874Z"
   },
   {
    "duration": 45,
    "start_time": "2022-06-13T20:35:36.374Z"
   },
   {
    "duration": 51,
    "start_time": "2022-06-13T20:36:04.948Z"
   },
   {
    "duration": 11,
    "start_time": "2022-06-13T20:37:27.169Z"
   },
   {
    "duration": 33,
    "start_time": "2022-06-13T20:37:42.994Z"
   },
   {
    "duration": 65,
    "start_time": "2022-06-14T19:52:29.441Z"
   },
   {
    "duration": 7,
    "start_time": "2022-06-14T19:53:03.424Z"
   },
   {
    "duration": 1510,
    "start_time": "2022-06-14T19:53:19.341Z"
   },
   {
    "duration": 255,
    "start_time": "2022-06-14T19:53:20.853Z"
   },
   {
    "duration": 86,
    "start_time": "2022-06-14T19:53:21.110Z"
   },
   {
    "duration": 29,
    "start_time": "2022-06-14T19:53:21.198Z"
   },
   {
    "duration": 22,
    "start_time": "2022-06-14T19:53:21.229Z"
   },
   {
    "duration": 27,
    "start_time": "2022-06-14T19:53:21.252Z"
   },
   {
    "duration": 5,
    "start_time": "2022-06-14T19:53:21.281Z"
   },
   {
    "duration": 65,
    "start_time": "2022-06-14T19:54:19.841Z"
   },
   {
    "duration": 5,
    "start_time": "2022-06-14T19:59:37.057Z"
   },
   {
    "duration": 18,
    "start_time": "2022-06-14T20:00:01.777Z"
   },
   {
    "duration": 14,
    "start_time": "2022-06-14T20:09:29.333Z"
   },
   {
    "duration": 16,
    "start_time": "2022-06-14T20:09:41.660Z"
   },
   {
    "duration": 9,
    "start_time": "2022-06-14T20:19:24.070Z"
   },
   {
    "duration": 24,
    "start_time": "2022-06-14T20:19:37.994Z"
   },
   {
    "duration": 11,
    "start_time": "2022-06-14T20:23:19.138Z"
   },
   {
    "duration": 35,
    "start_time": "2022-06-14T20:23:50.875Z"
   },
   {
    "duration": 25,
    "start_time": "2022-06-14T20:24:24.993Z"
   },
   {
    "duration": 1080,
    "start_time": "2022-06-14T20:24:41.166Z"
   },
   {
    "duration": 105,
    "start_time": "2022-06-14T20:24:42.248Z"
   },
   {
    "duration": 47,
    "start_time": "2022-06-14T20:24:42.355Z"
   },
   {
    "duration": 19,
    "start_time": "2022-06-14T20:24:42.404Z"
   },
   {
    "duration": 18,
    "start_time": "2022-06-14T20:24:42.425Z"
   },
   {
    "duration": 26,
    "start_time": "2022-06-14T20:24:42.444Z"
   },
   {
    "duration": 17,
    "start_time": "2022-06-14T20:24:42.471Z"
   },
   {
    "duration": 16,
    "start_time": "2022-06-14T20:24:42.490Z"
   },
   {
    "duration": 52,
    "start_time": "2022-06-14T20:24:42.508Z"
   },
   {
    "duration": 23,
    "start_time": "2022-06-14T20:25:27.742Z"
   },
   {
    "duration": 1122,
    "start_time": "2022-06-14T20:25:45.831Z"
   },
   {
    "duration": 112,
    "start_time": "2022-06-14T20:25:46.955Z"
   },
   {
    "duration": 48,
    "start_time": "2022-06-14T20:25:47.068Z"
   },
   {
    "duration": 21,
    "start_time": "2022-06-14T20:25:47.119Z"
   },
   {
    "duration": 26,
    "start_time": "2022-06-14T20:25:47.142Z"
   },
   {
    "duration": 26,
    "start_time": "2022-06-14T20:25:47.171Z"
   },
   {
    "duration": 17,
    "start_time": "2022-06-14T20:25:47.199Z"
   },
   {
    "duration": 43,
    "start_time": "2022-06-14T20:25:47.217Z"
   },
   {
    "duration": 20,
    "start_time": "2022-06-14T20:25:47.262Z"
   },
   {
    "duration": 100,
    "start_time": "2022-06-14T20:27:10.953Z"
   },
   {
    "duration": 12,
    "start_time": "2022-06-14T20:28:20.078Z"
   },
   {
    "duration": 12,
    "start_time": "2022-06-14T20:28:33.140Z"
   },
   {
    "duration": 5,
    "start_time": "2022-06-14T20:41:35.548Z"
   },
   {
    "duration": 9,
    "start_time": "2022-06-14T20:42:54.355Z"
   },
   {
    "duration": 22,
    "start_time": "2022-06-14T20:43:27.114Z"
   },
   {
    "duration": 34,
    "start_time": "2022-06-14T20:44:12.419Z"
   },
   {
    "duration": 6,
    "start_time": "2022-06-14T20:45:45.030Z"
   },
   {
    "duration": 5,
    "start_time": "2022-06-14T20:50:05.934Z"
   },
   {
    "duration": 22,
    "start_time": "2022-06-14T20:50:49.576Z"
   },
   {
    "duration": 1055,
    "start_time": "2022-06-14T20:51:37.587Z"
   },
   {
    "duration": 113,
    "start_time": "2022-06-14T20:51:38.644Z"
   },
   {
    "duration": 48,
    "start_time": "2022-06-14T20:51:38.759Z"
   },
   {
    "duration": 22,
    "start_time": "2022-06-14T20:51:38.809Z"
   },
   {
    "duration": 38,
    "start_time": "2022-06-14T20:51:38.833Z"
   },
   {
    "duration": 27,
    "start_time": "2022-06-14T20:51:38.873Z"
   },
   {
    "duration": 19,
    "start_time": "2022-06-14T20:51:38.902Z"
   },
   {
    "duration": 41,
    "start_time": "2022-06-14T20:51:38.923Z"
   },
   {
    "duration": 28,
    "start_time": "2022-06-14T20:51:38.966Z"
   },
   {
    "duration": 27,
    "start_time": "2022-06-14T20:51:38.997Z"
   },
   {
    "duration": 44,
    "start_time": "2022-06-14T20:51:39.026Z"
   },
   {
    "duration": 28,
    "start_time": "2022-06-14T20:51:39.073Z"
   },
   {
    "duration": 5,
    "start_time": "2022-06-14T20:51:39.103Z"
   },
   {
    "duration": 57,
    "start_time": "2022-06-14T20:51:39.111Z"
   },
   {
    "duration": 8,
    "start_time": "2022-06-14T20:54:23.840Z"
   },
   {
    "duration": 11,
    "start_time": "2022-06-14T20:59:26.118Z"
   },
   {
    "duration": 9,
    "start_time": "2022-06-14T20:59:56.737Z"
   },
   {
    "duration": 54,
    "start_time": "2022-06-15T20:41:27.406Z"
   },
   {
    "duration": 1200,
    "start_time": "2022-06-15T20:41:41.157Z"
   },
   {
    "duration": 300,
    "start_time": "2022-06-15T20:41:42.359Z"
   },
   {
    "duration": 101,
    "start_time": "2022-06-15T20:41:42.661Z"
   },
   {
    "duration": 16,
    "start_time": "2022-06-15T20:41:42.764Z"
   },
   {
    "duration": 38,
    "start_time": "2022-06-15T20:41:42.781Z"
   },
   {
    "duration": 25,
    "start_time": "2022-06-15T20:41:42.821Z"
   },
   {
    "duration": 15,
    "start_time": "2022-06-15T20:41:42.847Z"
   },
   {
    "duration": 17,
    "start_time": "2022-06-15T20:41:42.863Z"
   },
   {
    "duration": 53,
    "start_time": "2022-06-15T20:41:42.881Z"
   },
   {
    "duration": 10,
    "start_time": "2022-06-15T20:41:42.937Z"
   },
   {
    "duration": 18,
    "start_time": "2022-06-15T20:41:42.948Z"
   },
   {
    "duration": 51,
    "start_time": "2022-06-15T20:41:42.967Z"
   },
   {
    "duration": 5,
    "start_time": "2022-06-15T20:41:43.021Z"
   },
   {
    "duration": 18,
    "start_time": "2022-06-15T20:41:43.027Z"
   },
   {
    "duration": 7,
    "start_time": "2022-06-15T20:41:43.047Z"
   },
   {
    "duration": 8,
    "start_time": "2022-06-15T20:41:43.056Z"
   },
   {
    "duration": 40,
    "start_time": "2022-06-15T20:41:43.066Z"
   },
   {
    "duration": 100,
    "start_time": "2022-06-15T20:53:45.671Z"
   },
   {
    "duration": 14,
    "start_time": "2022-06-15T20:54:07.501Z"
   },
   {
    "duration": 24,
    "start_time": "2022-06-15T20:54:32.537Z"
   },
   {
    "duration": 500,
    "start_time": "2022-06-15T20:55:03.331Z"
   },
   {
    "duration": 4,
    "start_time": "2022-06-15T20:55:34.052Z"
   },
   {
    "duration": 8,
    "start_time": "2022-06-15T20:55:54.451Z"
   },
   {
    "duration": 7,
    "start_time": "2022-06-15T20:56:00.154Z"
   },
   {
    "duration": 14,
    "start_time": "2022-06-15T20:57:33.347Z"
   },
   {
    "duration": 19,
    "start_time": "2022-06-15T20:57:47.902Z"
   },
   {
    "duration": 12,
    "start_time": "2022-06-15T20:57:54.333Z"
   },
   {
    "duration": 10,
    "start_time": "2022-06-15T20:58:01.180Z"
   },
   {
    "duration": 25,
    "start_time": "2022-06-15T21:02:28.526Z"
   },
   {
    "duration": 985,
    "start_time": "2022-06-15T21:04:04.676Z"
   },
   {
    "duration": 161,
    "start_time": "2022-06-15T21:04:05.662Z"
   },
   {
    "duration": 43,
    "start_time": "2022-06-15T21:04:05.824Z"
   },
   {
    "duration": 17,
    "start_time": "2022-06-15T21:04:05.869Z"
   },
   {
    "duration": 16,
    "start_time": "2022-06-15T21:04:05.888Z"
   },
   {
    "duration": 20,
    "start_time": "2022-06-15T21:04:05.906Z"
   },
   {
    "duration": 14,
    "start_time": "2022-06-15T21:04:05.927Z"
   },
   {
    "duration": 12,
    "start_time": "2022-06-15T21:04:05.942Z"
   },
   {
    "duration": 44,
    "start_time": "2022-06-15T21:04:05.955Z"
   },
   {
    "duration": 9,
    "start_time": "2022-06-15T21:04:06.001Z"
   },
   {
    "duration": 17,
    "start_time": "2022-06-15T21:04:06.011Z"
   },
   {
    "duration": 19,
    "start_time": "2022-06-15T21:04:06.030Z"
   },
   {
    "duration": 3,
    "start_time": "2022-06-15T21:04:06.051Z"
   },
   {
    "duration": 50,
    "start_time": "2022-06-15T21:04:06.056Z"
   },
   {
    "duration": 7,
    "start_time": "2022-06-15T21:04:06.107Z"
   },
   {
    "duration": 9,
    "start_time": "2022-06-15T21:04:06.115Z"
   },
   {
    "duration": 24,
    "start_time": "2022-06-15T21:04:06.125Z"
   },
   {
    "duration": 47,
    "start_time": "2022-06-15T21:04:06.150Z"
   },
   {
    "duration": 1033,
    "start_time": "2022-06-15T21:04:45.799Z"
   },
   {
    "duration": 97,
    "start_time": "2022-06-15T21:04:46.834Z"
   },
   {
    "duration": 45,
    "start_time": "2022-06-15T21:04:46.933Z"
   },
   {
    "duration": 17,
    "start_time": "2022-06-15T21:04:46.980Z"
   },
   {
    "duration": 16,
    "start_time": "2022-06-15T21:04:46.998Z"
   },
   {
    "duration": 20,
    "start_time": "2022-06-15T21:04:47.015Z"
   },
   {
    "duration": 15,
    "start_time": "2022-06-15T21:04:47.036Z"
   },
   {
    "duration": 41,
    "start_time": "2022-06-15T21:04:47.053Z"
   },
   {
    "duration": 31,
    "start_time": "2022-06-15T21:04:47.096Z"
   },
   {
    "duration": 10,
    "start_time": "2022-06-15T21:04:47.130Z"
   },
   {
    "duration": 25,
    "start_time": "2022-06-15T21:04:47.142Z"
   },
   {
    "duration": 24,
    "start_time": "2022-06-15T21:04:47.191Z"
   },
   {
    "duration": 5,
    "start_time": "2022-06-15T21:04:47.218Z"
   },
   {
    "duration": 25,
    "start_time": "2022-06-15T21:04:47.224Z"
   },
   {
    "duration": 8,
    "start_time": "2022-06-15T21:04:47.251Z"
   },
   {
    "duration": 44,
    "start_time": "2022-06-15T21:04:47.260Z"
   },
   {
    "duration": 30,
    "start_time": "2022-06-15T21:04:47.306Z"
   },
   {
    "duration": 22,
    "start_time": "2022-06-15T21:05:09.977Z"
   },
   {
    "duration": 24,
    "start_time": "2022-06-15T21:05:18.228Z"
   },
   {
    "duration": 23,
    "start_time": "2022-06-15T21:05:47.961Z"
   },
   {
    "duration": 24,
    "start_time": "2022-06-15T21:06:52.903Z"
   },
   {
    "duration": 22,
    "start_time": "2022-06-15T21:07:05.313Z"
   },
   {
    "duration": 23,
    "start_time": "2022-06-15T21:07:17.065Z"
   },
   {
    "duration": 24,
    "start_time": "2022-06-15T21:07:30.464Z"
   },
   {
    "duration": 24,
    "start_time": "2022-06-15T21:08:44.713Z"
   },
   {
    "duration": 25,
    "start_time": "2022-06-15T21:12:49.635Z"
   },
   {
    "duration": 24,
    "start_time": "2022-06-15T21:13:59.962Z"
   },
   {
    "duration": 65,
    "start_time": "2022-06-18T11:25:51.351Z"
   },
   {
    "duration": 1282,
    "start_time": "2022-06-18T11:26:09.568Z"
   },
   {
    "duration": 224,
    "start_time": "2022-06-18T11:26:10.852Z"
   },
   {
    "duration": 133,
    "start_time": "2022-06-18T11:26:11.078Z"
   },
   {
    "duration": 19,
    "start_time": "2022-06-18T11:26:11.214Z"
   },
   {
    "duration": 19,
    "start_time": "2022-06-18T11:26:11.235Z"
   },
   {
    "duration": 23,
    "start_time": "2022-06-18T11:26:11.256Z"
   },
   {
    "duration": 15,
    "start_time": "2022-06-18T11:26:11.281Z"
   },
   {
    "duration": 16,
    "start_time": "2022-06-18T11:26:11.298Z"
   },
   {
    "duration": 50,
    "start_time": "2022-06-18T11:26:11.316Z"
   },
   {
    "duration": 11,
    "start_time": "2022-06-18T11:26:11.369Z"
   },
   {
    "duration": 18,
    "start_time": "2022-06-18T11:26:11.382Z"
   },
   {
    "duration": 23,
    "start_time": "2022-06-18T11:26:11.402Z"
   },
   {
    "duration": 32,
    "start_time": "2022-06-18T11:26:11.427Z"
   },
   {
    "duration": 22,
    "start_time": "2022-06-18T11:26:11.460Z"
   },
   {
    "duration": 9,
    "start_time": "2022-06-18T11:26:11.484Z"
   },
   {
    "duration": 10,
    "start_time": "2022-06-18T11:26:11.494Z"
   },
   {
    "duration": 62,
    "start_time": "2022-06-18T11:26:11.506Z"
   },
   {
    "duration": 99,
    "start_time": "2022-06-18T11:28:13.650Z"
   },
   {
    "duration": 7,
    "start_time": "2022-06-18T11:28:23.951Z"
   },
   {
    "duration": 26,
    "start_time": "2022-06-18T11:28:48.802Z"
   },
   {
    "duration": 10,
    "start_time": "2022-06-18T11:30:06.789Z"
   },
   {
    "duration": 31,
    "start_time": "2022-06-18T11:30:20.154Z"
   },
   {
    "duration": 1097,
    "start_time": "2022-06-18T11:30:30.057Z"
   },
   {
    "duration": 111,
    "start_time": "2022-06-18T11:30:31.156Z"
   },
   {
    "duration": 61,
    "start_time": "2022-06-18T11:30:31.268Z"
   },
   {
    "duration": 23,
    "start_time": "2022-06-18T11:30:31.330Z"
   },
   {
    "duration": 18,
    "start_time": "2022-06-18T11:30:31.355Z"
   },
   {
    "duration": 21,
    "start_time": "2022-06-18T11:30:31.375Z"
   },
   {
    "duration": 14,
    "start_time": "2022-06-18T11:30:31.398Z"
   },
   {
    "duration": 15,
    "start_time": "2022-06-18T11:30:31.414Z"
   },
   {
    "duration": 44,
    "start_time": "2022-06-18T11:30:31.431Z"
   },
   {
    "duration": 9,
    "start_time": "2022-06-18T11:30:31.477Z"
   },
   {
    "duration": 25,
    "start_time": "2022-06-18T11:30:31.488Z"
   },
   {
    "duration": 22,
    "start_time": "2022-06-18T11:30:31.515Z"
   },
   {
    "duration": 4,
    "start_time": "2022-06-18T11:30:31.558Z"
   },
   {
    "duration": 24,
    "start_time": "2022-06-18T11:30:31.564Z"
   },
   {
    "duration": 7,
    "start_time": "2022-06-18T11:30:31.590Z"
   },
   {
    "duration": 9,
    "start_time": "2022-06-18T11:30:31.598Z"
   },
   {
    "duration": 60,
    "start_time": "2022-06-18T11:30:31.608Z"
   },
   {
    "duration": 9,
    "start_time": "2022-06-18T11:30:31.670Z"
   },
   {
    "duration": 1029,
    "start_time": "2022-06-18T11:31:10.007Z"
   },
   {
    "duration": 112,
    "start_time": "2022-06-18T11:31:11.037Z"
   },
   {
    "duration": 58,
    "start_time": "2022-06-18T11:31:11.151Z"
   },
   {
    "duration": 18,
    "start_time": "2022-06-18T11:31:11.211Z"
   },
   {
    "duration": 25,
    "start_time": "2022-06-18T11:31:11.231Z"
   },
   {
    "duration": 35,
    "start_time": "2022-06-18T11:31:11.258Z"
   },
   {
    "duration": 25,
    "start_time": "2022-06-18T11:31:11.295Z"
   },
   {
    "duration": 27,
    "start_time": "2022-06-18T11:31:11.322Z"
   },
   {
    "duration": 35,
    "start_time": "2022-06-18T11:31:11.351Z"
   },
   {
    "duration": 9,
    "start_time": "2022-06-18T11:31:11.389Z"
   },
   {
    "duration": 23,
    "start_time": "2022-06-18T11:31:11.399Z"
   },
   {
    "duration": 29,
    "start_time": "2022-06-18T11:31:11.423Z"
   },
   {
    "duration": 6,
    "start_time": "2022-06-18T11:31:11.454Z"
   },
   {
    "duration": 40,
    "start_time": "2022-06-18T11:31:11.461Z"
   },
   {
    "duration": 21,
    "start_time": "2022-06-18T11:31:11.503Z"
   },
   {
    "duration": 26,
    "start_time": "2022-06-18T11:31:11.526Z"
   },
   {
    "duration": 49,
    "start_time": "2022-06-18T11:31:11.554Z"
   },
   {
    "duration": 26,
    "start_time": "2022-06-18T11:31:50.562Z"
   },
   {
    "duration": 29,
    "start_time": "2022-06-18T11:32:30.036Z"
   },
   {
    "duration": 96,
    "start_time": "2022-06-18T11:33:55.254Z"
   },
   {
    "duration": 8,
    "start_time": "2022-06-18T11:34:00.316Z"
   },
   {
    "duration": 7,
    "start_time": "2022-06-18T11:34:29.855Z"
   },
   {
    "duration": 27,
    "start_time": "2022-06-18T11:34:49.457Z"
   },
   {
    "duration": 7,
    "start_time": "2022-06-18T11:35:23.267Z"
   },
   {
    "duration": 24,
    "start_time": "2022-06-18T11:35:34.712Z"
   },
   {
    "duration": 25,
    "start_time": "2022-06-18T11:36:18.555Z"
   },
   {
    "duration": 14,
    "start_time": "2022-06-18T11:43:58.416Z"
   },
   {
    "duration": 1017,
    "start_time": "2022-06-18T11:44:16.219Z"
   },
   {
    "duration": 127,
    "start_time": "2022-06-18T11:44:17.238Z"
   },
   {
    "duration": 51,
    "start_time": "2022-06-18T11:44:17.367Z"
   },
   {
    "duration": 24,
    "start_time": "2022-06-18T11:44:17.421Z"
   },
   {
    "duration": 23,
    "start_time": "2022-06-18T11:44:17.447Z"
   },
   {
    "duration": 30,
    "start_time": "2022-06-18T11:44:17.472Z"
   },
   {
    "duration": 30,
    "start_time": "2022-06-18T11:44:17.509Z"
   },
   {
    "duration": 24,
    "start_time": "2022-06-18T11:44:17.541Z"
   },
   {
    "duration": 32,
    "start_time": "2022-06-18T11:44:17.567Z"
   },
   {
    "duration": 12,
    "start_time": "2022-06-18T11:44:17.602Z"
   },
   {
    "duration": 21,
    "start_time": "2022-06-18T11:44:17.616Z"
   },
   {
    "duration": 24,
    "start_time": "2022-06-18T11:44:17.660Z"
   },
   {
    "duration": 4,
    "start_time": "2022-06-18T11:44:17.686Z"
   },
   {
    "duration": 22,
    "start_time": "2022-06-18T11:44:17.691Z"
   },
   {
    "duration": 7,
    "start_time": "2022-06-18T11:44:17.715Z"
   },
   {
    "duration": 10,
    "start_time": "2022-06-18T11:44:17.723Z"
   },
   {
    "duration": 24,
    "start_time": "2022-06-18T11:44:17.759Z"
   },
   {
    "duration": 115,
    "start_time": "2022-06-18T11:44:17.785Z"
   },
   {
    "duration": 21,
    "start_time": "2022-06-18T11:44:48.565Z"
   },
   {
    "duration": 19,
    "start_time": "2022-06-18T11:44:50.936Z"
   },
   {
    "duration": 19,
    "start_time": "2022-06-18T11:45:46.138Z"
   },
   {
    "duration": 7,
    "start_time": "2022-06-18T11:46:38.883Z"
   },
   {
    "duration": 7,
    "start_time": "2022-06-18T11:46:53.471Z"
   },
   {
    "duration": 15,
    "start_time": "2022-06-18T11:53:25.939Z"
   },
   {
    "duration": 27,
    "start_time": "2022-06-18T11:54:27.735Z"
   },
   {
    "duration": 6,
    "start_time": "2022-06-18T12:01:00.802Z"
   },
   {
    "duration": 10,
    "start_time": "2022-06-18T12:05:08.918Z"
   },
   {
    "duration": 7,
    "start_time": "2022-06-18T12:08:55.429Z"
   },
   {
    "duration": 31,
    "start_time": "2022-06-18T12:11:07.423Z"
   },
   {
    "duration": 6,
    "start_time": "2022-06-18T12:11:14.337Z"
   },
   {
    "duration": 5,
    "start_time": "2022-06-18T12:11:32.237Z"
   },
   {
    "duration": 12,
    "start_time": "2022-06-18T12:12:16.194Z"
   },
   {
    "duration": 20,
    "start_time": "2022-06-18T12:12:43.246Z"
   },
   {
    "duration": 15,
    "start_time": "2022-06-18T12:13:18.601Z"
   },
   {
    "duration": 15,
    "start_time": "2022-06-18T12:20:31.863Z"
   },
   {
    "duration": 14,
    "start_time": "2022-06-18T12:20:49.490Z"
   },
   {
    "duration": 17,
    "start_time": "2022-06-18T12:21:07.357Z"
   },
   {
    "duration": 16,
    "start_time": "2022-06-18T12:21:22.324Z"
   },
   {
    "duration": 14,
    "start_time": "2022-06-18T12:21:32.309Z"
   },
   {
    "duration": 9,
    "start_time": "2022-06-18T12:42:30.845Z"
   },
   {
    "duration": 1049,
    "start_time": "2022-06-18T12:42:48.691Z"
   },
   {
    "duration": 112,
    "start_time": "2022-06-18T12:42:49.742Z"
   },
   {
    "duration": 48,
    "start_time": "2022-06-18T12:42:49.855Z"
   },
   {
    "duration": 19,
    "start_time": "2022-06-18T12:42:49.905Z"
   },
   {
    "duration": 17,
    "start_time": "2022-06-18T12:42:49.925Z"
   },
   {
    "duration": 22,
    "start_time": "2022-06-18T12:42:49.944Z"
   },
   {
    "duration": 16,
    "start_time": "2022-06-18T12:42:49.967Z"
   },
   {
    "duration": 16,
    "start_time": "2022-06-18T12:42:49.984Z"
   },
   {
    "duration": 22,
    "start_time": "2022-06-18T12:42:50.001Z"
   },
   {
    "duration": 39,
    "start_time": "2022-06-18T12:42:50.026Z"
   },
   {
    "duration": 20,
    "start_time": "2022-06-18T12:42:50.067Z"
   },
   {
    "duration": 29,
    "start_time": "2022-06-18T12:42:50.089Z"
   },
   {
    "duration": 5,
    "start_time": "2022-06-18T12:42:50.119Z"
   },
   {
    "duration": 51,
    "start_time": "2022-06-18T12:42:50.126Z"
   },
   {
    "duration": 8,
    "start_time": "2022-06-18T12:42:50.179Z"
   },
   {
    "duration": 9,
    "start_time": "2022-06-18T12:42:50.189Z"
   },
   {
    "duration": 71,
    "start_time": "2022-06-18T12:42:50.199Z"
   },
   {
    "duration": 21,
    "start_time": "2022-06-18T12:42:50.272Z"
   },
   {
    "duration": 25,
    "start_time": "2022-06-18T12:42:50.294Z"
   },
   {
    "duration": 55,
    "start_time": "2022-06-18T12:42:50.321Z"
   },
   {
    "duration": 7,
    "start_time": "2022-06-18T12:42:50.377Z"
   },
   {
    "duration": 13,
    "start_time": "2022-06-18T12:42:50.386Z"
   },
   {
    "duration": 5,
    "start_time": "2022-06-18T12:42:50.401Z"
   },
   {
    "duration": 6,
    "start_time": "2022-06-18T12:42:50.408Z"
   },
   {
    "duration": 113,
    "start_time": "2022-06-18T12:42:50.415Z"
   },
   {
    "duration": 4,
    "start_time": "2022-06-18T12:43:49.355Z"
   },
   {
    "duration": 17,
    "start_time": "2022-06-18T12:47:13.691Z"
   },
   {
    "duration": 24,
    "start_time": "2022-06-18T12:48:15.274Z"
   },
   {
    "duration": 17,
    "start_time": "2022-06-18T12:48:18.609Z"
   },
   {
    "duration": 43,
    "start_time": "2022-06-18T12:57:38.546Z"
   },
   {
    "duration": 41,
    "start_time": "2022-06-18T12:58:18.122Z"
   },
   {
    "duration": 1024,
    "start_time": "2022-06-18T12:59:14.814Z"
   },
   {
    "duration": 108,
    "start_time": "2022-06-18T12:59:15.840Z"
   },
   {
    "duration": 46,
    "start_time": "2022-06-18T12:59:15.950Z"
   },
   {
    "duration": 18,
    "start_time": "2022-06-18T12:59:15.998Z"
   },
   {
    "duration": 18,
    "start_time": "2022-06-18T12:59:16.017Z"
   },
   {
    "duration": 22,
    "start_time": "2022-06-18T12:59:16.036Z"
   },
   {
    "duration": 16,
    "start_time": "2022-06-18T12:59:16.059Z"
   },
   {
    "duration": 16,
    "start_time": "2022-06-18T12:59:16.077Z"
   },
   {
    "duration": 18,
    "start_time": "2022-06-18T12:59:16.095Z"
   },
   {
    "duration": 10,
    "start_time": "2022-06-18T12:59:16.115Z"
   },
   {
    "duration": 43,
    "start_time": "2022-06-18T12:59:16.126Z"
   },
   {
    "duration": 23,
    "start_time": "2022-06-18T12:59:16.170Z"
   },
   {
    "duration": 14,
    "start_time": "2022-06-18T12:59:16.195Z"
   },
   {
    "duration": 23,
    "start_time": "2022-06-18T12:59:16.211Z"
   },
   {
    "duration": 23,
    "start_time": "2022-06-18T12:59:16.236Z"
   },
   {
    "duration": 9,
    "start_time": "2022-06-18T12:59:16.261Z"
   },
   {
    "duration": 29,
    "start_time": "2022-06-18T12:59:16.271Z"
   },
   {
    "duration": 59,
    "start_time": "2022-06-18T12:59:16.302Z"
   },
   {
    "duration": 16,
    "start_time": "2022-06-18T12:59:16.363Z"
   },
   {
    "duration": 34,
    "start_time": "2022-06-18T12:59:16.380Z"
   },
   {
    "duration": 6,
    "start_time": "2022-06-18T12:59:16.416Z"
   },
   {
    "duration": 35,
    "start_time": "2022-06-18T12:59:16.424Z"
   },
   {
    "duration": 5,
    "start_time": "2022-06-18T12:59:16.461Z"
   },
   {
    "duration": 19,
    "start_time": "2022-06-18T12:59:16.467Z"
   },
   {
    "duration": 8,
    "start_time": "2022-06-18T12:59:16.488Z"
   },
   {
    "duration": 50,
    "start_time": "2022-06-18T12:59:16.498Z"
   },
   {
    "duration": 16,
    "start_time": "2022-06-18T12:59:16.549Z"
   },
   {
    "duration": 4,
    "start_time": "2022-06-18T13:37:37.984Z"
   },
   {
    "duration": 6,
    "start_time": "2022-06-18T13:39:58.522Z"
   },
   {
    "duration": 29,
    "start_time": "2022-06-18T13:40:14.805Z"
   },
   {
    "duration": 30,
    "start_time": "2022-06-18T13:45:29.352Z"
   },
   {
    "duration": 21,
    "start_time": "2022-06-18T13:53:11.578Z"
   },
   {
    "duration": 6,
    "start_time": "2022-06-18T13:55:07.603Z"
   },
   {
    "duration": 9,
    "start_time": "2022-06-18T13:55:19.579Z"
   },
   {
    "duration": 9,
    "start_time": "2022-06-18T13:57:51.822Z"
   },
   {
    "duration": 11,
    "start_time": "2022-06-18T13:58:20.547Z"
   },
   {
    "duration": 10,
    "start_time": "2022-06-18T13:59:19.823Z"
   },
   {
    "duration": 10,
    "start_time": "2022-06-18T13:59:30.180Z"
   },
   {
    "duration": 48,
    "start_time": "2022-06-18T19:35:32.164Z"
   },
   {
    "duration": 1300,
    "start_time": "2022-06-18T19:35:59.391Z"
   },
   {
    "duration": 234,
    "start_time": "2022-06-18T19:36:00.693Z"
   },
   {
    "duration": 87,
    "start_time": "2022-06-18T19:36:00.928Z"
   },
   {
    "duration": 20,
    "start_time": "2022-06-18T19:36:01.017Z"
   },
   {
    "duration": 18,
    "start_time": "2022-06-18T19:36:01.039Z"
   },
   {
    "duration": 24,
    "start_time": "2022-06-18T19:36:01.058Z"
   },
   {
    "duration": 18,
    "start_time": "2022-06-18T19:36:01.084Z"
   },
   {
    "duration": 46,
    "start_time": "2022-06-18T19:36:01.105Z"
   },
   {
    "duration": 27,
    "start_time": "2022-06-18T19:36:01.153Z"
   },
   {
    "duration": 11,
    "start_time": "2022-06-18T19:36:01.183Z"
   },
   {
    "duration": 47,
    "start_time": "2022-06-18T19:36:01.195Z"
   },
   {
    "duration": 26,
    "start_time": "2022-06-18T19:36:01.244Z"
   },
   {
    "duration": 5,
    "start_time": "2022-06-18T19:36:01.272Z"
   },
   {
    "duration": 27,
    "start_time": "2022-06-18T19:36:01.279Z"
   },
   {
    "duration": 10,
    "start_time": "2022-06-18T19:36:01.328Z"
   },
   {
    "duration": 10,
    "start_time": "2022-06-18T19:36:01.340Z"
   },
   {
    "duration": 40,
    "start_time": "2022-06-18T19:36:01.351Z"
   },
   {
    "duration": 24,
    "start_time": "2022-06-18T19:36:01.428Z"
   },
   {
    "duration": 22,
    "start_time": "2022-06-18T19:36:01.454Z"
   },
   {
    "duration": 34,
    "start_time": "2022-06-18T19:36:01.478Z"
   },
   {
    "duration": 8,
    "start_time": "2022-06-18T19:36:01.526Z"
   },
   {
    "duration": 18,
    "start_time": "2022-06-18T19:36:01.536Z"
   },
   {
    "duration": 14,
    "start_time": "2022-06-18T19:36:01.555Z"
   },
   {
    "duration": 18,
    "start_time": "2022-06-18T19:36:01.571Z"
   },
   {
    "duration": 12,
    "start_time": "2022-06-18T19:36:01.591Z"
   },
   {
    "duration": 54,
    "start_time": "2022-06-18T19:36:01.605Z"
   },
   {
    "duration": 28,
    "start_time": "2022-06-18T19:36:01.661Z"
   },
   {
    "duration": 53,
    "start_time": "2022-06-18T19:36:01.692Z"
   },
   {
    "duration": 12,
    "start_time": "2022-06-18T19:36:01.746Z"
   },
   {
    "duration": 126,
    "start_time": "2022-06-18T19:36:01.759Z"
   },
   {
    "duration": 11,
    "start_time": "2022-06-18T19:36:25.742Z"
   },
   {
    "duration": 12,
    "start_time": "2022-06-18T19:40:03.549Z"
   },
   {
    "duration": 10,
    "start_time": "2022-06-18T19:40:10.729Z"
   },
   {
    "duration": 12,
    "start_time": "2022-06-18T19:44:40.010Z"
   },
   {
    "duration": 13,
    "start_time": "2022-06-18T19:47:02.999Z"
   },
   {
    "duration": 15,
    "start_time": "2022-06-18T19:48:20.560Z"
   },
   {
    "duration": 259,
    "start_time": "2022-06-18T20:30:17.833Z"
   },
   {
    "duration": 158,
    "start_time": "2022-06-18T20:38:58.439Z"
   },
   {
    "duration": 45,
    "start_time": "2022-06-19T19:39:50.747Z"
   },
   {
    "duration": 1393,
    "start_time": "2022-06-19T19:40:02.382Z"
   },
   {
    "duration": 464,
    "start_time": "2022-06-19T19:40:03.777Z"
   },
   {
    "duration": 98,
    "start_time": "2022-06-19T19:40:04.243Z"
   },
   {
    "duration": 28,
    "start_time": "2022-06-19T19:40:04.344Z"
   },
   {
    "duration": 20,
    "start_time": "2022-06-19T19:40:04.374Z"
   },
   {
    "duration": 48,
    "start_time": "2022-06-19T19:40:04.396Z"
   },
   {
    "duration": 29,
    "start_time": "2022-06-19T19:40:04.446Z"
   },
   {
    "duration": 24,
    "start_time": "2022-06-19T19:40:04.477Z"
   },
   {
    "duration": 59,
    "start_time": "2022-06-19T19:40:04.503Z"
   },
   {
    "duration": 11,
    "start_time": "2022-06-19T19:40:04.564Z"
   },
   {
    "duration": 22,
    "start_time": "2022-06-19T19:40:04.577Z"
   },
   {
    "duration": 45,
    "start_time": "2022-06-19T19:40:04.601Z"
   },
   {
    "duration": 5,
    "start_time": "2022-06-19T19:40:04.648Z"
   },
   {
    "duration": 25,
    "start_time": "2022-06-19T19:40:04.655Z"
   },
   {
    "duration": 13,
    "start_time": "2022-06-19T19:40:04.682Z"
   },
   {
    "duration": 37,
    "start_time": "2022-06-19T19:40:04.697Z"
   },
   {
    "duration": 31,
    "start_time": "2022-06-19T19:40:04.735Z"
   },
   {
    "duration": 35,
    "start_time": "2022-06-19T19:40:04.768Z"
   },
   {
    "duration": 43,
    "start_time": "2022-06-19T19:40:04.805Z"
   },
   {
    "duration": 64,
    "start_time": "2022-06-19T19:40:04.850Z"
   },
   {
    "duration": 10,
    "start_time": "2022-06-19T19:40:04.917Z"
   },
   {
    "duration": 20,
    "start_time": "2022-06-19T19:40:04.929Z"
   },
   {
    "duration": 58,
    "start_time": "2022-06-19T19:40:04.951Z"
   },
   {
    "duration": 39,
    "start_time": "2022-06-19T19:40:05.011Z"
   },
   {
    "duration": 23,
    "start_time": "2022-06-19T19:40:05.053Z"
   },
   {
    "duration": 73,
    "start_time": "2022-06-19T19:40:05.078Z"
   },
   {
    "duration": 33,
    "start_time": "2022-06-19T19:40:05.153Z"
   },
   {
    "duration": 67,
    "start_time": "2022-06-19T19:40:05.190Z"
   },
   {
    "duration": 10,
    "start_time": "2022-06-19T19:40:05.260Z"
   },
   {
    "duration": 17,
    "start_time": "2022-06-19T19:40:05.272Z"
   },
   {
    "duration": 288,
    "start_time": "2022-06-19T19:40:05.291Z"
   },
   {
    "duration": 183,
    "start_time": "2022-06-19T19:40:05.580Z"
   },
   {
    "duration": 12,
    "start_time": "2022-06-19T19:40:05.765Z"
   },
   {
    "duration": 209,
    "start_time": "2022-06-19T19:52:52.584Z"
   },
   {
    "duration": 28,
    "start_time": "2022-06-19T20:12:02.715Z"
   },
   {
    "duration": 222,
    "start_time": "2022-06-19T20:15:08.359Z"
   },
   {
    "duration": 196,
    "start_time": "2022-06-19T20:15:33.365Z"
   },
   {
    "duration": 5,
    "start_time": "2022-06-19T20:20:48.651Z"
   },
   {
    "duration": 178,
    "start_time": "2022-06-19T20:22:58.593Z"
   },
   {
    "duration": 264,
    "start_time": "2022-06-19T20:24:59.745Z"
   },
   {
    "duration": 163,
    "start_time": "2022-06-19T20:26:06.056Z"
   },
   {
    "duration": 1156,
    "start_time": "2022-06-19T20:26:53.886Z"
   },
   {
    "duration": 117,
    "start_time": "2022-06-19T20:26:55.044Z"
   },
   {
    "duration": 48,
    "start_time": "2022-06-19T20:26:55.163Z"
   },
   {
    "duration": 31,
    "start_time": "2022-06-19T20:26:55.213Z"
   },
   {
    "duration": 20,
    "start_time": "2022-06-19T20:26:55.246Z"
   },
   {
    "duration": 26,
    "start_time": "2022-06-19T20:26:55.267Z"
   },
   {
    "duration": 40,
    "start_time": "2022-06-19T20:26:55.295Z"
   },
   {
    "duration": 18,
    "start_time": "2022-06-19T20:26:55.336Z"
   },
   {
    "duration": 25,
    "start_time": "2022-06-19T20:26:55.357Z"
   },
   {
    "duration": 46,
    "start_time": "2022-06-19T20:26:55.384Z"
   },
   {
    "duration": 29,
    "start_time": "2022-06-19T20:26:55.432Z"
   },
   {
    "duration": 23,
    "start_time": "2022-06-19T20:26:55.464Z"
   },
   {
    "duration": 5,
    "start_time": "2022-06-19T20:26:55.489Z"
   },
   {
    "duration": 20,
    "start_time": "2022-06-19T20:26:55.524Z"
   },
   {
    "duration": 10,
    "start_time": "2022-06-19T20:26:55.545Z"
   },
   {
    "duration": 10,
    "start_time": "2022-06-19T20:26:55.557Z"
   },
   {
    "duration": 69,
    "start_time": "2022-06-19T20:26:55.569Z"
   },
   {
    "duration": 35,
    "start_time": "2022-06-19T20:26:55.641Z"
   },
   {
    "duration": 51,
    "start_time": "2022-06-19T20:26:55.679Z"
   },
   {
    "duration": 32,
    "start_time": "2022-06-19T20:26:55.733Z"
   },
   {
    "duration": 7,
    "start_time": "2022-06-19T20:26:55.767Z"
   },
   {
    "duration": 16,
    "start_time": "2022-06-19T20:26:55.776Z"
   },
   {
    "duration": 32,
    "start_time": "2022-06-19T20:26:55.794Z"
   },
   {
    "duration": 10,
    "start_time": "2022-06-19T20:26:55.829Z"
   },
   {
    "duration": 6,
    "start_time": "2022-06-19T20:26:55.841Z"
   },
   {
    "duration": 88,
    "start_time": "2022-06-19T20:26:55.849Z"
   },
   {
    "duration": 33,
    "start_time": "2022-06-19T20:26:55.940Z"
   },
   {
    "duration": 56,
    "start_time": "2022-06-19T20:26:55.976Z"
   },
   {
    "duration": 11,
    "start_time": "2022-06-19T20:26:56.033Z"
   },
   {
    "duration": 20,
    "start_time": "2022-06-19T20:26:56.046Z"
   },
   {
    "duration": 269,
    "start_time": "2022-06-19T20:26:56.067Z"
   },
   {
    "duration": 180,
    "start_time": "2022-06-19T20:26:56.337Z"
   },
   {
    "duration": 18,
    "start_time": "2022-06-19T20:26:56.522Z"
   },
   {
    "duration": 182,
    "start_time": "2022-06-19T20:26:56.543Z"
   },
   {
    "duration": 204,
    "start_time": "2022-06-19T20:26:56.727Z"
   },
   {
    "duration": 191,
    "start_time": "2022-06-19T20:26:56.932Z"
   },
   {
    "duration": 191,
    "start_time": "2022-06-19T20:26:57.125Z"
   },
   {
    "duration": 256,
    "start_time": "2022-06-19T20:26:57.322Z"
   },
   {
    "duration": 188,
    "start_time": "2022-06-19T20:26:57.580Z"
   },
   {
    "duration": 185,
    "start_time": "2022-06-19T20:26:57.770Z"
   },
   {
    "duration": 193,
    "start_time": "2022-06-19T20:26:57.958Z"
   },
   {
    "duration": 180,
    "start_time": "2022-06-19T20:42:54.516Z"
   },
   {
    "duration": 1433,
    "start_time": "2022-06-19T20:43:05.119Z"
   },
   {
    "duration": 128,
    "start_time": "2022-06-19T20:43:06.555Z"
   },
   {
    "duration": 48,
    "start_time": "2022-06-19T20:43:06.685Z"
   },
   {
    "duration": 33,
    "start_time": "2022-06-19T20:43:06.736Z"
   },
   {
    "duration": 22,
    "start_time": "2022-06-19T20:43:06.771Z"
   },
   {
    "duration": 47,
    "start_time": "2022-06-19T20:43:06.795Z"
   },
   {
    "duration": 27,
    "start_time": "2022-06-19T20:43:06.844Z"
   },
   {
    "duration": 56,
    "start_time": "2022-06-19T20:43:06.874Z"
   },
   {
    "duration": 35,
    "start_time": "2022-06-19T20:43:06.932Z"
   },
   {
    "duration": 15,
    "start_time": "2022-06-19T20:43:06.970Z"
   },
   {
    "duration": 62,
    "start_time": "2022-06-19T20:43:06.987Z"
   },
   {
    "duration": 32,
    "start_time": "2022-06-19T20:43:07.051Z"
   },
   {
    "duration": 6,
    "start_time": "2022-06-19T20:43:07.084Z"
   },
   {
    "duration": 60,
    "start_time": "2022-06-19T20:43:07.092Z"
   },
   {
    "duration": 11,
    "start_time": "2022-06-19T20:43:07.155Z"
   },
   {
    "duration": 14,
    "start_time": "2022-06-19T20:43:07.168Z"
   },
   {
    "duration": 66,
    "start_time": "2022-06-19T20:43:07.185Z"
   },
   {
    "duration": 78,
    "start_time": "2022-06-19T20:43:07.252Z"
   },
   {
    "duration": 22,
    "start_time": "2022-06-19T20:43:07.333Z"
   },
   {
    "duration": 40,
    "start_time": "2022-06-19T20:43:07.357Z"
   },
   {
    "duration": 9,
    "start_time": "2022-06-19T20:43:07.422Z"
   },
   {
    "duration": 19,
    "start_time": "2022-06-19T20:43:07.433Z"
   },
   {
    "duration": 7,
    "start_time": "2022-06-19T20:43:07.454Z"
   },
   {
    "duration": 11,
    "start_time": "2022-06-19T20:43:07.463Z"
   },
   {
    "duration": 5,
    "start_time": "2022-06-19T20:43:07.476Z"
   },
   {
    "duration": 111,
    "start_time": "2022-06-19T20:43:07.483Z"
   },
   {
    "duration": 58,
    "start_time": "2022-06-19T20:43:07.597Z"
   },
   {
    "duration": 64,
    "start_time": "2022-06-19T20:43:07.661Z"
   },
   {
    "duration": 13,
    "start_time": "2022-06-19T20:43:07.727Z"
   },
   {
    "duration": 26,
    "start_time": "2022-06-19T20:43:07.742Z"
   },
   {
    "duration": 336,
    "start_time": "2022-06-19T20:43:07.770Z"
   },
   {
    "duration": 225,
    "start_time": "2022-06-19T20:43:08.108Z"
   },
   {
    "duration": 16,
    "start_time": "2022-06-19T20:43:08.335Z"
   },
   {
    "duration": 235,
    "start_time": "2022-06-19T20:43:08.353Z"
   },
   {
    "duration": 243,
    "start_time": "2022-06-19T20:43:08.590Z"
   },
   {
    "duration": 218,
    "start_time": "2022-06-19T20:43:08.836Z"
   },
   {
    "duration": 197,
    "start_time": "2022-06-19T20:43:09.056Z"
   },
   {
    "duration": 290,
    "start_time": "2022-06-19T20:43:09.254Z"
   },
   {
    "duration": 232,
    "start_time": "2022-06-19T20:43:09.545Z"
   },
   {
    "duration": 217,
    "start_time": "2022-06-19T20:43:09.780Z"
   },
   {
    "duration": 206,
    "start_time": "2022-06-19T20:43:09.999Z"
   },
   {
    "duration": 46,
    "start_time": "2022-06-20T19:01:26.822Z"
   },
   {
    "duration": 1356,
    "start_time": "2022-06-20T19:01:37.536Z"
   },
   {
    "duration": 232,
    "start_time": "2022-06-20T19:01:38.894Z"
   },
   {
    "duration": 85,
    "start_time": "2022-06-20T19:01:39.128Z"
   },
   {
    "duration": 23,
    "start_time": "2022-06-20T19:01:39.216Z"
   },
   {
    "duration": 21,
    "start_time": "2022-06-20T19:01:39.241Z"
   },
   {
    "duration": 23,
    "start_time": "2022-06-20T19:01:39.264Z"
   },
   {
    "duration": 16,
    "start_time": "2022-06-20T19:01:39.289Z"
   },
   {
    "duration": 15,
    "start_time": "2022-06-20T19:01:39.307Z"
   },
   {
    "duration": 45,
    "start_time": "2022-06-20T19:01:39.324Z"
   },
   {
    "duration": 10,
    "start_time": "2022-06-20T19:01:39.371Z"
   },
   {
    "duration": 19,
    "start_time": "2022-06-20T19:01:39.383Z"
   },
   {
    "duration": 23,
    "start_time": "2022-06-20T19:01:39.404Z"
   },
   {
    "duration": 34,
    "start_time": "2022-06-20T19:01:39.428Z"
   },
   {
    "duration": 24,
    "start_time": "2022-06-20T19:01:39.463Z"
   },
   {
    "duration": 9,
    "start_time": "2022-06-20T19:01:39.489Z"
   },
   {
    "duration": 20,
    "start_time": "2022-06-20T19:01:39.500Z"
   },
   {
    "duration": 52,
    "start_time": "2022-06-20T19:01:39.521Z"
   },
   {
    "duration": 22,
    "start_time": "2022-06-20T19:01:39.574Z"
   },
   {
    "duration": 24,
    "start_time": "2022-06-20T19:01:39.597Z"
   },
   {
    "duration": 60,
    "start_time": "2022-06-20T19:01:39.623Z"
   },
   {
    "duration": 6,
    "start_time": "2022-06-20T19:01:39.685Z"
   },
   {
    "duration": 15,
    "start_time": "2022-06-20T19:01:39.692Z"
   },
   {
    "duration": 12,
    "start_time": "2022-06-20T19:01:39.709Z"
   },
   {
    "duration": 13,
    "start_time": "2022-06-20T19:01:39.723Z"
   },
   {
    "duration": 31,
    "start_time": "2022-06-20T19:01:39.738Z"
   },
   {
    "duration": 55,
    "start_time": "2022-06-20T19:01:39.771Z"
   },
   {
    "duration": 41,
    "start_time": "2022-06-20T19:01:39.828Z"
   },
   {
    "duration": 32,
    "start_time": "2022-06-20T19:01:39.872Z"
   },
   {
    "duration": 10,
    "start_time": "2022-06-20T19:01:39.906Z"
   },
   {
    "duration": 13,
    "start_time": "2022-06-20T19:01:39.918Z"
   },
   {
    "duration": 290,
    "start_time": "2022-06-20T19:01:39.960Z"
   },
   {
    "duration": 165,
    "start_time": "2022-06-20T19:01:40.252Z"
   },
   {
    "duration": 12,
    "start_time": "2022-06-20T19:01:40.419Z"
   },
   {
    "duration": 159,
    "start_time": "2022-06-20T19:01:40.433Z"
   },
   {
    "duration": 189,
    "start_time": "2022-06-20T19:01:40.594Z"
   },
   {
    "duration": 181,
    "start_time": "2022-06-20T19:01:40.785Z"
   },
   {
    "duration": 190,
    "start_time": "2022-06-20T19:01:40.969Z"
   },
   {
    "duration": 232,
    "start_time": "2022-06-20T19:01:41.160Z"
   },
   {
    "duration": 168,
    "start_time": "2022-06-20T19:01:41.394Z"
   },
   {
    "duration": 173,
    "start_time": "2022-06-20T19:01:41.564Z"
   },
   {
    "duration": 161,
    "start_time": "2022-06-20T19:01:41.739Z"
   },
   {
    "duration": 92,
    "start_time": "2022-06-20T19:01:41.902Z"
   },
   {
    "duration": 11,
    "start_time": "2022-06-20T19:05:00.927Z"
   },
   {
    "duration": 99,
    "start_time": "2022-06-20T19:06:56.607Z"
   },
   {
    "duration": 9,
    "start_time": "2022-06-20T19:07:08.415Z"
   },
   {
    "duration": 8,
    "start_time": "2022-06-20T19:07:40.845Z"
   },
   {
    "duration": 11,
    "start_time": "2022-06-20T19:10:15.590Z"
   },
   {
    "duration": 155,
    "start_time": "2022-06-20T19:10:47.053Z"
   },
   {
    "duration": 142,
    "start_time": "2022-06-20T19:11:20.689Z"
   },
   {
    "duration": 137,
    "start_time": "2022-06-20T19:12:15.245Z"
   },
   {
    "duration": 25,
    "start_time": "2022-06-20T19:12:46.168Z"
   },
   {
    "duration": 136,
    "start_time": "2022-06-20T19:13:16.683Z"
   },
   {
    "duration": 7,
    "start_time": "2022-06-20T19:14:35.289Z"
   },
   {
    "duration": 26,
    "start_time": "2022-06-20T19:15:01.123Z"
   },
   {
    "duration": 23,
    "start_time": "2022-06-20T19:15:11.139Z"
   },
   {
    "duration": 13,
    "start_time": "2022-06-20T19:15:19.578Z"
   },
   {
    "duration": 22,
    "start_time": "2022-06-20T19:15:29.059Z"
   },
   {
    "duration": 152,
    "start_time": "2022-06-20T19:15:45.731Z"
   },
   {
    "duration": 13,
    "start_time": "2022-06-20T19:16:13.314Z"
   },
   {
    "duration": 147,
    "start_time": "2022-06-20T19:16:42.506Z"
   },
   {
    "duration": 131,
    "start_time": "2022-06-20T19:17:03.084Z"
   },
   {
    "duration": 9,
    "start_time": "2022-06-20T19:17:16.047Z"
   },
   {
    "duration": 10,
    "start_time": "2022-06-20T19:17:30.371Z"
   },
   {
    "duration": 10,
    "start_time": "2022-06-20T19:17:49.140Z"
   },
   {
    "duration": 16,
    "start_time": "2022-06-20T19:18:12.333Z"
   },
   {
    "duration": 17,
    "start_time": "2022-06-20T19:19:50.119Z"
   },
   {
    "duration": 13,
    "start_time": "2022-06-20T19:19:56.577Z"
   },
   {
    "duration": 1024,
    "start_time": "2022-06-20T19:22:08.317Z"
   },
   {
    "duration": 107,
    "start_time": "2022-06-20T19:22:09.343Z"
   },
   {
    "duration": 45,
    "start_time": "2022-06-20T19:22:09.451Z"
   },
   {
    "duration": 18,
    "start_time": "2022-06-20T19:22:09.498Z"
   },
   {
    "duration": 17,
    "start_time": "2022-06-20T19:22:09.518Z"
   },
   {
    "duration": 23,
    "start_time": "2022-06-20T19:22:09.537Z"
   },
   {
    "duration": 23,
    "start_time": "2022-06-20T19:22:09.562Z"
   },
   {
    "duration": 19,
    "start_time": "2022-06-20T19:22:09.587Z"
   },
   {
    "duration": 19,
    "start_time": "2022-06-20T19:22:09.607Z"
   },
   {
    "duration": 33,
    "start_time": "2022-06-20T19:22:09.628Z"
   },
   {
    "duration": 18,
    "start_time": "2022-06-20T19:22:09.663Z"
   },
   {
    "duration": 20,
    "start_time": "2022-06-20T19:22:09.683Z"
   },
   {
    "duration": 4,
    "start_time": "2022-06-20T19:22:09.705Z"
   },
   {
    "duration": 21,
    "start_time": "2022-06-20T19:22:09.710Z"
   },
   {
    "duration": 31,
    "start_time": "2022-06-20T19:22:09.733Z"
   },
   {
    "duration": 11,
    "start_time": "2022-06-20T19:22:09.766Z"
   },
   {
    "duration": 24,
    "start_time": "2022-06-20T19:22:09.778Z"
   },
   {
    "duration": 20,
    "start_time": "2022-06-20T19:22:09.804Z"
   },
   {
    "duration": 14,
    "start_time": "2022-06-20T19:22:09.859Z"
   },
   {
    "duration": 25,
    "start_time": "2022-06-20T19:22:09.874Z"
   },
   {
    "duration": 6,
    "start_time": "2022-06-20T19:22:09.900Z"
   },
   {
    "duration": 16,
    "start_time": "2022-06-20T19:22:09.907Z"
   },
   {
    "duration": 6,
    "start_time": "2022-06-20T19:22:09.925Z"
   },
   {
    "duration": 5,
    "start_time": "2022-06-20T19:22:09.959Z"
   },
   {
    "duration": 7,
    "start_time": "2022-06-20T19:22:09.966Z"
   },
   {
    "duration": 43,
    "start_time": "2022-06-20T19:22:09.974Z"
   },
   {
    "duration": 49,
    "start_time": "2022-06-20T19:22:10.019Z"
   },
   {
    "duration": 28,
    "start_time": "2022-06-20T19:22:10.071Z"
   },
   {
    "duration": 8,
    "start_time": "2022-06-20T19:22:10.101Z"
   },
   {
    "duration": 13,
    "start_time": "2022-06-20T19:22:10.110Z"
   },
   {
    "duration": 261,
    "start_time": "2022-06-20T19:22:10.124Z"
   },
   {
    "duration": 157,
    "start_time": "2022-06-20T19:22:10.387Z"
   },
   {
    "duration": 15,
    "start_time": "2022-06-20T19:22:10.545Z"
   },
   {
    "duration": 149,
    "start_time": "2022-06-20T19:22:10.561Z"
   },
   {
    "duration": 182,
    "start_time": "2022-06-20T19:22:10.712Z"
   },
   {
    "duration": 168,
    "start_time": "2022-06-20T19:22:10.896Z"
   },
   {
    "duration": 164,
    "start_time": "2022-06-20T19:22:11.066Z"
   },
   {
    "duration": 232,
    "start_time": "2022-06-20T19:22:11.231Z"
   },
   {
    "duration": 167,
    "start_time": "2022-06-20T19:22:11.464Z"
   },
   {
    "duration": 171,
    "start_time": "2022-06-20T19:22:11.633Z"
   },
   {
    "duration": 168,
    "start_time": "2022-06-20T19:22:11.806Z"
   },
   {
    "duration": 47,
    "start_time": "2022-06-20T19:22:11.976Z"
   },
   {
    "duration": 11,
    "start_time": "2022-06-20T19:22:12.061Z"
   },
   {
    "duration": 26,
    "start_time": "2022-06-20T19:22:12.074Z"
   },
   {
    "duration": 12,
    "start_time": "2022-06-20T19:22:12.102Z"
   },
   {
    "duration": 131,
    "start_time": "2022-06-20T19:22:12.116Z"
   },
   {
    "duration": 163,
    "start_time": "2022-06-20T19:22:12.248Z"
   },
   {
    "duration": 155,
    "start_time": "2022-06-20T19:22:12.413Z"
   },
   {
    "duration": 25,
    "start_time": "2022-06-20T19:22:12.569Z"
   },
   {
    "duration": 190,
    "start_time": "2022-06-20T19:22:12.596Z"
   },
   {
    "duration": 8,
    "start_time": "2022-06-20T19:22:12.788Z"
   },
   {
    "duration": 46,
    "start_time": "2022-06-20T19:22:12.798Z"
   },
   {
    "duration": 161,
    "start_time": "2022-06-20T19:22:12.846Z"
   },
   {
    "duration": 16,
    "start_time": "2022-06-20T19:22:13.009Z"
   },
   {
    "duration": 172,
    "start_time": "2022-06-20T19:22:13.026Z"
   },
   {
    "duration": 153,
    "start_time": "2022-06-20T19:22:13.200Z"
   },
   {
    "duration": 8,
    "start_time": "2022-06-20T19:22:13.358Z"
   },
   {
    "duration": 11,
    "start_time": "2022-06-20T19:22:13.368Z"
   },
   {
    "duration": 13,
    "start_time": "2022-06-20T19:22:13.381Z"
   },
   {
    "duration": 22,
    "start_time": "2022-06-20T19:22:13.396Z"
   },
   {
    "duration": 39,
    "start_time": "2022-06-20T19:22:13.420Z"
   },
   {
    "duration": 51,
    "start_time": "2022-06-20T19:25:42.191Z"
   },
   {
    "duration": 13,
    "start_time": "2022-06-20T19:43:11.028Z"
   },
   {
    "duration": 143,
    "start_time": "2022-06-20T19:44:05.215Z"
   },
   {
    "duration": 213,
    "start_time": "2022-06-20T20:04:43.286Z"
   },
   {
    "duration": 1166,
    "start_time": "2022-06-22T15:48:32.546Z"
   },
   {
    "duration": 101,
    "start_time": "2022-06-22T15:48:33.714Z"
   },
   {
    "duration": 47,
    "start_time": "2022-06-22T15:48:33.816Z"
   },
   {
    "duration": 18,
    "start_time": "2022-06-22T15:48:33.865Z"
   },
   {
    "duration": 17,
    "start_time": "2022-06-22T15:48:33.885Z"
   },
   {
    "duration": 21,
    "start_time": "2022-06-22T15:48:33.904Z"
   },
   {
    "duration": 16,
    "start_time": "2022-06-22T15:48:33.926Z"
   },
   {
    "duration": 15,
    "start_time": "2022-06-22T15:48:33.943Z"
   },
   {
    "duration": 19,
    "start_time": "2022-06-22T15:48:33.959Z"
   },
   {
    "duration": 9,
    "start_time": "2022-06-22T15:48:33.980Z"
   },
   {
    "duration": 45,
    "start_time": "2022-06-22T15:48:33.990Z"
   },
   {
    "duration": 22,
    "start_time": "2022-06-22T15:48:34.036Z"
   },
   {
    "duration": 5,
    "start_time": "2022-06-22T15:48:34.059Z"
   },
   {
    "duration": 21,
    "start_time": "2022-06-22T15:48:34.065Z"
   },
   {
    "duration": 8,
    "start_time": "2022-06-22T15:48:34.087Z"
   },
   {
    "duration": 40,
    "start_time": "2022-06-22T15:48:34.096Z"
   },
   {
    "duration": 37,
    "start_time": "2022-06-22T15:48:34.137Z"
   },
   {
    "duration": 19,
    "start_time": "2022-06-22T15:48:34.176Z"
   },
   {
    "duration": 43,
    "start_time": "2022-06-22T15:48:34.196Z"
   },
   {
    "duration": 25,
    "start_time": "2022-06-22T15:48:34.241Z"
   },
   {
    "duration": 6,
    "start_time": "2022-06-22T15:48:34.267Z"
   },
   {
    "duration": 11,
    "start_time": "2022-06-22T15:48:34.274Z"
   },
   {
    "duration": 5,
    "start_time": "2022-06-22T15:48:34.286Z"
   },
   {
    "duration": 7,
    "start_time": "2022-06-22T15:48:34.292Z"
   },
   {
    "duration": 4,
    "start_time": "2022-06-22T15:48:34.329Z"
   },
   {
    "duration": 44,
    "start_time": "2022-06-22T15:48:34.334Z"
   },
   {
    "duration": 25,
    "start_time": "2022-06-22T15:48:34.379Z"
   },
   {
    "duration": 48,
    "start_time": "2022-06-22T15:48:34.407Z"
   },
   {
    "duration": 10,
    "start_time": "2022-06-22T15:48:34.456Z"
   },
   {
    "duration": 14,
    "start_time": "2022-06-22T15:48:34.467Z"
   },
   {
    "duration": 229,
    "start_time": "2022-06-22T15:48:34.482Z"
   },
   {
    "duration": 157,
    "start_time": "2022-06-22T15:48:34.713Z"
   },
   {
    "duration": 12,
    "start_time": "2022-06-22T15:48:34.872Z"
   },
   {
    "duration": 161,
    "start_time": "2022-06-22T15:48:34.886Z"
   },
   {
    "duration": 197,
    "start_time": "2022-06-22T15:48:35.049Z"
   },
   {
    "duration": 171,
    "start_time": "2022-06-22T15:48:35.248Z"
   },
   {
    "duration": 161,
    "start_time": "2022-06-22T15:48:35.421Z"
   },
   {
    "duration": 231,
    "start_time": "2022-06-22T15:48:35.584Z"
   },
   {
    "duration": 170,
    "start_time": "2022-06-22T15:48:35.816Z"
   },
   {
    "duration": 213,
    "start_time": "2022-06-22T15:48:35.988Z"
   },
   {
    "duration": 165,
    "start_time": "2022-06-22T15:48:36.202Z"
   },
   {
    "duration": 49,
    "start_time": "2022-06-22T15:48:36.368Z"
   },
   {
    "duration": 16,
    "start_time": "2022-06-22T15:48:36.431Z"
   },
   {
    "duration": 10,
    "start_time": "2022-06-22T15:48:36.449Z"
   },
   {
    "duration": 14,
    "start_time": "2022-06-22T15:48:36.461Z"
   },
   {
    "duration": 153,
    "start_time": "2022-06-22T15:48:36.476Z"
   },
   {
    "duration": 148,
    "start_time": "2022-06-22T15:48:36.631Z"
   },
   {
    "duration": 158,
    "start_time": "2022-06-22T15:48:36.780Z"
   },
   {
    "duration": 158,
    "start_time": "2022-06-22T15:48:36.939Z"
   },
   {
    "duration": 35,
    "start_time": "2022-06-22T15:48:37.098Z"
   },
   {
    "duration": 154,
    "start_time": "2022-06-22T15:48:37.135Z"
   },
   {
    "duration": 9,
    "start_time": "2022-06-22T15:48:37.291Z"
   },
   {
    "duration": 32,
    "start_time": "2022-06-22T15:48:37.302Z"
   },
   {
    "duration": 145,
    "start_time": "2022-06-22T15:48:37.336Z"
   },
   {
    "duration": 12,
    "start_time": "2022-06-22T15:48:37.483Z"
   },
   {
    "duration": 179,
    "start_time": "2022-06-22T15:48:37.496Z"
   },
   {
    "duration": 147,
    "start_time": "2022-06-22T15:48:37.677Z"
   },
   {
    "duration": 7,
    "start_time": "2022-06-22T15:48:37.826Z"
   },
   {
    "duration": 7,
    "start_time": "2022-06-22T15:48:37.835Z"
   },
   {
    "duration": 12,
    "start_time": "2022-06-22T15:48:37.843Z"
   },
   {
    "duration": 120,
    "start_time": "2022-06-22T15:48:37.856Z"
   },
   {
    "duration": 14,
    "start_time": "2022-06-22T15:48:37.978Z"
   },
   {
    "duration": 95,
    "start_time": "2022-06-22T16:20:29.185Z"
   },
   {
    "duration": 5,
    "start_time": "2022-06-22T16:20:36.386Z"
   },
   {
    "duration": 10,
    "start_time": "2022-06-22T16:21:27.636Z"
   },
   {
    "duration": 131,
    "start_time": "2022-06-22T16:31:32.358Z"
   },
   {
    "duration": 48,
    "start_time": "2022-06-22T19:30:44.529Z"
   },
   {
    "duration": 1213,
    "start_time": "2022-06-22T19:30:55.613Z"
   },
   {
    "duration": 110,
    "start_time": "2022-06-22T19:30:56.828Z"
   },
   {
    "duration": 46,
    "start_time": "2022-06-22T19:30:56.940Z"
   },
   {
    "duration": 20,
    "start_time": "2022-06-22T19:30:56.989Z"
   },
   {
    "duration": 19,
    "start_time": "2022-06-22T19:30:57.011Z"
   },
   {
    "duration": 23,
    "start_time": "2022-06-22T19:30:57.032Z"
   },
   {
    "duration": 16,
    "start_time": "2022-06-22T19:30:57.057Z"
   },
   {
    "duration": 18,
    "start_time": "2022-06-22T19:30:57.075Z"
   },
   {
    "duration": 38,
    "start_time": "2022-06-22T19:30:57.095Z"
   },
   {
    "duration": 21,
    "start_time": "2022-06-22T19:30:57.136Z"
   },
   {
    "duration": 9,
    "start_time": "2022-06-22T19:30:57.159Z"
   },
   {
    "duration": 19,
    "start_time": "2022-06-22T19:30:57.170Z"
   },
   {
    "duration": 47,
    "start_time": "2022-06-22T19:30:57.191Z"
   },
   {
    "duration": 4,
    "start_time": "2022-06-22T19:30:57.240Z"
   },
   {
    "duration": 21,
    "start_time": "2022-06-22T19:30:57.246Z"
   },
   {
    "duration": 7,
    "start_time": "2022-06-22T19:30:57.269Z"
   },
   {
    "duration": 11,
    "start_time": "2022-06-22T19:30:57.278Z"
   },
   {
    "duration": 54,
    "start_time": "2022-06-22T19:30:57.290Z"
   },
   {
    "duration": 21,
    "start_time": "2022-06-22T19:30:57.345Z"
   },
   {
    "duration": 19,
    "start_time": "2022-06-22T19:30:57.368Z"
   },
   {
    "duration": 57,
    "start_time": "2022-06-22T19:30:57.388Z"
   },
   {
    "duration": 5,
    "start_time": "2022-06-22T19:30:57.447Z"
   },
   {
    "duration": 10,
    "start_time": "2022-06-22T19:30:57.453Z"
   },
   {
    "duration": 5,
    "start_time": "2022-06-22T19:30:57.464Z"
   },
   {
    "duration": 7,
    "start_time": "2022-06-22T19:30:57.470Z"
   },
   {
    "duration": 6,
    "start_time": "2022-06-22T19:30:57.478Z"
   },
   {
    "duration": 71,
    "start_time": "2022-06-22T19:30:57.486Z"
   },
   {
    "duration": 26,
    "start_time": "2022-06-22T19:30:57.561Z"
   },
   {
    "duration": 41,
    "start_time": "2022-06-22T19:30:57.589Z"
   },
   {
    "duration": 8,
    "start_time": "2022-06-22T19:30:57.631Z"
   },
   {
    "duration": 33,
    "start_time": "2022-06-22T19:30:57.641Z"
   },
   {
    "duration": 220,
    "start_time": "2022-06-22T19:30:57.675Z"
   },
   {
    "duration": 164,
    "start_time": "2022-06-22T19:30:57.897Z"
   },
   {
    "duration": 12,
    "start_time": "2022-06-22T19:30:58.063Z"
   },
   {
    "duration": 165,
    "start_time": "2022-06-22T19:30:58.076Z"
   },
   {
    "duration": 197,
    "start_time": "2022-06-22T19:30:58.243Z"
   },
   {
    "duration": 171,
    "start_time": "2022-06-22T19:30:58.442Z"
   },
   {
    "duration": 173,
    "start_time": "2022-06-22T19:30:58.615Z"
   },
   {
    "duration": 262,
    "start_time": "2022-06-22T19:30:58.790Z"
   },
   {
    "duration": 184,
    "start_time": "2022-06-22T19:30:59.054Z"
   },
   {
    "duration": 188,
    "start_time": "2022-06-22T19:30:59.240Z"
   },
   {
    "duration": 165,
    "start_time": "2022-06-22T19:30:59.430Z"
   },
   {
    "duration": 72,
    "start_time": "2022-06-22T19:30:59.596Z"
   },
   {
    "duration": 13,
    "start_time": "2022-06-22T19:30:59.670Z"
   },
   {
    "duration": 8,
    "start_time": "2022-06-22T19:30:59.685Z"
   },
   {
    "duration": 34,
    "start_time": "2022-06-22T19:30:59.695Z"
   },
   {
    "duration": 144,
    "start_time": "2022-06-22T19:30:59.730Z"
   },
   {
    "duration": 173,
    "start_time": "2022-06-22T19:30:59.876Z"
   },
   {
    "duration": 160,
    "start_time": "2022-06-22T19:31:00.050Z"
   },
   {
    "duration": 176,
    "start_time": "2022-06-22T19:31:00.212Z"
   },
   {
    "duration": 34,
    "start_time": "2022-06-22T19:31:00.389Z"
   },
   {
    "duration": 155,
    "start_time": "2022-06-22T19:31:00.425Z"
   },
   {
    "duration": 8,
    "start_time": "2022-06-22T19:31:00.582Z"
   },
   {
    "duration": 44,
    "start_time": "2022-06-22T19:31:00.592Z"
   },
   {
    "duration": 147,
    "start_time": "2022-06-22T19:31:00.638Z"
   },
   {
    "duration": 14,
    "start_time": "2022-06-22T19:31:00.787Z"
   },
   {
    "duration": 161,
    "start_time": "2022-06-22T19:31:00.803Z"
   },
   {
    "duration": 157,
    "start_time": "2022-06-22T19:31:00.966Z"
   },
   {
    "duration": 11,
    "start_time": "2022-06-22T19:31:01.125Z"
   },
   {
    "duration": 29,
    "start_time": "2022-06-22T19:31:01.139Z"
   },
   {
    "duration": 22,
    "start_time": "2022-06-22T19:31:01.170Z"
   },
   {
    "duration": 152,
    "start_time": "2022-06-22T19:31:01.194Z"
   },
   {
    "duration": 25,
    "start_time": "2022-06-22T19:31:01.348Z"
   },
   {
    "duration": 48,
    "start_time": "2022-06-22T19:47:40.118Z"
   },
   {
    "duration": 4,
    "start_time": "2022-06-22T19:51:40.361Z"
   },
   {
    "duration": 172,
    "start_time": "2022-06-22T19:56:53.935Z"
   },
   {
    "duration": 172,
    "start_time": "2022-06-22T19:57:08.014Z"
   },
   {
    "duration": 12,
    "start_time": "2022-06-22T20:32:59.529Z"
   },
   {
    "duration": 13,
    "start_time": "2022-06-22T20:33:40.939Z"
   },
   {
    "duration": 14,
    "start_time": "2022-06-22T20:34:10.319Z"
   },
   {
    "duration": 16,
    "start_time": "2022-06-22T20:35:02.521Z"
   },
   {
    "duration": 12,
    "start_time": "2022-06-22T20:35:26.151Z"
   },
   {
    "duration": 19,
    "start_time": "2022-06-22T20:35:31.814Z"
   },
   {
    "duration": 13,
    "start_time": "2022-06-22T20:36:09.337Z"
   },
   {
    "duration": 161,
    "start_time": "2022-06-22T20:42:46.329Z"
   },
   {
    "duration": 167,
    "start_time": "2022-06-22T20:43:22.912Z"
   },
   {
    "duration": 1177,
    "start_time": "2022-06-23T07:16:42.341Z"
   },
   {
    "duration": 226,
    "start_time": "2022-06-23T07:16:43.520Z"
   },
   {
    "duration": 83,
    "start_time": "2022-06-23T07:16:43.747Z"
   },
   {
    "duration": 21,
    "start_time": "2022-06-23T07:16:43.831Z"
   },
   {
    "duration": 28,
    "start_time": "2022-06-23T07:16:43.854Z"
   },
   {
    "duration": 50,
    "start_time": "2022-06-23T07:16:43.884Z"
   },
   {
    "duration": 23,
    "start_time": "2022-06-23T07:16:43.936Z"
   },
   {
    "duration": 19,
    "start_time": "2022-06-23T07:16:43.960Z"
   },
   {
    "duration": 35,
    "start_time": "2022-06-23T07:16:43.980Z"
   },
   {
    "duration": 28,
    "start_time": "2022-06-23T07:16:44.017Z"
   },
   {
    "duration": 13,
    "start_time": "2022-06-23T07:16:44.047Z"
   },
   {
    "duration": 41,
    "start_time": "2022-06-23T07:16:44.062Z"
   },
   {
    "duration": 33,
    "start_time": "2022-06-23T07:16:44.105Z"
   },
   {
    "duration": 5,
    "start_time": "2022-06-23T07:16:44.142Z"
   },
   {
    "duration": 42,
    "start_time": "2022-06-23T07:16:44.149Z"
   },
   {
    "duration": 18,
    "start_time": "2022-06-23T07:16:44.193Z"
   },
   {
    "duration": 17,
    "start_time": "2022-06-23T07:16:44.213Z"
   },
   {
    "duration": 73,
    "start_time": "2022-06-23T07:16:44.232Z"
   },
   {
    "duration": 21,
    "start_time": "2022-06-23T07:16:44.306Z"
   },
   {
    "duration": 28,
    "start_time": "2022-06-23T07:16:44.329Z"
   },
   {
    "duration": 45,
    "start_time": "2022-06-23T07:16:44.358Z"
   },
   {
    "duration": 6,
    "start_time": "2022-06-23T07:16:44.404Z"
   },
   {
    "duration": 48,
    "start_time": "2022-06-23T07:16:44.412Z"
   },
   {
    "duration": 38,
    "start_time": "2022-06-23T07:16:44.462Z"
   },
   {
    "duration": 45,
    "start_time": "2022-06-23T07:16:44.501Z"
   },
   {
    "duration": 18,
    "start_time": "2022-06-23T07:16:44.548Z"
   },
   {
    "duration": 83,
    "start_time": "2022-06-23T07:16:44.567Z"
   },
   {
    "duration": 37,
    "start_time": "2022-06-23T07:16:44.652Z"
   },
   {
    "duration": 37,
    "start_time": "2022-06-23T07:16:44.691Z"
   },
   {
    "duration": 13,
    "start_time": "2022-06-23T07:16:44.730Z"
   },
   {
    "duration": 47,
    "start_time": "2022-06-23T07:16:44.744Z"
   },
   {
    "duration": 256,
    "start_time": "2022-06-23T07:16:44.792Z"
   },
   {
    "duration": 170,
    "start_time": "2022-06-23T07:16:45.049Z"
   },
   {
    "duration": 12,
    "start_time": "2022-06-23T07:16:45.226Z"
   },
   {
    "duration": 165,
    "start_time": "2022-06-23T07:16:45.239Z"
   },
   {
    "duration": 184,
    "start_time": "2022-06-23T07:16:45.405Z"
   },
   {
    "duration": 182,
    "start_time": "2022-06-23T07:16:45.590Z"
   },
   {
    "duration": 189,
    "start_time": "2022-06-23T07:16:45.775Z"
   },
   {
    "duration": 246,
    "start_time": "2022-06-23T07:16:45.966Z"
   },
   {
    "duration": 180,
    "start_time": "2022-06-23T07:16:46.214Z"
   },
   {
    "duration": 172,
    "start_time": "2022-06-23T07:16:46.398Z"
   },
   {
    "duration": 181,
    "start_time": "2022-06-23T07:16:46.572Z"
   },
   {
    "duration": 49,
    "start_time": "2022-06-23T07:16:46.755Z"
   },
   {
    "duration": 29,
    "start_time": "2022-06-23T07:16:46.807Z"
   },
   {
    "duration": 13,
    "start_time": "2022-06-23T07:16:46.837Z"
   },
   {
    "duration": 19,
    "start_time": "2022-06-23T07:16:46.851Z"
   },
   {
    "duration": 162,
    "start_time": "2022-06-23T07:16:46.872Z"
   },
   {
    "duration": 106,
    "start_time": "2022-06-23T07:16:47.035Z"
   },
   {
    "duration": 0,
    "start_time": "2022-06-23T07:16:47.142Z"
   },
   {
    "duration": 0,
    "start_time": "2022-06-23T07:16:47.143Z"
   },
   {
    "duration": 0,
    "start_time": "2022-06-23T07:16:47.144Z"
   },
   {
    "duration": 0,
    "start_time": "2022-06-23T07:16:47.145Z"
   },
   {
    "duration": 0,
    "start_time": "2022-06-23T07:16:47.146Z"
   },
   {
    "duration": 0,
    "start_time": "2022-06-23T07:16:47.147Z"
   },
   {
    "duration": 0,
    "start_time": "2022-06-23T07:16:47.148Z"
   },
   {
    "duration": 0,
    "start_time": "2022-06-23T07:16:47.150Z"
   },
   {
    "duration": 0,
    "start_time": "2022-06-23T07:16:47.150Z"
   },
   {
    "duration": 0,
    "start_time": "2022-06-23T07:16:47.151Z"
   },
   {
    "duration": 0,
    "start_time": "2022-06-23T07:16:47.152Z"
   },
   {
    "duration": 0,
    "start_time": "2022-06-23T07:16:47.154Z"
   },
   {
    "duration": 0,
    "start_time": "2022-06-23T07:16:47.155Z"
   },
   {
    "duration": 0,
    "start_time": "2022-06-23T07:16:47.156Z"
   },
   {
    "duration": 0,
    "start_time": "2022-06-23T07:16:47.157Z"
   },
   {
    "duration": 0,
    "start_time": "2022-06-23T07:16:47.158Z"
   },
   {
    "duration": 0,
    "start_time": "2022-06-23T07:16:47.159Z"
   },
   {
    "duration": 148,
    "start_time": "2022-06-23T07:18:10.364Z"
   },
   {
    "duration": 175,
    "start_time": "2022-06-23T07:18:10.514Z"
   },
   {
    "duration": 163,
    "start_time": "2022-06-23T07:18:10.691Z"
   },
   {
    "duration": 24,
    "start_time": "2022-06-23T07:18:10.855Z"
   },
   {
    "duration": 172,
    "start_time": "2022-06-23T07:18:10.880Z"
   },
   {
    "duration": 7,
    "start_time": "2022-06-23T07:18:11.054Z"
   },
   {
    "duration": 35,
    "start_time": "2022-06-23T07:18:11.063Z"
   },
   {
    "duration": 162,
    "start_time": "2022-06-23T07:18:11.100Z"
   },
   {
    "duration": 19,
    "start_time": "2022-06-23T07:18:11.265Z"
   },
   {
    "duration": 11,
    "start_time": "2022-06-23T07:18:11.288Z"
   },
   {
    "duration": 0,
    "start_time": "2022-06-23T07:18:11.301Z"
   },
   {
    "duration": 0,
    "start_time": "2022-06-23T07:18:11.303Z"
   },
   {
    "duration": 0,
    "start_time": "2022-06-23T07:18:11.327Z"
   },
   {
    "duration": 0,
    "start_time": "2022-06-23T07:18:11.329Z"
   },
   {
    "duration": 0,
    "start_time": "2022-06-23T07:18:11.331Z"
   },
   {
    "duration": 0,
    "start_time": "2022-06-23T07:18:11.332Z"
   },
   {
    "duration": 0,
    "start_time": "2022-06-23T07:18:11.333Z"
   },
   {
    "duration": 156,
    "start_time": "2022-06-23T07:18:20.114Z"
   },
   {
    "duration": 150,
    "start_time": "2022-06-23T07:18:20.313Z"
   },
   {
    "duration": 9,
    "start_time": "2022-06-23T07:18:20.581Z"
   },
   {
    "duration": 9,
    "start_time": "2022-06-23T07:18:22.595Z"
   },
   {
    "duration": 12,
    "start_time": "2022-06-23T07:18:22.825Z"
   },
   {
    "duration": 117,
    "start_time": "2022-06-23T07:18:24.554Z"
   },
   {
    "duration": 14,
    "start_time": "2022-06-23T07:18:25.122Z"
   },
   {
    "duration": 9,
    "start_time": "2022-06-23T07:24:35.977Z"
   },
   {
    "duration": 45,
    "start_time": "2022-06-23T14:22:14.879Z"
   },
   {
    "duration": 1282,
    "start_time": "2022-06-23T14:22:23.021Z"
   },
   {
    "duration": 293,
    "start_time": "2022-06-23T14:22:24.305Z"
   },
   {
    "duration": 89,
    "start_time": "2022-06-23T14:22:24.600Z"
   },
   {
    "duration": 23,
    "start_time": "2022-06-23T14:22:24.692Z"
   },
   {
    "duration": 17,
    "start_time": "2022-06-23T14:22:24.716Z"
   },
   {
    "duration": 34,
    "start_time": "2022-06-23T14:22:24.735Z"
   },
   {
    "duration": 16,
    "start_time": "2022-06-23T14:22:24.771Z"
   },
   {
    "duration": 14,
    "start_time": "2022-06-23T14:22:24.789Z"
   },
   {
    "duration": 13,
    "start_time": "2022-06-23T14:22:24.804Z"
   },
   {
    "duration": 54,
    "start_time": "2022-06-23T14:22:24.819Z"
   },
   {
    "duration": 15,
    "start_time": "2022-06-23T14:22:24.875Z"
   },
   {
    "duration": 18,
    "start_time": "2022-06-23T14:22:24.892Z"
   },
   {
    "duration": 42,
    "start_time": "2022-06-23T14:22:24.912Z"
   },
   {
    "duration": 11,
    "start_time": "2022-06-23T14:22:24.956Z"
   },
   {
    "duration": 35,
    "start_time": "2022-06-23T14:22:24.969Z"
   },
   {
    "duration": 11,
    "start_time": "2022-06-23T14:22:25.007Z"
   },
   {
    "duration": 17,
    "start_time": "2022-06-23T14:22:25.020Z"
   },
   {
    "duration": 57,
    "start_time": "2022-06-23T14:22:25.057Z"
   },
   {
    "duration": 50,
    "start_time": "2022-06-23T14:22:25.116Z"
   },
   {
    "duration": 21,
    "start_time": "2022-06-23T14:22:25.168Z"
   },
   {
    "duration": 35,
    "start_time": "2022-06-23T14:22:25.190Z"
   },
   {
    "duration": 6,
    "start_time": "2022-06-23T14:22:25.227Z"
   },
   {
    "duration": 39,
    "start_time": "2022-06-23T14:22:25.235Z"
   },
   {
    "duration": 6,
    "start_time": "2022-06-23T14:22:25.276Z"
   },
   {
    "duration": 11,
    "start_time": "2022-06-23T14:22:25.283Z"
   },
   {
    "duration": 7,
    "start_time": "2022-06-23T14:22:25.295Z"
   },
   {
    "duration": 59,
    "start_time": "2022-06-23T14:22:25.303Z"
   },
   {
    "duration": 32,
    "start_time": "2022-06-23T14:22:25.366Z"
   },
   {
    "duration": 59,
    "start_time": "2022-06-23T14:22:25.400Z"
   },
   {
    "duration": 15,
    "start_time": "2022-06-23T14:22:25.462Z"
   },
   {
    "duration": 17,
    "start_time": "2022-06-23T14:22:25.478Z"
   },
   {
    "duration": 265,
    "start_time": "2022-06-23T14:22:25.497Z"
   },
   {
    "duration": 168,
    "start_time": "2022-06-23T14:22:25.765Z"
   },
   {
    "duration": 19,
    "start_time": "2022-06-23T14:22:25.935Z"
   },
   {
    "duration": 162,
    "start_time": "2022-06-23T14:22:25.955Z"
   },
   {
    "duration": 196,
    "start_time": "2022-06-23T14:22:26.118Z"
   },
   {
    "duration": 190,
    "start_time": "2022-06-23T14:22:26.316Z"
   },
   {
    "duration": 191,
    "start_time": "2022-06-23T14:22:26.507Z"
   },
   {
    "duration": 259,
    "start_time": "2022-06-23T14:22:26.699Z"
   },
   {
    "duration": 184,
    "start_time": "2022-06-23T14:22:26.961Z"
   },
   {
    "duration": 167,
    "start_time": "2022-06-23T14:22:27.146Z"
   },
   {
    "duration": 168,
    "start_time": "2022-06-23T14:22:27.314Z"
   },
   {
    "duration": 87,
    "start_time": "2022-06-23T14:22:27.484Z"
   },
   {
    "duration": 10,
    "start_time": "2022-06-23T14:22:27.573Z"
   },
   {
    "duration": 7,
    "start_time": "2022-06-23T14:22:27.585Z"
   },
   {
    "duration": 13,
    "start_time": "2022-06-23T14:22:27.593Z"
   },
   {
    "duration": 150,
    "start_time": "2022-06-23T14:22:27.607Z"
   },
   {
    "duration": 160,
    "start_time": "2022-06-23T14:22:27.759Z"
   },
   {
    "duration": 159,
    "start_time": "2022-06-23T14:22:27.921Z"
   },
   {
    "duration": 163,
    "start_time": "2022-06-23T14:22:28.081Z"
   },
   {
    "duration": 35,
    "start_time": "2022-06-23T14:22:28.246Z"
   },
   {
    "duration": 161,
    "start_time": "2022-06-23T14:22:28.283Z"
   },
   {
    "duration": 12,
    "start_time": "2022-06-23T14:22:28.445Z"
   },
   {
    "duration": 43,
    "start_time": "2022-06-23T14:22:28.458Z"
   },
   {
    "duration": 141,
    "start_time": "2022-06-23T14:22:28.503Z"
   },
   {
    "duration": 23,
    "start_time": "2022-06-23T14:22:28.645Z"
   },
   {
    "duration": 150,
    "start_time": "2022-06-23T14:22:28.669Z"
   },
   {
    "duration": 150,
    "start_time": "2022-06-23T14:22:28.821Z"
   },
   {
    "duration": 7,
    "start_time": "2022-06-23T14:22:28.973Z"
   },
   {
    "duration": 7,
    "start_time": "2022-06-23T14:22:28.982Z"
   },
   {
    "duration": 10,
    "start_time": "2022-06-23T14:22:28.991Z"
   },
   {
    "duration": 127,
    "start_time": "2022-06-23T14:22:29.002Z"
   },
   {
    "duration": 112,
    "start_time": "2022-06-23T14:22:29.131Z"
   },
   {
    "duration": 19,
    "start_time": "2022-06-23T14:23:29.725Z"
   },
   {
    "duration": 14,
    "start_time": "2022-06-23T14:23:40.578Z"
   },
   {
    "duration": 32,
    "start_time": "2022-06-23T14:25:03.729Z"
   },
   {
    "duration": 6,
    "start_time": "2022-06-23T14:26:17.800Z"
   },
   {
    "duration": 9,
    "start_time": "2022-06-23T14:26:21.880Z"
   },
   {
    "duration": 1145,
    "start_time": "2022-06-23T14:27:01.804Z"
   },
   {
    "duration": 117,
    "start_time": "2022-06-23T14:27:02.953Z"
   },
   {
    "duration": 47,
    "start_time": "2022-06-23T14:27:03.072Z"
   },
   {
    "duration": 20,
    "start_time": "2022-06-23T14:27:03.121Z"
   },
   {
    "duration": 27,
    "start_time": "2022-06-23T14:27:03.142Z"
   },
   {
    "duration": 24,
    "start_time": "2022-06-23T14:27:03.170Z"
   },
   {
    "duration": 18,
    "start_time": "2022-06-23T14:27:03.195Z"
   },
   {
    "duration": 43,
    "start_time": "2022-06-23T14:27:03.214Z"
   },
   {
    "duration": 18,
    "start_time": "2022-06-23T14:27:03.263Z"
   },
   {
    "duration": 22,
    "start_time": "2022-06-23T14:27:03.285Z"
   },
   {
    "duration": 11,
    "start_time": "2022-06-23T14:27:03.310Z"
   },
   {
    "duration": 50,
    "start_time": "2022-06-23T14:27:03.323Z"
   },
   {
    "duration": 24,
    "start_time": "2022-06-23T14:27:03.375Z"
   },
   {
    "duration": 5,
    "start_time": "2022-06-23T14:27:03.401Z"
   },
   {
    "duration": 60,
    "start_time": "2022-06-23T14:27:03.408Z"
   },
   {
    "duration": 8,
    "start_time": "2022-06-23T14:27:03.470Z"
   },
   {
    "duration": 10,
    "start_time": "2022-06-23T14:27:03.480Z"
   },
   {
    "duration": 70,
    "start_time": "2022-06-23T14:27:03.492Z"
   },
   {
    "duration": 24,
    "start_time": "2022-06-23T14:27:03.564Z"
   },
   {
    "duration": 20,
    "start_time": "2022-06-23T14:27:03.589Z"
   },
   {
    "duration": 61,
    "start_time": "2022-06-23T14:27:03.611Z"
   },
   {
    "duration": 5,
    "start_time": "2022-06-23T14:27:03.674Z"
   },
   {
    "duration": 11,
    "start_time": "2022-06-23T14:27:03.681Z"
   },
   {
    "duration": 6,
    "start_time": "2022-06-23T14:27:03.693Z"
   },
   {
    "duration": 10,
    "start_time": "2022-06-23T14:27:03.701Z"
   },
   {
    "duration": 12,
    "start_time": "2022-06-23T14:27:03.750Z"
   },
   {
    "duration": 51,
    "start_time": "2022-06-23T14:27:03.765Z"
   },
   {
    "duration": 50,
    "start_time": "2022-06-23T14:27:03.820Z"
   },
   {
    "duration": 31,
    "start_time": "2022-06-23T14:27:03.872Z"
   },
   {
    "duration": 10,
    "start_time": "2022-06-23T14:27:03.904Z"
   },
   {
    "duration": 43,
    "start_time": "2022-06-23T14:27:03.915Z"
   },
   {
    "duration": 254,
    "start_time": "2022-06-23T14:27:03.961Z"
   },
   {
    "duration": 182,
    "start_time": "2022-06-23T14:27:04.216Z"
   },
   {
    "duration": 16,
    "start_time": "2022-06-23T14:27:04.400Z"
   },
   {
    "duration": 219,
    "start_time": "2022-06-23T14:27:04.418Z"
   },
   {
    "duration": 266,
    "start_time": "2022-06-23T14:27:04.639Z"
   },
   {
    "duration": 197,
    "start_time": "2022-06-23T14:27:04.907Z"
   },
   {
    "duration": 210,
    "start_time": "2022-06-23T14:27:05.106Z"
   },
   {
    "duration": 262,
    "start_time": "2022-06-23T14:27:05.318Z"
   },
   {
    "duration": 192,
    "start_time": "2022-06-23T14:27:05.582Z"
   },
   {
    "duration": 199,
    "start_time": "2022-06-23T14:27:05.776Z"
   },
   {
    "duration": 188,
    "start_time": "2022-06-23T14:27:05.978Z"
   },
   {
    "duration": 67,
    "start_time": "2022-06-23T14:27:06.168Z"
   },
   {
    "duration": 12,
    "start_time": "2022-06-23T14:27:06.236Z"
   },
   {
    "duration": 15,
    "start_time": "2022-06-23T14:27:06.255Z"
   },
   {
    "duration": 14,
    "start_time": "2022-06-23T14:27:06.272Z"
   },
   {
    "duration": 154,
    "start_time": "2022-06-23T14:27:06.287Z"
   },
   {
    "duration": 181,
    "start_time": "2022-06-23T14:27:06.443Z"
   },
   {
    "duration": 173,
    "start_time": "2022-06-23T14:27:06.626Z"
   },
   {
    "duration": 178,
    "start_time": "2022-06-23T14:27:06.801Z"
   },
   {
    "duration": 25,
    "start_time": "2022-06-23T14:27:06.981Z"
   },
   {
    "duration": 169,
    "start_time": "2022-06-23T14:27:07.008Z"
   },
   {
    "duration": 8,
    "start_time": "2022-06-23T14:27:07.179Z"
   },
   {
    "duration": 35,
    "start_time": "2022-06-23T14:27:07.188Z"
   },
   {
    "duration": 185,
    "start_time": "2022-06-23T14:27:07.225Z"
   },
   {
    "duration": 15,
    "start_time": "2022-06-23T14:27:07.412Z"
   },
   {
    "duration": 202,
    "start_time": "2022-06-23T14:27:07.429Z"
   },
   {
    "duration": 167,
    "start_time": "2022-06-23T14:27:07.634Z"
   },
   {
    "duration": 10,
    "start_time": "2022-06-23T14:27:07.803Z"
   },
   {
    "duration": 27,
    "start_time": "2022-06-23T14:27:07.814Z"
   },
   {
    "duration": 36,
    "start_time": "2022-06-23T14:27:07.843Z"
   },
   {
    "duration": 58,
    "start_time": "2022-06-23T14:27:07.881Z"
   },
   {
    "duration": 36,
    "start_time": "2022-06-23T14:27:07.941Z"
   },
   {
    "duration": 27,
    "start_time": "2022-06-23T14:27:07.979Z"
   },
   {
    "duration": 109,
    "start_time": "2022-06-23T14:28:54.192Z"
   },
   {
    "duration": 10,
    "start_time": "2022-06-23T14:28:55.370Z"
   },
   {
    "duration": 6,
    "start_time": "2022-06-23T14:30:25.889Z"
   },
   {
    "duration": 105,
    "start_time": "2022-06-23T14:30:41.047Z"
   },
   {
    "duration": 21,
    "start_time": "2022-06-23T14:31:02.946Z"
   },
   {
    "duration": 35,
    "start_time": "2022-06-23T14:31:26.633Z"
   },
   {
    "duration": 20,
    "start_time": "2022-06-23T14:31:44.801Z"
   },
   {
    "duration": 18,
    "start_time": "2022-06-23T14:31:52.519Z"
   },
   {
    "duration": 16,
    "start_time": "2022-06-23T14:32:06.019Z"
   },
   {
    "duration": 13,
    "start_time": "2022-06-23T14:32:20.758Z"
   },
   {
    "duration": 13,
    "start_time": "2022-06-23T14:36:26.345Z"
   },
   {
    "duration": 9,
    "start_time": "2022-06-23T14:36:30.988Z"
   },
   {
    "duration": 52,
    "start_time": "2022-06-23T14:41:15.323Z"
   },
   {
    "duration": 55,
    "start_time": "2022-06-23T14:41:37.030Z"
   },
   {
    "duration": 87,
    "start_time": "2022-06-23T18:11:30.265Z"
   },
   {
    "duration": 1658,
    "start_time": "2022-06-23T18:11:39.669Z"
   },
   {
    "duration": 789,
    "start_time": "2022-06-23T18:11:41.329Z"
   },
   {
    "duration": 128,
    "start_time": "2022-06-23T18:11:42.120Z"
   },
   {
    "duration": 49,
    "start_time": "2022-06-23T18:11:42.250Z"
   },
   {
    "duration": 23,
    "start_time": "2022-06-23T18:11:42.302Z"
   },
   {
    "duration": 37,
    "start_time": "2022-06-23T18:11:42.327Z"
   },
   {
    "duration": 27,
    "start_time": "2022-06-23T18:11:42.366Z"
   },
   {
    "duration": 26,
    "start_time": "2022-06-23T18:11:42.394Z"
   },
   {
    "duration": 13,
    "start_time": "2022-06-23T18:11:42.422Z"
   },
   {
    "duration": 43,
    "start_time": "2022-06-23T18:11:42.438Z"
   },
   {
    "duration": 37,
    "start_time": "2022-06-23T18:11:42.483Z"
   },
   {
    "duration": 25,
    "start_time": "2022-06-23T18:11:42.522Z"
   },
   {
    "duration": 71,
    "start_time": "2022-06-23T18:11:42.549Z"
   },
   {
    "duration": 5,
    "start_time": "2022-06-23T18:11:42.622Z"
   },
   {
    "duration": 35,
    "start_time": "2022-06-23T18:11:42.628Z"
   },
   {
    "duration": 13,
    "start_time": "2022-06-23T18:11:42.665Z"
   },
   {
    "duration": 22,
    "start_time": "2022-06-23T18:11:42.682Z"
   },
   {
    "duration": 55,
    "start_time": "2022-06-23T18:11:42.705Z"
   },
   {
    "duration": 42,
    "start_time": "2022-06-23T18:11:42.763Z"
   },
   {
    "duration": 17,
    "start_time": "2022-06-23T18:11:42.807Z"
   },
   {
    "duration": 57,
    "start_time": "2022-06-23T18:11:42.826Z"
   },
   {
    "duration": 11,
    "start_time": "2022-06-23T18:11:42.885Z"
   },
   {
    "duration": 14,
    "start_time": "2022-06-23T18:11:42.900Z"
   },
   {
    "duration": 5,
    "start_time": "2022-06-23T18:11:42.915Z"
   },
   {
    "duration": 8,
    "start_time": "2022-06-23T18:11:42.922Z"
   },
   {
    "duration": 24,
    "start_time": "2022-06-23T18:11:42.932Z"
   },
   {
    "duration": 176,
    "start_time": "2022-06-23T18:11:42.958Z"
   },
   {
    "duration": 0,
    "start_time": "2022-06-23T18:11:43.137Z"
   },
   {
    "duration": 0,
    "start_time": "2022-06-23T18:11:43.137Z"
   },
   {
    "duration": 0,
    "start_time": "2022-06-23T18:11:43.139Z"
   },
   {
    "duration": 0,
    "start_time": "2022-06-23T18:11:43.140Z"
   },
   {
    "duration": 0,
    "start_time": "2022-06-23T18:11:43.141Z"
   },
   {
    "duration": 0,
    "start_time": "2022-06-23T18:11:43.142Z"
   },
   {
    "duration": 0,
    "start_time": "2022-06-23T18:11:43.143Z"
   },
   {
    "duration": 0,
    "start_time": "2022-06-23T18:11:43.144Z"
   },
   {
    "duration": 0,
    "start_time": "2022-06-23T18:11:43.145Z"
   },
   {
    "duration": 0,
    "start_time": "2022-06-23T18:11:43.146Z"
   },
   {
    "duration": 0,
    "start_time": "2022-06-23T18:11:43.148Z"
   },
   {
    "duration": 0,
    "start_time": "2022-06-23T18:11:43.148Z"
   },
   {
    "duration": 0,
    "start_time": "2022-06-23T18:11:43.149Z"
   },
   {
    "duration": 0,
    "start_time": "2022-06-23T18:11:43.150Z"
   },
   {
    "duration": 0,
    "start_time": "2022-06-23T18:11:43.151Z"
   },
   {
    "duration": 0,
    "start_time": "2022-06-23T18:11:43.153Z"
   },
   {
    "duration": 0,
    "start_time": "2022-06-23T18:11:43.154Z"
   },
   {
    "duration": 0,
    "start_time": "2022-06-23T18:11:43.155Z"
   },
   {
    "duration": 0,
    "start_time": "2022-06-23T18:11:43.156Z"
   },
   {
    "duration": 0,
    "start_time": "2022-06-23T18:11:43.157Z"
   },
   {
    "duration": 0,
    "start_time": "2022-06-23T18:11:43.158Z"
   },
   {
    "duration": 0,
    "start_time": "2022-06-23T18:11:43.159Z"
   },
   {
    "duration": 0,
    "start_time": "2022-06-23T18:11:43.160Z"
   },
   {
    "duration": 0,
    "start_time": "2022-06-23T18:11:43.161Z"
   },
   {
    "duration": 0,
    "start_time": "2022-06-23T18:11:43.162Z"
   },
   {
    "duration": 0,
    "start_time": "2022-06-23T18:11:43.163Z"
   },
   {
    "duration": 0,
    "start_time": "2022-06-23T18:11:43.164Z"
   },
   {
    "duration": 0,
    "start_time": "2022-06-23T18:11:43.165Z"
   },
   {
    "duration": 0,
    "start_time": "2022-06-23T18:11:43.166Z"
   },
   {
    "duration": 0,
    "start_time": "2022-06-23T18:11:43.167Z"
   },
   {
    "duration": 0,
    "start_time": "2022-06-23T18:11:43.168Z"
   },
   {
    "duration": 0,
    "start_time": "2022-06-23T18:11:43.169Z"
   },
   {
    "duration": 0,
    "start_time": "2022-06-23T18:11:43.170Z"
   },
   {
    "duration": 0,
    "start_time": "2022-06-23T18:11:43.171Z"
   },
   {
    "duration": 0,
    "start_time": "2022-06-23T18:11:43.172Z"
   },
   {
    "duration": 0,
    "start_time": "2022-06-23T18:11:43.173Z"
   },
   {
    "duration": 24,
    "start_time": "2022-06-23T18:12:04.837Z"
   },
   {
    "duration": 1281,
    "start_time": "2022-06-23T18:18:41.088Z"
   },
   {
    "duration": 151,
    "start_time": "2022-06-23T18:18:42.371Z"
   },
   {
    "duration": 74,
    "start_time": "2022-06-23T18:18:42.524Z"
   },
   {
    "duration": 25,
    "start_time": "2022-06-23T18:18:42.602Z"
   },
   {
    "duration": 39,
    "start_time": "2022-06-23T18:18:42.629Z"
   },
   {
    "duration": 32,
    "start_time": "2022-06-23T18:18:42.678Z"
   },
   {
    "duration": 17,
    "start_time": "2022-06-23T18:18:42.712Z"
   },
   {
    "duration": 23,
    "start_time": "2022-06-23T18:18:42.731Z"
   },
   {
    "duration": 44,
    "start_time": "2022-06-23T18:18:42.758Z"
   },
   {
    "duration": 25,
    "start_time": "2022-06-23T18:18:42.805Z"
   },
   {
    "duration": 28,
    "start_time": "2022-06-23T18:18:42.831Z"
   },
   {
    "duration": 38,
    "start_time": "2022-06-23T18:18:42.869Z"
   },
   {
    "duration": 24,
    "start_time": "2022-06-23T18:18:42.909Z"
   },
   {
    "duration": 4,
    "start_time": "2022-06-23T18:18:42.935Z"
   },
   {
    "duration": 73,
    "start_time": "2022-06-23T18:18:42.940Z"
   },
   {
    "duration": 9,
    "start_time": "2022-06-23T18:18:43.015Z"
   },
   {
    "duration": 13,
    "start_time": "2022-06-23T18:18:43.026Z"
   },
   {
    "duration": 88,
    "start_time": "2022-06-23T18:18:43.041Z"
   },
   {
    "duration": 39,
    "start_time": "2022-06-23T18:18:43.131Z"
   },
   {
    "duration": 37,
    "start_time": "2022-06-23T18:18:43.175Z"
   },
   {
    "duration": 36,
    "start_time": "2022-06-23T18:18:43.213Z"
   },
   {
    "duration": 10,
    "start_time": "2022-06-23T18:18:43.250Z"
   },
   {
    "duration": 45,
    "start_time": "2022-06-23T18:18:43.261Z"
   },
   {
    "duration": 5,
    "start_time": "2022-06-23T18:18:43.308Z"
   },
   {
    "duration": 10,
    "start_time": "2022-06-23T18:18:43.315Z"
   },
   {
    "duration": 5,
    "start_time": "2022-06-23T18:18:43.326Z"
   },
   {
    "duration": 174,
    "start_time": "2022-06-23T18:18:43.333Z"
   },
   {
    "duration": 0,
    "start_time": "2022-06-23T18:18:43.512Z"
   },
   {
    "duration": 0,
    "start_time": "2022-06-23T18:18:43.513Z"
   },
   {
    "duration": 0,
    "start_time": "2022-06-23T18:18:43.516Z"
   },
   {
    "duration": 0,
    "start_time": "2022-06-23T18:18:43.517Z"
   },
   {
    "duration": 0,
    "start_time": "2022-06-23T18:18:43.518Z"
   },
   {
    "duration": 0,
    "start_time": "2022-06-23T18:18:43.519Z"
   },
   {
    "duration": 0,
    "start_time": "2022-06-23T18:18:43.520Z"
   },
   {
    "duration": 0,
    "start_time": "2022-06-23T18:18:43.525Z"
   },
   {
    "duration": 0,
    "start_time": "2022-06-23T18:18:43.527Z"
   },
   {
    "duration": 0,
    "start_time": "2022-06-23T18:18:43.528Z"
   },
   {
    "duration": 0,
    "start_time": "2022-06-23T18:18:43.530Z"
   },
   {
    "duration": 0,
    "start_time": "2022-06-23T18:18:43.551Z"
   },
   {
    "duration": 0,
    "start_time": "2022-06-23T18:18:43.552Z"
   },
   {
    "duration": 0,
    "start_time": "2022-06-23T18:18:43.553Z"
   },
   {
    "duration": 0,
    "start_time": "2022-06-23T18:18:43.554Z"
   },
   {
    "duration": 0,
    "start_time": "2022-06-23T18:18:43.554Z"
   },
   {
    "duration": 0,
    "start_time": "2022-06-23T18:18:43.556Z"
   },
   {
    "duration": 0,
    "start_time": "2022-06-23T18:18:43.557Z"
   },
   {
    "duration": 0,
    "start_time": "2022-06-23T18:18:43.558Z"
   },
   {
    "duration": 0,
    "start_time": "2022-06-23T18:18:43.559Z"
   },
   {
    "duration": 0,
    "start_time": "2022-06-23T18:18:43.563Z"
   },
   {
    "duration": 0,
    "start_time": "2022-06-23T18:18:43.564Z"
   },
   {
    "duration": 0,
    "start_time": "2022-06-23T18:18:43.565Z"
   },
   {
    "duration": 0,
    "start_time": "2022-06-23T18:18:43.566Z"
   },
   {
    "duration": 0,
    "start_time": "2022-06-23T18:18:43.567Z"
   },
   {
    "duration": 0,
    "start_time": "2022-06-23T18:18:43.568Z"
   },
   {
    "duration": 0,
    "start_time": "2022-06-23T18:18:43.569Z"
   },
   {
    "duration": 0,
    "start_time": "2022-06-23T18:18:43.570Z"
   },
   {
    "duration": 0,
    "start_time": "2022-06-23T18:18:43.571Z"
   },
   {
    "duration": 0,
    "start_time": "2022-06-23T18:18:43.572Z"
   },
   {
    "duration": 0,
    "start_time": "2022-06-23T18:18:43.573Z"
   },
   {
    "duration": 0,
    "start_time": "2022-06-23T18:18:43.574Z"
   },
   {
    "duration": 0,
    "start_time": "2022-06-23T18:18:43.575Z"
   },
   {
    "duration": 0,
    "start_time": "2022-06-23T18:18:43.576Z"
   },
   {
    "duration": 0,
    "start_time": "2022-06-23T18:18:43.577Z"
   },
   {
    "duration": 0,
    "start_time": "2022-06-23T18:18:43.578Z"
   },
   {
    "duration": 17,
    "start_time": "2022-06-23T18:42:47.383Z"
   },
   {
    "duration": 47,
    "start_time": "2022-06-23T18:42:52.793Z"
   },
   {
    "duration": 65,
    "start_time": "2022-06-23T18:43:37.693Z"
   },
   {
    "duration": 60,
    "start_time": "2022-06-23T18:43:50.777Z"
   },
   {
    "duration": 21,
    "start_time": "2022-06-23T18:44:17.629Z"
   },
   {
    "duration": 369,
    "start_time": "2022-06-23T18:44:21.289Z"
   },
   {
    "duration": 295,
    "start_time": "2022-06-23T18:44:21.860Z"
   },
   {
    "duration": 15,
    "start_time": "2022-06-23T18:45:05.911Z"
   },
   {
    "duration": 236,
    "start_time": "2022-06-23T18:45:06.667Z"
   },
   {
    "duration": 243,
    "start_time": "2022-06-23T18:45:45.408Z"
   },
   {
    "duration": 266,
    "start_time": "2022-06-23T18:45:57.443Z"
   },
   {
    "duration": 274,
    "start_time": "2022-06-23T18:46:03.404Z"
   },
   {
    "duration": 258,
    "start_time": "2022-06-23T18:46:14.653Z"
   },
   {
    "duration": 283,
    "start_time": "2022-06-23T18:47:07.542Z"
   },
   {
    "duration": 227,
    "start_time": "2022-06-23T18:47:08.705Z"
   },
   {
    "duration": 226,
    "start_time": "2022-06-23T18:47:11.521Z"
   },
   {
    "duration": 129,
    "start_time": "2022-06-23T18:48:09.221Z"
   },
   {
    "duration": 18,
    "start_time": "2022-06-23T18:48:12.421Z"
   },
   {
    "duration": 2504,
    "start_time": "2022-06-23T18:48:14.827Z"
   },
   {
    "duration": 0,
    "start_time": "2022-06-23T18:48:17.334Z"
   },
   {
    "duration": 26,
    "start_time": "2022-06-23T18:48:17.769Z"
   },
   {
    "duration": 15,
    "start_time": "2022-06-23T18:48:21.787Z"
   },
   {
    "duration": 1920,
    "start_time": "2022-06-23T18:48:40.001Z"
   },
   {
    "duration": 1436,
    "start_time": "2022-06-23T18:49:30.624Z"
   },
   {
    "duration": 154,
    "start_time": "2022-06-23T18:49:32.076Z"
   },
   {
    "duration": 74,
    "start_time": "2022-06-23T18:49:32.232Z"
   },
   {
    "duration": 22,
    "start_time": "2022-06-23T18:49:32.308Z"
   },
   {
    "duration": 29,
    "start_time": "2022-06-23T18:49:32.332Z"
   },
   {
    "duration": 67,
    "start_time": "2022-06-23T18:49:32.367Z"
   },
   {
    "duration": 38,
    "start_time": "2022-06-23T18:49:32.437Z"
   },
   {
    "duration": 65,
    "start_time": "2022-06-23T18:49:32.477Z"
   },
   {
    "duration": 59,
    "start_time": "2022-06-23T18:49:32.552Z"
   },
   {
    "duration": 49,
    "start_time": "2022-06-23T18:49:32.615Z"
   },
   {
    "duration": 34,
    "start_time": "2022-06-23T18:49:32.671Z"
   },
   {
    "duration": 26,
    "start_time": "2022-06-23T18:49:32.708Z"
   },
   {
    "duration": 45,
    "start_time": "2022-06-23T18:49:32.736Z"
   },
   {
    "duration": 30,
    "start_time": "2022-06-23T18:49:32.783Z"
   },
   {
    "duration": 29,
    "start_time": "2022-06-23T18:49:32.815Z"
   },
   {
    "duration": 13,
    "start_time": "2022-06-23T18:49:32.850Z"
   },
   {
    "duration": 53,
    "start_time": "2022-06-23T18:49:32.865Z"
   },
   {
    "duration": 55,
    "start_time": "2022-06-23T18:49:32.920Z"
   },
   {
    "duration": 36,
    "start_time": "2022-06-23T18:49:32.977Z"
   },
   {
    "duration": 63,
    "start_time": "2022-06-23T18:49:33.015Z"
   },
   {
    "duration": 43,
    "start_time": "2022-06-23T18:49:33.084Z"
   },
   {
    "duration": 6,
    "start_time": "2022-06-23T18:49:33.129Z"
   },
   {
    "duration": 70,
    "start_time": "2022-06-23T18:49:33.137Z"
   },
   {
    "duration": 6,
    "start_time": "2022-06-23T18:49:33.210Z"
   },
   {
    "duration": 14,
    "start_time": "2022-06-23T18:49:33.218Z"
   },
   {
    "duration": 15,
    "start_time": "2022-06-23T18:49:33.235Z"
   },
   {
    "duration": 106,
    "start_time": "2022-06-23T18:49:33.255Z"
   },
   {
    "duration": 44,
    "start_time": "2022-06-23T18:49:33.366Z"
   },
   {
    "duration": 50,
    "start_time": "2022-06-23T18:49:33.412Z"
   },
   {
    "duration": 16,
    "start_time": "2022-06-23T18:49:33.464Z"
   },
   {
    "duration": 38,
    "start_time": "2022-06-23T18:49:33.482Z"
   },
   {
    "duration": 330,
    "start_time": "2022-06-23T18:49:33.522Z"
   },
   {
    "duration": 207,
    "start_time": "2022-06-23T18:49:33.857Z"
   },
   {
    "duration": 19,
    "start_time": "2022-06-23T18:49:34.066Z"
   },
   {
    "duration": 219,
    "start_time": "2022-06-23T18:49:34.087Z"
   },
   {
    "duration": 248,
    "start_time": "2022-06-23T18:49:34.308Z"
   },
   {
    "duration": 242,
    "start_time": "2022-06-23T18:49:34.558Z"
   },
   {
    "duration": 243,
    "start_time": "2022-06-23T18:49:34.803Z"
   },
   {
    "duration": 351,
    "start_time": "2022-06-23T18:49:35.056Z"
   },
   {
    "duration": 233,
    "start_time": "2022-06-23T18:49:35.410Z"
   },
   {
    "duration": 254,
    "start_time": "2022-06-23T18:49:35.647Z"
   },
   {
    "duration": 221,
    "start_time": "2022-06-23T18:49:35.903Z"
   },
   {
    "duration": 75,
    "start_time": "2022-06-23T18:49:36.126Z"
   },
   {
    "duration": 31,
    "start_time": "2022-06-23T18:49:36.238Z"
   },
   {
    "duration": 36,
    "start_time": "2022-06-23T18:49:36.271Z"
   },
   {
    "duration": 19,
    "start_time": "2022-06-23T18:49:36.308Z"
   },
   {
    "duration": 212,
    "start_time": "2022-06-23T18:49:36.328Z"
   },
   {
    "duration": 220,
    "start_time": "2022-06-23T18:49:36.544Z"
   },
   {
    "duration": 241,
    "start_time": "2022-06-23T18:49:36.770Z"
   },
   {
    "duration": 256,
    "start_time": "2022-06-23T18:49:37.014Z"
   },
   {
    "duration": 43,
    "start_time": "2022-06-23T18:49:37.275Z"
   },
   {
    "duration": 221,
    "start_time": "2022-06-23T18:49:37.320Z"
   },
   {
    "duration": 17,
    "start_time": "2022-06-23T18:49:37.543Z"
   },
   {
    "duration": 145,
    "start_time": "2022-06-23T18:49:37.562Z"
   },
   {
    "duration": 224,
    "start_time": "2022-06-23T18:49:37.712Z"
   },
   {
    "duration": 34,
    "start_time": "2022-06-23T18:49:37.942Z"
   },
   {
    "duration": 230,
    "start_time": "2022-06-23T18:49:37.980Z"
   },
   {
    "duration": 195,
    "start_time": "2022-06-23T18:49:38.212Z"
   },
   {
    "duration": 11,
    "start_time": "2022-06-23T18:49:38.409Z"
   },
   {
    "duration": 30,
    "start_time": "2022-06-23T18:49:38.422Z"
   },
   {
    "duration": 57,
    "start_time": "2022-06-23T18:49:38.454Z"
   },
   {
    "duration": 8,
    "start_time": "2022-06-23T18:49:38.512Z"
   },
   {
    "duration": 15,
    "start_time": "2022-06-23T18:49:38.522Z"
   }
  ],
  "colab": {
   "name": "DA+. Сборный проект 1. Шаблон (1).ipynb",
   "provenance": []
  },
  "kernelspec": {
   "display_name": "Python 3 (ipykernel)",
   "language": "python",
   "name": "python3"
  },
  "language_info": {
   "codemirror_mode": {
    "name": "ipython",
    "version": 3
   },
   "file_extension": ".py",
   "mimetype": "text/x-python",
   "name": "python",
   "nbconvert_exporter": "python",
   "pygments_lexer": "ipython3",
   "version": "3.9.5"
  },
  "toc": {
   "base_numbering": 1,
   "nav_menu": {},
   "number_sections": true,
   "sideBar": true,
   "skip_h1_title": true,
   "title_cell": "Table of Contents",
   "title_sidebar": "Contents",
   "toc_cell": false,
   "toc_position": {
    "height": "calc(100% - 180px)",
    "left": "10px",
    "top": "150px",
    "width": "375.391px"
   },
   "toc_section_display": true,
   "toc_window_display": false
  }
 },
 "nbformat": 4,
 "nbformat_minor": 1
}
